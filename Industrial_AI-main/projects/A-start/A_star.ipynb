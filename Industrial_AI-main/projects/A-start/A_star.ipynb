{
  "nbformat": 4,
  "nbformat_minor": 0,
  "metadata": {
    "colab": {
      "private_outputs": true,
      "provenance": []
    },
    "kernelspec": {
      "name": "python3",
      "display_name": "Python 3"
    },
    "language_info": {
      "name": "python"
    }
  },
  "cells": [
    {
      "cell_type": "code",
      "execution_count": null,
      "metadata": {
        "id": "OIpESZQcVi51"
      },
      "outputs": [],
      "source": [
        "import numpy as np\n",
        "import heapq\n",
        "import matplotlib.pyplot as plt\n",
        "from matplotlib.pyplot import figure\n",
        "import heapq"
      ]
    },
    {
      "cell_type": "code",
      "source": [
        "grid = np.array([\n",
        "\n",
        "    [0, 0, 0, 0, 0, 0, 1, 1, 1, 0, 0, 0, 0, 0, 0, 0, 0, 0, 0, 0],\n",
        "\n",
        "    [0, 0, 0, 0, 0, 0, 1, 1, 1, 0, 0, 0, 0, 0, 0, 0, 0, 0, 0, 0],\n",
        "\n",
        "    [0, 0, 0, 0, 0, 0, 1, 0, 1, 0, 0, 0, 0, 0, 0, 0, 0, 0, 0, 0],\n",
        "\n",
        "    [0, 0, 0, 0, 0, 0, 0, 0, 1, 0, 0, 0, 0, 0, 0, 0, 0, 0, 0, 0],\n",
        "\n",
        "    [0, 0, 0, 0, 0, 0, 0, 0, 1, 0, 0, 0, 0, 0, 0, 0, 0, 0, 0, 0],\n",
        "\n",
        "    [0, 0, 0, 1, 1, 1, 0, 0, 1, 0, 0, 0, 0, 0, 0, 0, 0, 0, 0, 0],\n",
        "\n",
        "    [0, 0, 0, 0, 0, 0, 0, 0, 1, 0, 0, 0, 0, 1, 1, 1, 1, 1, 0, 1],\n",
        "\n",
        "    [0, 0, 0, 0, 0, 0, 0, 0, 1, 0, 0, 0, 0, 1, 1, 1, 0, 0, 0, 0],\n",
        "\n",
        "    [0, 0, 0, 0, 0, 0, 0, 0, 1, 0, 0, 0, 0, 1, 1, 1, 0, 0, 0, 0],\n",
        "\n",
        "    [0, 0, 0, 0, 0, 0, 0, 0, 1, 1, 1, 1, 1, 1, 0, 0, 0, 0, 0, 0],\n",
        "\n",
        "    [0, 0, 0, 0, 0, 0, 0, 0, 1, 0, 0, 0, 0, 0, 0, 0, 0, 0, 0, 0],\n",
        "\n",
        "    [1, 1, 1, 1, 1, 0, 0, 0, 1, 0, 0, 0, 0, 0, 0, 0, 1, 1, 1, 1],\n",
        "\n",
        "    [0, 0, 0, 0, 0, 0, 0, 0, 1, 0, 0, 1, 1, 1, 1, 1, 1, 1, 1, 0],\n",
        "\n",
        "    [0, 0, 0, 0, 0, 0, 0, 0, 1, 0, 0, 0, 0, 0, 0, 0, 0, 0, 0, 0],\n",
        "\n",
        "    [0, 0, 0, 0, 0, 0, 0, 0, 1, 1, 1, 1, 1, 1, 0, 1, 1, 1, 0, 0],\n",
        "\n",
        "    [0, 0, 1, 1, 1, 1, 1, 1, 1, 0, 0, 0, 0, 1, 0, 0, 0, 0, 0, 0],\n",
        "\n",
        "    [0, 0, 1, 0, 0, 0, 0, 0, 0, 0, 0, 0, 0, 1, 0, 0, 0, 0, 0, 0],\n",
        "\n",
        "    [0, 0, 1, 0, 0, 0, 0, 0, 0, 0, 0, 0, 0, 0, 0, 0, 0, 0, 0, 0],\n",
        "\n",
        "    [0, 0, 0, 0, 0, 0, 0, 0, 0, 0, 0, 0, 0, 1, 0, 0, 0, 0, 0, 0],\n",
        "\n",
        "    [0, 0, 0, 0, 0, 0, 0, 0, 0, 0, 0, 0, 0, 0, 0, 0, 0, 0, 0, 0]])"
      ],
      "metadata": {
        "id": "m2t3TWLlXcFq"
      },
      "execution_count": null,
      "outputs": []
    },
    {
      "cell_type": "code",
      "source": [
        "#시작 위치\n",
        "start = (0,0)\n",
        "#목적지 위치\n",
        "goal = (0,19)"
      ],
      "metadata": {
        "id": "krUnSWJFX3P1"
      },
      "execution_count": null,
      "outputs": []
    },
    {
      "cell_type": "code",
      "source": [
        "#휴리스틱 함수 h(): a와 b사이의 유클리드 거리\n",
        "def heuristic(a, b):\n",
        "    return np.sqrt((b[0] - a[0]) ** 2 + (b[1] - a[1]) ** 2)"
      ],
      "metadata": {
        "id": "OfH1SXzLYNVm"
      },
      "execution_count": null,
      "outputs": []
    },
    {
      "cell_type": "code",
      "source": [
        "#A* 알고리즘\n",
        "def astar(array, start, goal):\n",
        "\n",
        "    neighbors = [(0,1),(0,-1),(1,0),(-1,0),(1,1),(1,-1),(-1,1),(-1,-1)]\n",
        "\n",
        "    close_set = set()\n",
        "\n",
        "    came_from = {}\n",
        "\n",
        "    gscore = {start:0}\n",
        "\n",
        "    fscore = {start:heuristic(start, goal)}\n",
        "\n",
        "    oheap = []\n",
        "\n",
        "    heapq.heappush(oheap, (fscore[start], start))\n",
        "\n",
        "\n",
        "    while oheap:\n",
        "\n",
        "        current = heapq.heappop(oheap)[1]\n",
        "\n",
        "        if current == goal:\n",
        "\n",
        "            data = []\n",
        "\n",
        "            while current in came_from:\n",
        "\n",
        "                data.append(current)\n",
        "\n",
        "                current = came_from[current]\n",
        "\n",
        "            return data\n",
        "\n",
        "        close_set.add(current)\n",
        "\n",
        "        for i, j in neighbors:\n",
        "\n",
        "            neighbor = current[0] + i, current[1] + j\n",
        "\n",
        "            tentative_g_score = gscore[current] + heuristic(current, neighbor)\n",
        "\n",
        "            if 0 <= neighbor[0] < array.shape[0]:\n",
        "\n",
        "                if 0 <= neighbor[1] < array.shape[1]:\n",
        "\n",
        "                    if array[neighbor[0]][neighbor[1]] == 1:\n",
        "\n",
        "                        continue\n",
        "\n",
        "                else:\n",
        "\n",
        "                    # array bound y walls\n",
        "\n",
        "                    continue\n",
        "\n",
        "            else:\n",
        "\n",
        "                # array bound x walls\n",
        "\n",
        "                continue\n",
        "\n",
        "\n",
        "            if neighbor in close_set and tentative_g_score >= gscore.get(neighbor, 0):\n",
        "\n",
        "                continue\n",
        "\n",
        "\n",
        "            if  tentative_g_score < gscore.get(neighbor, 0) or neighbor not in [i[1]for i in oheap]:\n",
        "\n",
        "                came_from[neighbor] = current\n",
        "\n",
        "                gscore[neighbor] = tentative_g_score\n",
        "\n",
        "                fscore[neighbor] = tentative_g_score + heuristic(neighbor, goal)\n",
        "\n",
        "                heapq.heappush(oheap, (fscore[neighbor], neighbor))\n",
        "\n",
        "    return False"
      ],
      "metadata": {
        "id": "2Lta9_oUYujD"
      },
      "execution_count": null,
      "outputs": []
    },
    {
      "cell_type": "code",
      "source": [
        "route = astar(grid, start, goal)\n",
        "\n",
        "if route:\n",
        "    route = route + [start]\n",
        "    route = route[::-1]\n",
        "    print('경로:', route)\n",
        "\n",
        "    x_coords = []\n",
        "    y_coords = []\n",
        "    for i in (range(0, len(route))):\n",
        "        x = route[i][0]\n",
        "        y = route[i][1]\n",
        "        x_coords.append(x)\n",
        "        y_coords.append(y)\n",
        "\n",
        "    # 지도와 경로 그리기\n",
        "    fig, ax = plt.subplots(figsize=(12,12))\n",
        "    ax.imshow(grid, cmap=plt.cm.Pastel1)\n",
        "    ax.scatter(start[1], start[0], marker=\"*\", color=\"red\", s=200)\n",
        "    ax.scatter(goal[1], goal[0], marker=\"*\", color=\"green\", s=200)\n",
        "    ax.plot(y_coords, x_coords, color=\"blue\")\n",
        "    plt.show()\n",
        "else:\n",
        "    print(\"경로를 찾을 수 없습니다.\")"
      ],
      "metadata": {
        "id": "DLsx-PEXfDxP"
      },
      "execution_count": null,
      "outputs": []
    }
  ]
}