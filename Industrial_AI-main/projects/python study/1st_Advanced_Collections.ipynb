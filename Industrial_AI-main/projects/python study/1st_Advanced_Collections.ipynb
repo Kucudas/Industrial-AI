{
 "cells": [
  {
   "cell_type": "code",
   "execution_count": null,
   "id": "de1dcdfb-4941-44ab-8820-e9c59e42430f",
   "metadata": {},
   "outputs": [],
   "source": []
  },
  {
   "cell_type": "markdown",
   "id": "24afcdda-cdad-4823-8fd5-8f5affa85cef",
   "metadata": {},
   "source": [
    "## Named Tuples\n",
    "- 객체의 인스턴스를 생성하 듯이 튜플을 생성하여 각 원소에 이름으로 접근이 가능한 튜플\n",
    "- 네임드튜플은 일반 객체 형태보다 적은 메모리를 사용하고, 다양한 접근법을 지원\n",
    "- 메모리 효율성 측면에서 리스트보다 튜플이 좋고, 튜플보다 네임드튜플이 효율적"
   ]
  },
  {
   "cell_type": "code",
   "execution_count": 1,
   "id": "1c66de5e-62b0-442b-a5aa-547853d1eadc",
   "metadata": {},
   "outputs": [],
   "source": [
    "from collections import namedtuple"
   ]
  },
  {
   "cell_type": "markdown",
   "id": "d341f352-3a44-4e78-9f2e-20ccfafcc7b7",
   "metadata": {},
   "source": [
    "#### nametuple 선언 방법"
   ]
  },
  {
   "cell_type": "code",
   "execution_count": 11,
   "id": "399c763a-5f8d-43f0-8267-c5cf417fa0a4",
   "metadata": {},
   "outputs": [],
   "source": [
    "# list로 각각의 key 할당하기: \n",
    "Point1 = namedtuple('Point', ['x', 'y'])"
   ]
  },
  {
   "cell_type": "code",
   "execution_count": 12,
   "id": "d52a5ef4-322c-4e98-8894-611d1c5a451b",
   "metadata": {},
   "outputs": [],
   "source": [
    "# 문자열 안의 comma 구분자로 각각의 key 할당하기: \n",
    "Point2 = namedtuple('Point', 'x, y')"
   ]
  },
  {
   "cell_type": "code",
   "execution_count": 13,
   "id": "dd06b0eb-7371-4c5c-84e0-015ba6f2f212",
   "metadata": {},
   "outputs": [],
   "source": [
    "# 문자열 안의 띄어쓰기 구분자로 각각의 key 할당하기: \n",
    "Point3 = namedtuple('Point', 'x y')"
   ]
  },
  {
   "cell_type": "code",
   "execution_count": 14,
   "id": "bf03f463-a0a4-447b-a17e-20cf4258f2d6",
   "metadata": {},
   "outputs": [],
   "source": [
    "# 문자열 안에 중복이 존재할 경우 rename메서드로 자체적인 key 할당하기: \n",
    "Point4 = namedtuple('Point', 'x y x class', rename=True)"
   ]
  },
  {
   "cell_type": "code",
   "execution_count": 18,
   "id": "f5c1d0e5-0cfe-464d-8be1-da567759886e",
   "metadata": {},
   "outputs": [],
   "source": [
    "p1 = Point1(x=10, y=35)\n",
    "p2 = Point2(20, 40)\n",
    "p3 = Point3(45, y=20)\n",
    "p4 = Point4(10, 20, 30, 40)"
   ]
  },
  {
   "cell_type": "code",
   "execution_count": 16,
   "id": "893a6bf3-e4d3-4d00-8120-86df81c5bfd0",
   "metadata": {},
   "outputs": [
    {
     "name": "stdout",
     "output_type": "stream",
     "text": [
      "Point들 출력해보기:  Point(x=10, y=35) Point(x=20, y=40) Point(x=45, y=20) Point(x=10, y=20, _2=30, _3=40)\n"
     ]
    }
   ],
   "source": [
    "print(\"Point들 출력해보기: \", p1, p2, p3, p4)"
   ]
  },
  {
   "cell_type": "markdown",
   "id": "11f8a89a-78e2-45a7-a7fd-c7fac619437d",
   "metadata": {},
   "source": [
    "#### namedtuple unpacking"
   ]
  },
  {
   "cell_type": "markdown",
   "id": "7443e245-f3a6-4b55-b7fa-a39b7a1222ab",
   "metadata": {},
   "source": [
    "###### 1. value unpacking"
   ]
  },
  {
   "cell_type": "code",
   "execution_count": 19,
   "id": "76ae1e28-13f8-4eff-a9b4-a5fc0dec6ebf",
   "metadata": {},
   "outputs": [
    {
     "name": "stdout",
     "output_type": "stream",
     "text": [
      "Point(x=45, y=20)\n",
      "45 20\n"
     ]
    }
   ],
   "source": [
    "x, y= p3 # 각각을 알아서 대응하여 값을 할당해줌.\n",
    "print(p3)\n",
    "print(x, y)"
   ]
  },
  {
   "cell_type": "markdown",
   "id": "74007aac-954f-47e0-80ad-d720117a227f",
   "metadata": {},
   "source": [
    "###### 2. dictionary unpacking"
   ]
  },
  {
   "cell_type": "code",
   "execution_count": 20,
   "id": "b053db46-5b65-4599-8ccd-e8c6771a6784",
   "metadata": {},
   "outputs": [
    {
     "name": "stdout",
     "output_type": "stream",
     "text": [
      "Point(x=75, y=30)\n"
     ]
    }
   ],
   "source": [
    "# 같은 key값을 가지는 dictionary를 지정된 namedtuple객체로 변환하기\n",
    "temp_dict = {'x':75, 'y':30}\n",
    "print(Point3(**temp_dict)) "
   ]
  },
  {
   "cell_type": "markdown",
   "id": "5dd1a340-40fd-4788-a84f-13833e17bcf1",
   "metadata": {},
   "source": [
    "#### namedtuple객체의 메서드들"
   ]
  },
  {
   "cell_type": "markdown",
   "id": "386f8681-1cc2-428b-a783-35704a70e7fe",
   "metadata": {},
   "source": [
    "###### 1. _make()\n",
    "namedtuple로 할당된 새로운 객체를 생성"
   ]
  },
  {
   "cell_type": "code",
   "execution_count": 21,
   "id": "68cbcc09-808e-4331-b540-89564bf7a079",
   "metadata": {},
   "outputs": [
    {
     "name": "stdout",
     "output_type": "stream",
     "text": [
      "Point(x=55, y=77)\n"
     ]
    }
   ],
   "source": [
    "temp = [ 55, 77 ]\n",
    "p4 = Point1._make(temp)\n",
    "print(p4)"
   ]
  },
  {
   "cell_type": "markdown",
   "id": "4a7390ec-0b18-4217-8180-f19b975e5d11",
   "metadata": {},
   "source": [
    "###### 2. _fields \n",
    "namedtuple 객체의 필드 이름을 확인"
   ]
  },
  {
   "cell_type": "code",
   "execution_count": 22,
   "id": "4a5d3e2e-aa3b-4116-919a-6ef31d487086",
   "metadata": {},
   "outputs": [
    {
     "name": "stdout",
     "output_type": "stream",
     "text": [
      "('x', 'y') ('x', 'y') ('x', 'y')\n"
     ]
    }
   ],
   "source": [
    "print(p1._fields, p2._fields, p3._fields)"
   ]
  },
  {
   "cell_type": "markdown",
   "id": "60572c70-f1fe-4bd5-9529-39ad92b895e0",
   "metadata": {},
   "source": [
    "##### 3. _asdict()\n",
    "OrderedDict객체로 변환하는 메서드"
   ]
  },
  {
   "cell_type": "code",
   "execution_count": 23,
   "id": "2c6d91e3-76a4-4cbd-ae10-f149912aa9b3",
   "metadata": {},
   "outputs": [
    {
     "name": "stdout",
     "output_type": "stream",
     "text": [
      "{'x': 10, 'y': 35} {'x': 55, 'y': 77}\n",
      "{'x': 10, 'y': 35}\n"
     ]
    }
   ],
   "source": [
    "print(p1._asdict(), p4._asdict())\n",
    "print(dict(p1._asdict()))"
   ]
  },
  {
   "cell_type": "markdown",
   "id": "2169d914-af31-4403-a696-c432188fb72a",
   "metadata": {},
   "source": [
    "##### 4. _replace()\n",
    "수정된 새로운 객체를 반환"
   ]
  },
  {
   "cell_type": "code",
   "execution_count": 25,
   "id": "1a97b3d5-eda1-46ba-bd5c-5a9b9d1db746",
   "metadata": {},
   "outputs": [
    {
     "name": "stdout",
     "output_type": "stream",
     "text": [
      "Point(x=20, y=40)\n",
      "Point(x=20, y=100)\n"
     ]
    }
   ],
   "source": [
    "print(p2)\n",
    "print(p2._replace(y=100))"
   ]
  },
  {
   "cell_type": "markdown",
   "id": "439a3c79-cb83-41e5-9f5f-03f5738021ff",
   "metadata": {
    "tags": []
   },
   "source": [
    "## Smart data storage with type hinting using dataclasses"
   ]
  },
  {
   "cell_type": "code",
   "execution_count": null,
   "id": "4352ca37-5aea-4bb0-af1f-639d7ff04b30",
   "metadata": {},
   "outputs": [],
   "source": [
    ">>> spam: int\n",
    ">>> __annotations__['spam']"
   ]
  },
  {
   "cell_type": "code",
   "execution_count": null,
   "id": "3971aa97-d3d1-4200-96bf-355e463cfc8b",
   "metadata": {},
   "outputs": [],
   "source": [
    "# Even with the int type hint, we can still insert a str if we want to.\n",
    ">>> spam = 'not a number'\n",
    ">>> __annotations__['spam']"
   ]
  },
  {
   "cell_type": "code",
   "execution_count": null,
   "id": "eb672932-d0a4-46af-a3fb-ca205236b6e2",
   "metadata": {},
   "outputs": [],
   "source": [
    "address: dict = {\n",
    "  \"street\": \"54560 Daugherty Brooks Suite 581\",\n",
    "  \"city\": \"Stokesmouth\",\n",
    "  \"state\": \"NM\",\n",
    "  \"zip\": \"80556\"\n",
    "}"
   ]
  },
  {
   "cell_type": "code",
   "execution_count": null,
   "id": "c4671f96-2c79-4d4a-a7f4-04c6c357f1a5",
   "metadata": {},
   "outputs": [],
   "source": [
    "__annotations__['address']"
   ]
  },
  {
   "cell_type": "code",
   "execution_count": null,
   "id": "27ffcfed-b3c6-412f-af9e-2005dbc9b182",
   "metadata": {},
   "outputs": [],
   "source": [
    "def plus(num1: int, num2: float = 3.5) -> float:\n",
    "    return num1 + num2"
   ]
  },
  {
   "cell_type": "code",
   "execution_count": null,
   "id": "e30a12b2-e909-4689-b64e-8584e28ff6f7",
   "metadata": {},
   "outputs": [],
   "source": [
    "plus.__annotations__"
   ]
  },
  {
   "cell_type": "raw",
   "id": "592ee8a9-d33b-4043-9b0b-64024304cb43",
   "metadata": {},
   "source": [
    "# The dataclasses module"
   ]
  },
  {
   "cell_type": "code",
   "execution_count": null,
   "id": "3260a52f-a985-4a19-8398-a9163719b4fe",
   "metadata": {},
   "outputs": [],
   "source": [
    ">>> import dataclasses\n",
    "\n",
    ">>> @dataclasses.dataclass\n",
    "... class Sandwich:\n",
    "...     spam: int\n",
    "...     eggs: int = 3"
   ]
  },
  {
   "cell_type": "code",
   "execution_count": null,
   "id": "c51f5455-ca7a-489d-9358-817a50effa7e",
   "metadata": {},
   "outputs": [],
   "source": [
    ">>> Sandwich(1, 2)"
   ]
  },
  {
   "cell_type": "code",
   "execution_count": null,
   "id": "c81e6973-d63c-4286-a62e-dd86dad22732",
   "metadata": {},
   "outputs": [],
   "source": [
    ">>> sandwich = Sandwich(4)\n",
    ">>> sandwich"
   ]
  },
  {
   "cell_type": "code",
   "execution_count": null,
   "id": "d67b5370-c587-4e49-9071-6156bdf228ab",
   "metadata": {},
   "outputs": [],
   "source": [
    ">>> sandwich.eggs"
   ]
  },
  {
   "cell_type": "code",
   "execution_count": null,
   "id": "0cded138-5ab7-44d4-b1f2-656e2938e3b4",
   "metadata": {},
   "outputs": [],
   "source": [
    ">>> dataclasses.asdict(sandwich)"
   ]
  },
  {
   "cell_type": "code",
   "execution_count": null,
   "id": "eb1a00fa-aa60-4f0e-9a97-e01bc9615c19",
   "metadata": {},
   "outputs": [],
   "source": [
    ">>> dataclasses.astuple(sandwich)"
   ]
  },
  {
   "cell_type": "code",
   "execution_count": null,
   "id": "a350ac03-93a8-4bcc-b104-065fa21eee75",
   "metadata": {},
   "outputs": [],
   "source": [
    ">>> help(dataclasses.dataclass)"
   ]
  },
  {
   "cell_type": "code",
   "execution_count": null,
   "id": "1f05af55-22bc-4d85-9169-1c05ce02ee15",
   "metadata": {},
   "outputs": [],
   "source": [
    ">>> import typing\n",
    "\n",
    ">>> @dataclasses.dataclass\n",
    "... class Group:\n",
    "...     name: str\n",
    "...     parent: 'Group' = None\n",
    "\n",
    ">>> @dataclasses.dataclass\n",
    "... class User:\n",
    "...     username: str\n",
    "...     email: str = None\n",
    "...     groups: typing.List[Group] = None"
   ]
  },
  {
   "cell_type": "code",
   "execution_count": null,
   "id": "52b5f24f-0f7b-4391-ae58-93fcdcadf0b0",
   "metadata": {},
   "outputs": [],
   "source": [
    ">>> users = Group('users')\n",
    ">>> admins = Group('admins', users)\n",
    ">>> rick = User('rick', groups=[admins])\n",
    ">>> gvr = User('gvanrossum', 'guido@python.org', [admins])"
   ]
  },
  {
   "cell_type": "code",
   "execution_count": null,
   "id": "f1299372-9dbc-4afa-b017-f673dc6a64a1",
   "metadata": {},
   "outputs": [],
   "source": [
    ">>> rick.groups"
   ]
  },
  {
   "cell_type": "code",
   "execution_count": null,
   "id": "f18b0baa-f857-4bfc-8268-669b3247f19a",
   "metadata": {},
   "outputs": [],
   "source": [
    ">>> rick.groups[0].parent"
   ]
  },
  {
   "cell_type": "markdown",
   "id": "20da0193-ef26-4b3f-8a68-faeffe35b864",
   "metadata": {},
   "source": [
    "# ChainMap"
   ]
  },
  {
   "cell_type": "raw",
   "id": "f509d474-d8fd-47bb-bac7-71ca8f687545",
   "metadata": {},
   "source": [
    "# ChainMap class is provided for quickly linking a number of mappings so they can be treated as a single unit."
   ]
  },
  {
   "cell_type": "code",
   "execution_count": null,
   "id": "72daac47-87b1-44c5-80e3-1bc5ac9e7af2",
   "metadata": {},
   "outputs": [],
   "source": [
    "from collections import ChainMap  \n",
    "         \n",
    "dict1 = {'a': 1, 'b': 2} \n",
    "dict2 = {'b': 3, 'c': 4} \n",
    "    \n",
    "cm = ChainMap(dict1, dict2)"
   ]
  },
  {
   "cell_type": "code",
   "execution_count": null,
   "id": "4f0e336c-2ea1-4ad6-a0b1-2182f184b3c2",
   "metadata": {},
   "outputs": [],
   "source": [
    "cm"
   ]
  },
  {
   "cell_type": "code",
   "execution_count": null,
   "id": "db5809e0-971a-47ca-82dc-50dbb2ab28bd",
   "metadata": {},
   "outputs": [],
   "source": [
    "list(cm.keys())"
   ]
  },
  {
   "cell_type": "code",
   "execution_count": null,
   "id": "162184a6-aa1c-4dea-b615-451bc712150e",
   "metadata": {},
   "outputs": [],
   "source": [
    "list(cm.values())"
   ]
  },
  {
   "cell_type": "code",
   "execution_count": null,
   "id": "863ceb31-39b9-4fc4-8b20-19f20222a362",
   "metadata": {},
   "outputs": [],
   "source": [
    "list(cm.items())"
   ]
  },
  {
   "cell_type": "code",
   "execution_count": null,
   "id": "2c591608-bb4e-4744-9530-115ef0336295",
   "metadata": {},
   "outputs": [],
   "source": [
    "cm.maps"
   ]
  },
  {
   "cell_type": "code",
   "execution_count": null,
   "id": "5d9ffffe-7f58-4c50-a56b-89d2572b2cd2",
   "metadata": {},
   "outputs": [],
   "source": [
    "dict1 = {'a': 1, 'b': 2} \n",
    "dict2 = {'b': 3, 'c': 4}\n",
    "dict3 = {'d': 5, 'e': 6}\n",
    "    \n",
    "cm = ChainMap(dict1, dict2)"
   ]
  },
  {
   "cell_type": "code",
   "execution_count": null,
   "id": "b9fb2bd1-4eb3-4013-8daf-c86a01b3a334",
   "metadata": {},
   "outputs": [],
   "source": [
    "cm.parents"
   ]
  },
  {
   "cell_type": "code",
   "execution_count": null,
   "id": "377fa54f-e57f-436c-9401-06beed8d681f",
   "metadata": {},
   "outputs": [],
   "source": [
    "cm2 = ChainMap(dict1, dict2, dict3)\n",
    "cm2.parents"
   ]
  },
  {
   "cell_type": "code",
   "execution_count": null,
   "id": "95efb2e3-a014-479a-bf1a-9b0d856734aa",
   "metadata": {},
   "outputs": [],
   "source": [
    "cm = ChainMap(dict1, dict2)\n",
    "cm.new_child()"
   ]
  },
  {
   "cell_type": "code",
   "execution_count": null,
   "id": "b88271cc-5f61-4068-a916-a459051a8e23",
   "metadata": {},
   "outputs": [],
   "source": [
    "cm.new_child(dict3)"
   ]
  },
  {
   "cell_type": "markdown",
   "id": "81566476-8851-4eb8-ba35-d1edfe3132ba",
   "metadata": {},
   "source": [
    "# defaultdict"
   ]
  },
  {
   "cell_type": "markdown",
   "id": "f5cbf06a-f68b-460c-94ee-3041bbdb5241",
   "metadata": {},
   "source": [
    "찾는 키가 없으면 예외를 발생시키지 않고 (기존의 dict에서는 예외 발생!! )\n",
    "해당키를 추가하되, 미리 등록해 놓은 함수가 반환하는 디폴트 값을 그 키의 값으로 저장"
   ]
  },
  {
   "cell_type": "code",
   "execution_count": 2,
   "id": "d6e84203-0aca-4a69-9797-a20f51e14ef4",
   "metadata": {},
   "outputs": [],
   "source": [
    ">>> a = dict(x=1, y=2)\n",
    ">>> b = dict(y=1, z=2)"
   ]
  },
  {
   "cell_type": "code",
   "execution_count": 3,
   "id": "86f492fe-157a-4d3f-a2aa-5fc473f03a7a",
   "metadata": {},
   "outputs": [
    {
     "data": {
      "text/plain": [
       "{'x': 1, 'y': 2}"
      ]
     },
     "execution_count": 3,
     "metadata": {},
     "output_type": "execute_result"
    }
   ],
   "source": [
    ">>> c = a.copy()\n",
    ">>> c"
   ]
  },
  {
   "cell_type": "code",
   "execution_count": 4,
   "id": "460f4d3e-8d4e-4641-adef-2dccea8e1be9",
   "metadata": {},
   "outputs": [],
   "source": [
    ">>> c.update(b)"
   ]
  },
  {
   "cell_type": "code",
   "execution_count": 5,
   "id": "43029535-f88b-41d9-9235-acff8e38b7aa",
   "metadata": {},
   "outputs": [
    {
     "data": {
      "text/plain": [
       "{'x': 1, 'y': 2}"
      ]
     },
     "execution_count": 5,
     "metadata": {},
     "output_type": "execute_result"
    }
   ],
   "source": [
    ">>> a"
   ]
  },
  {
   "cell_type": "code",
   "execution_count": 6,
   "id": "5b679b93-5aef-46a5-b415-df7d4820fa9f",
   "metadata": {},
   "outputs": [
    {
     "data": {
      "text/plain": [
       "{'y': 1, 'z': 2}"
      ]
     },
     "execution_count": 6,
     "metadata": {},
     "output_type": "execute_result"
    }
   ],
   "source": [
    ">>> b"
   ]
  },
  {
   "cell_type": "code",
   "execution_count": 7,
   "id": "377ec91d-29d4-4f00-b233-aa6bbe722187",
   "metadata": {},
   "outputs": [
    {
     "data": {
      "text/plain": [
       "{'x': 1, 'y': 1, 'z': 2}"
      ]
     },
     "execution_count": 7,
     "metadata": {},
     "output_type": "execute_result"
    }
   ],
   "source": [
    ">>> c"
   ]
  },
  {
   "cell_type": "code",
   "execution_count": 8,
   "id": "cbb874e4-ba88-4b0f-ab98-f023390b1ff7",
   "metadata": {},
   "outputs": [
    {
     "data": {
      "text/plain": [
       "{'x': 1, 'y': 1, 'z': 2}"
      ]
     },
     "execution_count": 8,
     "metadata": {},
     "output_type": "execute_result"
    }
   ],
   "source": [
    ">>> a | b"
   ]
  },
  {
   "cell_type": "raw",
   "id": "4c6738fe-f793-42bd-b3ea-b92643b7f5a7",
   "metadata": {},
   "source": [
    "# collections.defaultdict(default_factory, key=value,...)"
   ]
  },
  {
   "cell_type": "code",
   "execution_count": 9,
   "id": "ff0ee415-be81-43c7-b0a4-848ce729ec32",
   "metadata": {},
   "outputs": [],
   "source": [
    "import collections\n",
    "ex2 = collections.defaultdict(a=1, b=2)"
   ]
  },
  {
   "cell_type": "code",
   "execution_count": null,
   "id": "d758d03a-929a-41fc-a413-9534bd7f9b9e",
   "metadata": {},
   "outputs": [],
   "source": [
    "ex2"
   ]
  },
  {
   "cell_type": "code",
   "execution_count": 11,
   "id": "88e94b88-d790-4136-b3cc-6b7f04cd5e3e",
   "metadata": {},
   "outputs": [],
   "source": [
    "ex_list = collections.defaultdict(list, a=[1,2], b=[3,4])"
   ]
  },
  {
   "cell_type": "code",
   "execution_count": null,
   "id": "826ba8e4-9ff0-4c2e-a46c-bbd59945a3c7",
   "metadata": {},
   "outputs": [],
   "source": [
    "ex_list"
   ]
  },
  {
   "cell_type": "code",
   "execution_count": 12,
   "id": "01f47fbf-2b4a-4c4f-8e54-42d532ab5cb9",
   "metadata": {},
   "outputs": [
    {
     "data": {
      "text/plain": [
       "[]"
      ]
     },
     "execution_count": 12,
     "metadata": {},
     "output_type": "execute_result"
    }
   ],
   "source": [
    "ex_list['c']"
   ]
  },
  {
   "cell_type": "code",
   "execution_count": 13,
   "id": "39cf880d-c260-4f23-a4d0-89f23dd6b7bc",
   "metadata": {},
   "outputs": [
    {
     "data": {
      "text/plain": [
       "defaultdict(list, {'a': [1, 2], 'b': [3, 4], 'c': []})"
      ]
     },
     "execution_count": 13,
     "metadata": {},
     "output_type": "execute_result"
    }
   ],
   "source": [
    "ex_list"
   ]
  },
  {
   "cell_type": "code",
   "execution_count": null,
   "id": "aaa61e8a-f8ec-4366-a98f-58339070cc3a",
   "metadata": {},
   "outputs": [],
   "source": [
    "ex_set = collections.defaultdict(set, a={1,2}, b={3,4})"
   ]
  },
  {
   "cell_type": "code",
   "execution_count": null,
   "id": "980050c2-542a-4856-b7bc-ef17634e36f5",
   "metadata": {},
   "outputs": [],
   "source": [
    "ex_set"
   ]
  },
  {
   "cell_type": "code",
   "execution_count": null,
   "id": "9db1d94e-163e-460b-bc4f-c1d43333c5bb",
   "metadata": {},
   "outputs": [],
   "source": [
    "ex_set['c']"
   ]
  },
  {
   "cell_type": "code",
   "execution_count": null,
   "id": "eea647e9-3a1e-43bc-b5a0-73b77675e218",
   "metadata": {},
   "outputs": [],
   "source": [
    "ex_set"
   ]
  },
  {
   "cell_type": "code",
   "execution_count": null,
   "id": "8c583c63-6b9b-4428-8bf2-9758d9d55dae",
   "metadata": {},
   "outputs": [],
   "source": [
    ">>> nodes = [\n",
    "...     ('a', 'b'),\n",
    "...     ('a', 'c'),\n",
    "...     ('b', 'a'),\n",
    "...     ('b', 'd'),\n",
    "...     ('c', 'a'),\n",
    "...     ('d', 'a'),\n",
    "...     ('d', 'b'),\n",
    "...     ('d', 'c'),\n",
    "... ]"
   ]
  },
  {
   "cell_type": "code",
   "execution_count": null,
   "id": "39223174-1ceb-48d1-b00d-68b6411b1b05",
   "metadata": {},
   "outputs": [],
   "source": [
    ">>> graph = dict()\n",
    ">>> for from_, to in nodes:\n",
    "...     if from_ not in graph:\n",
    "...         graph[from_] = []\n",
    "...     graph[from_].append(to)"
   ]
  },
  {
   "cell_type": "code",
   "execution_count": null,
   "id": "6e32c92e-243d-44d2-a3c8-147edc370da7",
   "metadata": {},
   "outputs": [],
   "source": [
    "graph"
   ]
  },
  {
   "cell_type": "code",
   "execution_count": null,
   "id": "e29f3e27-36f9-45a2-a302-1ffaea9378ec",
   "metadata": {},
   "outputs": [],
   "source": [
    ">>> import collections\n",
    "\n",
    ">>> graph = collections.defaultdict(list)\n",
    ">>> for from_, to in nodes:\n",
    "...     graph[from_].append(to)"
   ]
  },
  {
   "cell_type": "code",
   "execution_count": null,
   "id": "12ec8d1b-64ac-4c2f-b77d-448620a4a819",
   "metadata": {},
   "outputs": [],
   "source": [
    "graph"
   ]
  },
  {
   "cell_type": "markdown",
   "id": "a0d2770c-7382-4391-901b-401eb1825092",
   "metadata": {},
   "source": [
    "# enum – A group of constants"
   ]
  },
  {
   "cell_type": "code",
   "execution_count": null,
   "id": "3e230150-74f4-4976-8f81-d23b0b4f85ed",
   "metadata": {},
   "outputs": [],
   "source": [
    ">>> import enum\n",
    "\n",
    ">>> class Color(enum.Enum):\n",
    "...     red = 1\n",
    "...     green = 2\n",
    "...     blue = 3"
   ]
  },
  {
   "cell_type": "code",
   "execution_count": null,
   "id": "2c3667cf-7d51-4ebd-bd53-069b39d4a46d",
   "metadata": {},
   "outputs": [],
   "source": [
    ">>> type(Color)"
   ]
  },
  {
   "cell_type": "code",
   "execution_count": null,
   "id": "bc5bd870-2ff8-4d97-9367-20c46978ea78",
   "metadata": {},
   "outputs": [],
   "source": [
    ">>> Color.red"
   ]
  },
  {
   "cell_type": "code",
   "execution_count": null,
   "id": "52fc49a1-b0fb-470e-a4a4-ba40d652aa2b",
   "metadata": {},
   "outputs": [],
   "source": [
    ">>> type(Color.red)"
   ]
  },
  {
   "cell_type": "code",
   "execution_count": null,
   "id": "727064e9-9ce5-4156-a1bb-4b7bd4e60595",
   "metadata": {},
   "outputs": [],
   "source": [
    ">>> Color['red']"
   ]
  },
  {
   "cell_type": "code",
   "execution_count": null,
   "id": "489407fe-8645-41be-ae54-06eb02396e41",
   "metadata": {},
   "outputs": [],
   "source": [
    ">>> Color(2)"
   ]
  },
  {
   "cell_type": "code",
   "execution_count": null,
   "id": "394c7c1f-6b53-4509-b021-ece79f526940",
   "metadata": {},
   "outputs": [],
   "source": [
    " Color.red.name"
   ]
  },
  {
   "cell_type": "code",
   "execution_count": null,
   "id": "6711a02d-825f-46be-8e57-67bdc6cc93a6",
   "metadata": {},
   "outputs": [],
   "source": [
    ">>> Color.red.value"
   ]
  },
  {
   "cell_type": "code",
   "execution_count": null,
   "id": "9b79a8a7-d3ea-4949-9a13-2302929b562e",
   "metadata": {},
   "outputs": [],
   "source": [
    ">>> isinstance(Color.red, Color)"
   ]
  },
  {
   "cell_type": "code",
   "execution_count": null,
   "id": "f66c36da-f57b-4bb0-862a-29d289d563e1",
   "metadata": {},
   "outputs": [],
   "source": [
    ">>> Color.red is Color['red']"
   ]
  },
  {
   "cell_type": "code",
   "execution_count": null,
   "id": "8e17345e-ea2d-49d6-b3a5-00140282ee2f",
   "metadata": {},
   "outputs": [],
   "source": [
    ">>> Color.red is Color(1)"
   ]
  },
  {
   "cell_type": "code",
   "execution_count": null,
   "id": "6848e57f-705f-4844-8d80-562406b4f79f",
   "metadata": {},
   "outputs": [],
   "source": [
    ">>> for color in Color:\n",
    "...     print(color)"
   ]
  },
  {
   "cell_type": "code",
   "execution_count": null,
   "id": "4227d5eb-668a-448c-909a-56ba3541ea07",
   "metadata": {},
   "outputs": [],
   "source": [
    ">>> colors = dict()\n",
    ">>> colors[Color.green] = 0x00FF00\n",
    ">>> colors"
   ]
  },
  {
   "cell_type": "code",
   "execution_count": null,
   "id": "250949bf-0fed-4d00-a424-7b050c64d228",
   "metadata": {},
   "outputs": [],
   "source": [
    ">>> import enum\n",
    "\n",
    ">>> class Spam(enum.Enum):\n",
    "...     EGGS = 'eggs'\n",
    "\n",
    ">>> Spam.EGGS == 'eggs'"
   ]
  },
  {
   "cell_type": "code",
   "execution_count": null,
   "id": "d9dbb08b-bdf5-47c2-9845-f542b7d9777b",
   "metadata": {},
   "outputs": [],
   "source": [
    ">>> import enum\n",
    "\n",
    ">>> class Spam(str, enum.Enum):\n",
    "...     EGGS = 'eggs'\n",
    "\n",
    ">>> Spam.EGGS == 'eggs'"
   ]
  },
  {
   "cell_type": "markdown",
   "id": "e3c46d50-f073-42a5-a494-28808d3faaf4",
   "metadata": {},
   "source": [
    "# heapq - a priority queue"
   ]
  },
  {
   "cell_type": "code",
   "execution_count": null,
   "id": "e20516a0-1bb3-4259-904f-10e586693792",
   "metadata": {},
   "outputs": [],
   "source": [
    ">>> import heapq\n",
    "\n",
    ">>> heap = [1, 3, 5, 7, 2, 4, 3]\n",
    ">>> heapq.heapify(heap)"
   ]
  },
  {
   "cell_type": "code",
   "execution_count": null,
   "id": "b0ff814f-8dc9-4751-8c28-fe139543163e",
   "metadata": {},
   "outputs": [],
   "source": [
    ">>> heap"
   ]
  },
  {
   "cell_type": "code",
   "execution_count": null,
   "id": "f8f752b3-d08d-4623-91b5-90bba60c1924",
   "metadata": {},
   "outputs": [],
   "source": [
    ">>> heapq.heappush(heap, 8)"
   ]
  },
  {
   "cell_type": "code",
   "execution_count": null,
   "id": "9377e6ab-0230-472c-afcb-af8fa34b63ed",
   "metadata": {},
   "outputs": [],
   "source": [
    ">>> heap"
   ]
  },
  {
   "cell_type": "code",
   "execution_count": null,
   "id": "ae2bce7c-9b1b-4d67-a57b-350af18d57b3",
   "metadata": {},
   "outputs": [],
   "source": [
    ">>> heapq.heappush(heap, 0)"
   ]
  },
  {
   "cell_type": "code",
   "execution_count": null,
   "id": "43c156ab-f5fd-4de7-bb5d-c9b26b3a3ffa",
   "metadata": {},
   "outputs": [],
   "source": [
    ">>> heap"
   ]
  },
  {
   "cell_type": "code",
   "execution_count": null,
   "id": "a5cc0a17-e621-4771-bb3d-451aba317e79",
   "metadata": {},
   "outputs": [],
   "source": [
    ">>> while heap:\n",
    "...     print(heapq.heappop(heap), list(heap))"
   ]
  },
  {
   "cell_type": "code",
   "execution_count": null,
   "id": "e353d2eb-5d3b-4b64-a238-d043325bd78f",
   "metadata": {},
   "outputs": [],
   "source": [
    ">>> def heapsort(iterable):\n",
    "...     heap = []\n",
    "...     for value in iterable:\n",
    "...         heapq.heappush(heap, value)\n",
    "...\n",
    "...     while heap:\n",
    "...         yield heapq.heappop(heap)"
   ]
  },
  {
   "cell_type": "code",
   "execution_count": null,
   "id": "e68e052a-d3a8-468a-8eeb-ac38bbb19c93",
   "metadata": {},
   "outputs": [],
   "source": [
    ">>> list(heapsort([1, 3, 5, 2, 4, 1]))"
   ]
  },
  {
   "cell_type": "markdown",
   "id": "cd542592-a149-4e54-86c3-03af231a3cf6",
   "metadata": {},
   "source": [
    "# bisect"
   ]
  },
  {
   "cell_type": "code",
   "execution_count": null,
   "id": "a860ff5f-30e1-4490-b222-5dc8796537a3",
   "metadata": {},
   "outputs": [],
   "source": [
    "# Using the regular sort:\n",
    ">>> sorted_list = []\n",
    ">>> sorted_list.append(5)  # O(1)\n",
    ">>> sorted_list.append(3)  # O(1)\n",
    ">>> sorted_list.append(1)  # O(1)\n",
    ">>> sorted_list.append(2)  # O(1)"
   ]
  },
  {
   "cell_type": "code",
   "execution_count": null,
   "id": "df9a2faa-547b-42be-81f2-a686e86164d9",
   "metadata": {},
   "outputs": [],
   "source": [
    ">>> sorted_list.sort()  # O(n * log(n)) = 4 * log(4) = 8"
   ]
  },
  {
   "cell_type": "code",
   "execution_count": null,
   "id": "5cf24d61-ead3-4c60-9730-ab1c2f118a28",
   "metadata": {},
   "outputs": [],
   "source": [
    ">>> sorted_list"
   ]
  },
  {
   "cell_type": "code",
   "execution_count": null,
   "id": "6a844050-4620-4738-af77-eb3ca7b43aa3",
   "metadata": {},
   "outputs": [],
   "source": [
    "# Using bisect:\n",
    ">>> import bisect\n",
    ">>> sorted_list = []\n",
    ">>> bisect.insort(sorted_list, 5)  # O(n) = 1\n",
    ">>> bisect.insort(sorted_list, 3)  # O(n) = 2\n",
    ">>> bisect.insort(sorted_list, 1)  # O(n) = 3\n",
    ">>> bisect.insort(sorted_list, 2)  # O(n) = 4"
   ]
  },
  {
   "cell_type": "code",
   "execution_count": null,
   "id": "5f07acfb-10f3-429f-be9e-d3362bd9f18f",
   "metadata": {},
   "outputs": [],
   "source": [
    ">>> sorted_list"
   ]
  },
  {
   "cell_type": "code",
   "execution_count": null,
   "id": "828863b6-b9cb-4709-8a39-97568e415291",
   "metadata": {},
   "outputs": [],
   "source": [
    ">>> sorted_list = [1, 2, 5]\n",
    ">>> def contains(sorted_list, value):\n",
    "...     for item in sorted_list:\n",
    "...         if item > value:\n",
    "...             break\n",
    "...         elif item == value:\n",
    "...             return True\n",
    "...     return False"
   ]
  },
  {
   "cell_type": "code",
   "execution_count": null,
   "id": "f7c0cdf4-3aca-49e0-879d-2653e898aadc",
   "metadata": {},
   "outputs": [],
   "source": [
    ">>> contains(sorted_list, 2)  # Need to walk through 2 items, O(n) = 2"
   ]
  },
  {
   "cell_type": "code",
   "execution_count": null,
   "id": "01e3b96d-81fc-413c-851e-88f80fca9227",
   "metadata": {},
   "outputs": [],
   "source": [
    ">>> contains(sorted_list, 4)  # Need to walk through n items, O(n) = 3"
   ]
  },
  {
   "cell_type": "code",
   "execution_count": null,
   "id": "9dfea3b4-b1a3-47f6-a144-11db65ce2446",
   "metadata": {},
   "outputs": [],
   "source": [
    ">>> contains(sorted_list, 6)  # Need to walk through n items, O(n) = 3"
   ]
  },
  {
   "cell_type": "code",
   "execution_count": null,
   "id": "85e7294c-1da9-4b16-aaa7-9ea21d55d182",
   "metadata": {},
   "outputs": [],
   "source": [
    ">>> import bisect\n",
    "\n",
    ">>> sorted_list = [1, 2, 5]\n",
    ">>> def contains(sorted_list, value):\n",
    "...     i = bisect.bisect_left(sorted_list, value)\n",
    "...     return i < len(sorted_list) and sorted_list[i] == value"
   ]
  },
  {
   "cell_type": "code",
   "execution_count": null,
   "id": "a7a82339-2bee-4f00-b20a-3fdd22ad9a4a",
   "metadata": {},
   "outputs": [],
   "source": [
    ">>> contains(sorted_list, 2)  # Found it the first step, O(log(n)) = 1"
   ]
  },
  {
   "cell_type": "code",
   "execution_count": null,
   "id": "adc8735e-75f9-42e4-aac0-cccfece853ec",
   "metadata": {},
   "outputs": [],
   "source": [
    ">>> contains(sorted_list, 4)  # No result after 2 steps, O(log(n)) = 2"
   ]
  },
  {
   "cell_type": "code",
   "execution_count": null,
   "id": "fde9f635-29aa-4fb1-9916-0733e4214714",
   "metadata": {},
   "outputs": [],
   "source": [
    ">>> contains(sorted_list, 6)  # No result after 2 steps, O(log(n)) = 2"
   ]
  },
  {
   "cell_type": "code",
   "execution_count": null,
   "id": "29c30e35-0bd6-4319-b970-5414f9af18cf",
   "metadata": {},
   "outputs": [],
   "source": [
    ">>> import bisect\n",
    ">>> import collections\n",
    "\n",
    ">>> class SortedList:\n",
    "...     def __init__(self, *values):\n",
    "...         self._list = sorted(values)\n",
    "...     \n",
    "...     def index(self, value):\n",
    "...         i = bisect.bisect_left(self._list, value)\n",
    "...         if i < len(self._list) and self._list[i] == value:\n",
    "...             return index\n",
    "...\n",
    "...     def delete(self, value):\n",
    "...         del self._list[self.index(value)]\n",
    "...\n",
    "...     def add(self, value):\n",
    "...         bisect.insort(self._list, value)\n",
    "...\n",
    "...     def __iter__(self):\n",
    "...         for value in self._list:\n",
    "...             yield value\n",
    "...\n",
    "...     def __exists__(self, value):\n",
    "...         return self.index(value) is not None"
   ]
  },
  {
   "cell_type": "code",
   "execution_count": null,
   "id": "c2fa53b9-c52b-4efe-b233-09b554a141aa",
   "metadata": {},
   "outputs": [],
   "source": [
    ">>> sorted_list = SortedList(1, 3, 6, 2)\n",
    ">>> 3 in sorted_list"
   ]
  },
  {
   "cell_type": "code",
   "execution_count": null,
   "id": "f6b843e5-c9ae-43aa-815d-ec3aa31da63b",
   "metadata": {},
   "outputs": [],
   "source": [
    ">>> sorted_list.add(5)"
   ]
  },
  {
   "cell_type": "code",
   "execution_count": null,
   "id": "a66893a4-2210-494b-bfd7-50989cf7c7a7",
   "metadata": {},
   "outputs": [],
   "source": [
    ">>> 5 in sorted_list"
   ]
  },
  {
   "cell_type": "code",
   "execution_count": null,
   "id": "3ed6a30c-49d1-4495-824d-bff6a77405a8",
   "metadata": {},
   "outputs": [],
   "source": [
    ">>> list(sorted_list)"
   ]
  },
  {
   "cell_type": "markdown",
   "id": "f16cc7c4-24d5-4a49-baca-ffbbe30e7272",
   "metadata": {},
   "source": [
    "# Borg or Singleton patterns"
   ]
  },
  {
   "cell_type": "code",
   "execution_count": null,
   "id": "187ef8ab-1bc5-4317-89c3-552586ab8916",
   "metadata": {},
   "outputs": [],
   "source": [
    ">>> class Borg:\n",
    "...     _state = {}\n",
    "...     def __init__(self):\n",
    "...         self.__dict__ = self._state\n",
    "\n",
    ">>> class SubBorg(Borg):\n",
    "...     pass"
   ]
  },
  {
   "cell_type": "code",
   "execution_count": null,
   "id": "625baa5f-105d-4d0a-bd08-3cbfc23aaf1d",
   "metadata": {},
   "outputs": [],
   "source": [
    ">>> a = Borg()\n",
    ">>> b = Borg()\n",
    ">>> c = Borg()\n",
    ">>> a.a_property = 123"
   ]
  },
  {
   "cell_type": "code",
   "execution_count": null,
   "id": "9b17e265-2df8-4b66-813e-e0da70bdc3f5",
   "metadata": {},
   "outputs": [],
   "source": [
    "a.__dict__"
   ]
  },
  {
   "cell_type": "code",
   "execution_count": null,
   "id": "34355643-3d6d-4c95-b5fd-023a5e709c57",
   "metadata": {},
   "outputs": [],
   "source": [
    ">>> b.a_property"
   ]
  },
  {
   "cell_type": "code",
   "execution_count": null,
   "id": "c7ec2132-360a-49eb-ab33-ed0e5f547cbe",
   "metadata": {},
   "outputs": [],
   "source": [
    ">>> c.a_property"
   ]
  },
  {
   "cell_type": "code",
   "execution_count": null,
   "id": "f61e5178-7ed5-439c-a5c1-fcc5c6ddd203",
   "metadata": {},
   "outputs": [],
   "source": [
    ">>> class Singleton:\n",
    "...     def __new__(cls):\n",
    "...         if not hasattr(cls, '_instance'):\n",
    "...             cls._instance = super(Singleton, cls).__new__(cls)\n",
    "...\n",
    "...         return cls._instance\n",
    "\n",
    ">>> class SubSingleton(Singleton):\n",
    "...     pass"
   ]
  },
  {
   "cell_type": "code",
   "execution_count": null,
   "id": "e21c6a6a-ea52-48c4-a2ef-cce034761db5",
   "metadata": {},
   "outputs": [],
   "source": [
    ">>> a = Singleton()\n",
    ">>> b = Singleton()\n",
    ">>> c = SubSingleton()\n",
    ">>> a.a_property = 123"
   ]
  },
  {
   "cell_type": "code",
   "execution_count": null,
   "id": "4a2661ef-bc73-4173-bd10-eefac4e3c513",
   "metadata": {},
   "outputs": [],
   "source": [
    ">>> b.a_property"
   ]
  },
  {
   "cell_type": "code",
   "execution_count": null,
   "id": "84eb389b-2112-45d8-991e-af63e34b3389",
   "metadata": {},
   "outputs": [],
   "source": [
    ">>> c.a_property"
   ]
  },
  {
   "cell_type": "code",
   "execution_count": null,
   "id": "74700876-2fb7-4f1f-9976-1adbc7da96b8",
   "metadata": {},
   "outputs": [],
   "source": []
  }
 ],
 "metadata": {
  "kernelspec": {
   "display_name": "Python 3 (ipykernel)",
   "language": "python",
   "name": "python3"
  },
  "language_info": {
   "codemirror_mode": {
    "name": "ipython",
    "version": 3
   },
   "file_extension": ".py",
   "mimetype": "text/x-python",
   "name": "python",
   "nbconvert_exporter": "python",
   "pygments_lexer": "ipython3",
   "version": "3.9.7"
  }
 },
 "nbformat": 4,
 "nbformat_minor": 5
}
