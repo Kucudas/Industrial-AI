{
 "cells": [
  {
   "cell_type": "markdown",
   "id": "649cf5b2-3ab1-43b6-9385-59adcf5deb04",
   "metadata": {},
   "source": [
    "# Functional Programming"
   ]
  },
  {
   "cell_type": "markdown",
   "id": "ca5ff104-df35-4cc2-8f24-91596a2637fd",
   "metadata": {},
   "source": [
    "### Purely functional\n",
    "- Purely functional programming expects functions to have no side effects.\n",
    "- Keeping functions purely functional (relying only on the given input) makes code clearer, easier to understand, and better to test as there are fewer dependencies."
   ]
  },
  {
   "cell_type": "code",
   "execution_count": 1,
   "id": "0b8d4db2-e1a0-4dd6-9188-e87c5fb62752",
   "metadata": {},
   "outputs": [],
   "source": [
    ">>> def add_value_functional(items, value):\n",
    "...     return items + [value]"
   ]
  },
  {
   "cell_type": "code",
   "execution_count": 2,
   "id": "156c7864-9d69-4bb1-b0e1-120c8f6e5579",
   "metadata": {},
   "outputs": [
    {
     "data": {
      "text/plain": [
       "[1, 2, 3, 5]"
      ]
     },
     "execution_count": 2,
     "metadata": {},
     "output_type": "execute_result"
    }
   ],
   "source": [
    ">>> items = [1, 2, 3]\n",
    ">>> add_value_functional(items, 5)"
   ]
  },
  {
   "cell_type": "code",
   "execution_count": 3,
   "id": "6e19e1e0-03b9-47a6-a245-ce4f6723b4fe",
   "metadata": {},
   "outputs": [
    {
     "data": {
      "text/plain": [
       "[1, 2, 3]"
      ]
     },
     "execution_count": 3,
     "metadata": {},
     "output_type": "execute_result"
    }
   ],
   "source": [
    ">>> items"
   ]
  },
  {
   "cell_type": "code",
   "execution_count": 4,
   "id": "b14d0333-2a52-4813-b198-bf95c8795cfd",
   "metadata": {},
   "outputs": [],
   "source": [
    "# a regular functional one\n",
    ">>> def add_value_regular(items, value):\n",
    "...     items.append(value)\n",
    "...     return items"
   ]
  },
  {
   "cell_type": "code",
   "execution_count": 5,
   "id": "ab5eebc8-1b2e-41c4-8e00-2510c0bffa71",
   "metadata": {},
   "outputs": [
    {
     "data": {
      "text/plain": [
       "[1, 2, 3, 5]"
      ]
     },
     "execution_count": 5,
     "metadata": {},
     "output_type": "execute_result"
    }
   ],
   "source": [
    ">>> add_value_regular(items, 5)"
   ]
  },
  {
   "cell_type": "code",
   "execution_count": 6,
   "id": "65d70146-ffe4-47b7-aae5-ec3ea802aad2",
   "metadata": {},
   "outputs": [
    {
     "data": {
      "text/plain": [
       "[1, 2, 3, 5]"
      ]
     },
     "execution_count": 6,
     "metadata": {},
     "output_type": "execute_result"
    }
   ],
   "source": [
    ">>> items"
   ]
  },
  {
   "cell_type": "markdown",
   "id": "96622fee-e467-4df8-8034-43ccf6248bd7",
   "metadata": {
    "jp-MarkdownHeadingCollapsed": true,
    "tags": []
   },
   "source": [
    "### Functional programming and Python\n",
    "- Python is one of the few, or at least earliest, non-functional programming languages to add functional programming features.\n",
    "- The initial few functional programming functions were introduced around 1993, and these were lambda, reduce, filter, and map.\n",
    "- Several other functional programming features have been added to Python:\n",
    "##### • list/dict/set comprehensions\n",
    "##### • Generator expressions\n",
    "##### • Generator functions\n",
    "##### • a host of useful functions in the functools and itertools modules."
   ]
  },
  {
   "cell_type": "markdown",
   "id": "4626c4cb-5ff2-43fc-8595-53d8cfbca6d4",
   "metadata": {},
   "source": [
    "### Advantages of functional programming\n",
    "- It becomes trivially easy to run in parallel.\n",
    "- They mitigate several kinds of bugs.\n",
    "- It makes testing much easier."
   ]
  },
  {
   "cell_type": "code",
   "execution_count": null,
   "id": "21b7fe2f-1361-4545-a445-0388b6b11b1a",
   "metadata": {},
   "outputs": [],
   "source": []
  },
  {
   "cell_type": "markdown",
   "id": "00ec670f-54de-4788-b0b1-76aadf7f2beb",
   "metadata": {},
   "source": [
    "## list, set, and dict comprehensions"
   ]
  },
  {
   "cell_type": "markdown",
   "id": "dd7d383b-eab5-4912-b625-c43a3d68d142",
   "metadata": {},
   "source": [
    "List Comprehension"
   ]
  },
  {
   "cell_type": "code",
   "execution_count": 7,
   "id": "e70c59d8-ff38-4078-8d36-072a378318a1",
   "metadata": {},
   "outputs": [
    {
     "data": {
      "text/plain": [
       "[0, 1, 4, 9, 16, 25, 36, 49, 64, 81]"
      ]
     },
     "execution_count": 7,
     "metadata": {},
     "output_type": "execute_result"
    }
   ],
   "source": [
    ">>> squares = [x ** 2 for x in range(10)]\n",
    ">>> squares"
   ]
  },
  {
   "cell_type": "code",
   "execution_count": 8,
   "id": "d730fbf6-ac9d-4211-9116-aff504589584",
   "metadata": {},
   "outputs": [
    {
     "data": {
      "text/plain": [
       "[1, 9, 25, 49, 81]"
      ]
     },
     "execution_count": 8,
     "metadata": {},
     "output_type": "execute_result"
    }
   ],
   "source": [
    "# expand with a filter\n",
    ">>> odd_squares = [x ** 2 for x in range(10) if x % 2]\n",
    ">>> odd_squares"
   ]
  },
  {
   "cell_type": "markdown",
   "id": "4a56cc8c-9776-42e7-9f1d-55b2716c0175",
   "metadata": {},
   "source": [
    "using map and filter"
   ]
  },
  {
   "cell_type": "code",
   "execution_count": 9,
   "id": "ce0a6012-cba8-4591-8292-d20466ee9356",
   "metadata": {},
   "outputs": [],
   "source": [
    ">>> def square(x):\n",
    "...     return x ** 2\n",
    "\n",
    ">>> def odd(x):\n",
    "...     return x % 2"
   ]
  },
  {
   "cell_type": "code",
   "execution_count": 10,
   "id": "cc108349-0eba-4802-be8a-4dd7807b317c",
   "metadata": {},
   "outputs": [
    {
     "data": {
      "text/plain": [
       "[0, 1, 4, 9, 16, 25, 36, 49, 64, 81]"
      ]
     },
     "execution_count": 10,
     "metadata": {},
     "output_type": "execute_result"
    }
   ],
   "source": [
    ">>> squares = list(map(square, range(10)))\n",
    ">>> squares"
   ]
  },
  {
   "cell_type": "code",
   "execution_count": 11,
   "id": "12c2eb24-dabc-412c-92fc-b55ba96d52a9",
   "metadata": {},
   "outputs": [
    {
     "data": {
      "text/plain": [
       "[1, 9, 25, 49, 81]"
      ]
     },
     "execution_count": 11,
     "metadata": {},
     "output_type": "execute_result"
    }
   ],
   "source": [
    ">>> odd_squares = list(filter(odd, map(square, range(10))))\n",
    ">>> odd_squares"
   ]
  },
  {
   "cell_type": "code",
   "execution_count": 12,
   "id": "85079ba2-db88-49d6-a153-bb90afdc7434",
   "metadata": {},
   "outputs": [
    {
     "data": {
      "text/plain": [
       "[1, 9, 25, 49, 81]"
      ]
     },
     "execution_count": 12,
     "metadata": {},
     "output_type": "execute_result"
    }
   ],
   "source": [
    "# The regular Python equivalent\n",
    ">>> odd_squares = []\n",
    ">>> for x in range(10):\n",
    "...     if x % 2:\n",
    "...         odd_squares.append(x ** 2)\n",
    "\n",
    ">>> odd_squares"
   ]
  },
  {
   "cell_type": "markdown",
   "id": "2ba78d83-9802-415b-ad83-dd9dadf27b57",
   "metadata": {},
   "source": [
    "set comprehensions"
   ]
  },
  {
   "cell_type": "code",
   "execution_count": 13,
   "id": "42f4128a-ed3a-45dd-96f3-4f0573fd1289",
   "metadata": {},
   "outputs": [
    {
     "data": {
      "text/plain": [
       "[0, 0, 1]"
      ]
     },
     "execution_count": 13,
     "metadata": {},
     "output_type": "execute_result"
    }
   ],
   "source": [
    "# List comprehension\n",
    ">>> [x // 2 for x in range(3)]"
   ]
  },
  {
   "cell_type": "code",
   "execution_count": 14,
   "id": "62d23da1-3b68-41c6-b382-a30069ca0817",
   "metadata": {},
   "outputs": [
    {
     "data": {
      "text/plain": [
       "{0, 1}"
      ]
     },
     "execution_count": 14,
     "metadata": {},
     "output_type": "execute_result"
    }
   ],
   "source": [
    "# Set comprehension\n",
    ">>> numbers = {x // 2 for x in range(3)}\n",
    ">>> numbers"
   ]
  },
  {
   "cell_type": "markdown",
   "id": "aa8c6a31-444f-40de-b4d9-501640abe22a",
   "metadata": {},
   "source": [
    "dict comprehensions"
   ]
  },
  {
   "cell_type": "code",
   "execution_count": 15,
   "id": "70062f8e-82d2-488d-b8d3-bcbd46e3d965",
   "metadata": {},
   "outputs": [
    {
     "data": {
      "text/plain": [
       "{0: 0, 1: 1, 2: 4, 3: 9, 4: 16, 5: 25}"
      ]
     },
     "execution_count": 15,
     "metadata": {},
     "output_type": "execute_result"
    }
   ],
   "source": [
    ">>> {x: x ** 2 for x in range(6)}"
   ]
  },
  {
   "cell_type": "code",
   "execution_count": 16,
   "id": "5c695182-e879-4a8d-aa99-f8f41ab9478d",
   "metadata": {},
   "outputs": [
    {
     "data": {
      "text/plain": [
       "{1: 1, 3: 9, 5: 25}"
      ]
     },
     "execution_count": 16,
     "metadata": {},
     "output_type": "execute_result"
    }
   ],
   "source": [
    ">>> {x: x ** 2 for x in range(6) if x % 2}"
   ]
  },
  {
   "cell_type": "code",
   "execution_count": 17,
   "id": "f6f67ea4-5986-485d-82d4-71e685272602",
   "metadata": {},
   "outputs": [
    {
     "data": {
      "text/plain": [
       "{0: [], 1: [0], 4: [0, 1], 9: [0, 1, 2], 16: [0, 1, 2, 3]}"
      ]
     },
     "execution_count": 17,
     "metadata": {},
     "output_type": "execute_result"
    }
   ],
   "source": [
    "# the key needs to be hashable\n",
    ">>> {x**2:[y for y in range(x)] for x in range(5)}"
   ]
  },
  {
   "cell_type": "code",
   "execution_count": 18,
   "id": "ad596fe6-e138-4626-84a9-3ba41c246bdc",
   "metadata": {},
   "outputs": [
    {
     "ename": "TypeError",
     "evalue": "unhashable type: 'list'",
     "output_type": "error",
     "traceback": [
      "\u001b[1;31m---------------------------------------------------------------------------\u001b[0m",
      "\u001b[1;31mTypeError\u001b[0m                                 Traceback (most recent call last)",
      "\u001b[1;32m~\\AppData\\Local\\Temp/ipykernel_25404/1610633518.py\u001b[0m in \u001b[0;36m<module>\u001b[1;34m\u001b[0m\n\u001b[0;32m      1\u001b[0m \u001b[1;31m# 어떤 문제가 있을까요?\u001b[0m\u001b[1;33m\u001b[0m\u001b[1;33m\u001b[0m\u001b[0m\n\u001b[1;32m----> 2\u001b[1;33m \u001b[1;33m{\u001b[0m\u001b[1;33m[\u001b[0m\u001b[0my\u001b[0m \u001b[1;32mfor\u001b[0m \u001b[0my\u001b[0m \u001b[1;32min\u001b[0m \u001b[0mrange\u001b[0m\u001b[1;33m(\u001b[0m\u001b[0mx\u001b[0m\u001b[1;33m)\u001b[0m\u001b[1;33m]\u001b[0m\u001b[1;33m:\u001b[0m \u001b[0mx\u001b[0m\u001b[1;33m**\u001b[0m\u001b[1;36m2\u001b[0m  \u001b[1;32mfor\u001b[0m \u001b[0mx\u001b[0m \u001b[1;32min\u001b[0m \u001b[0mrange\u001b[0m\u001b[1;33m(\u001b[0m\u001b[1;36m5\u001b[0m\u001b[1;33m)\u001b[0m\u001b[1;33m}\u001b[0m\u001b[1;33m\u001b[0m\u001b[1;33m\u001b[0m\u001b[0m\n\u001b[0m",
      "\u001b[1;32m~\\AppData\\Local\\Temp/ipykernel_25404/1610633518.py\u001b[0m in \u001b[0;36m<dictcomp>\u001b[1;34m(.0)\u001b[0m\n\u001b[0;32m      1\u001b[0m \u001b[1;31m# 어떤 문제가 있을까요?\u001b[0m\u001b[1;33m\u001b[0m\u001b[1;33m\u001b[0m\u001b[0m\n\u001b[1;32m----> 2\u001b[1;33m \u001b[1;33m{\u001b[0m\u001b[1;33m[\u001b[0m\u001b[0my\u001b[0m \u001b[1;32mfor\u001b[0m \u001b[0my\u001b[0m \u001b[1;32min\u001b[0m \u001b[0mrange\u001b[0m\u001b[1;33m(\u001b[0m\u001b[0mx\u001b[0m\u001b[1;33m)\u001b[0m\u001b[1;33m]\u001b[0m\u001b[1;33m:\u001b[0m \u001b[0mx\u001b[0m\u001b[1;33m**\u001b[0m\u001b[1;36m2\u001b[0m  \u001b[1;32mfor\u001b[0m \u001b[0mx\u001b[0m \u001b[1;32min\u001b[0m \u001b[0mrange\u001b[0m\u001b[1;33m(\u001b[0m\u001b[1;36m5\u001b[0m\u001b[1;33m)\u001b[0m\u001b[1;33m}\u001b[0m\u001b[1;33m\u001b[0m\u001b[1;33m\u001b[0m\u001b[0m\n\u001b[0m",
      "\u001b[1;31mTypeError\u001b[0m: unhashable type: 'list'"
     ]
    }
   ],
   "source": [
    "# 어떤 문제가 있을까요?\n",
    ">>> {[y for y in range(x)]: x**2  for x in range(5)}"
   ]
  },
  {
   "cell_type": "markdown",
   "id": "3667a946-4476-41af-aef2-85d0b8c09fb9",
   "metadata": {},
   "source": [
    "Comprehension pitfalls"
   ]
  },
  {
   "cell_type": "code",
   "execution_count": null,
   "id": "1c039f4e-ab6d-42c1-97b9-94c5f665d4dc",
   "metadata": {},
   "outputs": [],
   "source": [
    ">>> import random\n",
    ">>> [random.random() for _ in range(10) if random.random() >= 0.5]"
   ]
  },
  {
   "cell_type": "code",
   "execution_count": null,
   "id": "960c1b3a-d22a-4060-9e6d-d7fda5d3c6c2",
   "metadata": {},
   "outputs": [],
   "source": [
    ">>> import random\n",
    ">>> numbers = [random.random() for _ in range(10)] \n",
    ">>> [x for x in numbers if x >= 0.5] "
   ]
  },
  {
   "cell_type": "code",
   "execution_count": null,
   "id": "9d3453b5-8fbb-4182-ba05-7cd4af888600",
   "metadata": {},
   "outputs": [],
   "source": [
    "# a list comprehension within a list comprehension\n",
    ">>> import random\n",
    ">>> [x for x in [random.random() for _ in range(10)] if x >= 0.5]"
   ]
  },
  {
   "cell_type": "code",
   "execution_count": null,
   "id": "cbab2ac7-4d30-4611-8f34-d2c33cbbbc8b",
   "metadata": {},
   "outputs": [],
   "source": [
    "# the double list comprehension\n",
    ">>> import random\n",
    ">>> [x for _ in range(10) for x in [random.random()] if x >= 0.5]"
   ]
  },
  {
   "cell_type": "code",
   "execution_count": null,
   "id": "1dbcdf3b-f7f3-48d2-aebe-9ee69138a357",
   "metadata": {},
   "outputs": [],
   "source": [
    "# nesting comprehensions\n",
    ">>> [(x, y) for x in range(3) for y in range(3, 5)]"
   ]
  },
  {
   "cell_type": "code",
   "execution_count": null,
   "id": "a1ed41c5-a89b-4ed5-8e81-adf787c9afc1",
   "metadata": {},
   "outputs": [],
   "source": [
    ">>> results = []\n",
    ">>> for x in range(3):\n",
    "...     for y in range(3, 5):\n",
    "...         results.append((x, y))\n",
    "...\n",
    ">>> results"
   ]
  },
  {
   "cell_type": "markdown",
   "id": "d4dcb2f6-9028-4454-9fae-122d9c9c1c4c",
   "metadata": {},
   "source": [
    "### lambda functions"
   ]
  },
  {
   "cell_type": "markdown",
   "id": "7ce8eeea-0d71-4ec0-a5ff-eba060e958c5",
   "metadata": {},
   "source": [
    "- 람다 함수는 파이썬에서 사용되는 익명의 함수\n",
    "- Syntax: lambda 매개변수1, 매개변수2, ... : 수식\n",
    "            lambda <인수> : <조건이 True일 때 반환값> if <조건> else <조건이 False일 때 반환값>\n",
    "- 람다 함수는 수식을 실행하고, 그 결과를 함수 값으로 반환(without 'return')"
   ]
  },
  {
   "cell_type": "code",
   "execution_count": null,
   "id": "d9b2739f-7d22-409d-a829-a3c2e80ec5c6",
   "metadata": {},
   "outputs": [],
   "source": [
    ">>> import operator\n",
    ">>> values = dict(one=1, two=2, three=3)"
   ]
  },
  {
   "cell_type": "code",
   "execution_count": null,
   "id": "82795114-7052-4357-8cf3-152c5b2cf1ad",
   "metadata": {},
   "outputs": [],
   "source": [
    ">>> sorted(values.items())"
   ]
  },
  {
   "cell_type": "code",
   "execution_count": null,
   "id": "0afae163-21d6-4f4c-a212-896d1aa4dc4a",
   "metadata": {},
   "outputs": [],
   "source": [
    ">>> sorted(values.items(), key=lambda item: item[1])"
   ]
  },
  {
   "cell_type": "code",
   "execution_count": null,
   "id": "ffa3bdce-cfa6-48d4-bae4-c088941d6a4d",
   "metadata": {},
   "outputs": [],
   "source": [
    "key = lambda item: item[1]\n",
    "def key(item):\n",
    "    return item[1]"
   ]
  },
  {
   "cell_type": "code",
   "execution_count": 21,
   "id": "9cc5c386-8b0e-4c1c-8c0d-62ecc9bdc228",
   "metadata": {},
   "outputs": [
    {
     "data": {
      "text/plain": [
       "False"
      ]
     },
     "execution_count": 21,
     "metadata": {},
     "output_type": "execute_result"
    }
   ],
   "source": [
    "(lambda n : True if n>17 else False)(15)"
   ]
  },
  {
   "cell_type": "markdown",
   "id": "71d08691-6747-4eae-9c1d-36fd78c12f87",
   "metadata": {},
   "source": [
    "The Y combinator"
   ]
  },
  {
   "cell_type": "markdown",
   "id": "bb12f026-734c-4c89-abc6-1a78b0f23c46",
   "metadata": {},
   "source": [
    "fixed point : x = f(x) 일 때, 즉 함수에 입력되는 값과 함수가 출력하는 값이 같을때, x를 f의 fixed point 라고 부른다.\n",
    "Y Combinator : 재귀가 허용되지 않는 프로그래밍 언어에서 함수를 재귀적으로 반복시키는 방법으로 Y f = f (Y f)로 정의\n",
    "Y는 임의의 함수 f를 그 자신(f)에 대한 fixed point로 만들어주는 역할을 한다.\n",
    "Y f = f (Y f) = f (f (Y f)) = f (f (... f (Y f)))"
   ]
  },
  {
   "cell_type": "code",
   "execution_count": null,
   "id": "9de07194-9f67-49d1-a183-fb4f8431a840",
   "metadata": {},
   "outputs": [],
   "source": [
    "Y = lambda f: lambda *args: f(Y(f))(*args)\n",
    "\n",
    "def Y(f):\n",
    "    def y(*args):\n",
    "        y_function = f(Y(f))\n",
    "        return y_function(*args)\n",
    "    return y"
   ]
  },
  {
   "cell_type": "code",
   "execution_count": null,
   "id": "1bf677b6-4863-40e5-8bf5-19a122c00afe",
   "metadata": {},
   "outputs": [],
   "source": [
    ">>> Y = lambda f: lambda *args: f(Y(f))(*args)\n",
    "\n",
    ">>> def factorial(combinator):\n",
    "...     def _factorial(n):\n",
    "...         if n:\n",
    "...             return n * combinator(n - 1)\n",
    "...         else:\n",
    "...             return 1\n",
    "...     return _factorial"
   ]
  },
  {
   "cell_type": "code",
   "execution_count": null,
   "id": "ae292649-e6b7-458e-9798-49127450e7fe",
   "metadata": {},
   "outputs": [],
   "source": [
    ">>> Y(factorial)(5)"
   ]
  },
  {
   "cell_type": "markdown",
   "id": "0fab8b11-bcb9-4fac-96cb-816c709782ed",
   "metadata": {},
   "source": [
    "### map( )"
   ]
  },
  {
   "cell_type": "markdown",
   "id": "50f2d1b5-8255-431e-9e61-12acc76c72fa",
   "metadata": {},
   "source": [
    "- syntax : map(function, iterable or (list))\n",
    "- iterable한 객체 안에 들어있는 원소들에 함수를 적용시켜 새로운 iterable 객체 반환"
   ]
  },
  {
   "cell_type": "code",
   "execution_count": 17,
   "id": "760f747b-6c80-4267-8e95-14b29636f760",
   "metadata": {},
   "outputs": [
    {
     "name": "stdout",
     "output_type": "stream",
     "text": [
      "[1, 4, 9, 16, 25]\n"
     ]
    }
   ],
   "source": [
    "sqr_lst = [1,2,3,4,5]\n",
    "sqr_lst= list(map(lambda item: item*item, sqr_lst))\n",
    "print(sqr_lst)"
   ]
  },
  {
   "cell_type": "markdown",
   "id": "ce324c21-8edb-47ec-9470-e58dd72a3c41",
   "metadata": {},
   "source": [
    "### filter()"
   ]
  },
  {
   "cell_type": "markdown",
   "id": "eb685144-208b-4954-9755-eb0a1a5ae6fa",
   "metadata": {},
   "source": [
    "- Syntax: filter( function, iterable_object(list,set etc))\n",
    "- iterable 객체 안에 들어있는 원소들에 함수를 적용시켜서 결과가 참인 값들로 새로운 iterable 객체 반환"
   ]
  },
  {
   "cell_type": "code",
   "execution_count": 14,
   "id": "eae09885-41b1-43d4-9a33-85a720b03a68",
   "metadata": {},
   "outputs": [],
   "source": [
    "b = [2,5,4,22,13,122,34,25,21]\n",
    "lst = list(filter(lambda x: x%2==0, b))"
   ]
  },
  {
   "cell_type": "code",
   "execution_count": 16,
   "id": "c63dac49-9d0e-4826-bde1-ff25603ceb19",
   "metadata": {},
   "outputs": [
    {
     "data": {
      "text/plain": [
       "[2, 4, 22, 122, 34]"
      ]
     },
     "execution_count": 16,
     "metadata": {},
     "output_type": "execute_result"
    }
   ],
   "source": [
    "lst"
   ]
  },
  {
   "cell_type": "markdown",
   "id": "70cd78e2-37b6-4883-b2d3-fc19990a515b",
   "metadata": {},
   "source": [
    "### zip()\n",
    "##### - 두 개의 list 값을 병렬적으로 추출"
   ]
  },
  {
   "cell_type": "code",
   "execution_count": 31,
   "id": "001f83e2-5caf-4af8-8d22-1d8cddcf9e56",
   "metadata": {},
   "outputs": [
    {
     "name": "stdout",
     "output_type": "stream",
     "text": [
      "a d\n",
      "b e\n",
      "c f\n"
     ]
    }
   ],
   "source": [
    "a = ['a', 'b', 'c']\n",
    "b = ['d', 'e', 'f']\n",
    "\n",
    "for i, j in zip(a,b):\n",
    "    print(i, j)"
   ]
  },
  {
   "cell_type": "code",
   "execution_count": 32,
   "id": "84ff868e-a79b-4eff-8953-7c307fab0d7e",
   "metadata": {},
   "outputs": [],
   "source": [
    "a,b,c = zip((1,2,3), (10,20,30), (100,200,300))"
   ]
  },
  {
   "cell_type": "code",
   "execution_count": 33,
   "id": "bf0e86bd-d1a0-4496-8895-879bc34e6a71",
   "metadata": {},
   "outputs": [
    {
     "name": "stdout",
     "output_type": "stream",
     "text": [
      "(1, 10, 100) (2, 20, 200) (3, 30, 300)\n"
     ]
    }
   ],
   "source": [
    "print(a,b,c)"
   ]
  },
  {
   "cell_type": "code",
   "execution_count": 34,
   "id": "3967677e-73a8-4bcb-889f-cef65d5aed0c",
   "metadata": {},
   "outputs": [
    {
     "name": "stdout",
     "output_type": "stream",
     "text": [
      "[111, 222, 333]\n"
     ]
    }
   ],
   "source": [
    "print([sum(x) for x in zip((1,2,3), (10,20,30), (100,200,300))])"
   ]
  },
  {
   "cell_type": "markdown",
   "id": "30d6f4d7-fc8f-46a5-ae54-65373028ef36",
   "metadata": {},
   "source": [
    "### enumerate()\n",
    "##### - List의 element를 추출할 때 번호를 붙여서 추출"
   ]
  },
  {
   "cell_type": "code",
   "execution_count": 35,
   "id": "55e83198-5c57-4b9e-bb45-d29507781d70",
   "metadata": {},
   "outputs": [
    {
     "name": "stdout",
     "output_type": "stream",
     "text": [
      "0 python\n",
      "1 is\n",
      "2 so fun\n"
     ]
    }
   ],
   "source": [
    "for i, v in enumerate(['python', 'is', 'so fun']):\n",
    "    print(i, v)"
   ]
  },
  {
   "cell_type": "code",
   "execution_count": 36,
   "id": "0b5dc0c5-1237-4e2b-a071-f10c00c4033d",
   "metadata": {},
   "outputs": [
    {
     "name": "stdout",
     "output_type": "stream",
     "text": [
      "[(0, 'python'), (1, 'is'), (2, 'so'), (3, 'fun')]\n"
     ]
    }
   ],
   "source": [
    "mylist = ['python', 'is', 'so', 'fun']\n",
    "print(list(enumerate(mylist)))"
   ]
  },
  {
   "cell_type": "code",
   "execution_count": 37,
   "id": "328db455-8e60-44b5-b31e-f6e22d7a7e83",
   "metadata": {},
   "outputs": [
    {
     "name": "stdout",
     "output_type": "stream",
     "text": [
      "0 a d\n",
      "1 b e\n",
      "2 c f\n"
     ]
    }
   ],
   "source": [
    "# Enumerate & Zip\n",
    "\n",
    "a = ['a', 'b', 'c']\n",
    "b = ['d', 'e', 'f']\n",
    "\n",
    "for i, (j, v) in enumerate(zip(a,b)):\n",
    "    print(i, j, v) # index a[index] b[index] 표시"
   ]
  },
  {
   "cell_type": "markdown",
   "id": "69884565-9448-42ac-9275-6e6e14306a96",
   "metadata": {},
   "source": [
    "### sorted()\n",
    "##### - Syntax: sorted(iterable, \n",
    "##### - iterable 한 객체에 대하여 원본을 건들지 않고 새로 정렬된 객체를 '리스트'로 반환"
   ]
  },
  {
   "cell_type": "code",
   "execution_count": 24,
   "id": "d2bead46-f4d2-4f06-859c-cc6f46e34443",
   "metadata": {},
   "outputs": [
    {
     "data": {
      "text/plain": [
       "[1, 2, 3, 4, 5]"
      ]
     },
     "execution_count": 24,
     "metadata": {},
     "output_type": "execute_result"
    }
   ],
   "source": [
    ">>> sorted([3, 5, 2, 1, 4])"
   ]
  },
  {
   "cell_type": "code",
   "execution_count": 25,
   "id": "16f3bfe8-aac8-489f-aa7f-91604511b808",
   "metadata": {},
   "outputs": [
    {
     "data": {
      "text/plain": [
       "['A', 'B', 'C', 'D', 'E']"
      ]
     },
     "execution_count": 25,
     "metadata": {},
     "output_type": "execute_result"
    }
   ],
   "source": [
    ">>> sorted([\"D\", \"A\", \"C\", \"B\", \"E\"])"
   ]
  },
  {
   "cell_type": "code",
   "execution_count": 26,
   "id": "8e60ab4a-29fc-4607-a8bb-004aeca5f804",
   "metadata": {},
   "outputs": [
    {
     "data": {
      "text/plain": [
       "'12345'"
      ]
     },
     "execution_count": 26,
     "metadata": {},
     "output_type": "execute_result"
    }
   ],
   "source": [
    ">>> ''.join(sorted(\"35214\"))"
   ]
  },
  {
   "cell_type": "code",
   "execution_count": 27,
   "id": "e171ddd9-0356-474b-afbf-a6a0b25f14fa",
   "metadata": {},
   "outputs": [
    {
     "ename": "TypeError",
     "evalue": "'<' not supported between instances of 'NoneType' and 'int'",
     "output_type": "error",
     "traceback": [
      "\u001b[1;31m---------------------------------------------------------------------------\u001b[0m",
      "\u001b[1;31mTypeError\u001b[0m                                 Traceback (most recent call last)",
      "\u001b[1;32m~\\AppData\\Local\\Temp/ipykernel_912/2826125662.py\u001b[0m in \u001b[0;36m<module>\u001b[1;34m\u001b[0m\n\u001b[0;32m      1\u001b[0m \u001b[0mnums\u001b[0m \u001b[1;33m=\u001b[0m \u001b[1;33m[\u001b[0m\u001b[1;36m3\u001b[0m\u001b[1;33m,\u001b[0m \u001b[1;36m5\u001b[0m\u001b[1;33m,\u001b[0m \u001b[1;36m2\u001b[0m\u001b[1;33m,\u001b[0m \u001b[1;32mNone\u001b[0m\u001b[1;33m,\u001b[0m \u001b[1;36m1\u001b[0m\u001b[1;33m,\u001b[0m \u001b[1;36m4\u001b[0m\u001b[1;33m]\u001b[0m\u001b[1;33m\u001b[0m\u001b[1;33m\u001b[0m\u001b[0m\n\u001b[1;32m----> 2\u001b[1;33m \u001b[0msorted\u001b[0m\u001b[1;33m(\u001b[0m\u001b[0mnums\u001b[0m\u001b[1;33m)\u001b[0m\u001b[1;33m\u001b[0m\u001b[1;33m\u001b[0m\u001b[0m\n\u001b[0m",
      "\u001b[1;31mTypeError\u001b[0m: '<' not supported between instances of 'NoneType' and 'int'"
     ]
    }
   ],
   "source": [
    ">>> nums = [3, 5, 2, None, 1, 4]\n",
    ">>> sorted(nums)"
   ]
  },
  {
   "cell_type": "code",
   "execution_count": 28,
   "id": "057731d8-e088-4f3d-91fd-d77f8c9aa178",
   "metadata": {},
   "outputs": [
    {
     "data": {
      "text/plain": [
       "[1, 2, 3, 4, 5]"
      ]
     },
     "execution_count": 28,
     "metadata": {},
     "output_type": "execute_result"
    }
   ],
   "source": [
    ">>> sorted([num for num in nums if num])"
   ]
  },
  {
   "cell_type": "code",
   "execution_count": null,
   "id": "195b2122-015e-4e75-86e9-8685705cc16e",
   "metadata": {},
   "outputs": [],
   "source": [
    ">>> countries = [\n",
    "  {'code': 'KR', 'name': 'Korea'},\n",
    "  {'code': 'CA', 'name': 'Canada'},\n",
    "  {'code': 'US', 'name': 'United States'},\n",
    "  {'code': 'GB', 'name': 'United Kingdom'},\n",
    "  {'code': 'CN', 'name': 'China'}\n",
    "]"
   ]
  },
  {
   "cell_type": "code",
   "execution_count": 29,
   "id": "f82fd02d-8554-4e22-8277-8afeaa6beca8",
   "metadata": {},
   "outputs": [
    {
     "ename": "TypeError",
     "evalue": "'<' not supported between instances of 'dict' and 'dict'",
     "output_type": "error",
     "traceback": [
      "\u001b[1;31m---------------------------------------------------------------------------\u001b[0m",
      "\u001b[1;31mTypeError\u001b[0m                                 Traceback (most recent call last)",
      "\u001b[1;32m~\\AppData\\Local\\Temp/ipykernel_912/985323343.py\u001b[0m in \u001b[0;36m<module>\u001b[1;34m\u001b[0m\n\u001b[1;32m----> 1\u001b[1;33m \u001b[0msorted\u001b[0m\u001b[1;33m(\u001b[0m\u001b[0mcountries\u001b[0m\u001b[1;33m)\u001b[0m\u001b[1;33m\u001b[0m\u001b[1;33m\u001b[0m\u001b[0m\n\u001b[0m",
      "\u001b[1;31mTypeError\u001b[0m: '<' not supported between instances of 'dict' and 'dict'"
     ]
    }
   ],
   "source": [
    ">>> sorted(countries) # 숫자나 문자가 아닌 사전이나 클래스의 객체와 같이 \n",
    "                      # 복잡한 구조의 데이터를 정렬할 때는 특별한 기준이 필요"
   ]
  },
  {
   "cell_type": "code",
   "execution_count": 30,
   "id": "4b2c32ce-246e-474f-a4de-b9c862883990",
   "metadata": {},
   "outputs": [
    {
     "data": {
      "text/plain": [
       "[{'code': 'CA', 'name': 'Canada'},\n",
       " {'code': 'CN', 'name': 'China'},\n",
       " {'code': 'GB', 'name': 'United Kingdom'},\n",
       " {'code': 'KR', 'name': 'Korea'},\n",
       " {'code': 'US', 'name': 'United States'}]"
      ]
     },
     "execution_count": 30,
     "metadata": {},
     "output_type": "execute_result"
    }
   ],
   "source": [
    ">>> sorted(countries, key=lambda country: country[\"code\"])"
   ]
  },
  {
   "cell_type": "markdown",
   "id": "b0efd08d-6d3e-478a-94e8-dd7c28755c41",
   "metadata": {},
   "source": [
    "## packing과 Unpacking"
   ]
  },
  {
   "cell_type": "code",
   "execution_count": null,
   "id": "29ac829d-55f0-4c61-8a77-dd1ee98f16c9",
   "metadata": {},
   "outputs": [],
   "source": []
  },
  {
   "cell_type": "raw",
   "id": "ae844b4a-ae2c-455e-876c-a08a49b170df",
   "metadata": {},
   "source": [
    " print(1,2,3,4,5 ... )처럼 print는 인자의 개수에 제한을 받지 않는다. why?"
   ]
  },
  {
   "cell_type": "raw",
   "id": "211fb71d-9d3a-4a4e-9e33-5ce95c932ea0",
   "metadata": {},
   "source": [
    "Packing - 함수를 정의할 때 파라메터를 하나의 튜플과 하나의 딕셔너리로 묶어서 전달해주는 것\n",
    "함수가 사용될 때 사용자가 입력하는 모든 positional argument 값들은 args라는 이름의 튜플로, 모든 keyword argument 값들은 kwargs라는 이름의 딕셔너리로 pack하겠다는 의미"
   ]
  },
  {
   "cell_type": "code",
   "execution_count": null,
   "id": "6c4f3ec3-48e3-4d5b-bfb1-3a68dcb75482",
   "metadata": {},
   "outputs": [],
   "source": [
    "def myprint(*args, **kwargs):\n",
    "    ans = ''\n",
    "    for i in args:\n",
    "        ans += str(i)\n",
    "    for key, value in kwargs.items():\n",
    "        ans += str(value)\n",
    "    return ans"
   ]
  },
  {
   "cell_type": "code",
   "execution_count": null,
   "id": "7a847edb-5a57-4969-8393-68f979c55596",
   "metadata": {},
   "outputs": [],
   "source": [
    "myprint(1, 2, 3, 4, k='?', l='ok')"
   ]
  },
  {
   "cell_type": "code",
   "execution_count": null,
   "id": "a0696056-36d0-4cb5-8d47-61b9c11c1c77",
   "metadata": {},
   "outputs": [],
   "source": [
    "Unpacking - 반대로 함수를 실행할 때 사용"
   ]
  },
  {
   "cell_type": "code",
   "execution_count": null,
   "id": "3c278415-da65-4414-beff-bf096186b405",
   "metadata": {},
   "outputs": [],
   "source": [
    "def myprint(*args):\n",
    "    for v in args:\n",
    "        print(v)\n",
    "\n",
    "list = ['철수', '영희', '불금', '함께 보냈다.']\n",
    "myprint(*list) ## unpacking"
   ]
  },
  {
   "cell_type": "code",
   "execution_count": null,
   "id": "f2109bcf-f231-45f8-9e91-b0e4d799db44",
   "metadata": {},
   "outputs": [],
   "source": [
    "myprint(list) "
   ]
  },
  {
   "cell_type": "markdown",
   "id": "36c3046a-8059-4c18-ba23-a18948462f10",
   "metadata": {},
   "source": [
    "## functools\n",
    "- The functools library is a collection of functions that return callable objects."
   ]
  },
  {
   "cell_type": "markdown",
   "id": "dea7b6e8-e13e-4c6e-9e4c-5fae43eb2947",
   "metadata": {},
   "source": [
    "#### partial()\n",
    "- 특정 함수와 그 특정 함수의 인수를 입력으로 받고, 받은 인수가 미리 채워진 새로운 특정 함수를 반환하는 함수"
   ]
  },
  {
   "cell_type": "code",
   "execution_count": null,
   "id": "0bfdf884-5765-4881-93b9-fa0c786a2486",
   "metadata": {},
   "outputs": [],
   "source": [
    "# 파이썬 heapq 모듈은 heapq (priority queue) 알고리즘을 제공\n",
    ">>> import heapq\n",
    ">>> heap = []\n",
    ">>> heapq.heappush(heap, 1)\n",
    ">>> heapq.heappush(heap, 3)\n",
    ">>> heapq.heappush(heap, 5)\n",
    ">>> heapq.heappush(heap, 2)\n",
    ">>> heapq.heappush(heap, 4)"
   ]
  },
  {
   "cell_type": "code",
   "execution_count": null,
   "id": "c1c5648b-ea22-4c57-b77f-807e9e703009",
   "metadata": {},
   "outputs": [],
   "source": [
    ">>> heap"
   ]
  },
  {
   "attachments": {
    "161df75d-dd5b-43ee-ad09-494470b63c67.png": {
     "image/png": "[encoded data removed]"
    },
    "c05ebcdd-7d55-4c57-a1a6-463d8aa013ba.png": {
     "image/png": "[encoded data removed]"
    }
   },
   "cell_type": "raw",
   "id": "1cfd80cd-ec62-48bb-8bc5-6e30815ac98c",
   "metadata": {},
   "source": [
    "최소 힙(min heap) - 부모 노드의 키 값이 자식 노드의 키 값보다 작거나 같은 완전 이진 트리"
   ]
  },
  {
   "cell_type": "code",
   "execution_count": null,
   "id": "057ac4f1-e055-4924-baa2-80abbdb98b5a",
   "metadata": {},
   "outputs": [],
   "source": [
    "nums = [4, 1, 7, 3, 8, 5]\n",
    "\n",
    "heap = nums[:]\n",
    "heapq.heapify(heap)\n",
    "\n",
    "print(nums)\n",
    "print(heap)"
   ]
  },
  {
   "cell_type": "code",
   "execution_count": null,
   "id": "f1f036bf-24ca-4deb-985b-ac2265a4a42b",
   "metadata": {},
   "outputs": [],
   "source": [
    ">>> from functools import partial\n",
    ">>> import heapq\n",
    "\n",
    ">>> heap = []\n",
    ">>> push = partial(heapq.heappush, heap)\n",
    ">>> smallest = partial(heapq.nsmallest, iterable=heap)\n",
    "\n",
    ">>> push(1)\n",
    ">>> push(3)\n",
    ">>> push(5)\n",
    ">>> push(2)\n",
    ">>> push(4)\n",
    ">>> smallest(3)"
   ]
  },
  {
   "cell_type": "markdown",
   "id": "e78af7a9-c814-4592-af27-76072bd028c5",
   "metadata": {},
   "source": [
    "### reduce()\n",
    "- Combining pairs into a single result-\n",
    "- It applies a pair of the previous result and the next item in the given list to the function that is passed."
   ]
  },
  {
   "cell_type": "markdown",
   "id": "d23cf1b4-996b-4347-82cb-3ccabdbb365a",
   "metadata": {},
   "source": [
    "##### Implementing a factorial function"
   ]
  },
  {
   "cell_type": "code",
   "execution_count": 1,
   "id": "4f549a74-38b9-4ff4-b839-6aa6fb06a642",
   "metadata": {},
   "outputs": [
    {
     "data": {
      "text/plain": [
       "24"
      ]
     },
     "execution_count": 1,
     "metadata": {},
     "output_type": "execute_result"
    }
   ],
   "source": [
    ">>> import operator\n",
    ">>> import functools\n",
    ">>> functools.reduce(operator.mul, range(1, 5))"
   ]
  },
  {
   "cell_type": "code",
   "execution_count": 2,
   "id": "d0fac71d-3065-4672-a097-b301435ac050",
   "metadata": {},
   "outputs": [
    {
     "data": {
      "text/plain": [
       "24"
      ]
     },
     "execution_count": 2,
     "metadata": {},
     "output_type": "execute_result"
    }
   ],
   "source": [
    "# Internally, the reduce function will do the following:\n",
    ">>> from operator import mul\n",
    ">>> mul(mul(mul(1, 2), 3), 4)"
   ]
  },
  {
   "cell_type": "markdown",
   "id": "0358fe44-2fae-46a1-b660-7fd5942638a7",
   "metadata": {},
   "source": [
    "update_wrapper()\n",
    "- wrapper 함수를 wrapped 함수처럼 보이도록 갱신\n",
    "- 첫 번째 인자로 wrapper 함수, 두 번째 인자로 원래의 함수를 받는다."
   ]
  },
  {
   "cell_type": "code",
   "execution_count": 1,
   "id": "68736b01-fb38-48b9-b335-6a8d790484b8",
   "metadata": {},
   "outputs": [],
   "source": [
    "from functools import update_wrapper\n",
    "\n",
    "def wrapper(*args, **kwargs): \n",
    "    pass\n",
    "\n",
    "def add(a, b):\n",
    "    \"\"\" ADD a + b \"\"\"\n",
    "    return a + b"
   ]
  },
  {
   "cell_type": "code",
   "execution_count": 2,
   "id": "cd5e8796-e5a9-472b-8dc7-939eb306e69c",
   "metadata": {},
   "outputs": [
    {
     "name": "stdout",
     "output_type": "stream",
     "text": [
      "None\n",
      "wrapper\n"
     ]
    }
   ],
   "source": [
    "print(wrapper.__doc__) # None\n",
    "print(wrapper.__name__) # wrapper"
   ]
  },
  {
   "cell_type": "code",
   "execution_count": 3,
   "id": "e4ec1624-4365-482c-a46a-833cb7be6e22",
   "metadata": {},
   "outputs": [
    {
     "name": "stdout",
     "output_type": "stream",
     "text": [
      " ADD a + b \n",
      "add\n"
     ]
    }
   ],
   "source": [
    "update_wrapper(wrapper, add)\n",
    "\n",
    "print(wrapper.__doc__) # None → ADD a + b\n",
    "print(wrapper.__name__) # wrapper → add"
   ]
  },
  {
   "cell_type": "raw",
   "id": "56c5144e-95a8-43ba-ad9a-0d0c2b34bf03",
   "metadata": {},
   "source": []
  },
  {
   "cell_type": "markdown",
   "id": "2e961b19-4541-4d26-a2bf-b51af568cc6e",
   "metadata": {},
   "source": [
    "wraps()\n",
    "- functools.wraps(func) == partial(update_wrapper, wrapped=func) # func 는 original_function\n",
    "- functools.update_wrapper() 함수에서, 데코레이팅 될 함수만 미리 wrapped 라는 keyword arguments 로 \n",
    "  binding 한 새로운 partial object 를 반환"
   ]
  },
  {
   "cell_type": "code",
   "execution_count": 4,
   "id": "2ba60f12-dde6-4a25-84d9-980756d4bc55",
   "metadata": {},
   "outputs": [],
   "source": [
    "import time\n",
    "def timer(func):\n",
    "    def wrapper(*args, **kwargs):\n",
    "        start = time.time()\n",
    "        ret = func(*args, **kwargs)\n",
    "        print('실행 완료! {0:.2f}초 걸림'.format(time.time() - start))\n",
    "        return ret\n",
    "    return wrapper"
   ]
  },
  {
   "cell_type": "code",
   "execution_count": 5,
   "id": "ee99a9ef-cd18-4b30-ac12-d960516dc180",
   "metadata": {},
   "outputs": [
    {
     "name": "stdout",
     "output_type": "stream",
     "text": [
      "실행 완료! 2.47초 걸림\n"
     ]
    }
   ],
   "source": [
    "@timer\n",
    "def total(iterable):\n",
    "    \"\"\"배열의 합을 계산합니다\"\"\"\n",
    "    return sum(iterable)\n",
    "\n",
    "if __name__ == '__main__':\n",
    "    numbers = range(0, int(1e8)) # 1e8 은 1 * 10^8 == 1억 이라는 의미입니다\n",
    "    total(numbers) # 실행 완료! 1.79초 걸림"
   ]
  },
  {
   "cell_type": "raw",
   "id": "b164b3f9-6a21-4f03-92e0-40f8de63b7cf",
   "metadata": {},
   "source": [
    "__name__: 모듈의 이름을 담고 있는 파이썬 내장 변수입니다.\n",
    "          python.py 라는 파일이 있다면 __name__는 .py 확장자를 제외한 python.\n",
    "__main__: 최상위 코드가 실행되는 환경의 이름. \"최상위 코드\"는 프로그램 실행 시 첫 번째로 실행되는 Python 모듈.\n",
    "          프로그램 구동에 필요한 다른 모듈들을 가져오기(import) 때문에 \"최상위\"라고 표현.\n",
    "          \"최상위 코드\"를 애플리케이션의 진입점(entry point)이라고 표현\n",
    "        \n",
    "- __name__을 확인하여 최상위 환경에서 실행 중인지의 여부를 확인할 수 있으며 모듈이 최상위 코드 환경에서 실행되면 \n",
    "  해당 __name__은 '__main__' 문자열로 설정. \n",
    "- Python 모듈 또는 패키지를 imort하면 __name__은 모듈 이름으로 설정됨. 일반적으로 .py 확장자가 없는 파일 이름."
   ]
  },
  {
   "cell_type": "code",
   "execution_count": 6,
   "id": "043851ec-d79e-4a8e-982d-2476b34f1d0b",
   "metadata": {},
   "outputs": [
    {
     "name": "stdout",
     "output_type": "stream",
     "text": [
      "None\n"
     ]
    }
   ],
   "source": [
    "print(total.__doc__)  # total() 함수 안에 작성한 docstring 이 사라짐"
   ]
  },
  {
   "cell_type": "code",
   "execution_count": 7,
   "id": "49434139-4f32-46ea-90d3-8d1295941242",
   "metadata": {},
   "outputs": [
    {
     "name": "stdout",
     "output_type": "stream",
     "text": [
      "wrapper\n"
     ]
    }
   ],
   "source": [
    "print(total.__name__) # 함수 이름도 변형"
   ]
  },
  {
   "cell_type": "code",
   "execution_count": 8,
   "id": "c73322c2-e4f3-4334-a5b8-a8a4b6284903",
   "metadata": {},
   "outputs": [],
   "source": [
    "# total 함수는 수정하지 않고, functools.wraps 만 적용합니다\n",
    "import functools\n",
    "\n",
    "def timer(func):\n",
    "    @functools.wraps(func) # 이 한 줄을 추가\n",
    "    def wrapper(*args, **kwargs):\n",
    "        start = time.time()\n",
    "        ret = func(*args, **kwargs)\n",
    "        print('실행 완료! {0:.2f}초 걸림'.format(time.time() - start))\n",
    "        return ret\n",
    "    return wrapper"
   ]
  },
  {
   "cell_type": "code",
   "execution_count": 10,
   "id": "90d5b09c-9901-474d-9dba-3b37c9203d21",
   "metadata": {},
   "outputs": [
    {
     "name": "stdout",
     "output_type": "stream",
     "text": [
      "실행 완료! 2.44초 걸림\n"
     ]
    }
   ],
   "source": [
    "@timer\n",
    "def total(iterable):\n",
    "    \"\"\"배열의 합을 계산합니다\"\"\"\n",
    "    return sum(iterable)\n",
    "\n",
    "if __name__ == '__main__':\n",
    "    numbers = range(0, int(1e8)) # 1e8 은 1 * 10^8 == 1억 이라는 의미입니다\n",
    "    total(numbers) # 실행 완료! 1.79초 걸림"
   ]
  },
  {
   "cell_type": "code",
   "execution_count": 11,
   "id": "0705135d-5706-41aa-97cc-143b3f2f73ab",
   "metadata": {},
   "outputs": [
    {
     "data": {
      "text/plain": [
       "'배열의 합을 계산합니다'"
      ]
     },
     "execution_count": 11,
     "metadata": {},
     "output_type": "execute_result"
    }
   ],
   "source": [
    "total.__doc__"
   ]
  },
  {
   "cell_type": "code",
   "execution_count": 12,
   "id": "239d382c-2ea7-45d3-8ef9-811e0027ba5b",
   "metadata": {},
   "outputs": [
    {
     "data": {
      "text/plain": [
       "'total'"
      ]
     },
     "execution_count": 12,
     "metadata": {},
     "output_type": "execute_result"
    }
   ],
   "source": [
    "total.__name__"
   ]
  },
  {
   "cell_type": "code",
   "execution_count": null,
   "id": "2882fac7-40d6-41bb-929a-c2454300e823",
   "metadata": {},
   "outputs": [],
   "source": []
  },
  {
   "cell_type": "raw",
   "id": "6081eed4-4043-4c98-b9a9-e7b6b6e4eb25",
   "metadata": {},
   "source": [
    "reduce()\n",
    "- 초기값을 기준으로 데이터를 루프 돌면서 집계 함수를 계속해서 적용하면서 데이터를 누적\n",
    "- reduce(집계 함수, 순회 가능한 데이터[, 초기값])\n",
    "- 집계 함수는 두개의 인자 필요. 첫번째 인자는 누적자(accumulator), 두번째 인자는 현재값(current value)\n",
    "- 누적자는 함수 실행의 시작부터 끝까지 계속해서 재사용되는 값이고, 현재값은 루프 돌면서 계속해서 바뀌는 값"
   ]
  },
  {
   "cell_type": "code",
   "execution_count": null,
   "id": "80cf65fe-6e7c-4594-a7b4-9d3f1bfa0a75",
   "metadata": {},
   "outputs": [],
   "source": [
    ">>> import operator\n",
    ">>> from functools import reduce\n",
    "\n",
    ">>> reduce(operator.mul, range(1, 5))"
   ]
  },
  {
   "cell_type": "code",
   "execution_count": null,
   "id": "75c5ee2b-74e1-4ba7-842b-72fafa535fb3",
   "metadata": {},
   "outputs": [],
   "source": [
    ">>> from operator import mul\n",
    "\n",
    ">>> mul(mul(mul(1, 2), 3), 4)"
   ]
  },
  {
   "cell_type": "code",
   "execution_count": null,
   "id": "20ff8a29-eaad-4eca-afef-a2ce4d0b0a2f",
   "metadata": {},
   "outputs": [],
   "source": [
    ">>> import operator\n",
    "\n",
    ">>> def reduce(function, iterable):\n",
    "...     print(f'iterable={iterable}')\n",
    "...     # Fetch the first item to prime `result`\n",
    "...     result, *iterable = iterable\n",
    "...\n",
    "...     for item in iterable:\n",
    "...         old_result = result\n",
    "...         result = function(result, item)\n",
    "...         print(f'{old_result} * {item} = {result}')\n",
    "...\n",
    "...     return result"
   ]
  },
  {
   "cell_type": "code",
   "execution_count": null,
   "id": "2d841364-5009-4897-8667-08456a20a69b",
   "metadata": {},
   "outputs": [],
   "source": [
    ">>> iterable = list(range(1, 5))"
   ]
  },
  {
   "cell_type": "code",
   "execution_count": null,
   "id": "c562ca68-e0e7-4c04-bdd3-9e373fffdb00",
   "metadata": {},
   "outputs": [],
   "source": [
    ">>> iterable"
   ]
  },
  {
   "cell_type": "code",
   "execution_count": null,
   "id": "1bd90ae5-c60d-4d74-8a11-f9caf4167a90",
   "metadata": {},
   "outputs": [],
   "source": [
    ">>> reduce(operator.mul, iterable)"
   ]
  },
  {
   "cell_type": "code",
   "execution_count": null,
   "id": "6e3ee4b8-b50d-454f-b7e3-24a28faf73aa",
   "metadata": {},
   "outputs": [],
   "source": [
    ">>> import json\n",
    ">>> import functools\n",
    ">>> import collections\n",
    "\n",
    ">>> def tree():\n",
    "...     return collections.defaultdict(tree)\n",
    "\n",
    "# Build the tree:\n",
    "\n",
    ">>> taxonomy = tree()"
   ]
  },
  {
   "cell_type": "code",
   "execution_count": null,
   "id": "1aca4a27-2f2a-42a5-94f6-14cc1418ec3f",
   "metadata": {},
   "outputs": [],
   "source": [
    ">>> reptilia = taxonomy['Chordata']['Vertebrata']['Reptilia']\n",
    ">>> reptilia['Squamata']['Serpentes']['Pythonidae'] = ['Liasis', 'Morelia', 'Python']"
   ]
  },
  {
   "cell_type": "code",
   "execution_count": null,
   "id": "4b8e3b59-22f6-4d34-9032-1e8b582dc374",
   "metadata": {},
   "outputs": [],
   "source": [
    "# The actual contents of the tree\n",
    ">>> print(json.dumps(taxonomy, indent=4))"
   ]
  },
  {
   "cell_type": "markdown",
   "id": "5afc337c-8568-4f2c-b4da-e6fd1059b264",
   "metadata": {},
   "source": [
    "Let's build the lookup function"
   ]
  },
  {
   "cell_type": "code",
   "execution_count": null,
   "id": "f4220af3-976f-4996-9d73-3a92c119b546",
   "metadata": {},
   "outputs": [],
   "source": [
    ">>> import operator\n",
    "\n",
    ">>> def lookup(tree, path):\n",
    "...     # Split the path for easier access\n",
    "...     path = path.split('.')\n",
    "...\n",
    "...     # Use `operator.getitem(a, b)` to get `a[b]`\n",
    "...     # And use reduce to recursively fetch the items\n",
    "...     return functools.reduce(operator.getitem, path, tree)"
   ]
  },
  {
   "cell_type": "code",
   "execution_count": null,
   "id": "17a23ed8-5de0-46c0-ab54-688aeae77406",
   "metadata": {},
   "outputs": [],
   "source": [
    ">>> path = 'Chordata.Vertebrata.Reptilia.Squamata.Serpentes'\n",
    ">>> dict(lookup(taxonomy, path))"
   ]
  },
  {
   "cell_type": "markdown",
   "id": "558b302c-710c-4612-a0e2-30864912c468",
   "metadata": {},
   "source": [
    "The path we wish to get"
   ]
  },
  {
   "cell_type": "code",
   "execution_count": null,
   "id": "1f1165af-4fc5-482f-a762-e10af0f7ad66",
   "metadata": {},
   "outputs": [],
   "source": [
    ">>> path = 'Chordata.Vertebrata.Reptilia.Squamata'\n",
    ">>> lookup(taxonomy, path).keys()"
   ]
  },
  {
   "cell_type": "markdown",
   "id": "0fcd2b73-2cde-4a1f-be4b-5a03e3f2475d",
   "metadata": {},
   "source": [
    "## Closure"
   ]
  },
  {
   "cell_type": "markdown",
   "id": "3468e1c8-dd09-4db3-b3f5-080e5e0ef6d1",
   "metadata": {},
   "source": [
    "함수의 중첩, 일급객체, nonlocal에 대한 이해"
   ]
  },
  {
   "cell_type": "raw",
   "id": "d49ffdfa-b828-489f-bbb4-4529a446984c",
   "metadata": {},
   "source": [
    "1. 함수 중첩(Function nesting)"
   ]
  },
  {
   "cell_type": "code",
   "execution_count": null,
   "id": "917e8a65-c41d-458c-a3f8-0e77543d093a",
   "metadata": {},
   "outputs": [],
   "source": [
    "# if 조건문의 중첩\n",
    "n = int(input(\"정수를 입력하세요\"))\n",
    "if n % 2 == 0:\n",
    "    if n % 3 == 0:\n",
    "        print(\"6의 배수\")\n",
    "    else:\n",
    "        print(\"짝수\")"
   ]
  },
  {
   "cell_type": "code",
   "execution_count": null,
   "id": "2cdfdca0-ea42-4936-b1b3-cb5a17a63e66",
   "metadata": {},
   "outputs": [],
   "source": [
    "# 함수의 중첩\n",
    "def greetings():\n",
    "    def say_hi():\n",
    "        print(\"Hi, everyone :)\")\n",
    "\n",
    "    say_hi()"
   ]
  },
  {
   "cell_type": "code",
   "execution_count": null,
   "id": "2996ffd2-f7a8-4d27-8ed2-3a09fdc7a7a6",
   "metadata": {},
   "outputs": [],
   "source": [
    "greetings()"
   ]
  },
  {
   "cell_type": "raw",
   "id": "4d68be61-3c03-43b0-b219-925123188658",
   "metadata": {},
   "source": [
    "2.  일급객체(First Class Object)\n",
    " (1) 변수에 할당(assignment)할 수 있다.\n",
    " (2) 다른 함수를 인자(argument)로 전달 받는다.\n",
    " (3) 다른 함수의 결과로서 리턴될 수 있다."
   ]
  },
  {
   "cell_type": "code",
   "execution_count": null,
   "id": "deba86f4-bcd1-492f-ad98-bd8daa3e81c4",
   "metadata": {},
   "outputs": [],
   "source": [
    "def add(a, b):\n",
    "    return a + b\n",
    "\n",
    "def execute(func, *args):\n",
    "    return func(*args) # 2.\n",
    "\n",
    "f = add # 3.\n",
    "execute(f, 3, 5)"
   ]
  },
  {
   "cell_type": "raw",
   "id": "0654c4b5-6106-46b5-9b24-62c61af4fa12",
   "metadata": {},
   "source": [
    "3. nonlocal"
   ]
  },
  {
   "cell_type": "code",
   "execution_count": null,
   "id": "7140665d-e25b-49a8-9436-ebc155df8631",
   "metadata": {},
   "outputs": [],
   "source": [
    "z = 3\n",
    "\n",
    "def outer(x):\n",
    "    y = 10\n",
    "    def inner():\n",
    "        x = 1000\n",
    "        return x\n",
    "\n",
    "    return inner()\n",
    "\n",
    "print(outer(10))"
   ]
  },
  {
   "cell_type": "raw",
   "id": "7d4fa047-bbc9-4101-9bf5-2aceb6ca1847",
   "metadata": {},
   "source": [
    "inner 함수 블록 안에 있는 영역은 local 스코프로 로컬 영역 안의 모든 개체들은 inner의\n",
    "제어 아래에 있다.\n",
    "outer 의 안에 있되, inner 의 밖에 있는 영역은 nonlocal 스코프. outer 의 y 변수는\n",
    "inner 입장에서는 nonlocal 스코프의 변수이다.\n",
    "outer 함수 밖의 영역은 global 스코. z 변수는 global 에 선언된 변수로\n",
    "outer 함수뿐 아니라 다른 코드나 함수에서도 참조가능"
   ]
  },
  {
   "cell_type": "code",
   "execution_count": null,
   "id": "04ec40b6-aeb2-419a-b433-08c2b02a66c9",
   "metadata": {},
   "outputs": [],
   "source": [
    "def count1(x):\n",
    "    def increment():\n",
    "        x += 1\n",
    "        print(x)\n",
    "\n",
    "    increment()"
   ]
  },
  {
   "cell_type": "code",
   "execution_count": null,
   "id": "a9e33fe5-a3d3-4685-9659-d5d74aba81b8",
   "metadata": {},
   "outputs": [],
   "source": [
    "count1(5)"
   ]
  },
  {
   "cell_type": "code",
   "execution_count": null,
   "id": "ada27f67-52e6-4582-ae96-3b0fc7cbb943",
   "metadata": {},
   "outputs": [],
   "source": [
    "def count2(x):\n",
    "    def increment():\n",
    "        nonlocal x  # x가 로컬이 아닌 nonlocal의 변수임을 확인한다.\n",
    "        x += 1\n",
    "        print(x)\n",
    "\n",
    "    increment()"
   ]
  },
  {
   "cell_type": "code",
   "execution_count": null,
   "id": "007b1ae7-8cff-48e8-b52e-5a0fcddd659d",
   "metadata": {},
   "outputs": [],
   "source": [
    "count2(5)"
   ]
  },
  {
   "cell_type": "code",
   "execution_count": null,
   "id": "d611cc41-e1de-479a-bb78-1b37993a4dd4",
   "metadata": {},
   "outputs": [],
   "source": [
    "파이썬에서 클로저는 ‘자신을 둘러싼 스코프(네임스페이스)의 상태값을 기억하는 함수’\n",
    "\n",
    "어떤 함수가 클로저이기 위해서는 다음의 세 가지 조건을 만족해야 한다.\n",
    " 1. 해당 함수는 어떤 함수 내의 중첩된 함수여야 한다.\n",
    " 2. 해당 함수는 자신을 둘러싼(enclose) 함수 내의 상태값을 반드시 참조해야 한다.\n",
    " 3. 해당 함수를 둘러싼 함수는 이 함수를 반환해야 한다."
   ]
  },
  {
   "cell_type": "code",
   "execution_count": null,
   "id": "10dfca9a-84d6-4f20-856f-f4d84cf97c4f",
   "metadata": {},
   "outputs": [],
   "source": [
    "def times_multiply(n):\n",
    "    def multiply(x):\n",
    "        return n * x\n",
    "    return multiply\n",
    "\n",
    "times_3 = times_multiply(3)\n",
    "times_4 = times_multiply(4)"
   ]
  },
  {
   "cell_type": "code",
   "execution_count": null,
   "id": "dd098de0-87e7-47d3-be22-c62a4438e1e1",
   "metadata": {},
   "outputs": [],
   "source": [
    "times_3(5)"
   ]
  },
  {
   "cell_type": "code",
   "execution_count": null,
   "id": "4a8e104e-2a6b-45b9-9097-933912a0a721",
   "metadata": {},
   "outputs": [],
   "source": [
    "times_4(5)"
   ]
  },
  {
   "cell_type": "code",
   "execution_count": null,
   "id": "e72f6dd5-f8cc-4033-ae69-fd90164b0f21",
   "metadata": {},
   "outputs": [],
   "source": [
    "del(times_multiply)\n",
    "times_3(5)"
   ]
  },
  {
   "cell_type": "markdown",
   "id": "ff10bf6e-b516-480f-8a53-64d477f42074",
   "metadata": {},
   "source": [
    " 클로저는 자신을 둘러싼 함수 스코프의 상태값을 참조하는데, 이 값은 함수가 메모리에서 사라져도 값이 유지가 된다."
   ]
  },
  {
   "cell_type": "markdown",
   "id": "21ffabc7-c1d4-41e5-886a-e689764836d5",
   "metadata": {},
   "source": [
    "## Iterable, Iterator, Generator"
   ]
  },
  {
   "cell_type": "code",
   "execution_count": null,
   "id": "fdbc2c4b-fccf-4d6e-88bc-94e52860d67b",
   "metadata": {},
   "outputs": [],
   "source": [
    "d = {1: 'a', 2: 'b', 3: 'c'}\n",
    "sum(d)"
   ]
  },
  {
   "cell_type": "code",
   "execution_count": null,
   "id": "c93f312c-97fb-41cc-b56f-ccf313c2469e",
   "metadata": {},
   "outputs": [],
   "source": [
    "l = [1, 2, 3]\n",
    "sum(l)"
   ]
  },
  {
   "cell_type": "code",
   "execution_count": null,
   "id": "aa6c2aed-04bc-4834-8e30-0bbfb81e4e97",
   "metadata": {},
   "outputs": [],
   "source": [
    "s = { 1, 2, 3}\n",
    "sum(s)"
   ]
  },
  {
   "cell_type": "code",
   "execution_count": null,
   "id": "a81a0c99-93fe-4c7e-87f7-2c9e3702afff",
   "metadata": {},
   "outputs": [],
   "source": [
    "t = 1, 2, 3\n",
    "sum(t)"
   ]
  },
  {
   "cell_type": "code",
   "execution_count": null,
   "id": "0c57e2c6-2819-4d62-8bf6-7e50266940ec",
   "metadata": {},
   "outputs": [],
   "source": [
    "help(sum)"
   ]
  },
  {
   "cell_type": "raw",
   "id": "1bf5b94a-b7c1-4c90-bf47-be3c8e16aeeb",
   "metadata": {},
   "source": [
    "Iteration(순회) - 배열 등의 자료구조를 반복문을 통해 원소 하나씩 인덱싱하는 것"
   ]
  },
  {
   "cell_type": "code",
   "execution_count": null,
   "id": "84e96e98-5c89-41fd-b865-bd8e9a853166",
   "metadata": {},
   "outputs": [],
   "source": [
    "#  ‘for loop를 통해 my_list 라는 리스트(또는 배열)의 원소를 순회(반복문)\n",
    "my_list = [1, 2, 3, 4, 5]\n",
    "\n",
    "for n in my_list:\n",
    "    print(n)"
   ]
  },
  {
   "cell_type": "raw",
   "id": "e35fcc7d-77ae-4823-a07f-38d362abb499",
   "metadata": {},
   "source": [
    "list, tuple, set, dict는 파이썬의 4개의 기본 내장 자료구조\n",
    "파이썬에서는 collections.abc라는 내장모듈에 4개의 핵심 자료구조를 포함한 \n",
    "다른 자료구조들의 뼈대가 되는 추상 자료구조(Abstract Base Class)가 클래스로 관리되고 있다."
   ]
  },
  {
   "cell_type": "code",
   "execution_count": null,
   "id": "32757657-1196-45e5-83a4-80b2c6ea344e",
   "metadata": {},
   "outputs": [],
   "source": [
    "from collections.abc import Container, Collection, Sequence\n",
    "\n",
    "print(Container)\n",
    "print(Collection)\n",
    "print(Sequence)"
   ]
  },
  {
   "cell_type": "code",
   "execution_count": null,
   "id": "8645fed0-be1b-47c8-9628-b15bfe43be6d",
   "metadata": {},
   "outputs": [],
   "source": [
    "# 각 추상 자료구조는 자신을 상속받는 클래스가 구현해야 할 메소드를 선언하고 있는데 \n",
    "# cls.__abstractmethods__ 라는 속성을 통해 살펴볼 수 있다.\n",
    "print(Container.__abstractmethods__)\n",
    "print(Collection.__abstractmethods__)\n",
    "print(Sequence.__abstractmethods__)"
   ]
  },
  {
   "cell_type": "code",
   "execution_count": null,
   "id": "7cf03c1a-ddb1-4e4a-8810-06a55860a417",
   "metadata": {},
   "outputs": [],
   "source": [
    "# len 함수는 list뿐 아니라, tuple, set, dict 모두에 적용할 수 있는데 이 자료구조들은 모두 Collection을 상속받는다.\n",
    "l = [ 1, 2, 3, 4]\n",
    "t = (3, 4)\n",
    "d = {'a': 1, 'b': 2}\n",
    "s = set()"
   ]
  },
  {
   "cell_type": "code",
   "execution_count": null,
   "id": "40f9f5f6-0321-4f7f-b4e1-1c5423cd65c3",
   "metadata": {},
   "outputs": [],
   "source": [
    "len(l), len(t), len(d), len(s) "
   ]
  },
  {
   "cell_type": "code",
   "execution_count": null,
   "id": "71ff79cd-872a-485c-92d1-94149e28b486",
   "metadata": {},
   "outputs": [],
   "source": [
    "issubclass(list, Collection), issubclass(tuple, Collection), issubclass(dict, Collection), issubclass(set, Collection)"
   ]
  },
  {
   "cell_type": "raw",
   "id": "afe1cad5-29a0-44d6-8962-eb778f9589f2",
   "metadata": {},
   "source": [
    " Iterable, Iterator, Generator는 collections.abc에 정의되어 있는 추상 클래스"
   ]
  },
  {
   "cell_type": "code",
   "execution_count": null,
   "id": "3fe46c6f-b44f-4f77-9410-ac227de31245",
   "metadata": {},
   "outputs": [],
   "source": [
    "from collections.abc import Iterable, Iterator, Generator\n",
    "abs = (Iterable, Iterator, Generator)\n",
    "basic = (list, tuple, set, dict)\n",
    "\n",
    "for b in basic:\n",
    "    for a in abs:\n",
    "        print(f'{b.__name__}는 {a.__name__}를 상속 받나요?', issubclass(b, a))"
   ]
  },
  {
   "cell_type": "markdown",
   "id": "3e5bd855-6eeb-449d-967e-7cec1e8f31fb",
   "metadata": {},
   "source": [
    "Iterator Protocol -  Iterable과 Iterator를 개념적으로, 또 실제적으로 구현하는 규칙"
   ]
  },
  {
   "cell_type": "markdown",
   "id": "3af71ebc-f225-477d-949c-ae05aef1fd64",
   "metadata": {},
   "source": [
    "Iterable - 순회(iteration)할 수 있는 모든 객체(파이썬에서 for 문의 in 키워드 뒤에 올 수 있는 모든 값은 Iterable)\n",
    "         - list, tuple, set, dict는 말할 것도 없고 문자열, 파일 등도 Iterable"
   ]
  },
  {
   "cell_type": "code",
   "execution_count": null,
   "id": "9904fcd2-8e69-4408-bba1-56e6e2fcc256",
   "metadata": {},
   "outputs": [],
   "source": [
    "import io\n",
    "from collections.abc import Iterable, Iterator, Generator\n",
    "\n",
    "issubclass(str, Iterable), issubclass(io.TextIOWrapper, Iterable)"
   ]
  },
  {
   "cell_type": "code",
   "execution_count": null,
   "id": "b0f84720-1ddc-494d-8cce-75451c37b697",
   "metadata": {},
   "outputs": [],
   "source": [
    "print(Iterable.__abstractmethods__)"
   ]
  },
  {
   "cell_type": "code",
   "execution_count": null,
   "id": "ddbe5e2c-2c52-4d1a-8389-4fa6eb08d53d",
   "metadata": {},
   "outputs": [],
   "source": [
    "클래스가 Iterable이기 위해서는:\n",
    "__iter__ 메소드는 호출될 때마다 새로운 Iterator를 반환하도록 구현해야 한다. "
   ]
  },
  {
   "cell_type": "code",
   "execution_count": null,
   "id": "79ec9062-dab6-463c-a66e-e38abab70dea",
   "metadata": {},
   "outputs": [],
   "source": [
    "l = [1, 2, 3]\n",
    "t = (3, 4)\n",
    "d = {'a': 1, 'b': 2}\n",
    "s = set()\n",
    "r = range(10)\n",
    "\n",
    "#  Iterable을 인자로 iter 내장 함수를 호출\n",
    "print(iter(l))\n",
    "print(iter(t))\n",
    "print(iter(d))\n",
    "print(iter(s))\n",
    "print(iter(r))"
   ]
  },
  {
   "cell_type": "code",
   "execution_count": null,
   "id": "e3cb7ce0-d704-4a07-817f-ea2f09fd0d6f",
   "metadata": {},
   "outputs": [],
   "source": [
    "Iterator - 상태를 유지하며 반환할 수 있는 마지막 값까지 원소를 필요할 때마다 하나씩 반환하는 것\n",
    "         - Iterable에 iter 함수를 쓸 때마다 새로운 이터레이터가 생성된다. 이때 각 Iterator는 서로 다른 상태를 유지한다.\n",
    "         - 한 Iterator의 동작이 다른 Iterator의 동작에 영향을 미치지 않는다."
   ]
  },
  {
   "cell_type": "code",
   "execution_count": null,
   "id": "5ffb4401-1973-4ca6-8f0c-1931531dca10",
   "metadata": {},
   "outputs": [],
   "source": [
    "l = [1, 2, 3, 4, 5]\n",
    "\n",
    "for n in l:\n",
    "    print(n)\n",
    "iter(l) != iter(l)"
   ]
  },
  {
   "cell_type": "code",
   "execution_count": null,
   "id": "12688d90-0dd1-430f-a4a0-018d09922a16",
   "metadata": {},
   "outputs": [],
   "source": [
    "print(Iterator.__abstractmethods__)"
   ]
  },
  {
   "cell_type": "markdown",
   "id": "0ec6333e-0641-416a-ba93-f10425e763e7",
   "metadata": {},
   "source": [
    "어떤 클래스가 Iterator이기 위해서는 다음 조건을 만족해야 한다:\n",
    "\n",
    " - 클래스는 __iter__ 를 구현하되 자기 자신(self)을 반환 한다.\n",
    " - 클래스는 __next__ 메소드를 구현해서 Iterator를 next 내장 함수의 인자로 줬을 때 다음에 반환할 값을 정의 한다.\n",
    " - Iterator가 더 이상 반환할 값이 없는 경우는 __next__ 메소드에서 StopIteration 예외를 일으킨다."
   ]
  },
  {
   "cell_type": "markdown",
   "id": "ba24cb77-5d72-4ea0-bcfd-805cb02499c9",
   "metadata": {},
   "source": [
    "itorator의 내장 함수 'next' 는 인자가 되는 Iterator의 다음 인자를 반환하고 위치를 다음으로 옮기는 기능을 한다."
   ]
  },
  {
   "cell_type": "code",
   "execution_count": null,
   "id": "f80ebb07-42e2-4aa0-ae63-547c0457de54",
   "metadata": {},
   "outputs": [],
   "source": [
    "iterator1 = iter([1, 2, 3, 4, 5])\n",
    "iterator2 = iter([1, 2, 3, 4, 5])\n",
    "print(next(iterator1), next(iterator2))\n",
    "print(next(iterator1))\n",
    "print(next(iterator1))\n",
    "print(next(iterator2))"
   ]
  },
  {
   "cell_type": "code",
   "execution_count": null,
   "id": "fe5d6f3d-cd23-414e-b3d2-8b95f0337084",
   "metadata": {},
   "outputs": [],
   "source": [
    "print(next(iterator1))\n",
    "print(next(iterator1))"
   ]
  },
  {
   "cell_type": "code",
   "execution_count": null,
   "id": "585d74fb-5e18-4de3-88f3-52300c1c2e48",
   "metadata": {},
   "outputs": [],
   "source": [
    "print(next(iterator1))"
   ]
  },
  {
   "cell_type": "markdown",
   "id": "0d37181e-3e39-43ca-a4f6-7ce908f98055",
   "metadata": {},
   "source": [
    "Iterable과 Iterator 상속관계 -  Iterator는 Iterable를 상속받는다."
   ]
  },
  {
   "cell_type": "code",
   "execution_count": null,
   "id": "ec1f4afd-aeea-4ea4-abbf-93a161da75d7",
   "metadata": {},
   "outputs": [],
   "source": [
    "l = [1, 2, 3, 4, 5]\n",
    "print(sum(iter(l)))"
   ]
  },
  {
   "cell_type": "code",
   "execution_count": null,
   "id": "57868bb4-6be6-4120-9341-b3e508ea290d",
   "metadata": {},
   "outputs": [],
   "source": [
    "from collections.abc import Iterable, Iterator, Generator\n",
    "print(issubclass(Iterable, Iterator))\n",
    "print(issubclass(Iterator, Iterable))"
   ]
  },
  {
   "cell_type": "markdown",
   "id": "5ba16a88-35c0-451c-9d20-f0257fc5f6fc",
   "metadata": {},
   "source": [
    "## Generator"
   ]
  },
  {
   "cell_type": "raw",
   "id": "a056ab41-4742-42ac-9ce7-2be429e23439",
   "metadata": {},
   "source": [
    "나만의 Iterable, Iterator 기능을 만들되, 생성 문법을 기존보다 단순화한 개념 또는 클래스"
   ]
  },
  {
   "cell_type": "code",
   "execution_count": null,
   "id": "333a07ef-b7bf-4619-b562-2c61072988ac",
   "metadata": {},
   "outputs": [],
   "source": [
    "from collections import Generator\n",
    "print(Generator)"
   ]
  },
  {
   "cell_type": "markdown",
   "id": "a7d9c9ad-b9ab-478b-8b9f-d0c3ab87c0cd",
   "metadata": {},
   "source": [
    "Generator 생성 방법 1: yield"
   ]
  },
  {
   "cell_type": "code",
   "execution_count": null,
   "id": "5906707a-34a4-462f-bc58-22329b67e334",
   "metadata": {},
   "outputs": [],
   "source": [
    "from random import randint\n",
    "\n",
    "def random_number_generator(n):\n",
    "    count = 0\n",
    "    while count < n:\n",
    "        yield randint(1, 100)\n",
    "        count += 1"
   ]
  },
  {
   "cell_type": "code",
   "execution_count": null,
   "id": "87211cc5-0be2-439f-940e-9b09ea04086d",
   "metadata": {},
   "outputs": [],
   "source": [
    "- 클래스가 아닌 함수로 정의.\n",
    "- iterator protocol 처럼 Iterable와 Iterator의 두 요소를 분리하지 않고 한 요소에 담을 수 있다.\n",
    "- 호출될 때마다 한 번씩 반환할 값을 반환하는 키워드가 'return'이 아닌 ‘yield’이다. "
   ]
  },
  {
   "cell_type": "code",
   "execution_count": null,
   "id": "0822ccff-36fc-4cf1-a0bc-2c13eb1bcb25",
   "metadata": {},
   "outputs": [],
   "source": [
    "g = random_number_generator(5)\n",
    "print(g)"
   ]
  },
  {
   "cell_type": "code",
   "execution_count": null,
   "id": "1263b99c-a61d-4846-82bb-0bb2336dceda",
   "metadata": {},
   "outputs": [],
   "source": [
    "print(next(g))\n",
    "print(next(g))\n",
    "print(next(g))"
   ]
  },
  {
   "cell_type": "code",
   "execution_count": null,
   "id": "69654b37-bd7c-428b-995a-01d41faf9b24",
   "metadata": {},
   "outputs": [],
   "source": [
    "print(next(g))\n",
    "print(next(g))"
   ]
  },
  {
   "cell_type": "code",
   "execution_count": null,
   "id": "10348687-014c-4e12-86c1-7fa942d1c770",
   "metadata": {},
   "outputs": [],
   "source": [
    "print(next(g))"
   ]
  },
  {
   "cell_type": "code",
   "execution_count": null,
   "id": "8be41cc8-f08a-47a0-800c-c8c64c627a1f",
   "metadata": {},
   "outputs": [],
   "source": [
    "Generator 생성 방법 2: Generator comprehension\n",
    " -  list comprehension의 문법을 사용하되 식을 닫는 괄호를 ()를 사용"
   ]
  },
  {
   "cell_type": "code",
   "execution_count": null,
   "id": "3cf4fbd7-a38c-4a08-a8cd-af96a3786d89",
   "metadata": {},
   "outputs": [],
   "source": [
    "from random import randint\n",
    "\n",
    "g = (randint(1, 100) for _ in range(5))"
   ]
  },
  {
   "cell_type": "code",
   "execution_count": null,
   "id": "b9472aab-125e-43c8-a207-18ef888a8a5c",
   "metadata": {},
   "outputs": [],
   "source": [
    "for n in g:\n",
    "    print(n)"
   ]
  },
  {
   "cell_type": "code",
   "execution_count": null,
   "id": "6c7aa1ca-d313-45dc-a563-83f568cc01ce",
   "metadata": {},
   "outputs": [],
   "source": [
    "# list comprehension 보다 generator를 쓰는 것이 성능이 더 좋다.\n",
    "print(sum([n ** 2 for n in range(1, 11)]))\n",
    "print(sum((n ** 2 for n in range(1, 11))))"
   ]
  },
  {
   "cell_type": "code",
   "execution_count": null,
   "id": "99be01e6-c9b1-4c7e-a887-cc6ce44b927a",
   "metadata": {},
   "outputs": [],
   "source": [
    "# generator expression이 함수의 유일한(sole) 인자라면, expression의 ()를 생략 가능\n",
    "print(n ** 2 for n in range(10))"
   ]
  },
  {
   "cell_type": "markdown",
   "id": "2d146ad5-7b8a-4402-9c67-6b9bfa263f64",
   "metadata": {},
   "source": [
    "Generator와 Iterator 상속 관계"
   ]
  },
  {
   "cell_type": "code",
   "execution_count": null,
   "id": "cef657c0-98be-4463-91c3-b1aea880077a",
   "metadata": {},
   "outputs": [],
   "source": [
    "from collections.abc import Iterable, Iterator, Generator\n",
    "print(issubclass(Generator, Iterator))\n",
    "print(issubclass(Iterator, Generator))"
   ]
  },
  {
   "cell_type": "code",
   "execution_count": null,
   "id": "2d220be7-9581-441d-ba97-a4bf0c283af0",
   "metadata": {},
   "outputs": [],
   "source": [
    "big_list = [i for i in range(1, 1000000000000000000000000000000000000000+1)]\n",
    "big_list[0]"
   ]
  },
  {
   "cell_type": "code",
   "execution_count": null,
   "id": "3d941b47-246d-4bb5-840d-f88a4c0edae2",
   "metadata": {},
   "outputs": [],
   "source": []
  },
  {
   "cell_type": "code",
   "execution_count": null,
   "id": "bfa9c003-1ee9-4fa4-9a56-f123147468a2",
   "metadata": {},
   "outputs": [],
   "source": [
    "big_gen = (i for i in range(1, 10000000000000000000000000000000000000000+1))\n",
    "next(big_gen)"
   ]
  },
  {
   "cell_type": "code",
   "execution_count": null,
   "id": "72f878fe-a7c3-4661-83df-15b0a1918ad5",
   "metadata": {},
   "outputs": [],
   "source": [
    "next(big_gen)"
   ]
  },
  {
   "cell_type": "markdown",
   "id": "f74f87ee-1fa8-4393-911c-69238da4ad11",
   "metadata": {},
   "source": [
    "## itertools"
   ]
  },
  {
   "cell_type": "markdown",
   "id": "8613383e-8359-4947-87d8-bb90f0302a39",
   "metadata": {},
   "source": [
    "#### accumulate – reduce with intermediate results"
   ]
  },
  {
   "cell_type": "code",
   "execution_count": 2,
   "id": "b53b4a57-2c07-4bc3-a8cd-be716bf1bccd",
   "metadata": {},
   "outputs": [],
   "source": [
    ">>> import operator\n",
    ">>> import itertools\n",
    "\n",
    "# Sales per month\n",
    ">>> months = [10, 8, 5, 7, 12, 10, 5, 8, 15, 3, 4, 2]"
   ]
  },
  {
   "cell_type": "code",
   "execution_count": 3,
   "id": "db02807a-f323-4bc3-965c-087c8f4ec8ed",
   "metadata": {},
   "outputs": [
    {
     "data": {
      "text/plain": [
       "[10, 18, 23, 30, 42, 52, 57, 65, 80, 83, 87, 89]"
      ]
     },
     "execution_count": 4,
     "metadata": {},
     "output_type": "execute_result"
    }
   ],
   "source": [
    ">>> list(itertools.accumulate(months, operator.add))"
   ]
  },
  {
   "cell_type": "code",
   "execution_count": 5,
   "id": "07155618-2293-436e-a88e-d02b9f45f91d",
   "metadata": {},
   "outputs": [
    {
     "data": {
      "text/plain": [
       "[10, 18, 23, 30, 42, 52, 57, 65, 80, 83, 87, 89]"
      ]
     },
     "execution_count": 5,
     "metadata": {},
     "output_type": "execute_result"
    }
   ],
   "source": [
    "# operator.add is default\n",
    "list(itertools.accumulate(months))"
   ]
  },
  {
   "cell_type": "raw",
   "id": "c2072fe1-1a46-4b3b-8d99-83b393d670f1",
   "metadata": {},
   "source": [
    "* The major difference between accumulate and reduce function is that the accumulate function returns \n",
    "  the immediate results."
   ]
  },
  {
   "cell_type": "markdown",
   "id": "f75bd533-7e6c-43e8-ac02-e45c655b51dd",
   "metadata": {},
   "source": [
    "#### chain – Combining multiple results\n",
    "- Combines the results of multiple iterators."
   ]
  },
  {
   "cell_type": "code",
   "execution_count": 6,
   "id": "ad8af116-5342-45a2-a1bc-970fbcd4d77b",
   "metadata": {},
   "outputs": [],
   "source": [
    ">>> import itertools\n",
    "\n",
    ">>> a = range(3)\n",
    ">>> b = range(5)"
   ]
  },
  {
   "cell_type": "code",
   "execution_count": 7,
   "id": "ca85e860-5c6b-410f-a3ef-ab3416684eae",
   "metadata": {},
   "outputs": [
    {
     "data": {
      "text/plain": [
       "[0, 1, 2, 0, 1, 2, 3, 4]"
      ]
     },
     "execution_count": 7,
     "metadata": {},
     "output_type": "execute_result"
    }
   ],
   "source": [
    ">>> list(itertools.chain(a, b))"
   ]
  },
  {
   "cell_type": "code",
   "execution_count": 8,
   "id": "0bfced44-037d-4e15-a4df-c47ff2a85cdc",
   "metadata": {},
   "outputs": [],
   "source": [
    ">>> iterables = [range(3), range(5)]"
   ]
  },
  {
   "cell_type": "markdown",
   "id": "07b52f43-fb13-4cfd-9303-72c23146a6b4",
   "metadata": {},
   "source": [
    "##### * If you have an iterable containing iterables, the easiest method is to use itertools.chain.from_iterable."
   ]
  },
  {
   "cell_type": "code",
   "execution_count": 11,
   "id": "9b9ebd2e-4342-41ef-bb6f-25632735a32a",
   "metadata": {},
   "outputs": [
    {
     "data": {
      "text/plain": [
       "[0, 1, 2, 0, 1, 2, 3, 4]"
      ]
     },
     "execution_count": 11,
     "metadata": {},
     "output_type": "execute_result"
    }
   ],
   "source": [
    ">>> list(itertools.chain.from_iterable(iterables))"
   ]
  },
  {
   "cell_type": "markdown",
   "id": "ae863ce1-2222-4e10-8ee1-9a7ddd668103",
   "metadata": {},
   "source": [
    "#### compress – Selecting items using a list of Booleans"
   ]
  },
  {
   "cell_type": "code",
   "execution_count": null,
   "id": "5b70ce6e-3aa9-4e50-a6cc-4cd1dda739d2",
   "metadata": {},
   "outputs": [],
   "source": [
    ">>> import itertools\n",
    "\n",
    ">>> list(itertools.compress(range(1000), [0, 1, 1, 1, 0, 1]))"
   ]
  },
  {
   "cell_type": "code",
   "execution_count": 13,
   "id": "0c7cd263-3525-4ca0-94a1-a1ffa2015bc4",
   "metadata": {},
   "outputs": [],
   "source": [
    ">>> primes = [0, 0, 1, 1, 0, 1, 0, 1]\n",
    ">>> odd = [0, 1, 0, 1, 0, 1, 0, 1]\n",
    ">>> numbers = ['zero', 'one', 'two', 'three', 'four', 'five']"
   ]
  },
  {
   "cell_type": "code",
   "execution_count": 14,
   "id": "b3f70248-17d9-4eff-957a-64aa870987c6",
   "metadata": {},
   "outputs": [
    {
     "data": {
      "text/plain": [
       "['two', 'three', 'five']"
      ]
     },
     "execution_count": 14,
     "metadata": {},
     "output_type": "execute_result"
    }
   ],
   "source": [
    "# Primes:\n",
    ">>> list(itertools.compress(numbers, primes))"
   ]
  },
  {
   "cell_type": "code",
   "execution_count": 15,
   "id": "dc49029a-2d84-4c4c-8cb4-1035d819f930",
   "metadata": {},
   "outputs": [
    {
     "data": {
      "text/plain": [
       "['one', 'three', 'five']"
      ]
     },
     "execution_count": 15,
     "metadata": {},
     "output_type": "execute_result"
    }
   ],
   "source": [
    "# Odd numbers\n",
    ">>> list(itertools.compress(numbers, odd))"
   ]
  },
  {
   "cell_type": "code",
   "execution_count": 18,
   "id": "682fd2ba-9c21-4ee7-9bb0-a782039644e2",
   "metadata": {},
   "outputs": [
    {
     "name": "stdout",
     "output_type": "stream",
     "text": [
      "<zip object at 0x0000025207DF8CC0>\n"
     ]
    }
   ],
   "source": [
    "zip(odd, primes)"
   ]
  },
  {
   "cell_type": "code",
   "execution_count": 17,
   "id": "5098107f-6160-41c4-8d28-c5e2ba6a51eb",
   "metadata": {},
   "outputs": [
    {
     "data": {
      "text/plain": [
       "<map at 0x25207dd8970>"
      ]
     },
     "execution_count": 17,
     "metadata": {},
     "output_type": "execute_result"
    }
   ],
   "source": [
    "map(all, zip(odd, primes))"
   ]
  },
  {
   "cell_type": "code",
   "execution_count": null,
   "id": "4e8d89ca-ecf0-4e0a-8a24-0209c99fb2a7",
   "metadata": {},
   "outputs": [],
   "source": [
    "# Odd primes\n",
    ">>> list(itertools.compress(numbers, map(all, zip(odd, primes))))"
   ]
  },
  {
   "cell_type": "markdown",
   "id": "6ed1b71f-4a22-4bfb-be15-cad51101db4f",
   "metadata": {},
   "source": [
    "#### dropwhile/takewhile – Selecting items using a function\n",
    "- The dropwhile function will drop all results until a given predicate evaluates to true."
   ]
  },
  {
   "cell_type": "code",
   "execution_count": 19,
   "id": "bd5261bc-21a7-4146-945f-b6029710b1be",
   "metadata": {},
   "outputs": [
    {
     "data": {
      "text/plain": [
       "[5, 4, 2]"
      ]
     },
     "execution_count": 19,
     "metadata": {},
     "output_type": "execute_result"
    }
   ],
   "source": [
    ">>> import itertools\n",
    ">>> list(itertools.dropwhile(lambda x: x <= 3, [1, 3, 5, 4, 2]))"
   ]
  },
  {
   "cell_type": "code",
   "execution_count": 20,
   "id": "5c26e927-5c97-4b85-a78c-9ab48fbf00a7",
   "metadata": {},
   "outputs": [
    {
     "data": {
      "text/plain": [
       "[1, 3]"
      ]
     },
     "execution_count": 20,
     "metadata": {},
     "output_type": "execute_result"
    }
   ],
   "source": [
    ">>> list(itertools.takewhile(lambda x: x <= 3, [1, 3, 5, 4, 2]))"
   ]
  },
  {
   "cell_type": "markdown",
   "id": "1d27155e-95a2-43f4-9cb0-6e25b20e410e",
   "metadata": {},
   "source": [
    "#### count – Infinite range with decimal steps\n",
    "- The count's range is infinite, so don’t even try to do list(itertools.count())\n",
    "- Count can be used with floating-pointnumbers.\n",
    "- The count function takes two optional parameters: a start parameter, which defaults to 0, and a step\n",
    "parameter, which defaults to 1"
   ]
  },
  {
   "cell_type": "code",
   "execution_count": 22,
   "id": "1f25f510-2bbe-41e1-b024-acc4967ad57c",
   "metadata": {},
   "outputs": [
    {
     "data": {
      "text/plain": [
       "[0, 1, 2, 3, 4, 5, 6, 7, 8, 9]"
      ]
     },
     "execution_count": 22,
     "metadata": {},
     "output_type": "execute_result"
    }
   ],
   "source": [
    ">>> import itertools\n",
    ">>> list(itertools.islice(itertools.count(), 10))"
   ]
  },
  {
   "cell_type": "code",
   "execution_count": 23,
   "id": "e3300aca-6c94-444c-96a5-b4e57a1e74b6",
   "metadata": {},
   "outputs": [
    {
     "data": {
      "text/plain": [
       "[5, 7, 9]"
      ]
     },
     "execution_count": 23,
     "metadata": {},
     "output_type": "execute_result"
    }
   ],
   "source": [
    ">>> list(itertools.islice(itertools.count(), 5, 10, 2))"
   ]
  },
  {
   "cell_type": "code",
   "execution_count": null,
   "id": "ee2744d4-e23a-4774-8d74-26d7bf1d8038",
   "metadata": {},
   "outputs": [],
   "source": [
    ">>> list(itertools.islice(itertools.count(10, 2.5), 5))\n",
    "[10, 12.5, 15.0, 17.5, 20.0]"
   ]
  },
  {
   "cell_type": "markdown",
   "id": "6ae18db9-338c-417e-bdb3-84d8e43edde4",
   "metadata": {},
   "source": [
    "#### groupby – Grouping your sorted iterable\n",
    "- Convert a list of objects into a list of groups given a specific grouping function."
   ]
  },
  {
   "cell_type": "code",
   "execution_count": 26,
   "id": "1a473e75-ea36-4b82-99c0-c100f3469052",
   "metadata": {},
   "outputs": [
    {
     "name": "stdout",
     "output_type": "stream",
     "text": [
      "operator.itemgetter(0)\n"
     ]
    }
   ],
   "source": [
    ">>> import operator\n",
    ">>> import itertools\n",
    "\n",
    ">>> words = ['aa', 'ab', 'ba', 'bb', 'ca', 'cb', 'cc']\n",
    "\n",
    "# Gets the first element from the iterable\n",
    ">>> getter = operator.itemgetter(0)"
   ]
  },
  {
   "cell_type": "code",
   "execution_count": 27,
   "id": "704c557f-3fd5-4d3d-a7ce-ae45dae35a43",
   "metadata": {},
   "outputs": [
    {
     "name": "stdout",
     "output_type": "stream",
     "text": [
      "group: a, items: ['aa', 'ab']\n",
      "group: b, items: ['ba', 'bb']\n",
      "group: c, items: ['ca', 'cb', 'cc']\n"
     ]
    }
   ],
   "source": [
    ">>> for group, items in itertools.groupby(words, key=getter):\n",
    "...     print(f'group: {group}, items: {list(items)}')"
   ]
  },
  {
   "cell_type": "code",
   "execution_count": 25,
   "id": "c2e9c0a2-20c5-44fd-b820-9856bfeaf46d",
   "metadata": {},
   "outputs": [
    {
     "name": "stdout",
     "output_type": "stream",
     "text": [
      "group: a, items: ['aa']\n",
      "group: b, items: ['bb']\n",
      "group: c, items: ['ca']\n",
      "group: a, items: ['ab']\n",
      "group: b, items: ['ba']\n",
      "group: c, items: ['cb', 'cc']\n"
     ]
    }
   ],
   "source": [
    ">>> import operator\n",
    ">>> import itertools\n",
    "\n",
    ">>> words = ['aa', 'bb', 'ca', 'ab', 'ba', 'cb', 'cc']\n",
    "\n",
    "# Gets the first element from the iterable\n",
    ">>> getter = operator.itemgetter(0)\n",
    "\n",
    ">>> for group, items in itertools.groupby(words, key=getter):\n",
    "...     print(f'group: {group}, items: {list(items)}')"
   ]
  },
  {
   "cell_type": "code",
   "execution_count": null,
   "id": "5993ea5d-97cf-49f9-b0cc-d8c3080f8f16",
   "metadata": {},
   "outputs": [],
   "source": []
  }
 ],
 "metadata": {
  "kernelspec": {
   "display_name": "Python 3 (ipykernel)",
   "language": "python",
   "name": "python3"
  },
  "language_info": {
   "codemirror_mode": {
    "name": "ipython",
    "version": 3
   },
   "file_extension": ".py",
   "mimetype": "text/x-python",
   "name": "python",
   "nbconvert_exporter": "python",
   "pygments_lexer": "ipython3",
   "version": "3.9.7"
  }
 },
 "nbformat": 4,
 "nbformat_minor": 5
}
