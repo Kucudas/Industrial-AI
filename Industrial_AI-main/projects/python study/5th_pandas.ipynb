{
 "cells": [
  {
   "cell_type": "markdown",
   "id": "4ef1cde2-3007-495f-881d-34cb50203f79",
   "metadata": {},
   "source": [
    "## pandas Series and DataFrame\n",
    "- mixed data types, customized indexing, missing data, data that’s not structured consistently and data that needs to be manipulated into forms appropriate for the databases and data analysis packages\n",
    "- two key collections: Series for one-dimensional collections and DataFrames for two-dimensional collections\n",
    "- MultiIndex to manipulate multidimensional data in the context of Series and DataFrames."
   ]
  },
  {
   "cell_type": "markdown",
   "id": "4746a338-66c9-4007-ac03-bb498adf32c3",
   "metadata": {},
   "source": [
    "### pandas `Series`\n",
    "- A Series is an enhanced one-dimensional array.\n",
    "- Series support custom indexing, including even non-integer indices like strings."
   ]
  },
  {
   "cell_type": "markdown",
   "id": "f646c738-2f5b-410c-8b72-a694f15c346c",
   "metadata": {
    "tags": []
   },
   "source": [
    "#### Creating a `Series` with Default Indices"
   ]
  },
  {
   "cell_type": "code",
   "execution_count": null,
   "id": "758d0c89-2031-4042-99ce-4dfa1fbd6271",
   "metadata": {},
   "outputs": [],
   "source": [
    "import pandas as pd"
   ]
  },
  {
   "cell_type": "code",
   "execution_count": null,
   "id": "d3fee965-07dd-4abe-bbd9-934095a1a1fd",
   "metadata": {},
   "outputs": [],
   "source": [
    "grades = pd.Series([87, 100, 94])"
   ]
  },
  {
   "cell_type": "code",
   "execution_count": null,
   "id": "2d0b8b3a-3a58-43e0-87a0-e13db38ea67b",
   "metadata": {},
   "outputs": [],
   "source": [
    "grades"
   ]
  },
  {
   "cell_type": "code",
   "execution_count": null,
   "id": "7719fd67-8cea-4644-8db8-38170a38ddbb",
   "metadata": {},
   "outputs": [],
   "source": [
    "pd.Series((87, 100, 94))"
   ]
  },
  {
   "cell_type": "code",
   "execution_count": null,
   "id": "ce445927-f62b-43cc-a8fb-f1a725fa0c9b",
   "metadata": {},
   "outputs": [],
   "source": [
    "pd.Series({'math':87,'eng':100, 'python':94})"
   ]
  },
  {
   "cell_type": "code",
   "execution_count": null,
   "id": "e6dff956-d825-4a00-a9b4-2cd2bd3fa3de",
   "metadata": {},
   "outputs": [],
   "source": [
    "import numpy as np\n",
    "pd.Series(np.array([87, 100, 94]))"
   ]
  },
  {
   "cell_type": "code",
   "execution_count": null,
   "id": "675cc199-4823-4ef9-8521-45adc6ddc493",
   "metadata": {},
   "outputs": [],
   "source": [
    "pd.Series(pd.Series([1, 2, 3]))"
   ]
  },
  {
   "cell_type": "markdown",
   "id": "a418d3d4-1cfb-449d-b94e-0c08f64a3c32",
   "metadata": {},
   "source": [
    "#### Creating a `Series` with All Elements Having the Same Value"
   ]
  },
  {
   "cell_type": "code",
   "execution_count": null,
   "id": "62559feb-a9a6-46ae-840e-e8b5a611c28d",
   "metadata": {},
   "outputs": [],
   "source": [
    "pd.Series(98.6, range(3))"
   ]
  },
  {
   "cell_type": "code",
   "execution_count": null,
   "id": "865e1f77-a638-48da-ac98-f63e2960d679",
   "metadata": {},
   "outputs": [],
   "source": [
    "pd.Series(98.6, [1, 2, 3])"
   ]
  },
  {
   "cell_type": "code",
   "execution_count": null,
   "id": "f9f586c6-0643-477b-841a-4e37bb94bde9",
   "metadata": {},
   "outputs": [],
   "source": [
    "pd.Series(98.6, (1, 2, 3))"
   ]
  },
  {
   "cell_type": "code",
   "execution_count": null,
   "id": "a4e344a1-6109-4d86-84f0-0999f779596a",
   "metadata": {},
   "outputs": [],
   "source": [
    "pd.Series(98.6, {'a':1, 'b':2, 'c':3})"
   ]
  },
  {
   "cell_type": "markdown",
   "id": "e5af8d8c-8e42-41b3-a167-86083f5a0119",
   "metadata": {},
   "source": [
    "#### Accessing a `Series`’ Elements"
   ]
  },
  {
   "cell_type": "code",
   "execution_count": null,
   "id": "185aa943-bea5-49a1-a97a-38a6b31be793",
   "metadata": {},
   "outputs": [],
   "source": [
    "grades[0]"
   ]
  },
  {
   "cell_type": "markdown",
   "id": "abd14868-291c-4cbb-a1c6-0691990db10c",
   "metadata": {},
   "source": [
    "#### Producing Descriptive Statistics for a `Series`"
   ]
  },
  {
   "cell_type": "code",
   "execution_count": null,
   "id": "d78d0ce7-cbb5-49e3-9712-9f017f7fc13c",
   "metadata": {},
   "outputs": [],
   "source": [
    "grades.count()"
   ]
  },
  {
   "cell_type": "code",
   "execution_count": null,
   "id": "b09ce15b-47a7-456b-96d8-12e3dc8177ab",
   "metadata": {},
   "outputs": [],
   "source": [
    "grades.mean()"
   ]
  },
  {
   "cell_type": "code",
   "execution_count": null,
   "id": "b8be6ea5-ce69-4aa5-b518-a13b64e7f9b4",
   "metadata": {},
   "outputs": [],
   "source": [
    "grades.min()"
   ]
  },
  {
   "cell_type": "code",
   "execution_count": null,
   "id": "51d64d39-6d5f-4fbe-9e9d-d2325f18f747",
   "metadata": {},
   "outputs": [],
   "source": [
    "grades.max()"
   ]
  },
  {
   "cell_type": "code",
   "execution_count": null,
   "id": "f382bd8e-2ba2-430a-b003-4afa34bffae3",
   "metadata": {},
   "outputs": [],
   "source": [
    "grades.std()"
   ]
  },
  {
   "cell_type": "code",
   "execution_count": null,
   "id": "f6c106ce-d548-45dc-9be6-b391d330eb2d",
   "metadata": {},
   "outputs": [],
   "source": [
    "grades.describe()"
   ]
  },
  {
   "cell_type": "raw",
   "id": "f2fe3921-59cf-43d9-8ac4-5320f64a4dcc",
   "metadata": {},
   "source": [
    "The 25%, 50% and 75% are quartiles:\n",
    "• 50% represents the median of the sorted values.\n",
    "• 25% represents the median of the first half of the sorted values.\n",
    "• 75% represents the median of the second half of the sorted values.\n",
    "• (75% quartile - 25% quartile) is interquartile."
   ]
  },
  {
   "cell_type": "markdown",
   "id": "df5cc0d5-2336-4811-a5e4-6913952ec48b",
   "metadata": {},
   "source": [
    "#### Creating a `Series` with Custom Indices"
   ]
  },
  {
   "cell_type": "code",
   "execution_count": null,
   "id": "27522d73-4562-4861-a459-4edf2e1c3dae",
   "metadata": {},
   "outputs": [],
   "source": [
    "grades = pd.Series([87, 100, 94], index=['Wally', 'Eva', 'Sam'])"
   ]
  },
  {
   "cell_type": "code",
   "execution_count": null,
   "id": "166b0393-3287-4cd1-b0e5-779ba5bb13ac",
   "metadata": {},
   "outputs": [],
   "source": [
    "grades"
   ]
  },
  {
   "cell_type": "markdown",
   "id": "95e049b5-240c-4f4b-9ed8-19f6704e6c59",
   "metadata": {},
   "source": [
    "#### Accessing a `Series`’ Elements Via Custom Indices"
   ]
  },
  {
   "cell_type": "code",
   "execution_count": null,
   "id": "98af0287-32e6-4d7e-9cc1-8ca6cdb254b3",
   "metadata": {},
   "outputs": [],
   "source": [
    "grades['Eva']"
   ]
  },
  {
   "cell_type": "code",
   "execution_count": null,
   "id": "aafd34b7-8e1d-4894-a6a3-ba7c46f4a927",
   "metadata": {},
   "outputs": [],
   "source": [
    "# If the custom indices are strings that could represent valid Python identifiers\n",
    "grades.Wally"
   ]
  },
  {
   "cell_type": "code",
   "execution_count": null,
   "id": "ac8098ff-1b99-4339-aa0d-c9fdf62a22f3",
   "metadata": {},
   "outputs": [],
   "source": [
    "grades.dtype"
   ]
  },
  {
   "cell_type": "code",
   "execution_count": null,
   "id": "069b40f8-e7a6-43b8-af24-e0122301528a",
   "metadata": {},
   "outputs": [],
   "source": [
    "grades.values"
   ]
  },
  {
   "cell_type": "code",
   "execution_count": null,
   "id": "eff99fa0-fbcd-49b3-96fb-30acab697abd",
   "metadata": {},
   "outputs": [],
   "source": [
    "grades.index"
   ]
  },
  {
   "cell_type": "markdown",
   "id": "301d63f0-5e85-4a78-8018-545097f512d5",
   "metadata": {},
   "source": [
    "#### Creating a Series of Strings\n",
    "- If a Series contains strings, you can use its str attribute to call string methods on the\n",
    "elements."
   ]
  },
  {
   "cell_type": "code",
   "execution_count": null,
   "id": "39e54794-4bf9-4e49-af06-f090b4f10297",
   "metadata": {},
   "outputs": [],
   "source": [
    "hardware = pd.Series(['Hammer', 'Saw', 'Wrench'])"
   ]
  },
  {
   "cell_type": "code",
   "execution_count": null,
   "id": "5b8f6bcf-a5f0-4b85-9459-e33305d5564a",
   "metadata": {},
   "outputs": [],
   "source": [
    "hardware"
   ]
  },
  {
   "cell_type": "raw",
   "id": "79a19c6b-2711-4738-b3f3-1a68357a0e71",
   "metadata": {},
   "source": [
    "* right-aligns string element values\n",
    "* the dtype for strings is object."
   ]
  },
  {
   "cell_type": "code",
   "execution_count": null,
   "id": "022a58e9-828a-4737-8cb9-4a11bee16bef",
   "metadata": {},
   "outputs": [],
   "source": [
    "hardware.str.contains('a')"
   ]
  },
  {
   "cell_type": "code",
   "execution_count": null,
   "id": "fc453389-f97b-4309-a1df-4f410a592448",
   "metadata": {},
   "outputs": [],
   "source": [
    "hardware.str.upper()"
   ]
  },
  {
   "cell_type": "raw",
   "id": "64bf95fe-2228-481d-90d0-380e0133a6b3",
   "metadata": {},
   "source": [
    "* more str methods for Series: https://pandas.pydata.org/pandas-docs/stable/reference/series.html"
   ]
  },
  {
   "cell_type": "markdown",
   "id": "b6ccfc6a-0694-42cf-8623-7f82bc943f61",
   "metadata": {},
   "source": [
    "## pandas DataFrames\n",
    "- A DataFrame is an enhanced two-dimensional array.\n",
    "- Each column in a DataFrame is a Series."
   ]
  },
  {
   "cell_type": "markdown",
   "id": "099ef33e-b315-43fd-9693-8b3ff716d60d",
   "metadata": {},
   "source": [
    "#### Creating a `DataFrame` from a Dictionary"
   ]
  },
  {
   "cell_type": "code",
   "execution_count": null,
   "id": "489d1597-9cda-49df-8a5c-46c6a9962753",
   "metadata": {},
   "outputs": [],
   "source": [
    "import pandas as pd"
   ]
  },
  {
   "cell_type": "code",
   "execution_count": null,
   "id": "f8296a4c-0e89-4b9d-aefc-c5d4350079c8",
   "metadata": {},
   "outputs": [],
   "source": [
    "grades_dict = {'Wally': [87, 96, 70], 'Eva': [100, 87, 90],\n",
    "               'Sam': [94, 77, 90], 'Katie': [100, 81, 82],\n",
    "               'Bob': [83, 65, 85]}"
   ]
  },
  {
   "cell_type": "code",
   "execution_count": null,
   "id": "616b8e08-2f7b-445d-9e23-97e4ffab5c7d",
   "metadata": {},
   "outputs": [],
   "source": [
    "grades_dict"
   ]
  },
  {
   "cell_type": "code",
   "execution_count": null,
   "id": "47f73b4b-4ff9-4dca-957c-7d328c9c070f",
   "metadata": {},
   "outputs": [],
   "source": [
    "grades = pd.DataFrame(grades_dict)"
   ]
  },
  {
   "cell_type": "code",
   "execution_count": null,
   "id": "c7586246-34c8-4ac7-932a-0e79da9123fc",
   "metadata": {},
   "outputs": [],
   "source": [
    "grades"
   ]
  },
  {
   "cell_type": "raw",
   "id": "4c094fcd-f4fa-4bbc-b83c-b418e4d65706",
   "metadata": {},
   "source": [
    "* The indices left aligned in the index column and the remaining columns’ values right aligned.\n",
    "* The dictionary’s keys become the column names and the values associated with each key become the element \n",
    "  values in the corresponding column."
   ]
  },
  {
   "cell_type": "markdown",
   "id": "1bf88cac-3b9e-4974-af67-f6687bc26c3e",
   "metadata": {},
   "source": [
    "#### Customizing a `DataFrame`’s Indices with the `index` Attribute "
   ]
  },
  {
   "cell_type": "markdown",
   "id": "d9e97f0f-e84b-43a9-9c1b-58d370a43aa1",
   "metadata": {},
   "source": [
    "```python\n",
    "pd.DataFrame(grades_dict, index=['Test1', 'Test2', 'Test3'])\n",
    "```"
   ]
  },
  {
   "cell_type": "code",
   "execution_count": null,
   "id": "2cd00b67-d4cb-422f-8068-ac27f75a81ff",
   "metadata": {},
   "outputs": [],
   "source": [
    "grades.index = ['Test1', 'Test2', 'Test3']"
   ]
  },
  {
   "cell_type": "code",
   "execution_count": null,
   "id": "fc1722ff-a83a-48ff-a1a5-2f2ebcf031da",
   "metadata": {},
   "outputs": [],
   "source": [
    "grades"
   ]
  },
  {
   "cell_type": "markdown",
   "id": "4534c785-bb96-4b99-b4ce-a715599dc7c4",
   "metadata": {},
   "source": [
    "#### Accessing a `DataFrame`’s Columns "
   ]
  },
  {
   "cell_type": "code",
   "execution_count": null,
   "id": "4cdd8776-f221-4db2-9989-309850fb7767",
   "metadata": {},
   "outputs": [],
   "source": [
    "grades['Eva']"
   ]
  },
  {
   "cell_type": "code",
   "execution_count": null,
   "id": "d6538aa5-5921-41bb-a8b1-12f2d62ea393",
   "metadata": {},
   "outputs": [],
   "source": [
    "grades.Sam"
   ]
  },
  {
   "cell_type": "markdown",
   "id": "1566325c-bed6-4643-951d-1733ade0bd4a",
   "metadata": {},
   "source": [
    "#### Selecting Rows via the `loc` and `iloc` Attributes"
   ]
  },
  {
   "cell_type": "code",
   "execution_count": null,
   "id": "1834d912-7156-4d45-8685-6ca51b4ae133",
   "metadata": {},
   "outputs": [],
   "source": [
    "grades.loc['Test1']"
   ]
  },
  {
   "cell_type": "code",
   "execution_count": null,
   "id": "4970774d-b6dc-4a20-b1be-fe6e4e9916fa",
   "metadata": {},
   "outputs": [],
   "source": [
    "grades.iloc[1]"
   ]
  },
  {
   "cell_type": "markdown",
   "id": "5bca8c83-c799-4e5d-9076-fa356dfc3b1c",
   "metadata": {},
   "source": [
    "#### Selecting Rows via Slices and Lists with the `loc` and `iloc` Attributes"
   ]
  },
  {
   "cell_type": "code",
   "execution_count": null,
   "id": "4f6efd6a-e110-4ba0-a4b0-8a2b6d196988",
   "metadata": {},
   "outputs": [],
   "source": [
    "grades.loc['Test1':'Test3']"
   ]
  },
  {
   "cell_type": "raw",
   "id": "ccaccb19-5817-4b7d-b8e9-d91b65d472a9",
   "metadata": {},
   "source": [
    "* The range specified includes the high index ('Test3')"
   ]
  },
  {
   "cell_type": "code",
   "execution_count": null,
   "id": "f4b87a67-6c00-4d98-9613-0a6d784ba030",
   "metadata": {},
   "outputs": [],
   "source": [
    "grades.iloc[0:2]"
   ]
  },
  {
   "cell_type": "raw",
   "id": "cc86a9c1-ca15-416a-a041-ebfefe2bcb93",
   "metadata": {},
   "source": [
    "* The range specified encludes the high index (2)"
   ]
  },
  {
   "cell_type": "code",
   "execution_count": null,
   "id": "1e110249-70d2-4534-94e4-a368a62a71f8",
   "metadata": {},
   "outputs": [],
   "source": [
    "grades.loc[['Test1', 'Test3']]"
   ]
  },
  {
   "cell_type": "code",
   "execution_count": null,
   "id": "ef46ea9d-e36e-44d8-ba51-a3f8f654e93e",
   "metadata": {},
   "outputs": [],
   "source": [
    "grades.iloc[[0, 2]]"
   ]
  },
  {
   "cell_type": "markdown",
   "id": "8da1271d-d85d-40b1-ae6d-172f754125c5",
   "metadata": {},
   "source": [
    "#### Selecting Subsets of the Rows and Columns "
   ]
  },
  {
   "cell_type": "code",
   "execution_count": null,
   "id": "02ce9786-c402-489b-b3df-d65d55dba9f2",
   "metadata": {},
   "outputs": [],
   "source": [
    "grades.loc['Test1':'Test2', ['Eva', 'Katie']]"
   ]
  },
  {
   "cell_type": "code",
   "execution_count": null,
   "id": "e83f518f-08a2-4baa-9544-65efb149fd39",
   "metadata": {},
   "outputs": [],
   "source": [
    "grades.iloc[[0, 2], 0:3]"
   ]
  },
  {
   "cell_type": "markdown",
   "id": "fbf49d52-af37-468f-8fee-17a1537d4bf6",
   "metadata": {},
   "source": [
    "#### Boolean Indexing"
   ]
  },
  {
   "cell_type": "code",
   "execution_count": null,
   "id": "f50ed79c-7425-4d78-b485-b75be8b9c463",
   "metadata": {},
   "outputs": [],
   "source": [
    "grades[grades >= 90]"
   ]
  },
  {
   "cell_type": "raw",
   "id": "10888a7a-8c87-4ec7-82b8-1aaf2c7b7c61",
   "metadata": {},
   "source": [
    "* Grades for which the condition is False are represented as NaN (not a number) in the new DataFrame.\n",
    "* NaN is pandas’ notation for missing values."
   ]
  },
  {
   "cell_type": "code",
   "execution_count": null,
   "id": "fe93c87e-0f05-42d5-834d-e4e9e623887b",
   "metadata": {},
   "outputs": [],
   "source": [
    "grades[(grades >= 80) & (grades < 90)]"
   ]
  },
  {
   "cell_type": "markdown",
   "id": "8771dbda-7151-4f50-a238-e7e6bcb98efa",
   "metadata": {},
   "source": [
    "#### Accessing a Specific `DataFrame` Cell by Row and Column\n",
    "- A DataFrame’s at and iat attributes gets a single value from a DataFrame."
   ]
  },
  {
   "cell_type": "code",
   "execution_count": null,
   "id": "9add61bc-9abe-4799-9f1c-2bb4a6beff82",
   "metadata": {},
   "outputs": [],
   "source": [
    "grades.at['Test2', 'Eva']"
   ]
  },
  {
   "cell_type": "code",
   "execution_count": null,
   "id": "59e9d490-8304-40a3-ab26-453d27b500fd",
   "metadata": {},
   "outputs": [],
   "source": [
    "grades.iat[2, 0]"
   ]
  },
  {
   "cell_type": "code",
   "execution_count": null,
   "id": "38289e84-656b-40df-a8a9-9d4a8b10edbd",
   "metadata": {},
   "outputs": [],
   "source": [
    "grades.at['Test2', 'Eva'] = 100"
   ]
  },
  {
   "cell_type": "code",
   "execution_count": null,
   "id": "3ec5079a-e6dc-4fae-ae7a-978a91a836b5",
   "metadata": {},
   "outputs": [],
   "source": [
    "grades.at['Test2', 'Eva']"
   ]
  },
  {
   "cell_type": "code",
   "execution_count": null,
   "id": "484d6d06-71d8-4df8-8ec3-c8c4bd7925a0",
   "metadata": {},
   "outputs": [],
   "source": [
    "grades.iat[1, 1] = 87"
   ]
  },
  {
   "cell_type": "code",
   "execution_count": null,
   "id": "a120438d-ee7b-4c84-b6fc-ac1fd631705a",
   "metadata": {},
   "outputs": [],
   "source": [
    "grades.iat[1, 1]"
   ]
  },
  {
   "cell_type": "markdown",
   "id": "a3fcfb49-77cf-421e-8f3d-e3a4f903be35",
   "metadata": {},
   "source": [
    "#### Descriptive Statistics"
   ]
  },
  {
   "cell_type": "code",
   "execution_count": null,
   "id": "4f9f33d5-c557-4c54-a329-7623d25c9039",
   "metadata": {},
   "outputs": [],
   "source": [
    "grades.describe()"
   ]
  },
  {
   "cell_type": "raw",
   "id": "6cdd7761-a24e-401c-b8c6-e74efc964c0e",
   "metadata": {},
   "source": [
    "* Default precision of the descriptive statistics values is six digits. "
   ]
  },
  {
   "cell_type": "code",
   "execution_count": null,
   "id": "29037903-9d66-4373-a4cc-b92b7f5272b7",
   "metadata": {},
   "outputs": [],
   "source": [
    "pd.set_option(\"display.precision\", 2)"
   ]
  },
  {
   "cell_type": "code",
   "execution_count": null,
   "id": "bd4366a5-7c25-434f-98ec-80eb2a7b2799",
   "metadata": {},
   "outputs": [],
   "source": [
    "grades.describe()"
   ]
  },
  {
   "cell_type": "code",
   "execution_count": null,
   "id": "3655d1a8-b81a-47bf-bf2c-a9e049b6a43a",
   "metadata": {},
   "outputs": [],
   "source": [
    "grades.mean()"
   ]
  },
  {
   "cell_type": "markdown",
   "id": "a238cb76-770a-4f84-aae6-d1546ea2ed08",
   "metadata": {},
   "source": [
    "#### Transposing the `DataFrame` with the `T` Attribute"
   ]
  },
  {
   "cell_type": "code",
   "execution_count": null,
   "id": "8ae12d0b-fef3-43a9-9b0d-73adb4f01a34",
   "metadata": {},
   "outputs": [],
   "source": [
    "grades.T"
   ]
  },
  {
   "cell_type": "code",
   "execution_count": null,
   "id": "bf534803-d16a-4e00-9648-2f9086b87e32",
   "metadata": {},
   "outputs": [],
   "source": [
    "grades.T.describe()"
   ]
  },
  {
   "cell_type": "code",
   "execution_count": null,
   "id": "54addbbd-bdcf-4434-a723-78ed0a52aa5c",
   "metadata": {},
   "outputs": [],
   "source": [
    "grades.T.mean()"
   ]
  },
  {
   "cell_type": "markdown",
   "id": "88a9cfa5-1b9e-4791-bf8b-9dd890a06bdb",
   "metadata": {},
   "source": [
    "#### Sorting By Rows by Their Indices\n",
    "- A DataFrame by its rows or columns, based on their indices or values can be sorted"
   ]
  },
  {
   "cell_type": "code",
   "execution_count": null,
   "id": "17d60c4a-55a0-4114-9b14-038b51c4a295",
   "metadata": {},
   "outputs": [],
   "source": [
    "grades.sort_index(ascending=False)"
   ]
  },
  {
   "cell_type": "code",
   "execution_count": null,
   "id": "9c1ce45a-21bf-445f-a0e3-a7df3f154e19",
   "metadata": {},
   "outputs": [],
   "source": [
    "grades.sort_index()"
   ]
  },
  {
   "cell_type": "markdown",
   "id": "20eba256-5d6c-4ec2-99e4-6d4be0e19ecc",
   "metadata": {},
   "source": [
    "#### Sorting By Column Indices"
   ]
  },
  {
   "cell_type": "code",
   "execution_count": null,
   "id": "796ddf99-ba94-44ce-8f8b-d856b1c5f138",
   "metadata": {},
   "outputs": [],
   "source": [
    "grades.sort_index(axis=1)"
   ]
  },
  {
   "cell_type": "code",
   "execution_count": null,
   "id": "1cb8b195-2c38-416c-8388-a1fbce425403",
   "metadata": {},
   "outputs": [],
   "source": [
    "grades.sort_index(axis=0)"
   ]
  },
  {
   "cell_type": "markdown",
   "id": "e7ebca4b-dcb7-4aa6-9632-586535b76626",
   "metadata": {},
   "source": [
    "#### Sorting By Column Values"
   ]
  },
  {
   "cell_type": "code",
   "execution_count": null,
   "id": "4ab8f243-fbde-4828-b922-eefd166ba600",
   "metadata": {},
   "outputs": [],
   "source": [
    "grades.sort_values(by='Test1', axis=1, ascending=False)"
   ]
  },
  {
   "cell_type": "code",
   "execution_count": null,
   "id": "a46194c7-e138-4fcb-9d34-fbcaa79ac657",
   "metadata": {},
   "outputs": [],
   "source": [
    "grades.T.sort_values(by='Test1', ascending=False)"
   ]
  },
  {
   "cell_type": "code",
   "execution_count": null,
   "id": "f67eb19c-caa7-4c29-a55c-f8542d6db46e",
   "metadata": {},
   "outputs": [],
   "source": [
    "grades.loc['Test1'].sort_values(ascending=False)"
   ]
  },
  {
   "cell_type": "code",
   "execution_count": null,
   "id": "0c7df8b5-8f09-43a7-9b88-9ceea361b9cb",
   "metadata": {},
   "outputs": [],
   "source": [
    "grades"
   ]
  },
  {
   "cell_type": "markdown",
   "id": "76dd18ab-fd06-46c2-9b7b-23e3ba4b6151",
   "metadata": {},
   "source": [
    "#### Copy vs. In-Place Sorting"
   ]
  },
  {
   "cell_type": "code",
   "execution_count": null,
   "id": "84a0cfc7-dd08-4628-b45c-85e43d2de4ca",
   "metadata": {},
   "outputs": [],
   "source": [
    "grades.sort_values(by='Test1', axis=1, ascending=False, inplace=True)"
   ]
  },
  {
   "cell_type": "code",
   "execution_count": null,
   "id": "056bb892-3019-418d-a538-049ee1b172f3",
   "metadata": {},
   "outputs": [],
   "source": [
    "grades"
   ]
  },
  {
   "cell_type": "code",
   "execution_count": null,
   "id": "950860d8-febe-4648-9002-1146a136e61a",
   "metadata": {},
   "outputs": [],
   "source": []
  },
  {
   "cell_type": "markdown",
   "id": "3c4bfe6c-c7f3-4def-8a83-a7c1719789a2",
   "metadata": {},
   "source": [
    "### Regular Expressions and Data Munging \n",
    "- Preparing data for analysis is called data munging or data wrangling.\n",
    "- Two of the most important steps in data munging are data cleaning and transforming data into the optimal formats for your database systems and analytics software."
   ]
  },
  {
   "cell_type": "raw",
   "id": "02e43fa4-0495-4412-bdac-0d77f156b620",
   "metadata": {},
   "source": [
    "Some common data cleaning examples are:\n",
    " • deleting observations with missing values,\n",
    " • substituting reasonable values for missing values,\n",
    " • deleting observations with bad values,\n",
    " • substituting reasonable values for bad values,\n",
    " • tossing outliers (although sometimes you’ll want to keep them),\n",
    " • duplicate elimination (although sometimes duplicates are valid),\n",
    " • dealing with inconsistent data,\n",
    " • and more."
   ]
  },
  {
   "cell_type": "raw",
   "id": "27d89278-fdaf-4bb3-95d1-b97671f3bd6e",
   "metadata": {},
   "source": [
    "Some common data transformations include:\n",
    " • removing unnecessary data and features (we’ll say more about features in the data science case studies),\n",
    " • combining related features,\n",
    " • sampling data to obtain a representative subset (we’ll see in the data science case studies that random\n",
    "   sampling is particularly effective for this and we’ll say why),\n",
    " • standardizing data formats,\n",
    " • grouping data,\n",
    " • and more."
   ]
  },
  {
   "cell_type": "markdown",
   "id": "2389a639-4856-4d58-bf98-dda33a0e6895",
   "metadata": {},
   "source": [
    "#### Cleaning Your Data \n",
    "['Brown, Sue', 36.5, 36.3, 36.7, 0.0]"
   ]
  },
  {
   "cell_type": "markdown",
   "id": "e77789fd-af21-4f1a-86db-6e70ddd7e43d",
   "metadata": {},
   "source": [
    "#### Data Validation"
   ]
  },
  {
   "cell_type": "code",
   "execution_count": null,
   "id": "c912f22f-2fc6-4519-aed1-771617f77a5b",
   "metadata": {},
   "outputs": [],
   "source": [
    "import pandas as pd"
   ]
  },
  {
   "cell_type": "code",
   "execution_count": null,
   "id": "93212bb9-61a3-4977-a264-c1859a3ec4e7",
   "metadata": {},
   "outputs": [],
   "source": [
    "zips = pd.Series({'Boston': '02215', 'Miami': '3310'})"
   ]
  },
  {
   "cell_type": "code",
   "execution_count": null,
   "id": "f42e4de2-3944-4ff1-8618-aad4e77327fd",
   "metadata": {},
   "outputs": [],
   "source": [
    "zips"
   ]
  },
  {
   "cell_type": "code",
   "execution_count": null,
   "id": "8bb20d49-9c7b-410d-b543-62bcf60f2ef4",
   "metadata": {},
   "outputs": [],
   "source": [
    "zips.str.match(r'\\d{5}')"
   ]
  },
  {
   "cell_type": "code",
   "execution_count": null,
   "id": "99c8c588-f27d-4e72-8d56-748e3b47dd8e",
   "metadata": {},
   "outputs": [],
   "source": [
    "cities = pd.Series(['Boston, MA 02215', 'Miami, FL 33101'])"
   ]
  },
  {
   "cell_type": "code",
   "execution_count": null,
   "id": "1cd7198a-2045-47e7-be90-aff09532638c",
   "metadata": {},
   "outputs": [],
   "source": [
    "cities"
   ]
  },
  {
   "cell_type": "code",
   "execution_count": null,
   "id": "c5c05e0f-4412-4341-9796-e292a87457f3",
   "metadata": {},
   "outputs": [],
   "source": [
    "cities.str.contains(r' [A-Z]{2} ')"
   ]
  },
  {
   "cell_type": "code",
   "execution_count": null,
   "id": "29d7b345-4675-4167-993a-8386b66487cc",
   "metadata": {},
   "outputs": [],
   "source": [
    "cities.str.match(r' [A-Z]{2} ')"
   ]
  },
  {
   "cell_type": "markdown",
   "id": "c394c785-a858-4bfd-8713-03b73a61a7a7",
   "metadata": {},
   "source": [
    "#### Reformatting Your Data"
   ]
  },
  {
   "cell_type": "code",
   "execution_count": null,
   "id": "907e2d0a-f02c-401b-b277-77c71c1d3667",
   "metadata": {},
   "outputs": [],
   "source": [
    "contacts = [['Mike Green', 'demo1@deitel.com', '5555555555'],\n",
    "            ['Sue Brown', 'demo2@deitel.com', '5555551234']]"
   ]
  },
  {
   "cell_type": "code",
   "execution_count": null,
   "id": "c8cf45dc-5daf-4bab-ba92-45114d86f6b5",
   "metadata": {},
   "outputs": [],
   "source": [
    "contactsdf = pd.DataFrame(contacts, \n",
    "                          columns=['Name', 'Email', 'Phone'])"
   ]
  },
  {
   "cell_type": "code",
   "execution_count": null,
   "id": "d107aa4b-2430-4094-a222-ac28339efe1b",
   "metadata": {},
   "outputs": [],
   "source": [
    "contactsdf"
   ]
  },
  {
   "cell_type": "code",
   "execution_count": null,
   "id": "82a5b8a4-0178-473b-9b96-5e53423f3396",
   "metadata": {},
   "outputs": [],
   "source": [
    "import re"
   ]
  },
  {
   "cell_type": "code",
   "execution_count": null,
   "id": "2a681fdf-098c-42fc-8813-58f73fe17748",
   "metadata": {},
   "outputs": [],
   "source": [
    "def get_formatted_phone(value):\n",
    "    result = re.fullmatch(r'(\\d{3})(\\d{3})(\\d{4})', value)\n",
    "    return '-'.join(result.groups()) if result else value"
   ]
  },
  {
   "cell_type": "code",
   "execution_count": null,
   "id": "ee4e36cf-2166-4cca-8b31-994d329eaa5b",
   "metadata": {},
   "outputs": [],
   "source": [
    "formatted_phone = contactsdf['Phone'].map(get_formatted_phone)"
   ]
  },
  {
   "cell_type": "code",
   "execution_count": null,
   "id": "687d4593-4599-46a2-93fc-4ba47562bced",
   "metadata": {},
   "outputs": [],
   "source": [
    "formatted_phone"
   ]
  },
  {
   "cell_type": "code",
   "execution_count": null,
   "id": "1f53ac0a-4094-42d7-8d2a-876178b867a2",
   "metadata": {},
   "outputs": [],
   "source": [
    "contactsdf['Phone'] = formatted_phone"
   ]
  },
  {
   "cell_type": "code",
   "execution_count": null,
   "id": "6fdf3116-720d-4355-9016-67c72b063031",
   "metadata": {},
   "outputs": [],
   "source": [
    "contactsdf"
   ]
  },
  {
   "cell_type": "code",
   "execution_count": null,
   "id": "1448cb43-90a4-49e1-9e6c-7a5c0954e304",
   "metadata": {},
   "outputs": [],
   "source": []
  }
 ],
 "metadata": {
  "kernelspec": {
   "display_name": "Python 3 (ipykernel)",
   "language": "python",
   "name": "python3"
  },
  "language_info": {
   "codemirror_mode": {
    "name": "ipython",
    "version": 3
   },
   "file_extension": ".py",
   "mimetype": "text/x-python",
   "name": "python",
   "nbconvert_exporter": "python",
   "pygments_lexer": "ipython3",
   "version": "3.9.7"
  }
 },
 "nbformat": 4,
 "nbformat_minor": 5
}
