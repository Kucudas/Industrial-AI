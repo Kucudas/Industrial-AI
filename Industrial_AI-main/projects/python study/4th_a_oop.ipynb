{
 "cells": [
  {
   "cell_type": "markdown",
   "id": "12255e89-425b-428e-909c-653d1c592b66",
   "metadata": {
    "tags": []
   },
   "source": [
    "## Class `Account` "
   ]
  },
  {
   "cell_type": "markdown",
   "id": "81d87f88-3d71-46bf-93ba-70354e9b0576",
   "metadata": {},
   "source": [
    "### Importing Classes Account and Decimal"
   ]
  },
  {
   "cell_type": "code",
   "execution_count": null,
   "id": "0ab5189a-3901-444c-b0c3-68ff5a166dde",
   "metadata": {},
   "outputs": [],
   "source": [
    "from account import Account"
   ]
  },
  {
   "cell_type": "code",
   "execution_count": null,
   "id": "dbf42f2f-3f65-4463-a831-6fc4e164c127",
   "metadata": {},
   "outputs": [],
   "source": [
    "from decimal import Decimal"
   ]
  },
  {
   "cell_type": "markdown",
   "id": "fdd101c2-6e68-4a5d-8175-b6f353984d54",
   "metadata": {},
   "source": [
    "### Create an `Account` Object "
   ]
  },
  {
   "cell_type": "raw",
   "id": "90887399-4f36-48f6-9e94-2bf56fe01542",
   "metadata": {},
   "source": [
    "Constructor expressions : value = Decimal('12.34')\n",
    " - create new objects\n",
    " - initialize data attributes"
   ]
  },
  {
   "cell_type": "code",
   "execution_count": null,
   "id": "6aa39bcf-3347-4e27-bcf6-5a3142542847",
   "metadata": {},
   "outputs": [],
   "source": [
    "account1 = Account('John Green', Decimal('50.00'))"
   ]
  },
  {
   "cell_type": "raw",
   "id": "9c92d1a2-0a6d-4430-82b3-65d2d995e23d",
   "metadata": {},
   "source": [
    "파이썬 소수 연산 - float 타입과 decimal 모듈"
   ]
  },
  {
   "cell_type": "code",
   "execution_count": null,
   "id": "6dbfe4d8-5c12-47fc-ac59-6c21b52420ee",
   "metadata": {},
   "outputs": [],
   "source": [
    "파이썬의 float 기본 타입은 대부분의 다른 프로그래밍 언어들처럼 소수를 내부적으로 이진수의 형태로 저장\n",
    "모든 십진 소수가 이진 소수의 형태로 딱 떨어지게 표현될 수 있는 것은 아님\n",
    "예를 들어, 십진 소수 0.895를 이진 소수로 변환해보면 0.111001010001111011...가 되어 무한 소수로 된다."
   ]
  },
  {
   "cell_type": "code",
   "execution_count": null,
   "id": "abf3b812-5d53-4c9c-9504-df847ae02cf0",
   "metadata": {},
   "outputs": [],
   "source": [
    "1.1 + 2.2"
   ]
  },
  {
   "cell_type": "code",
   "execution_count": null,
   "id": "2c6d1443-4272-442b-bac4-2014e5d33fe3",
   "metadata": {},
   "outputs": [],
   "source": [
    "8.95 * 100"
   ]
  },
  {
   "cell_type": "raw",
   "id": "8968cf70-d48b-49f2-8704-ffb1690e9f37",
   "metadata": {},
   "source": [
    "정확한 십진수 기반의 연산이 필요한 경우를 위해서 파이썬에서는 decimal 내장 모듈을 제공"
   ]
  },
  {
   "cell_type": "code",
   "execution_count": 2,
   "id": "096aee99-914b-48a3-8757-7221cfb1f8e5",
   "metadata": {},
   "outputs": [
    {
     "data": {
      "text/plain": [
       "Decimal('3.3')"
      ]
     },
     "execution_count": 2,
     "metadata": {},
     "output_type": "execute_result"
    }
   ],
   "source": [
    "from decimal import Decimal\n",
    "Decimal('1.1') + Decimal('2.2')"
   ]
  },
  {
   "cell_type": "raw",
   "id": "57f0d281-e46b-4d9c-8786-bf12479b2702",
   "metadata": {},
   "source": [
    "Decimal 클래스를 사용할 때 한가지 주의 사항"
   ]
  },
  {
   "cell_type": "code",
   "execution_count": 3,
   "id": "ee0d0055-e845-4039-9e81-8b4105cf63e3",
   "metadata": {},
   "outputs": [
    {
     "data": {
      "text/plain": [
       "Decimal('1.100000000000000088817841970012523233890533447265625')"
      ]
     },
     "execution_count": 3,
     "metadata": {},
     "output_type": "execute_result"
    }
   ],
   "source": [
    "Decimal(1.1)"
   ]
  },
  {
   "cell_type": "code",
   "execution_count": null,
   "id": "d17f76fa-075d-4cbd-bd28-26eb5b0f0368",
   "metadata": {},
   "outputs": [],
   "source": [
    "Decimal('1.1')"
   ]
  },
  {
   "cell_type": "markdown",
   "id": "5d85e459-46b4-4b98-badd-865d308aa72c",
   "metadata": {},
   "source": [
    "### Getting an `Account`’s Name and Balance"
   ]
  },
  {
   "cell_type": "code",
   "execution_count": null,
   "id": "63965e1f-f232-4d7c-b715-4d8750d1c73b",
   "metadata": {},
   "outputs": [],
   "source": [
    "account1.name"
   ]
  },
  {
   "cell_type": "code",
   "execution_count": null,
   "id": "3be681e4-86ef-4fa2-8042-175d29651453",
   "metadata": {},
   "outputs": [],
   "source": [
    "account1.balance"
   ]
  },
  {
   "cell_type": "markdown",
   "id": "34b0397f-99f4-4661-b59f-4daadccc594a",
   "metadata": {},
   "source": [
    "### Depositing Money into an `Account` "
   ]
  },
  {
   "cell_type": "code",
   "execution_count": null,
   "id": "c29f1a08-067b-4132-8efb-417f1ee25d45",
   "metadata": {},
   "outputs": [],
   "source": [
    "account1.deposit(Decimal('25.53'))"
   ]
  },
  {
   "cell_type": "code",
   "execution_count": null,
   "id": "d24102ca-9593-4034-a9a4-7670e957dd6c",
   "metadata": {},
   "outputs": [],
   "source": [
    "account1.balance"
   ]
  },
  {
   "cell_type": "markdown",
   "id": "9d3c06c7-7cbe-4df7-a014-9678a3c1c789",
   "metadata": {},
   "source": [
    "### `Account` Methods Perform Validation"
   ]
  },
  {
   "cell_type": "code",
   "execution_count": null,
   "id": "4aeec1a2-ed93-4943-9ad6-d9ea6133b210",
   "metadata": {},
   "outputs": [],
   "source": [
    "account1.deposit(Decimal('-123.45'))"
   ]
  },
  {
   "cell_type": "code",
   "execution_count": null,
   "id": "ed346c6b-d7f9-4f5f-9b77-12c5fc931740",
   "metadata": {},
   "outputs": [],
   "source": [
    "Account?"
   ]
  },
  {
   "cell_type": "markdown",
   "id": "f14ef78e-2963-49a0-a6de-db3d2e375ddc",
   "metadata": {},
   "source": [
    "## Composition: Object References as Members of Classes"
   ]
  },
  {
   "cell_type": "raw",
   "id": "71d300e4-0aa8-456a-a6b2-706d625a84d8",
   "metadata": {},
   "source": [
    "- Account object’s name attribute: string object\n",
    "- Account object’s balance attribute: Decimal object\n",
    "- Composition is a form of software reusability and the “has a” relationship"
   ]
  },
  {
   "cell_type": "markdown",
   "id": "fc5ab344-eaea-4bd8-bf91-5b121e09647a",
   "metadata": {},
   "source": [
    "# Controlling Access to Attributes "
   ]
  },
  {
   "cell_type": "code",
   "execution_count": null,
   "id": "8a560081-ddcc-433e-b8dd-35f88e414fa3",
   "metadata": {},
   "outputs": [],
   "source": [
    "from account import Account"
   ]
  },
  {
   "cell_type": "code",
   "execution_count": null,
   "id": "3ccb85f7-92ce-4b0c-99b1-5eec8e7dfdef",
   "metadata": {},
   "outputs": [],
   "source": [
    "from decimal import Decimal"
   ]
  },
  {
   "cell_type": "code",
   "execution_count": null,
   "id": "9e2d7c76-d335-4f78-aa2f-c92d66ed9331",
   "metadata": {},
   "outputs": [],
   "source": [
    "account1 = Account('John Green', Decimal('50.00'))"
   ]
  },
  {
   "cell_type": "code",
   "execution_count": null,
   "id": "16e872e9-afec-46d1-93c3-bc315e1c4300",
   "metadata": {},
   "outputs": [],
   "source": [
    "account1.balance"
   ]
  },
  {
   "cell_type": "code",
   "execution_count": null,
   "id": "1d501df1-3bcb-4cdb-ba9a-f2167da59e63",
   "metadata": {},
   "outputs": [],
   "source": [
    "account1.balance = Decimal('-1000.00')"
   ]
  },
  {
   "cell_type": "code",
   "execution_count": null,
   "id": "dbae1287-cd67-41b5-bea3-37b9a25bf15d",
   "metadata": {},
   "outputs": [],
   "source": [
    "account1.balance"
   ]
  },
  {
   "cell_type": "markdown",
   "id": "f09c768a-2579-4c6d-9e8c-324424a6f3e9",
   "metadata": {
    "tags": []
   },
   "source": [
    "### Encapsulation "
   ]
  },
  {
   "cell_type": "raw",
   "id": "5624d31a-5768-4d1e-be20-93a831ee7525",
   "metadata": {},
   "source": [
    "- A class’s client code is any code that uses objects of the class.\n",
    "- To encapsulate (or hide) an object’s data from the client code\n",
    "- 파이썬은 의도된 사용법을 지시하는 프로그래밍 관례를 따른다. 이러한 관례는 명명(naming)에 기반을 둔다\n",
    "- 프로그래머가 자발적으로 준수하는 것이 일반적\n"
   ]
  },
  {
   "cell_type": "markdown",
   "id": "6d8bea12-24e6-4c49-8754-e24c0bee197f",
   "metadata": {},
   "source": [
    "### Leading Underscore (`_`) Naming Convention"
   ]
  },
  {
   "cell_type": "raw",
   "id": "9088180f-e078-4a6b-a3ed-d8d7d19b77b2",
   "metadata": {},
   "source": [
    "- Python does not have private data\n",
    "- naming conventions: Python programmers know that any attribute name beginning with \n",
    "                      an underscore (_) is for a class’s internal use only."
   ]
  },
  {
   "cell_type": "markdown",
   "id": "10526403-2a6a-49a6-9613-1cf4141f3555",
   "metadata": {},
   "source": [
    "## Properties for Data Access"
   ]
  },
  {
   "cell_type": "raw",
   "id": "18d825c9-c9bc-4d89-b9a1-6d74b3b1e620",
   "metadata": {},
   "source": [
    "properties control the manner in which client-code programmers get and modify an object's data"
   ]
  },
  {
   "cell_type": "code",
   "execution_count": null,
   "id": "317c699b-659a-4931-a3f9-bf8c674da8a4",
   "metadata": {},
   "outputs": [],
   "source": [
    "from timewithproperties import Time"
   ]
  },
  {
   "cell_type": "code",
   "execution_count": null,
   "id": "31f9a73a-016a-431f-a0ad-4fdecac68a58",
   "metadata": {},
   "outputs": [],
   "source": [
    "# Creating a `Time` Object\n",
    "wake_up = Time(hour=6, minute=30)"
   ]
  },
  {
   "cell_type": "markdown",
   "id": "7cb421f4-6dcb-4854-a8d1-f03b3510001d",
   "metadata": {},
   "source": [
    "#### Displaying a `Time` Object"
   ]
  },
  {
   "cell_type": "code",
   "execution_count": null,
   "id": "b4f0474d-56d1-414a-acba-087d543a3768",
   "metadata": {},
   "outputs": [],
   "source": [
    "# a string representation of the object: __repr__\n",
    "wake_up"
   ]
  },
  {
   "cell_type": "code",
   "execution_count": null,
   "id": "208647ac-66af-48f7-8b14-eeb81605351b",
   "metadata": {},
   "outputs": [],
   "source": [
    "# object's conversion to to a string with print\n",
    "print(wake_up)"
   ]
  },
  {
   "cell_type": "markdown",
   "id": "0762ed0c-8e5f-41fe-9f48-00364737a966",
   "metadata": {},
   "source": [
    "#### Getting an Attribute Via a Property "
   ]
  },
  {
   "cell_type": "raw",
   "id": "9d65341c-5fc0-4994-917a-003ea7c1131a",
   "metadata": {},
   "source": [
    " - Class time provides hour, minute and second properties\n",
    " - Properties provide the convenience of data attributes for getting and modifying an object’s data\n",
    " - Properties are implemented as methods"
   ]
  },
  {
   "cell_type": "code",
   "execution_count": null,
   "id": "3d83a6ba-5f26-4b63-99db-63a269af7c3a",
   "metadata": {},
   "outputs": [],
   "source": [
    "# get the wake_up object’s hour value\n",
    "wake_up.hour"
   ]
  },
  {
   "cell_type": "code",
   "execution_count": null,
   "id": "d2ad0941-da59-44ea-bba9-1766e5422a5c",
   "metadata": {},
   "outputs": [],
   "source": [
    "# Setting the `Time` with the Time object’s set_time method\n",
    "wake_up.set_time(hour=7, minute=45)"
   ]
  },
  {
   "cell_type": "code",
   "execution_count": null,
   "id": "c970c253-3720-4572-bc87-42b9dcaece24",
   "metadata": {},
   "outputs": [],
   "source": [
    "wake_up"
   ]
  },
  {
   "cell_type": "code",
   "execution_count": null,
   "id": "e62c1682-3d21-4cd6-8334-e37ad352bb7b",
   "metadata": {},
   "outputs": [],
   "source": [
    "# Setting an Attribute via a Property \n",
    "wake_up.hour = 6"
   ]
  },
  {
   "cell_type": "code",
   "execution_count": null,
   "id": "14d6b949-c11e-4eda-9569-78b33dbb3e8f",
   "metadata": {},
   "outputs": [],
   "source": [
    "wake_up"
   ]
  },
  {
   "cell_type": "code",
   "execution_count": null,
   "id": "bb337260-6e26-44f9-b8d1-3b3e9e137860",
   "metadata": {},
   "outputs": [],
   "source": [
    "# Attempting to Set an Invalid Value to the hour property\n",
    "wake_up.hour = 100"
   ]
  },
  {
   "cell_type": "code",
   "execution_count": null,
   "id": "78ecc8b2-6192-4575-8c71-199ef7a6a9a2",
   "metadata": {},
   "outputs": [],
   "source": []
  },
  {
   "cell_type": "markdown",
   "id": "534426b8-5dea-4f8f-8d93-2a0126dbaecf",
   "metadata": {},
   "source": [
    "## Class `Time` Definition\n",
    "#### Class Time: `__init__` Method with Default Parameter Values\n",
    "```python\n",
    "class Time:\n",
    "    \"\"\"Class Time with read-write properties.\"\"\"\n",
    "\n",
    "    def __init__(self, hour=0, minute=0, second=0):\n",
    "        \"\"\"Initialize each attribute.\"\"\"\n",
    "        self.hour = hour  # 0-23\n",
    "        self.minute = minute  # 0-59\n",
    "        self.second = second  # 0-59\n",
    "```\n",
    "#### Class `Time`: `hour` Read-Write Property\n",
    "```python\n",
    "    @property\n",
    "    def hour(self):\n",
    "        \"\"\"Return the hour.\"\"\"\n",
    "        return self._hour\n",
    "\n",
    "    @hour.setter\n",
    "    def hour(self, hour):\n",
    "        \"\"\"Set the hour.\"\"\"\n",
    "        if not (0 <= hour < 24):\n",
    "            raise ValueError(f'Hour ({hour}) must be 0-23')\n",
    "\n",
    "        self._hour = hour\n",
    "``` \n",
    "#### Class `Time`: `minute` and `second` Read-Write Properties\n",
    "```python\n",
    "    @property\n",
    "    def minute(self):\n",
    "        \"\"\"Return the minute.\"\"\"\n",
    "        return self._minute\n",
    "\n",
    "    @minute.setter\n",
    "    def minute(self, minute):\n",
    "        \"\"\"Set the minute.\"\"\"\n",
    "        if not (0 <= minute < 60):\n",
    "            raise ValueError(f'Minute ({minute}) must be 0-59')\n",
    "\n",
    "        self._minute = minute\n",
    "\n",
    "    @property\n",
    "    def second(self):\n",
    "        \"\"\"Return the second.\"\"\"\n",
    "        return self._second\n",
    "\n",
    "    @second.setter\n",
    "    def second(self, second):\n",
    "        \"\"\"Set the second.\"\"\"\n",
    "        if not (0 <= second < 60):\n",
    "            raise ValueError(f'Second ({second}) must be 0-59')\n",
    "\n",
    "        self._second = second\n",
    "```\n",
    "#### Class `Time`: Method `set_time` \n",
    "```python\n",
    "    def set_time(self, hour=0, minute=0, second=0):\n",
    "        \"\"\"Set values of hour, minute, and second.\"\"\"\n",
    "        self.hour = hour\n",
    "        self.minute = minute\n",
    "        self.second = second\n",
    "```\n",
    "#### Class `Time`: Special Method `__repr__`\n",
    "```python\n",
    "    def __repr__(self):\n",
    "        \"\"\"Return Time string for repr().\"\"\"\n",
    "        return (f'Time(hour={self.hour}, minute={self.minute}, ' + \n",
    "                f'second={self.second})')\n",
    "```\n",
    "#### Class `Time`: Special Method `__str__` \n",
    "```python\n",
    "    def __str__(self):\n",
    "        \"\"\"Print Time in 12-hour clock format.\"\"\"\n",
    "        return (('12' if self.hour in (0, 12) else str(self.hour % 12)) + \n",
    "                f':{self.minute:0>2}:{self.second:0>2}' + \n",
    "                (' AM' if self.hour < 12 else ' PM'))\n",
    "\n",
    "```"
   ]
  },
  {
   "cell_type": "code",
   "execution_count": null,
   "id": "ffbbd464-9bcc-44a4-b8b6-0076d364c706",
   "metadata": {},
   "outputs": [],
   "source": []
  },
  {
   "cell_type": "markdown",
   "id": "91da3b0f-a3ec-4bde-a31c-3bd4d849ce40",
   "metadata": {},
   "source": [
    "## Class `Time` Definition Design Notes \n",
    "#### Interface of a Class"
   ]
  },
  {
   "cell_type": "raw",
   "id": "29a663ce-21c9-498a-b67c-6da106973e9c",
   "metadata": {},
   "source": [
    "- Class Time’s properties and methods define the class’s public interface."
   ]
  },
  {
   "cell_type": "markdown",
   "id": "57360be9-dc74-4bc6-9eb7-1eff87deeb3b",
   "metadata": {},
   "source": [
    "#### Attributes Are Always Accessible"
   ]
  },
  {
   "cell_type": "code",
   "execution_count": null,
   "id": "1e73dce9-ba20-49e6-84a4-66910a0baa02",
   "metadata": {},
   "outputs": [],
   "source": [
    "from timewithproperties import Time"
   ]
  },
  {
   "cell_type": "code",
   "execution_count": null,
   "id": "5646c04a-6596-4aba-8b14-2931a1ef12ae",
   "metadata": {},
   "outputs": [],
   "source": [
    "wake_up = Time(hour=7, minute=45, second=30)"
   ]
  },
  {
   "cell_type": "code",
   "execution_count": null,
   "id": "336693fb-09f7-438e-bfc1-966aaef45ef7",
   "metadata": {},
   "outputs": [],
   "source": [
    "wake_up._hour"
   ]
  },
  {
   "cell_type": "code",
   "execution_count": null,
   "id": "523533e0-769d-4c15-9ab8-55aae27c5ec6",
   "metadata": {},
   "outputs": [],
   "source": [
    "wake_up._hour = 100"
   ]
  },
  {
   "cell_type": "code",
   "execution_count": null,
   "id": "5d59fc57-f583-48ab-99e2-ca1d6679ad1c",
   "metadata": {},
   "outputs": [],
   "source": [
    "wake_up"
   ]
  },
  {
   "cell_type": "markdown",
   "id": "ec638ab6-7bc8-4c96-ad69-b9aea6834b4a",
   "metadata": {},
   "source": [
    "#### Evolving a Class’s Implementation Details"
   ]
  },
  {
   "cell_type": "raw",
   "id": "a17d3240-3d72-4405-85ef-72106886ac64",
   "metadata": {},
   "source": [
    " - When design a class, carefull consideration of the class’s interface is needed\n",
    " - follow convention and do not access internal attributes"
   ]
  },
  {
   "cell_type": "markdown",
   "id": "b014c6ef-256a-4edd-8ad0-8293d179c70e",
   "metadata": {},
   "source": [
    "#### Utility Methods"
   ]
  },
  {
   "cell_type": "raw",
   "id": "2e0e38fd-6f17-4b8e-b45e-116dd75db7fc",
   "metadata": {},
   "source": [
    " - Utility methods used only inside the class and not the class’s public interface\n",
    " - Utility methods should be named with a single leading underscore."
   ]
  },
  {
   "cell_type": "markdown",
   "id": "92bac91e-bbed-449a-af1e-9ceaf86ae3ce",
   "metadata": {
    "tags": []
   },
   "source": [
    "### Demonstrating “Private” Attributes"
   ]
  },
  {
   "cell_type": "raw",
   "id": "c4f180f1-3acc-4f31-8347-b09f4809522f",
   "metadata": {},
   "source": [
    "- the attribute with two leading underscores name is \"private'\n",
    "- Python renames two leading underscores name by preceding the attribute name with _ClassName(name mangling)"
   ]
  },
  {
   "cell_type": "markdown",
   "id": "6a06bea8-4ed3-4a2e-a733-9e36258f4188",
   "metadata": {},
   "source": [
    "```python\n",
    "# private.py\n",
    "\"\"\"Class with public and private attributes.\"\"\"\n",
    "\n",
    "class PrivateClass:\n",
    "    \"\"\"Class with public and private attributes.\"\"\"\n",
    "\n",
    "    def __init__(self):\n",
    "        \"\"\"Initialize the public and private attributes.\"\"\"\n",
    "        self.public_data = \"public\"  # public attribute\n",
    "        self.__private_data = \"private\"  # private attribute\n",
    "\n",
    "```"
   ]
  },
  {
   "cell_type": "code",
   "execution_count": null,
   "id": "77ead6a6-1adf-4f3a-98ed-3052f2df547d",
   "metadata": {},
   "outputs": [],
   "source": [
    "from private import PrivateClass"
   ]
  },
  {
   "cell_type": "code",
   "execution_count": null,
   "id": "73d16da2-f8d4-4f89-917f-709eff582d99",
   "metadata": {},
   "outputs": [],
   "source": [
    "my_object = PrivateClass()"
   ]
  },
  {
   "cell_type": "code",
   "execution_count": null,
   "id": "553cb043-da1a-4cfc-92f4-fbcaff4ad29b",
   "metadata": {},
   "outputs": [],
   "source": [
    "my_object.public_data"
   ]
  },
  {
   "cell_type": "code",
   "execution_count": null,
   "id": "e5bf2c16-b431-467f-a88b-26a52a8d6a5b",
   "metadata": {},
   "outputs": [],
   "source": [
    "my_object.__private_data"
   ]
  },
  {
   "cell_type": "code",
   "execution_count": null,
   "id": "4ae166bf-6e62-4b00-bb46-5dc7f62e2a11",
   "metadata": {},
   "outputs": [],
   "source": []
  }
 ],
 "metadata": {
  "kernelspec": {
   "display_name": "Python 3 (ipykernel)",
   "language": "python",
   "name": "python3"
  },
  "language_info": {
   "codemirror_mode": {
    "name": "ipython",
    "version": 3
   },
   "file_extension": ".py",
   "mimetype": "text/x-python",
   "name": "python",
   "nbconvert_exporter": "python",
   "pygments_lexer": "ipython3",
   "version": "3.9.7"
  }
 },
 "nbformat": 4,
 "nbformat_minor": 5
}
