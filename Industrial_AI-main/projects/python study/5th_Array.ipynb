{
 "cells": [
  {
   "cell_type": "markdown",
   "id": "bae9ce77-2d1e-4c31-835a-68b6a31c583a",
   "metadata": {},
   "source": [
    "# Introduction\n",
    "- The NumPy (Numerical Python) library first appeared in 2006.\n",
    "- The NumPy offers a high-performance, richly functional n-dimensional array type called ndarray.\n",
    "- Over 450 Python libraries depend on NumPy\n",
    "- Pandas, SciPy (Scientific Python) and Keras (for deep learning) are built on or depend on NumPy\n",
    "- Pandas: array-like one dimensional Series and two-dimensional DataFrames\n",
    "- Pandas support mixed data types, custom indexing, missing data, etc.."
   ]
  },
  {
   "cell_type": "markdown",
   "id": "64e54801-c79c-4679-968f-c20b2e4e46c2",
   "metadata": {},
   "source": [
    "### Creating `arrays` from Existing Data "
   ]
  },
  {
   "cell_type": "code",
   "execution_count": null,
   "id": "cdedacd0-4e70-420d-b120-da012dd6d846",
   "metadata": {},
   "outputs": [],
   "source": [
    "import numpy as np"
   ]
  },
  {
   "cell_type": "raw",
   "id": "b1e6d8dd-526e-4009-8de2-c22376c9a721",
   "metadata": {},
   "source": [
    "np.array()는 리스트, 튜플, 배열로 부터 ndarray를 생성"
   ]
  },
  {
   "cell_type": "code",
   "execution_count": null,
   "id": "af50a35d-733a-4b5f-9950-c6cd62437653",
   "metadata": {},
   "outputs": [],
   "source": [
    "numbers = np.array([2, 3, 5, 7, 11])"
   ]
  },
  {
   "cell_type": "code",
   "execution_count": null,
   "id": "ffaae3c3-d8ce-4945-8096-ad43b7f2e822",
   "metadata": {},
   "outputs": [],
   "source": [
    "type(numbers)"
   ]
  },
  {
   "cell_type": "code",
   "execution_count": null,
   "id": "48ae1e9f-196a-4a33-ad80-fd82319efa13",
   "metadata": {},
   "outputs": [],
   "source": [
    "numbers"
   ]
  },
  {
   "cell_type": "markdown",
   "id": "4498f488-5d32-4252-9264-b4c132e92b02",
   "metadata": {},
   "source": [
    "- NumPy separates each value from the next with a comma and a space and right-aligns all the values using the same field width.\n",
    "- Field width based on the value that occupies the largest number of character positions"
   ]
  },
  {
   "cell_type": "markdown",
   "id": "2b564388-0e82-4a2d-9949-86ca076fdf23",
   "metadata": {},
   "source": [
    "#### Multidimensional Arguments"
   ]
  },
  {
   "cell_type": "code",
   "execution_count": null,
   "id": "89ae35e1-3f18-428b-bf6b-f35925c0b6c9",
   "metadata": {},
   "outputs": [],
   "source": [
    "integers = np.array([[1, 2, 3], [4, 5, 6]])"
   ]
  },
  {
   "cell_type": "code",
   "execution_count": null,
   "id": "e582774d-da3a-4565-9b49-e8895059914c",
   "metadata": {},
   "outputs": [],
   "source": [
    "integers"
   ]
  },
  {
   "cell_type": "markdown",
   "id": "1737daca-4739-4621-b43b-06da594dc21c",
   "metadata": {},
   "source": [
    "- NumPy auto-formats arrays, based on their number of dimensions, aligning the columns\n",
    "within each row."
   ]
  },
  {
   "cell_type": "markdown",
   "id": "913609d9-03f7-422e-b98c-89a5ac565606",
   "metadata": {},
   "source": [
    "### `array` Attributes "
   ]
  },
  {
   "cell_type": "code",
   "execution_count": null,
   "id": "b9dd8bc9-1448-45a6-a09e-b1af54d3aec0",
   "metadata": {},
   "outputs": [],
   "source": [
    "floats = np.array([0.0, 0.1, 0.2, 0.3, 0.4])"
   ]
  },
  {
   "cell_type": "code",
   "execution_count": null,
   "id": "ab5312ae-aa2d-44f9-943f-e603a547a06f",
   "metadata": {},
   "outputs": [],
   "source": [
    "floats"
   ]
  },
  {
   "cell_type": "markdown",
   "id": "adc111fb-bfea-48a9-9696-724a25f932c7",
   "metadata": {},
   "source": [
    "##### Determining an `array`’s Element Type"
   ]
  },
  {
   "cell_type": "code",
   "execution_count": null,
   "id": "d14ae0d5-47a8-46f5-9990-6c79c79d50ba",
   "metadata": {},
   "outputs": [],
   "source": [
    "integers.dtype"
   ]
  },
  {
   "cell_type": "code",
   "execution_count": null,
   "id": "664e6259-85d0-4316-84f1-bae785c6c506",
   "metadata": {},
   "outputs": [],
   "source": [
    "floats.dtype"
   ]
  },
  {
   "cell_type": "markdown",
   "id": "5d33b29c-7075-4e10-8fbc-16f2371acb72",
   "metadata": {},
   "source": [
    "##### Determining an `array`’s Dimensions"
   ]
  },
  {
   "cell_type": "code",
   "execution_count": null,
   "id": "9c3bb8b0-6f06-4e4f-8f37-9c5a578364bd",
   "metadata": {},
   "outputs": [],
   "source": [
    "integers.ndim"
   ]
  },
  {
   "cell_type": "code",
   "execution_count": null,
   "id": "9e87250c-c97e-4599-a781-b6d98dc01453",
   "metadata": {},
   "outputs": [],
   "source": [
    "floats.ndim"
   ]
  },
  {
   "cell_type": "code",
   "execution_count": null,
   "id": "a2bc5cf1-533e-4509-92cc-02c50a7bd467",
   "metadata": {},
   "outputs": [],
   "source": []
  },
  {
   "cell_type": "code",
   "execution_count": null,
   "id": "e5820946-b418-4cd6-a036-feb42bfe889f",
   "metadata": {},
   "outputs": [],
   "source": [
    "integers.shape"
   ]
  },
  {
   "cell_type": "code",
   "execution_count": null,
   "id": "025bd588-016f-4e4e-bc7e-351ae6fe1730",
   "metadata": {},
   "outputs": [],
   "source": [
    "floats.shape"
   ]
  },
  {
   "cell_type": "markdown",
   "id": "7d7fa8ab-a396-4bc8-af02-731395f719a5",
   "metadata": {},
   "source": [
    "##### Determining an `array`’s Number of Elements and Element Size"
   ]
  },
  {
   "cell_type": "code",
   "execution_count": null,
   "id": "2bdbaacb-2d90-4e26-9ff3-0ce0f7945308",
   "metadata": {},
   "outputs": [],
   "source": [
    "integers.size"
   ]
  },
  {
   "cell_type": "code",
   "execution_count": null,
   "id": "e9b7ce96-089e-4190-afc6-0fe48b770886",
   "metadata": {},
   "outputs": [],
   "source": [
    "integers.itemsize  # 32-bit integer "
   ]
  },
  {
   "cell_type": "code",
   "execution_count": null,
   "id": "5c3b2af5-45a1-496c-857a-396b3b964704",
   "metadata": {},
   "outputs": [],
   "source": [
    "floats.size"
   ]
  },
  {
   "cell_type": "code",
   "execution_count": null,
   "id": "13632ed0-55f2-44c8-9b6c-16482202ae7f",
   "metadata": {},
   "outputs": [],
   "source": [
    "floats.itemsize"
   ]
  },
  {
   "cell_type": "markdown",
   "id": "171c33b2-7f25-40a0-a5db-d9aae6a220a0",
   "metadata": {},
   "source": [
    "##### Iterating through a Multidimensional `array`’s Elements"
   ]
  },
  {
   "cell_type": "code",
   "execution_count": null,
   "id": "0d9c06f3-013f-455b-ae08-208ed0048069",
   "metadata": {},
   "outputs": [],
   "source": [
    "for row in integers:\n",
    "    for column in row:\n",
    "        print(column, end='  ')\n",
    "    print() "
   ]
  },
  {
   "cell_type": "code",
   "execution_count": null,
   "id": "b1f2a440-8ef3-4732-aca5-8e548b8db407",
   "metadata": {},
   "outputs": [],
   "source": [
    "for i in integers.flat:\n",
    "    print(i, end='  ')"
   ]
  },
  {
   "cell_type": "markdown",
   "id": "3590a52d-74f8-483c-9ae8-a9368989031d",
   "metadata": {},
   "source": [
    "### Filling `array`s with Specific Values"
   ]
  },
  {
   "cell_type": "code",
   "execution_count": null,
   "id": "3f600761-f5aa-40b8-aa17-412bf57f4de2",
   "metadata": {},
   "outputs": [],
   "source": [
    "np.zeros(5)"
   ]
  },
  {
   "cell_type": "code",
   "execution_count": null,
   "id": "0288e2e3-4b1e-4d21-be8e-0bb2d10e8ce0",
   "metadata": {},
   "outputs": [],
   "source": [
    "np.ones((2, 4), dtype=int)"
   ]
  },
  {
   "cell_type": "code",
   "execution_count": null,
   "id": "e694690f-f726-49b8-8b34-195e5f069c15",
   "metadata": {},
   "outputs": [],
   "source": [
    "np.ones((2, 4), dtype=float)"
   ]
  },
  {
   "cell_type": "code",
   "execution_count": null,
   "id": "2aff561b-b933-4e75-80bb-b6feaff7ac87",
   "metadata": {},
   "outputs": [],
   "source": [
    "np.ones((2, 4), dtype=str)"
   ]
  },
  {
   "cell_type": "code",
   "execution_count": null,
   "id": "819f4a34-9f09-4c2a-9b8f-a16a4e1bcbda",
   "metadata": {},
   "outputs": [],
   "source": [
    "np.full((3, 5), 13)"
   ]
  },
  {
   "cell_type": "markdown",
   "id": "79599372-7c14-4231-b925-a3d243d7d4ae",
   "metadata": {},
   "source": [
    "### Creating `array`s from Ranges "
   ]
  },
  {
   "cell_type": "markdown",
   "id": "fd61cc6f-9cef-4c13-a7dd-c83cc3dc9d10",
   "metadata": {},
   "source": [
    "##### Creating Integer Ranges with `arange`\n",
    "- create integer rangesranges — similar to using built-in function range"
   ]
  },
  {
   "cell_type": "code",
   "execution_count": null,
   "id": "9bad26b7-e61f-4128-be22-7ed7ad94d5d7",
   "metadata": {},
   "outputs": [],
   "source": [
    "np.arange(5)"
   ]
  },
  {
   "cell_type": "code",
   "execution_count": null,
   "id": "cb707bf9-b5dc-4463-a3f5-220499bcdcda",
   "metadata": {},
   "outputs": [],
   "source": [
    "np.arange(2, 10)"
   ]
  },
  {
   "cell_type": "code",
   "execution_count": null,
   "id": "8ec855c8-a7d0-4e5f-8dc1-8e800beb868b",
   "metadata": {},
   "outputs": [],
   "source": [
    "np.arange(10, 1, -2)"
   ]
  },
  {
   "cell_type": "markdown",
   "id": "7136fad9-670d-4105-a03d-aaf58278b485",
   "metadata": {},
   "source": [
    "##### Creating Floating-Point Ranges with `linspace` \n",
    "- evenly spaced floating-point ranges\n",
    "- the ending value is included in the array\n",
    "- The optional keyword argument num specifies\n",
    "the number of evenly spaced values to produce—this argument’s default value is 50"
   ]
  },
  {
   "cell_type": "code",
   "execution_count": null,
   "id": "5e9b11ad-03e4-4fa6-afeb-bed5b49e9337",
   "metadata": {},
   "outputs": [],
   "source": [
    "np.linspace(0.0, 1.0, num=7)"
   ]
  },
  {
   "cell_type": "markdown",
   "id": "529e0d45-c522-4879-8fef-3a696a374c0f",
   "metadata": {},
   "source": [
    "##### Reshaping an `array` \n",
    "- transform the one-dimensional array into a multidimensional array\n",
    "- the new shape has the same number of elements\n",
    "as the original"
   ]
  },
  {
   "cell_type": "code",
   "execution_count": null,
   "id": "daa80ca8-eee2-4dcd-89ed-760fa6aa4731",
   "metadata": {},
   "outputs": [],
   "source": [
    "np.arange(1, 21).reshape(4, 5)"
   ]
  },
  {
   "cell_type": "markdown",
   "id": "72d94689-e62b-49aa-bcba-f60f8b390bbc",
   "metadata": {},
   "source": [
    "##### Displaying Large `array`s \n",
    "- drops the middle rows, columns or both from the output"
   ]
  },
  {
   "cell_type": "code",
   "execution_count": null,
   "id": "d45af124-c1e9-4ece-94a4-ea85105fc245",
   "metadata": {},
   "outputs": [],
   "source": [
    "np.arange(1, 100001).reshape(4, 25000)"
   ]
  },
  {
   "cell_type": "code",
   "execution_count": null,
   "id": "fb1a89c0-9016-4c36-99f5-2482218ca723",
   "metadata": {},
   "outputs": [],
   "source": [
    "np.arange(1, 100001).reshape(100, 1000)"
   ]
  },
  {
   "cell_type": "markdown",
   "id": "07706501-4013-4032-8f9e-940dce8d60be",
   "metadata": {},
   "source": [
    "## List vs. `array` Performance: Introducing `%timeit` \n",
    "###### - Most array operations execute significantly faster than corresponding list operations.\n",
    "###### - %timeit times the average duration of operations."
   ]
  },
  {
   "cell_type": "markdown",
   "id": "24027781-2940-46d1-85f8-264e0f16d263",
   "metadata": {},
   "source": [
    "##### Timing the Creation of a List Containing Results of 6,000,000 Die Rolls "
   ]
  },
  {
   "cell_type": "code",
   "execution_count": null,
   "id": "961d5674-cc09-486d-a274-78a9336ea609",
   "metadata": {},
   "outputs": [],
   "source": [
    "import random"
   ]
  },
  {
   "cell_type": "markdown",
   "id": "e5b36f60-77dc-4149-8825-b4ea5053a619",
   "metadata": {},
   "source": [
    "###### random 모듈 - 다양한 분포에 대한 난수를 생성해주는 모듈\n",
    "###### - random.randrange() - 정해준 범위 내에서 무작위 정수를 반환(지정해준 범위 마지막 숫자는 출력하지 않음)\n",
    "###### - random.randint() - randrange() 함수와 마찬가지로 정해진 범위내에서 무작위 정수를 반환(마지막 숫자도 포함해줌)"
   ]
  },
  {
   "cell_type": "code",
   "execution_count": null,
   "id": "834802a7-c876-4b2a-846b-d7484939bc68",
   "metadata": {},
   "outputs": [],
   "source": [
    "random.randrange(1,10)"
   ]
  },
  {
   "cell_type": "code",
   "execution_count": null,
   "id": "c1cb2fae-20b1-457c-95fe-81eef3ae57d5",
   "metadata": {},
   "outputs": [],
   "source": [
    "%timeit random.randint(1, 100)"
   ]
  },
  {
   "cell_type": "code",
   "execution_count": null,
   "id": "02de5df0-e9ab-463d-bf96-e0a75f51c8a3",
   "metadata": {},
   "outputs": [],
   "source": [
    "%timeit rolls_list = [random.randrange(1, 7) for i in range(0, 6_000_000)]"
   ]
  },
  {
   "cell_type": "markdown",
   "id": "af3d752b-5209-4e0e-b164-7a9ca7672339",
   "metadata": {},
   "source": [
    "##### Timing the Creation of an `array` Containing Results of 6,000,000 Die Rolls  "
   ]
  },
  {
   "cell_type": "code",
   "execution_count": null,
   "id": "86409739-590d-44b7-9169-8f02c02dc061",
   "metadata": {},
   "outputs": [],
   "source": [
    "%timeit rolls_array = np.random.randint(1, 7, 6_000_000)"
   ]
  },
  {
   "cell_type": "markdown",
   "id": "330d9d78-87bc-4550-bb50-467ae6940117",
   "metadata": {},
   "source": [
    "#### 60,000,000 and 600,000,000 Die Rolls  "
   ]
  },
  {
   "cell_type": "code",
   "execution_count": null,
   "id": "415d0bec-1339-4a77-85d7-b57433d4615f",
   "metadata": {},
   "outputs": [],
   "source": [
    "%timeit rolls_array = np.random.randint(1, 7, 60_000_000)"
   ]
  },
  {
   "cell_type": "code",
   "execution_count": null,
   "id": "e5b9116e-ea3e-4266-9e8b-ca3ac19fc987",
   "metadata": {},
   "outputs": [],
   "source": [
    "%timeit rolls_array = np.random.randint(1, 7, 600_000_000)"
   ]
  },
  {
   "cell_type": "markdown",
   "id": "ad7cbd5c-f6b6-408e-8043-282e8821c84a",
   "metadata": {},
   "source": [
    "##### Customizing the %timeit Iterations  "
   ]
  },
  {
   "cell_type": "code",
   "execution_count": null,
   "id": "db80e5c9-985e-4879-b3f5-ecc76b7a0a7f",
   "metadata": {},
   "outputs": [],
   "source": [
    "%timeit -n3 -r2 rolls_array = np.random.randint(1, 7, 6_000_000)"
   ]
  },
  {
   "cell_type": "markdown",
   "id": "1d506445-63c8-4e12-b03b-89d2281cde6f",
   "metadata": {},
   "source": [
    "### `array` Operators"
   ]
  },
  {
   "cell_type": "markdown",
   "id": "1b9b5353-58f4-449a-9711-565875dbf126",
   "metadata": {},
   "source": [
    "##### Arithmetic Operations with `array`s and Individual Numeric Values\n",
    "##### - Element-wise operations"
   ]
  },
  {
   "cell_type": "code",
   "execution_count": null,
   "id": "d2b3d2a3-3138-4185-92f6-4ee5db5d69a6",
   "metadata": {},
   "outputs": [],
   "source": [
    "numbers = np.arange(1, 6)"
   ]
  },
  {
   "cell_type": "code",
   "execution_count": null,
   "id": "f2550383-16b7-4ec8-921e-9f87ce27e217",
   "metadata": {},
   "outputs": [],
   "source": [
    "numbers"
   ]
  },
  {
   "cell_type": "code",
   "execution_count": null,
   "id": "0fe534ca-098f-45d5-b132-9aaf26e39d81",
   "metadata": {},
   "outputs": [],
   "source": [
    "numbers * 2"
   ]
  },
  {
   "cell_type": "code",
   "execution_count": null,
   "id": "e070c582-5d0e-4dd8-8293-67637f19f86a",
   "metadata": {},
   "outputs": [],
   "source": [
    "numbers ** 3"
   ]
  },
  {
   "cell_type": "code",
   "execution_count": null,
   "id": "16a48d18-2659-43b5-b6cc-e43c913e011e",
   "metadata": {},
   "outputs": [],
   "source": [
    "numbers  # numbers is unchanged by the arithmetic operators"
   ]
  },
  {
   "cell_type": "code",
   "execution_count": null,
   "id": "3bde13d6-2175-4e75-acad-74d431cb67b4",
   "metadata": {},
   "outputs": [],
   "source": [
    "numbers += 10"
   ]
  },
  {
   "cell_type": "code",
   "execution_count": null,
   "id": "8cba884e-2e44-4f52-a784-c56aabbefc46",
   "metadata": {},
   "outputs": [],
   "source": [
    "numbers"
   ]
  },
  {
   "cell_type": "markdown",
   "id": "b16b2620-21fd-42d2-b828-8e43718a9ace",
   "metadata": {},
   "source": [
    "#### Arithmetic Operations Between `array`s \n",
    "##### - operations between arrays of the same shape\n",
    "##### - Arithmetic between arrays of integers and floating-point numbers results in an array of floating-point numbers."
   ]
  },
  {
   "cell_type": "code",
   "execution_count": null,
   "id": "28f69cb1-0782-4142-b93f-de6b1959694d",
   "metadata": {},
   "outputs": [],
   "source": [
    "numbers2 = np.linspace(1.1, 5.5, 5)"
   ]
  },
  {
   "cell_type": "code",
   "execution_count": null,
   "id": "2d56cfe1-ec40-47b4-8199-fb2d29565be4",
   "metadata": {},
   "outputs": [],
   "source": [
    "numbers2"
   ]
  },
  {
   "cell_type": "code",
   "execution_count": null,
   "id": "ef1ae463-2e49-41b9-9405-1b97bac07289",
   "metadata": {},
   "outputs": [],
   "source": [
    "numbers * numbers2"
   ]
  },
  {
   "cell_type": "markdown",
   "id": "11e12061-78a9-421e-a495-d767a8c8edda",
   "metadata": {},
   "source": [
    "#### Comparing arrays\n",
    "##### - Comparisons are performed element-wise and produce arrays of Boolean values."
   ]
  },
  {
   "cell_type": "code",
   "execution_count": null,
   "id": "d583e076-9939-41ed-96c3-96cb7ee1d138",
   "metadata": {},
   "outputs": [],
   "source": [
    "numbers"
   ]
  },
  {
   "cell_type": "code",
   "execution_count": null,
   "id": "eae867e0-c4b3-409a-8c99-5d8d276d3aae",
   "metadata": {},
   "outputs": [],
   "source": [
    "numbers >= 13"
   ]
  },
  {
   "cell_type": "code",
   "execution_count": null,
   "id": "1dd4dcdb-485f-4b66-99bd-87b816435438",
   "metadata": {},
   "outputs": [],
   "source": [
    "numbers2"
   ]
  },
  {
   "cell_type": "code",
   "execution_count": null,
   "id": "e69399fa-bb0c-4b67-9a69-cc3d49719052",
   "metadata": {},
   "outputs": [],
   "source": [
    "numbers2 < numbers"
   ]
  },
  {
   "cell_type": "code",
   "execution_count": null,
   "id": "7aa3dc89-25f1-4562-8566-b9ac83a2cdc9",
   "metadata": {},
   "outputs": [],
   "source": [
    "numbers == numbers2"
   ]
  },
  {
   "cell_type": "code",
   "execution_count": null,
   "id": "f9eb8f19-99c7-43ab-84ea-591e1058a368",
   "metadata": {},
   "outputs": [],
   "source": [
    "numbers == numbers"
   ]
  },
  {
   "cell_type": "markdown",
   "id": "39b700f8-60a6-4a53-a176-f5a2fb991b12",
   "metadata": {},
   "source": [
    "### NumPy Calculation Methods"
   ]
  },
  {
   "cell_type": "code",
   "execution_count": null,
   "id": "42c3eda0-83e6-40bd-9945-d11fcda4d3a2",
   "metadata": {},
   "outputs": [],
   "source": [
    "# four students’ grades on three exams\n",
    "grades = np.array([[87, 96, 70], [100, 87, 90],\n",
    "                   [94, 77, 90], [100, 81, 82]])"
   ]
  },
  {
   "cell_type": "code",
   "execution_count": null,
   "id": "2635ddd6-0801-47e0-82ab-3c2bc477c1e7",
   "metadata": {},
   "outputs": [],
   "source": [
    "grades"
   ]
  },
  {
   "cell_type": "code",
   "execution_count": null,
   "id": "e4da21bf-e465-4af2-ba5e-6b03b6eadf6a",
   "metadata": {},
   "outputs": [],
   "source": [
    "grades.sum()"
   ]
  },
  {
   "cell_type": "code",
   "execution_count": null,
   "id": "bc62a17a-d34c-453a-80d7-6c16c1255d5c",
   "metadata": {},
   "outputs": [],
   "source": [
    "grades.min()"
   ]
  },
  {
   "cell_type": "code",
   "execution_count": null,
   "id": "9bc1e51e-34da-4a6a-9361-4581792e8ad5",
   "metadata": {},
   "outputs": [],
   "source": [
    "grades.max()"
   ]
  },
  {
   "cell_type": "code",
   "execution_count": null,
   "id": "b13d0041-96b1-4618-92f4-fd550d8f22c6",
   "metadata": {},
   "outputs": [],
   "source": [
    "grades.mean()"
   ]
  },
  {
   "cell_type": "code",
   "execution_count": null,
   "id": "1b32800f-2c70-4fbc-988a-2fd4a9bb0363",
   "metadata": {},
   "outputs": [],
   "source": [
    "grades.std()"
   ]
  },
  {
   "cell_type": "code",
   "execution_count": null,
   "id": "25944927-2b76-4c16-af7e-1f224642ebcd",
   "metadata": {},
   "outputs": [],
   "source": [
    "grades.var()"
   ]
  },
  {
   "cell_type": "markdown",
   "id": "72fb80fb-ae0b-48ea-b0b1-4e761164a229",
   "metadata": {},
   "source": [
    "### Calculations by Row or Column\n",
    "##### - axis keyword argument specifies which dimension to use in the calculation\n",
    "##### - axis=0 performs the calculation on all the row values within each column"
   ]
  },
  {
   "cell_type": "code",
   "execution_count": null,
   "id": "d9200193-404d-4232-ae58-06ee007dbf61",
   "metadata": {},
   "outputs": [],
   "source": [
    "grades.mean(axis=0)"
   ]
  },
  {
   "cell_type": "code",
   "execution_count": null,
   "id": "467f77ca-1223-4b26-9897-3dff11cec545",
   "metadata": {},
   "outputs": [],
   "source": [
    "grades.mean(axis=1)"
   ]
  },
  {
   "cell_type": "markdown",
   "id": "9d800213-981a-4004-a853-65acb07bce6b",
   "metadata": {},
   "source": [
    "more calculation methods - https://docs.scipy.org/doc/numpy/reference/arrays.ndarray.html"
   ]
  },
  {
   "cell_type": "markdown",
   "id": "0b99e22d-8713-4475-a177-730e74d07f52",
   "metadata": {},
   "source": [
    "### Universal Functions(범용 함수)\n",
    "##### - universal functions perform various element-wise operations"
   ]
  },
  {
   "cell_type": "code",
   "execution_count": null,
   "id": "e5a06f53-5896-4dde-9574-c3e0d9513f4c",
   "metadata": {},
   "outputs": [],
   "source": [
    "numbers = np.array([1, 4, 9, 16, 25, 36])"
   ]
  },
  {
   "cell_type": "code",
   "execution_count": null,
   "id": "1e38985b-7954-4b9c-bf2e-30370f0a3e8b",
   "metadata": {},
   "outputs": [],
   "source": [
    "np.sqrt(numbers)"
   ]
  },
  {
   "cell_type": "code",
   "execution_count": null,
   "id": "a18587c5-6d57-49c4-b9e2-aaf5dd40ce30",
   "metadata": {},
   "outputs": [],
   "source": [
    "numbers2 = np.arange(1, 7) * 10"
   ]
  },
  {
   "cell_type": "code",
   "execution_count": null,
   "id": "2e667322-11d9-4d35-ba23-038910d927bf",
   "metadata": {},
   "outputs": [],
   "source": [
    "numbers2"
   ]
  },
  {
   "cell_type": "code",
   "execution_count": null,
   "id": "9ca46a22-3486-4d83-bbd0-8af947af008c",
   "metadata": {},
   "outputs": [],
   "source": [
    "# numbers + numbers2\n",
    "np.add(numbers, numbers2)"
   ]
  },
  {
   "cell_type": "markdown",
   "id": "5e60ac70-2723-4bfd-80e2-7ab3ce1bfd10",
   "metadata": {},
   "source": [
    "#### Broadcasting with Universal Functions"
   ]
  },
  {
   "cell_type": "code",
   "execution_count": null,
   "id": "75bbe92d-947e-4be0-b77e-5d50f778caa7",
   "metadata": {},
   "outputs": [],
   "source": [
    "# numbers2 * 5\n",
    "np.multiply(numbers2, 5)"
   ]
  },
  {
   "cell_type": "code",
   "execution_count": null,
   "id": "9557c175-7f86-4350-af06-c59eecddfe7d",
   "metadata": {},
   "outputs": [],
   "source": [
    "numbers3 = numbers2.reshape(2, 3)"
   ]
  },
  {
   "cell_type": "code",
   "execution_count": null,
   "id": "6a100d9e-5b04-4ec6-bae1-0e000cf463e5",
   "metadata": {},
   "outputs": [],
   "source": [
    "numbers3"
   ]
  },
  {
   "cell_type": "code",
   "execution_count": null,
   "id": "c347b4c6-8d24-415c-ba88-7b11e70c042e",
   "metadata": {},
   "outputs": [],
   "source": [
    "numbers4 = np.array([2, 4, 6])"
   ]
  },
  {
   "cell_type": "code",
   "execution_count": null,
   "id": "50052555-c00a-49d2-9632-21156607b1e2",
   "metadata": {},
   "outputs": [],
   "source": [
    "np.multiply(numbers3, numbers4)"
   ]
  },
  {
   "cell_type": "raw",
   "id": "2defe136-390e-4388-b857-d1c7c3ef14c8",
   "metadata": {},
   "source": [
    "Numpy의 브로드캐스팅(Broadcasting)이 되기 위한 몇가지 조건\n",
    " 1. 맴버가 하나인 배열은 어떤 배열에나 브로드캐스팅(Broadcasting)이 가능(단, 맴버가 하나도 없는 빈 배열을 제외)\n",
    "     ex) 4x4 + 1\n",
    " 2. 하나의 배열의 차원이 1인 경우 브로드캐스팅(Broadcasting)이 가능\n",
    "     ex) 4x4 + 1x4\n",
    " 3. 차원의 짝이 맞을 때 브로드캐스팅(Broadcasting)가능  \n",
    "     ex) 3x1 + 1x3\n",
    "     \n",
    "* numbers4 =  array([[2, 4, 6],\n",
    "                     [2, 4, 6]])     "
   ]
  },
  {
   "cell_type": "raw",
   "id": "12ff4322-25fc-41f8-8f83-5053f6ed9b34",
   "metadata": {},
   "source": [
    "Other Universal Functions\n",
    "Math — add, subtract, multiply, divide, remainder, exp, log, sqrt, power, and more.\n",
    "Trigonometry — sin, cos, tan, hypot, arcsin, arccos, arctan, and more.\n",
    "Bit manipulation — bitwise_and, bitwise_or, bitwise_xor, invert, left_shift and right_shift.\n",
    "Comparison — greater, greater_equal, less, less_equal, equal, not_equal, logical_and, logical_or, logical_xor,                logical_not, minimum, maximum, and more.\n",
    "Floating point — floor, ceil, isinf, isnan, fabs, trunc, and more.\n",
    "https://docs.scipy.org/doc/numpy/reference/ufuncs.html"
   ]
  },
  {
   "cell_type": "markdown",
   "id": "6eee518f-f210-4a2c-ae5f-199fae5d01cf",
   "metadata": {},
   "source": [
    "### Indexing and Slicing \n",
    "###### - One-dimensional arrays can be indexed and sliced using the same syntax and techniques as “Sequences: Lists and Tuples”"
   ]
  },
  {
   "cell_type": "markdown",
   "id": "7205f70f-106d-45a9-9cfd-9912419fe3ea",
   "metadata": {},
   "source": [
    "#### Indexing with Two-Dimensional `array`s"
   ]
  },
  {
   "cell_type": "code",
   "execution_count": null,
   "id": "e34efbc0-6779-4884-966c-a7981330fbf7",
   "metadata": {},
   "outputs": [],
   "source": [
    "import numpy as np"
   ]
  },
  {
   "cell_type": "code",
   "execution_count": null,
   "id": "cfc16365-3940-4930-9f3a-41a17e78e64c",
   "metadata": {},
   "outputs": [],
   "source": [
    "grades = np.array([[87, 96, 70], [100, 87, 90],\n",
    "                   [94, 77, 90], [100, 81, 82]])"
   ]
  },
  {
   "cell_type": "code",
   "execution_count": null,
   "id": "85c6cd43-832b-4f2f-9ea6-cb60b1f1cac6",
   "metadata": {},
   "outputs": [],
   "source": [
    "grades"
   ]
  },
  {
   "cell_type": "code",
   "execution_count": null,
   "id": "ea7197db-cfba-45ef-8a0e-b3ded365e544",
   "metadata": {},
   "outputs": [],
   "source": [
    "grades[0, 1]  # row 0, column 1"
   ]
  },
  {
   "cell_type": "markdown",
   "id": "09aea38b-4b2a-4e4e-9079-1efaedc3a918",
   "metadata": {},
   "source": [
    "#### Selecting a Subset of a Two-Dimensional `array`’s Rows"
   ]
  },
  {
   "cell_type": "code",
   "execution_count": null,
   "id": "dd231294-e596-493e-9187-44a565baa687",
   "metadata": {},
   "outputs": [],
   "source": [
    "grades[1]"
   ]
  },
  {
   "cell_type": "code",
   "execution_count": null,
   "id": "6d8fb433-3d92-49ff-ac4c-ea41385bde91",
   "metadata": {},
   "outputs": [],
   "source": [
    "grades[0:2]"
   ]
  },
  {
   "cell_type": "code",
   "execution_count": null,
   "id": "79b815cd-d4bd-4133-8e04-51e8d6593638",
   "metadata": {},
   "outputs": [],
   "source": [
    "grades[[1, 3]]"
   ]
  },
  {
   "cell_type": "markdown",
   "id": "6ca34f05-b93c-4fda-b1bb-c66c15e5507c",
   "metadata": {},
   "source": [
    "#### Selecting a Subset of a Two-Dimensional `array`’s Columns"
   ]
  },
  {
   "cell_type": "code",
   "execution_count": null,
   "id": "c1745e92-ce81-45ba-b19c-331371a0e593",
   "metadata": {},
   "outputs": [],
   "source": [
    "grades[:, 0]"
   ]
  },
  {
   "cell_type": "code",
   "execution_count": null,
   "id": "a341f92b-ecd8-47a8-b552-fc63eda4d423",
   "metadata": {},
   "outputs": [],
   "source": [
    "grades[:, 1:3]"
   ]
  },
  {
   "cell_type": "code",
   "execution_count": null,
   "id": "54041ef9-3960-4572-ab1b-214d3e10d40f",
   "metadata": {},
   "outputs": [],
   "source": [
    "grades[:, [0, 2]]"
   ]
  },
  {
   "cell_type": "markdown",
   "id": "838bd084-fbbf-4baf-a3e8-dae20146b242",
   "metadata": {},
   "source": [
    "### Views: Shallow Copies\n",
    "##### - View objects see the data in other objects, rather than having their own copies of the data.\n",
    "##### - Various array methods and slicing operations produce views of an array’s data"
   ]
  },
  {
   "cell_type": "code",
   "execution_count": null,
   "id": "d9546420-c137-4c21-a4a7-cb795b0bbd67",
   "metadata": {},
   "outputs": [],
   "source": [
    "import numpy as np"
   ]
  },
  {
   "cell_type": "code",
   "execution_count": null,
   "id": "7a3a40bf-59b4-4a0d-8e70-af5b44677138",
   "metadata": {},
   "outputs": [],
   "source": [
    "numbers = np.arange(1, 6)"
   ]
  },
  {
   "cell_type": "code",
   "execution_count": null,
   "id": "491bec6f-d0f9-4ec3-8370-aee1cfedfcd8",
   "metadata": {},
   "outputs": [],
   "source": [
    "numbers"
   ]
  },
  {
   "cell_type": "code",
   "execution_count": null,
   "id": "470b0776-ae36-4aef-a257-e78754e5d74a",
   "metadata": {},
   "outputs": [],
   "source": [
    "numbers2 = numbers.view()"
   ]
  },
  {
   "cell_type": "code",
   "execution_count": null,
   "id": "b48b938e-5715-4133-94a0-57d99a94ac23",
   "metadata": {},
   "outputs": [],
   "source": [
    "numbers2"
   ]
  },
  {
   "cell_type": "code",
   "execution_count": null,
   "id": "342f8d60-4563-4219-bd7f-e71668183849",
   "metadata": {},
   "outputs": [],
   "source": [
    "# id()는 파이썬 내장함수로 프로그램이 실행되는 동안 메모리에 저장된 주소(=객체의 고유값(identity))를 반환한다.\n",
    "id(numbers)"
   ]
  },
  {
   "cell_type": "code",
   "execution_count": null,
   "id": "ae922e74-b0bb-4a3e-8bb3-7d121bb1ce0b",
   "metadata": {},
   "outputs": [],
   "source": [
    "id(numbers2)"
   ]
  },
  {
   "cell_type": "code",
   "execution_count": null,
   "id": "0c21ce97-5b40-4f69-aab2-e3187f907647",
   "metadata": {},
   "outputs": [],
   "source": [
    "numbers[1] *= 10"
   ]
  },
  {
   "cell_type": "code",
   "execution_count": null,
   "id": "36ed1cc6-e0f5-4077-9604-9362a2bbdf37",
   "metadata": {},
   "outputs": [],
   "source": [
    "numbers2"
   ]
  },
  {
   "cell_type": "code",
   "execution_count": null,
   "id": "192c6620-82f0-47b6-8c3d-84c49e65136e",
   "metadata": {},
   "outputs": [],
   "source": [
    "numbers"
   ]
  },
  {
   "cell_type": "code",
   "execution_count": null,
   "id": "4f0c0cfb-75fc-4e47-b389-6e45ff06a7fd",
   "metadata": {},
   "outputs": [],
   "source": [
    "numbers2[1] /= 10"
   ]
  },
  {
   "cell_type": "code",
   "execution_count": null,
   "id": "8603ba68-7119-4628-9986-29182bc07959",
   "metadata": {},
   "outputs": [],
   "source": [
    "numbers"
   ]
  },
  {
   "cell_type": "code",
   "execution_count": null,
   "id": "f7d381db-4218-4a25-bf61-3ae50a4010f9",
   "metadata": {},
   "outputs": [],
   "source": [
    "numbers2"
   ]
  },
  {
   "cell_type": "markdown",
   "id": "76b663d8-a08e-42c2-add8-c5540373968b",
   "metadata": {},
   "source": [
    "#### Slice Views"
   ]
  },
  {
   "cell_type": "code",
   "execution_count": null,
   "id": "b7d1308d-36dd-44a3-8d58-25286d76b340",
   "metadata": {},
   "outputs": [],
   "source": [
    "numbers2 = numbers[1:3]"
   ]
  },
  {
   "cell_type": "code",
   "execution_count": null,
   "id": "f9c4e04f-7177-40dc-93f3-b263f8f4922a",
   "metadata": {},
   "outputs": [],
   "source": [
    "numbers2"
   ]
  },
  {
   "cell_type": "code",
   "execution_count": null,
   "id": "ec3313f2-8d1f-4637-af3c-203de7989d7a",
   "metadata": {},
   "outputs": [],
   "source": [
    "id(numbers)"
   ]
  },
  {
   "cell_type": "code",
   "execution_count": null,
   "id": "d3c259c5-6ca9-4d2a-9a5a-20c156b279cb",
   "metadata": {},
   "outputs": [],
   "source": [
    "id(numbers2)"
   ]
  },
  {
   "cell_type": "code",
   "execution_count": null,
   "id": "9109ecc3-2f27-4be9-a91d-6d4ec50f2df2",
   "metadata": {},
   "outputs": [],
   "source": [
    "numbers2[3]"
   ]
  },
  {
   "cell_type": "code",
   "execution_count": null,
   "id": "70a09249-6ae1-4173-a236-3bccac153353",
   "metadata": {},
   "outputs": [],
   "source": [
    "numbers[1] *= 20"
   ]
  },
  {
   "cell_type": "code",
   "execution_count": null,
   "id": "51b2a26e-c923-47a1-be89-dcf5cb7e9071",
   "metadata": {},
   "outputs": [],
   "source": [
    "numbers"
   ]
  },
  {
   "cell_type": "code",
   "execution_count": null,
   "id": "9a8ca6e3-0d1c-477d-8412-96d273408327",
   "metadata": {},
   "outputs": [],
   "source": [
    "numbers2"
   ]
  },
  {
   "cell_type": "code",
   "execution_count": null,
   "id": "ef63273e-aabc-45e1-abec-deca453e1310",
   "metadata": {},
   "outputs": [],
   "source": [
    "numbers2[1] = 30"
   ]
  },
  {
   "cell_type": "code",
   "execution_count": null,
   "id": "1fbad585-1988-4572-b28b-87df8fa85342",
   "metadata": {},
   "outputs": [],
   "source": [
    "numbers2"
   ]
  },
  {
   "cell_type": "code",
   "execution_count": null,
   "id": "92062182-c7c8-439b-a364-5cc6e3135c31",
   "metadata": {},
   "outputs": [],
   "source": [
    "numbers"
   ]
  },
  {
   "cell_type": "markdown",
   "id": "6bf813a0-2439-4aaa-b9f1-84d686bd02f2",
   "metadata": {},
   "source": [
    "### Deep Copies"
   ]
  },
  {
   "cell_type": "code",
   "execution_count": null,
   "id": "32e34f63-1470-401e-9d4b-543bf5eb2c70",
   "metadata": {},
   "outputs": [],
   "source": [
    "import numpy as np"
   ]
  },
  {
   "cell_type": "code",
   "execution_count": null,
   "id": "74036802-3a5b-4eea-8d38-668b6581eb2c",
   "metadata": {},
   "outputs": [],
   "source": [
    "numbers = np.arange(1, 6)"
   ]
  },
  {
   "cell_type": "code",
   "execution_count": null,
   "id": "c618de43-9bb4-4624-8be7-848d8bf18daf",
   "metadata": {},
   "outputs": [],
   "source": [
    "numbers"
   ]
  },
  {
   "cell_type": "code",
   "execution_count": null,
   "id": "5e13b3fe-ea57-4e81-8ca0-a387d29ae07f",
   "metadata": {},
   "outputs": [],
   "source": [
    "numbers2 = numbers.copy()"
   ]
  },
  {
   "cell_type": "code",
   "execution_count": null,
   "id": "78a8c113-8fbf-47b1-859c-734796b9b71d",
   "metadata": {},
   "outputs": [],
   "source": [
    "numbers2"
   ]
  },
  {
   "cell_type": "code",
   "execution_count": null,
   "id": "c2b2cf77-4666-481a-9751-48ca5db3553b",
   "metadata": {},
   "outputs": [],
   "source": [
    "numbers[1] *= 10"
   ]
  },
  {
   "cell_type": "code",
   "execution_count": null,
   "id": "571a301d-dd52-4328-8afb-605a693f94f8",
   "metadata": {},
   "outputs": [],
   "source": [
    "numbers"
   ]
  },
  {
   "cell_type": "code",
   "execution_count": null,
   "id": "d93072a6-81f4-415b-a211-e164fcb0f956",
   "metadata": {},
   "outputs": [],
   "source": [
    "numbers2"
   ]
  },
  {
   "cell_type": "code",
   "execution_count": null,
   "id": "48994a99-2951-47be-a868-bcb8bde8c543",
   "metadata": {},
   "outputs": [],
   "source": [
    "id(numbers), id(numbers2)"
   ]
  },
  {
   "cell_type": "markdown",
   "id": "2fcef9ea-5f11-4f88-9216-4ef6a90193dc",
   "metadata": {},
   "source": [
    "### Reshaping and Transposing "
   ]
  },
  {
   "cell_type": "markdown",
   "id": "4226428a-55ed-4b4a-9660-ed78b82f53e3",
   "metadata": {},
   "source": [
    "#### `reshape` vs. `resize` "
   ]
  },
  {
   "cell_type": "code",
   "execution_count": null,
   "id": "d3d70e7e-1d95-4dd9-b6b1-14e90bb2449b",
   "metadata": {},
   "outputs": [],
   "source": [
    "import numpy as np"
   ]
  },
  {
   "cell_type": "code",
   "execution_count": null,
   "id": "95c21ac7-02f4-4905-b4a6-a09ed49b8ca5",
   "metadata": {},
   "outputs": [],
   "source": [
    "grades = np.array([[87, 96, 70], [100, 87, 90]])"
   ]
  },
  {
   "cell_type": "code",
   "execution_count": null,
   "id": "b126dde3-274e-44ae-bc7b-970d323d26b1",
   "metadata": {},
   "outputs": [],
   "source": [
    "grades"
   ]
  },
  {
   "cell_type": "code",
   "execution_count": null,
   "id": "a08b3079-ede7-4a61-80cb-8a7db6130e1a",
   "metadata": {},
   "outputs": [],
   "source": [
    "rs_grades = grades.reshape(1, 6)"
   ]
  },
  {
   "cell_type": "code",
   "execution_count": null,
   "id": "57d04c2d-0cf5-49ae-a0ca-2fbcdcfd65c4",
   "metadata": {},
   "outputs": [],
   "source": [
    "grades"
   ]
  },
  {
   "cell_type": "code",
   "execution_count": null,
   "id": "02ffce3c-2872-4975-ab45-7759100011de",
   "metadata": {},
   "outputs": [],
   "source": [
    "rs_grades"
   ]
  },
  {
   "cell_type": "code",
   "execution_count": null,
   "id": "b809828a-188a-4483-8de0-65ac3b6333b8",
   "metadata": {},
   "outputs": [],
   "source": [
    "rs_grades.shape"
   ]
  },
  {
   "cell_type": "code",
   "execution_count": null,
   "id": "423f26ed-09ba-40de-aa43-22fc86b5b849",
   "metadata": {},
   "outputs": [],
   "source": [
    "rs_grades[0,0] = 1000"
   ]
  },
  {
   "cell_type": "code",
   "execution_count": null,
   "id": "49708fa3-b258-4baa-9b56-b639d5638950",
   "metadata": {},
   "outputs": [],
   "source": [
    "rs_grades"
   ]
  },
  {
   "cell_type": "code",
   "execution_count": null,
   "id": "7d0797aa-80eb-4002-b67c-adb12d18bda1",
   "metadata": {},
   "outputs": [],
   "source": [
    "grades"
   ]
  },
  {
   "cell_type": "code",
   "execution_count": null,
   "id": "0efce81f-b9bf-4d0c-9f74-ac3b41e038e8",
   "metadata": {},
   "outputs": [],
   "source": [
    "grades.reshape(3, -1)"
   ]
  },
  {
   "cell_type": "code",
   "execution_count": null,
   "id": "8ea0c234-135d-44e9-91be-59e8538ad236",
   "metadata": {},
   "outputs": [],
   "source": [
    "regrade = grades.resize(1, 6)"
   ]
  },
  {
   "cell_type": "code",
   "execution_count": null,
   "id": "d4426a09-3193-4b93-a27d-1804ba7a3f82",
   "metadata": {},
   "outputs": [],
   "source": [
    "grades"
   ]
  },
  {
   "cell_type": "code",
   "execution_count": null,
   "id": "6ff90f74-be7c-423e-8171-facc49b758f3",
   "metadata": {},
   "outputs": [],
   "source": [
    "print(regrade)"
   ]
  },
  {
   "cell_type": "markdown",
   "id": "079a8190-8568-48cc-a3b4-f2a40251bd87",
   "metadata": {},
   "source": [
    "#### `flatten` vs. `ravel` \n",
    "- flatten() and ravel() flatten a multidimensional array into a single dimension \n",
    "- flatten() deep copies the original array’s data"
   ]
  },
  {
   "cell_type": "code",
   "execution_count": null,
   "id": "62136453-0e19-48a1-8df6-7c88a79e71c7",
   "metadata": {},
   "outputs": [],
   "source": [
    "grades = np.array([[87, 96, 70], [100, 87, 90]])"
   ]
  },
  {
   "cell_type": "code",
   "execution_count": null,
   "id": "0d9b4941-2be9-402e-ad8b-17fb61368ad7",
   "metadata": {},
   "outputs": [],
   "source": [
    "grades"
   ]
  },
  {
   "cell_type": "code",
   "execution_count": null,
   "id": "1a03302e-a79c-4c6f-bad8-1a49507b89e2",
   "metadata": {},
   "outputs": [],
   "source": [
    "flattened = grades.flatten()"
   ]
  },
  {
   "cell_type": "code",
   "execution_count": null,
   "id": "bbd83380-070d-4285-b20f-0b6e1d19828b",
   "metadata": {},
   "outputs": [],
   "source": [
    "flattened"
   ]
  },
  {
   "cell_type": "code",
   "execution_count": null,
   "id": "a92d43b6-510a-467f-9595-630acef5e2f9",
   "metadata": {},
   "outputs": [],
   "source": [
    "grades"
   ]
  },
  {
   "cell_type": "code",
   "execution_count": null,
   "id": "08b6b5ae-17ef-4508-9061-3f1798b8ce4f",
   "metadata": {},
   "outputs": [],
   "source": [
    "flattened[0] = 100"
   ]
  },
  {
   "cell_type": "code",
   "execution_count": null,
   "id": "6ea76c32-cfd5-4b83-8fea-254054f40306",
   "metadata": {},
   "outputs": [],
   "source": [
    "flattened"
   ]
  },
  {
   "cell_type": "code",
   "execution_count": null,
   "id": "d1f23ce6-6258-4ae7-955e-99d01250640e",
   "metadata": {},
   "outputs": [],
   "source": [
    "grades"
   ]
  },
  {
   "cell_type": "code",
   "execution_count": null,
   "id": "887d013c-806f-4702-81d1-a9324e2da55b",
   "metadata": {},
   "outputs": [],
   "source": [
    "raveled = grades.ravel()"
   ]
  },
  {
   "cell_type": "code",
   "execution_count": null,
   "id": "fe4d8555-7932-4d2b-bd41-acd1b66fead6",
   "metadata": {},
   "outputs": [],
   "source": [
    "raveled"
   ]
  },
  {
   "cell_type": "code",
   "execution_count": null,
   "id": "56b3f335-40e0-4e9b-9724-16e3a113894c",
   "metadata": {},
   "outputs": [],
   "source": [
    "grades"
   ]
  },
  {
   "cell_type": "code",
   "execution_count": null,
   "id": "48776fbd-8600-4088-9ce4-7bc8f872711d",
   "metadata": {},
   "outputs": [],
   "source": [
    "raveled[0] = 100"
   ]
  },
  {
   "cell_type": "code",
   "execution_count": null,
   "id": "5e6cd5b7-3cce-4783-8ebc-de1113310355",
   "metadata": {},
   "outputs": [],
   "source": [
    "raveled"
   ]
  },
  {
   "cell_type": "code",
   "execution_count": null,
   "id": "71579163-2871-4379-bb00-84589fd218b4",
   "metadata": {},
   "outputs": [],
   "source": [
    "grades"
   ]
  },
  {
   "cell_type": "markdown",
   "id": "63e633d7-494d-4123-ac6c-f22358a85363",
   "metadata": {},
   "source": [
    "#### Transposing Rows and Columns\n",
    "- transpose an array’s rows and columns - rows become the columns and the columns become the rows\n",
    "- The T attribute returns a transposed view (shallow copy) of the array"
   ]
  },
  {
   "cell_type": "code",
   "execution_count": null,
   "id": "83074f2b-023f-4ed4-a7fe-ea3447a3ac2e",
   "metadata": {},
   "outputs": [],
   "source": [
    "flip = grades.T"
   ]
  },
  {
   "cell_type": "code",
   "execution_count": null,
   "id": "63420bfe-0541-4950-8f5e-9d7bebd500f8",
   "metadata": {},
   "outputs": [],
   "source": [
    "flip"
   ]
  },
  {
   "cell_type": "code",
   "execution_count": null,
   "id": "e3f8f45e-dacd-494d-bbc8-1f1ba6d16b77",
   "metadata": {},
   "outputs": [],
   "source": [
    "flip.shape"
   ]
  },
  {
   "cell_type": "code",
   "execution_count": null,
   "id": "1c30d280-3386-40d0-9b40-5edb3b68136e",
   "metadata": {},
   "outputs": [],
   "source": [
    "grades"
   ]
  },
  {
   "cell_type": "code",
   "execution_count": null,
   "id": "463ed8f7-d2eb-431b-88fb-2009f3dc7e38",
   "metadata": {},
   "outputs": [],
   "source": [
    "grades.shape"
   ]
  },
  {
   "cell_type": "code",
   "execution_count": null,
   "id": "7be20fe4-ea0f-431f-a78c-05946be53a1c",
   "metadata": {},
   "outputs": [],
   "source": [
    "flip[0,1] = 1"
   ]
  },
  {
   "cell_type": "code",
   "execution_count": null,
   "id": "9899b79c-6d62-4570-9df0-ef7e3482257c",
   "metadata": {},
   "outputs": [],
   "source": [
    "flip"
   ]
  },
  {
   "cell_type": "code",
   "execution_count": null,
   "id": "0fa4286e-1cde-4fd2-bc4b-9016a9ec75e7",
   "metadata": {},
   "outputs": [],
   "source": [
    "grades"
   ]
  },
  {
   "cell_type": "markdown",
   "id": "0ead278b-a77e-43b5-ac74-043d1872b33e",
   "metadata": {},
   "source": [
    "#### Horizontal and Vertical Stacking\n",
    "- combine arrays by adding more columns or more rows"
   ]
  },
  {
   "cell_type": "code",
   "execution_count": null,
   "id": "ea97e280-7815-4c29-b52a-3618d96654ee",
   "metadata": {},
   "outputs": [],
   "source": [
    "grades2 = np.array([[94, 77, 90], [100, 81, 82]])"
   ]
  },
  {
   "cell_type": "code",
   "execution_count": null,
   "id": "c5fe328b-4fb1-4d94-a0a7-08b77126e763",
   "metadata": {},
   "outputs": [],
   "source": [
    "grades2"
   ]
  },
  {
   "cell_type": "code",
   "execution_count": null,
   "id": "9058fa99-4a09-42a5-8846-763e49370ece",
   "metadata": {},
   "outputs": [],
   "source": [
    "grades"
   ]
  },
  {
   "cell_type": "code",
   "execution_count": null,
   "id": "6131bf92-e3dd-42b1-bfd1-028d0f7b945b",
   "metadata": {},
   "outputs": [],
   "source": [
    "np.hstack((grades, grades2))"
   ]
  },
  {
   "cell_type": "code",
   "execution_count": null,
   "id": "2da21692-8276-41b3-bc5d-d041c23e0fdc",
   "metadata": {},
   "outputs": [],
   "source": [
    "np.vstack((grades, grades2))"
   ]
  }
 ],
 "metadata": {
  "kernelspec": {
   "display_name": "Python 3 (ipykernel)",
   "language": "python",
   "name": "python3"
  },
  "language_info": {
   "codemirror_mode": {
    "name": "ipython",
    "version": 3
   },
   "file_extension": ".py",
   "mimetype": "text/x-python",
   "name": "python",
   "nbconvert_exporter": "python",
   "pygments_lexer": "ipython3",
   "version": "3.9.7"
  }
 },
 "nbformat": 4,
 "nbformat_minor": 5
}
