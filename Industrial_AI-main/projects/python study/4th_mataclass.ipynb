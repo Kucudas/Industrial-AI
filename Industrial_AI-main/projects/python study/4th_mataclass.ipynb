{
 "cells": [
  {
   "cell_type": "code",
   "execution_count": 2,
   "id": "7c577b5b-c85d-49f6-a7a3-254f911d2e69",
   "metadata": {},
   "outputs": [],
   "source": [
    ">>> class Spam(object):\n",
    "...     eggs = 'my eggs'"
   ]
  },
  {
   "cell_type": "code",
   "execution_count": 3,
   "id": "a4eaaa79-e87b-4fcc-8265-e35bcbd75c6b",
   "metadata": {},
   "outputs": [],
   "source": [
    ">>> Spam = type('Spam', (object,), dict(eggs='my eggs'))"
   ]
  },
  {
   "cell_type": "code",
   "execution_count": 23,
   "id": "95e01a42-f1f5-405a-80a9-bdbadb97f0a3",
   "metadata": {},
   "outputs": [],
   "source": [
    ">>> class Spam(object):\n",
    "...     eggs = 'my eggs'"
   ]
  },
  {
   "cell_type": "code",
   "execution_count": 24,
   "id": "d0f9ab50-2263-498f-b8b8-0977da85600b",
   "metadata": {},
   "outputs": [],
   "source": [
    ">>> spam = Spam()"
   ]
  },
  {
   "cell_type": "code",
   "execution_count": 25,
   "id": "5e4a4f52-98ab-424e-b42a-cf2916d29346",
   "metadata": {},
   "outputs": [
    {
     "data": {
      "text/plain": [
       "'my eggs'"
      ]
     },
     "execution_count": 25,
     "metadata": {},
     "output_type": "execute_result"
    }
   ],
   "source": [
    ">>> spam.eggs"
   ]
  },
  {
   "cell_type": "code",
   "execution_count": 26,
   "id": "bf701d2f-0df3-480a-b423-63aac6cfd95f",
   "metadata": {},
   "outputs": [
    {
     "name": "stdout",
     "output_type": "stream",
     "text": [
      "<class '__main__.Spam'>\n"
     ]
    }
   ],
   "source": [
    ">>> print(type(spam))"
   ]
  },
  {
   "cell_type": "code",
   "execution_count": 15,
   "id": "a7028ba1-b1e9-4f1d-8599-345a6ea29512",
   "metadata": {},
   "outputs": [],
   "source": [
    ">>> Spam = type('Spam', (object,), dict(eggs='my eggs'))"
   ]
  },
  {
   "cell_type": "code",
   "execution_count": 16,
   "id": "4c812ead-948d-4566-8bc6-0379a2755361",
   "metadata": {},
   "outputs": [],
   "source": [
    ">>> spam = Spam()"
   ]
  },
  {
   "cell_type": "code",
   "execution_count": 17,
   "id": "45f6b8e7-6f26-4aaa-8480-c5c70bc8fb80",
   "metadata": {},
   "outputs": [
    {
     "data": {
      "text/plain": [
       "'my eggs'"
      ]
     },
     "execution_count": 17,
     "metadata": {},
     "output_type": "execute_result"
    }
   ],
   "source": [
    ">>> spam.eggs"
   ]
  },
  {
   "cell_type": "code",
   "execution_count": 20,
   "id": "1865449d-ffc1-425f-8a48-93a34a4a6d0c",
   "metadata": {},
   "outputs": [
    {
     "name": "stdout",
     "output_type": "stream",
     "text": [
      "<class '__main__.Spam'>\n"
     ]
    }
   ],
   "source": [
    ">>> print(type(spam))"
   ]
  },
  {
   "cell_type": "code",
   "execution_count": 21,
   "id": "55703e4b-6785-4b4c-83a3-9562b3bb6dac",
   "metadata": {},
   "outputs": [
    {
     "name": "stdout",
     "output_type": "stream",
     "text": [
      "<class 'type'>\n"
     ]
    }
   ],
   "source": [
    ">>> print(type(Spam))"
   ]
  },
  {
   "cell_type": "markdown",
   "id": "785c54ee-585e-4a44-84f7-a67e6731e970",
   "metadata": {},
   "source": [
    "# A basic metaclass"
   ]
  },
  {
   "cell_type": "raw",
   "id": "7ac51430-a3de-45e9-a4fb-b792b9fe5a14",
   "metadata": {},
   "source": [
    "let’s create a metaclass that does the following:\n",
    " 1. Makes the class inherit int\n",
    " 2. Adds a lettuce attribute to the class\n",
    " 3. Changes the name of the class"
   ]
  },
  {
   "cell_type": "code",
   "execution_count": 31,
   "id": "ae8832d9-04ce-4e07-a33a-40ea2b448200",
   "metadata": {},
   "outputs": [],
   "source": [
    ">>> class MetaSandwich(type):\n",
    "...\n",
    "...     # Notice how the __new__ method has the same arguments\n",
    "...     # as the type function we used earlier?\n",
    "...     def __new__(metaclass, name, bases, namespace):\n",
    "...         name = 'SandwichCreatedByMeta'\n",
    "...         bases = (int,) + bases\n",
    "...         namespace['lettuce'] = 1\n",
    "...         return type.__new__(metaclass, name, bases, namespace)"
   ]
  },
  {
   "cell_type": "code",
   "execution_count": 32,
   "id": "8c28de18-02ed-4495-ae78-f76dd37cf38d",
   "metadata": {},
   "outputs": [],
   "source": [
    "# First, the regular Sandwich:\n",
    ">>> class Sandwich(object):\n",
    "...     pass"
   ]
  },
  {
   "cell_type": "code",
   "execution_count": 33,
   "id": "77338365-2a01-46e2-b1ba-59266bf9b68f",
   "metadata": {},
   "outputs": [
    {
     "data": {
      "text/plain": [
       "'Sandwich'"
      ]
     },
     "execution_count": 33,
     "metadata": {},
     "output_type": "execute_result"
    }
   ],
   "source": [
    ">>> Sandwich.__name__"
   ]
  },
  {
   "cell_type": "code",
   "execution_count": 34,
   "id": "31c0a046-0647-4ce5-afce-9b85574e1c07",
   "metadata": {},
   "outputs": [
    {
     "data": {
      "text/plain": [
       "False"
      ]
     },
     "execution_count": 34,
     "metadata": {},
     "output_type": "execute_result"
    }
   ],
   "source": [
    ">>> issubclass(Sandwich, int)"
   ]
  },
  {
   "cell_type": "code",
   "execution_count": 35,
   "id": "41f91b01-0e39-4767-932d-d1202f0a46ec",
   "metadata": {},
   "outputs": [
    {
     "ename": "AttributeError",
     "evalue": "type object 'Sandwich' has no attribute 'lettuce'",
     "output_type": "error",
     "traceback": [
      "\u001b[1;31m---------------------------------------------------------------------------\u001b[0m",
      "\u001b[1;31mAttributeError\u001b[0m                            Traceback (most recent call last)",
      "\u001b[1;32m~\\AppData\\Local\\Temp/ipykernel_9844/4214086234.py\u001b[0m in \u001b[0;36m<module>\u001b[1;34m\u001b[0m\n\u001b[1;32m----> 1\u001b[1;33m \u001b[0mSandwich\u001b[0m\u001b[1;33m.\u001b[0m\u001b[0mlettuce\u001b[0m\u001b[1;33m\u001b[0m\u001b[1;33m\u001b[0m\u001b[0m\n\u001b[0m",
      "\u001b[1;31mAttributeError\u001b[0m: type object 'Sandwich' has no attribute 'lettuce'"
     ]
    }
   ],
   "source": [
    ">>> Sandwich.lettuce"
   ]
  },
  {
   "cell_type": "code",
   "execution_count": 36,
   "id": "c2233c3a-29cb-42bb-8bca-962ef6213313",
   "metadata": {},
   "outputs": [],
   "source": [
    "# Now the meta-Sandwich\n",
    ">>> class Sandwich(object, metaclass=MetaSandwich):\n",
    "...     pass"
   ]
  },
  {
   "cell_type": "code",
   "execution_count": 37,
   "id": "0d331528-9b07-4362-a2da-57e475cb7fa6",
   "metadata": {},
   "outputs": [
    {
     "data": {
      "text/plain": [
       "'SandwichCreatedByMeta'"
      ]
     },
     "execution_count": 37,
     "metadata": {},
     "output_type": "execute_result"
    }
   ],
   "source": [
    ">>> Sandwich.__name__"
   ]
  },
  {
   "cell_type": "code",
   "execution_count": 38,
   "id": "a5c98fad-a250-4c6a-90e7-e47063b607af",
   "metadata": {},
   "outputs": [
    {
     "data": {
      "text/plain": [
       "True"
      ]
     },
     "execution_count": 38,
     "metadata": {},
     "output_type": "execute_result"
    }
   ],
   "source": [
    ">>> issubclass(Sandwich, int)"
   ]
  },
  {
   "cell_type": "code",
   "execution_count": 39,
   "id": "ddf56526-d36e-48bb-922f-4cb4126a30ea",
   "metadata": {},
   "outputs": [
    {
     "data": {
      "text/plain": [
       "1"
      ]
     },
     "execution_count": 39,
     "metadata": {},
     "output_type": "execute_result"
    }
   ],
   "source": [
    ">>> Sandwich.lettuce"
   ]
  },
  {
   "cell_type": "markdown",
   "id": "7fe8e96f-a925-4dfb-969a-5178bf119ee4",
   "metadata": {},
   "source": [
    "# Arguments to metaclasses"
   ]
  },
  {
   "cell_type": "code",
   "execution_count": 40,
   "id": "9ae33501-8d0a-4660-99b0-2240dda0e8b7",
   "metadata": {},
   "outputs": [],
   "source": [
    ">>> class AddClassAttributeMeta(type):\n",
    "...     def __init__(metaclass, name, bases, namespace, **kwargs):\n",
    "...         # The kwargs should not be passed on to the\n",
    "...         # type.__init__\n",
    "...         type.__init__(metaclass, name, bases, namespace)\n",
    "...\n",
    "...     def __new__(metaclass, name, bases, namespace, **kwargs):\n",
    "...         for k, v in kwargs.items():\n",
    "...             # setdefault so we don't overwrite attributes\n",
    "...             namespace.setdefault(k, v)\n",
    "...\n",
    "...         return type.__new__(metaclass, name, bases, namespace)"
   ]
  },
  {
   "cell_type": "code",
   "execution_count": 41,
   "id": "fd437f1f-67ff-40f7-81ba-907d61db3f83",
   "metadata": {},
   "outputs": [],
   "source": [
    ">>> class WithArgument(metaclass=AddClassAttributeMeta, a=1234):\n",
    "...     pass"
   ]
  },
  {
   "cell_type": "code",
   "execution_count": 42,
   "id": "64a162a0-6688-46d5-ba38-148879289d56",
   "metadata": {},
   "outputs": [
    {
     "data": {
      "text/plain": [
       "1234"
      ]
     },
     "execution_count": 42,
     "metadata": {},
     "output_type": "execute_result"
    }
   ],
   "source": [
    ">>> WithArgument.a"
   ]
  },
  {
   "cell_type": "code",
   "execution_count": 43,
   "id": "0b04222c-ebf5-4182-b29d-dba4b0427fc7",
   "metadata": {},
   "outputs": [],
   "source": [
    ">>> with_argument = WithArgument()"
   ]
  },
  {
   "cell_type": "code",
   "execution_count": 44,
   "id": "a61aa1da-4c9c-4dea-9838-deec7d811c21",
   "metadata": {},
   "outputs": [
    {
     "data": {
      "text/plain": [
       "1234"
      ]
     },
     "execution_count": 44,
     "metadata": {},
     "output_type": "execute_result"
    }
   ],
   "source": [
    ">>> with_argument.a"
   ]
  },
  {
   "cell_type": "code",
   "execution_count": null,
   "id": "ab6141dd-026d-4e9a-abbb-cedb9b671166",
   "metadata": {},
   "outputs": [],
   "source": []
  }
 ],
 "metadata": {
  "kernelspec": {
   "display_name": "Python 3 (ipykernel)",
   "language": "python",
   "name": "python3"
  },
  "language_info": {
   "codemirror_mode": {
    "name": "ipython",
    "version": 3
   },
   "file_extension": ".py",
   "mimetype": "text/x-python",
   "name": "python",
   "nbconvert_exporter": "python",
   "pygments_lexer": "ipython3",
   "version": "3.9.12"
  }
 },
 "nbformat": 4,
 "nbformat_minor": 5
}
