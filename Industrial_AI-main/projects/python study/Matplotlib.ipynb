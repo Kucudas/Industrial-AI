{
 "cells": [
  {
   "cell_type": "markdown",
   "id": "d75a6480-0c7c-4545-8d5f-6442fae0a7f9",
   "metadata": {},
   "source": [
    "# 파이썬의 시각화 도구 matplotlib, seaborn\n",
    "- Matplotlib은 데이터 시각화와 2D 그래프 플롯에 사용되는 파이썬 라이브러리\n",
    "- Seaborn은 matplotlib 대비 손쉽게 그래프를 그리고 그래프 스타일 설정을 할 수 있다는 장점이 있지만, 정교하게 그래프의 크기를 조절하거나 각 축의 범례 값을 조절할 때에는 matplotlib을 함께 사용 필요"
   ]
  },
  {
   "cell_type": "markdown",
   "id": "448d0291-488b-4eb1-abd1-1feb5557edcd",
   "metadata": {},
   "source": [
    "## Matplotlib\n",
    "- Matplotlib는 그래프를 다루는 두 가지의 인터페이스를 제공하는데 첫번째는 MATLAB 스타일로 pyplot 모듈을 사용하는 방식이고, 두번째는 객체 지향 인터페이스"
   ]
  },
  {
   "cell_type": "markdown",
   "id": "6a29f172-f5df-442c-8f49-dacdffb26a3a",
   "metadata": {},
   "source": [
    "### Pyplot\n",
    "- matplotlib.pyplot 모듈은 MATLAB과 비슷하게 명령어 스타일로 동작하는 함수의 모음\n",
    "- matplotlib.pyplot 모듈의 각각의 함수를 사용해서 간편하게 그래프를 그리고 변화 가능"
   ]
  },
  {
   "cell_type": "raw",
   "id": "c741d4f4-72eb-45a3-a401-48d4a640fe1c",
   "metadata": {},
   "source": []
  },
  {
   "cell_type": "code",
   "execution_count": null,
   "id": "b9a5f309-2ca6-4780-be38-4f256d76229c",
   "metadata": {},
   "outputs": [],
   "source": [
    "import matplotlib.pyplot as plt\n",
    "\n",
    "plt.plot([1, 2, 3, 4])\n",
    "plt.show()"
   ]
  },
  {
   "cell_type": "raw",
   "id": "ccb3652a-f848-4180-b0d0-b555f3f5791a",
   "metadata": {},
   "source": [
    "# plot() 함수는 리스트의 값들이 y 값들이라고 가정하고, x 값 [0, 1, 2, 3]을 자동으로 생성"
   ]
  },
  {
   "cell_type": "code",
   "execution_count": null,
   "id": "ad6fd72e-1da0-42aa-9544-c24b3b987bfc",
   "metadata": {},
   "outputs": [],
   "source": [
    "import matplotlib.pyplot as plt\n",
    "\n",
    "plt.plot([1, 2, 3, 4], [1, 4, 9, 16])\n",
    "plt.show()"
   ]
  },
  {
   "cell_type": "raw",
   "id": "70e7b06e-23a9-43b7-aadd-848b58468b3c",
   "metadata": {},
   "source": []
  },
  {
   "cell_type": "markdown",
   "id": "ef6a7313-2304-40ac-9925-367969bc2598",
   "metadata": {},
   "source": [
    "#### 스타일 지정"
   ]
  },
  {
   "cell_type": "code",
   "execution_count": null,
   "id": "4bf5d437-584b-42c8-9b75-1939080c4936",
   "metadata": {},
   "outputs": [],
   "source": [
    "import matplotlib.pyplot as plt\n",
    "\n",
    "plt.plot([1, 2, 3, 4], [1, 4, 9, 16], 'ro')\n",
    "plt.axis([0, 6, 0, 20])\n",
    "plt.show()"
   ]
  },
  {
   "cell_type": "code",
   "execution_count": null,
   "id": "50cbd95b-0439-4f7f-aec7-78c3c9f3b527",
   "metadata": {},
   "outputs": [],
   "source": [
    "# x, y 값 인자에 대해 선의 색상과 형태를 지정하는 포맷 문자열 (Format string)을 세번째 인자에 입력\n",
    "# 포맷 문자열 ‘ro’는 빨간색 (‘red’)의 원형 (‘o’) 마커를 의미\n",
    "# matplotlib.pyplot 모듈의 axis() 함수를 이용해서 축의 범위 [xmin, xmax, ymin, ymax]를 지정"
   ]
  },
  {
   "cell_type": "code",
   "execution_count": null,
   "id": "ffd788ba-dce0-4667-8687-42771bfe0216",
   "metadata": {},
   "outputs": [],
   "source": [
    "# dict 데이터 그래프\n",
    "import matplotlib.pyplot as plt\n",
    "\n",
    "data_dict = {'data_x': [1, 2, 3, 4, 5], 'data_y': [2, 3, 5, 10, 8]}\n",
    "\n",
    "plt.plot('data_x', 'data_y', data=data_dict)\n",
    "plt.show()"
   ]
  },
  {
   "cell_type": "raw",
   "id": "fd8ed2ea-72f4-424f-a3e9-5affaf6909bd",
   "metadata": {},
   "source": []
  },
  {
   "cell_type": "markdown",
   "id": "20a9f2e6-d654-46c4-9cfd-ee40e246050a",
   "metadata": {},
   "source": [
    "#### 여러 개의 그래프 그리기"
   ]
  },
  {
   "cell_type": "code",
   "execution_count": null,
   "id": "4b1df0a4-2e5d-41fb-b3e6-ca42c78c1d2e",
   "metadata": {},
   "outputs": [],
   "source": [
    "import matplotlib.pyplot as plt\n",
    "import numpy as np\n",
    "\n",
    "# 200ms 간격으로 균일하게 샘플된 시간\n",
    "t = np.arange(0., 5., 0.2)\n",
    "\n",
    "# 빨간 대쉬, 파란 사각형, 녹색 삼각형\n",
    "plt.plot(t, t, 'r--', t, t**2, 'bs')\n",
    "plt.plot(t, t**3, 'g^')\n",
    "plt.show()"
   ]
  },
  {
   "cell_type": "raw",
   "id": "269299fb-22a7-4faa-8ec5-727125932d67",
   "metadata": {},
   "source": [
    "# Matplotlib에서는 일반적으로 NumPy 어레이를 이용(NumPy 어레이를 사용하지 않더라도 모든 시퀀스는 내부적으로 NumPy 어레이로 변환)"
   ]
  },
  {
   "cell_type": "raw",
   "id": "ec7af5de-484c-4df8-a4b2-82f0890ef50d",
   "metadata": {},
   "source": []
  },
  {
   "cell_type": "markdown",
   "id": "afa6bd37-9a06-40e1-ae2c-65f98d8203fc",
   "metadata": {},
   "source": [
    "#### Matplotlib 축 레이블 설정\n",
    "- plt.xlabel(), plt.ylabel()"
   ]
  },
  {
   "cell_type": "code",
   "execution_count": null,
   "id": "a10f052b-24f2-4225-9e82-d24dfcafd2f7",
   "metadata": {},
   "outputs": [],
   "source": [
    "import matplotlib.pyplot as plt\n",
    "\n",
    "plt.plot([1, 2, 3, 4], [1, 4, 9, 16])\n",
    "plt.xlabel('X-Label')\n",
    "plt.ylabel('Y-Label')\n",
    "plt.show()"
   ]
  },
  {
   "cell_type": "raw",
   "id": "cd2aecc4-d359-419a-b57b-482cfb953d17",
   "metadata": {},
   "source": []
  },
  {
   "cell_type": "markdown",
   "id": "0c58bc42-7726-4089-bb91-04175b3ca4fb",
   "metadata": {},
   "source": [
    "#### Matplotlib 범례 표시\n",
    " - plt.plot(x, y, label='line1'), plt.legend()"
   ]
  },
  {
   "cell_type": "code",
   "execution_count": null,
   "id": "424223f3-82be-4513-b6af-5da4d94ce546",
   "metadata": {},
   "outputs": [],
   "source": [
    "import matplotlib.pyplot as plt\n",
    "\n",
    "plt.plot([1, 2, 3, 4], [2, 3, 5, 10], label='Price ($)')\n",
    "plt.plot([1, 2, 3, 4], [3, 5, 9, 7], label='Demand (#)')\n",
    "plt.xlabel('X-Axis')\n",
    "plt.ylabel('Y-Axis')\n",
    "plt.legend(ncol=1)    # ncol = 2\n",
    "\n",
    "plt.show()"
   ]
  },
  {
   "cell_type": "raw",
   "id": "90520b14-3607-4cdb-8000-c70d81fabafa",
   "metadata": {},
   "source": [
    "# 그래프 영역에 범례를 나타내기 위해서는 우선 plot() 함수에 label 문자열을 지정하고 matplotlib.pyplot 모듈의 legend() 함수를 호출"
   ]
  },
  {
   "cell_type": "markdown",
   "id": "5a9fa071-ee97-4000-a484-c4042928ebea",
   "metadata": {},
   "source": [
    "#### Matplotlib 축 범위 지정\n",
    "- xlim(), ylim()"
   ]
  },
  {
   "cell_type": "code",
   "execution_count": null,
   "id": "43a54ba0-d884-48ac-9260-cf09d068baf2",
   "metadata": {},
   "outputs": [],
   "source": [
    "import matplotlib.pyplot as plt\n",
    "\n",
    "plt.plot([1, 2, 3, 4], [2, 3, 5, 10])\n",
    "plt.xlabel('X-Axis')\n",
    "plt.ylabel('Y-Axis')\n",
    "plt.xlim([0, 5])      # X축의 범위: [xmin, xmax]\n",
    "plt.ylim([0, 20])     # Y축의 범위: [ymin, ymax]\n",
    "\n",
    "plt.show()"
   ]
  },
  {
   "cell_type": "markdown",
   "id": "5cc1ed79-970e-4024-bf4d-06a309266783",
   "metadata": {},
   "source": [
    "#### Matplotlib 축 스케일 지정하기\n",
    "- plt.xscale(), plt.yscale()"
   ]
  },
  {
   "cell_type": "code",
   "execution_count": null,
   "id": "09bf1057-9c10-4b69-abce-cea6c7b7b5e6",
   "metadata": {},
   "outputs": [],
   "source": [
    "import matplotlib.pyplot as plt\n",
    "import numpy as np\n",
    "\n",
    "x = np.linspace(-10, 10, 100)\n",
    "y = x ** 3\n",
    "\n",
    "plt.plot(x, y)\n",
    "plt.xscale('symlog')    # ‘symlog’는 Symmetrical Log Scale\n",
    "\n",
    "plt.show()"
   ]
  },
  {
   "cell_type": "markdown",
   "id": "1067105e-a5a9-4156-80bd-47d1df5e2d5c",
   "metadata": {},
   "source": [
    "#### Matplotlib 히스토그램 그리기\n",
    "- hist()"
   ]
  },
  {
   "cell_type": "code",
   "execution_count": null,
   "id": "1d6a417f-032a-4278-8c56-f92e69f19e43",
   "metadata": {},
   "outputs": [],
   "source": [
    "import matplotlib.pyplot as plt\n",
    "\n",
    "weight1 = [68, 81, 64, 56, 78, 74, 61, 77, 66, 68, 59, 71,\n",
    "          80, 59, 67, 81, 69, 73, 69, 74, 70, 65]\n",
    "\n",
    "plt.hist(weight1)\n",
    "\n",
    "plt.show()"
   ]
  },
  {
   "cell_type": "code",
   "execution_count": null,
   "id": "6fee90b3-38e9-441f-a2b5-264f6e3c6d91",
   "metadata": {},
   "outputs": [],
   "source": [
    "import matplotlib.pyplot as plt\n",
    "\n",
    "weight2 = [68, 81, 64, 56, 78, 74, 61, 77, 66, 68, 59, 71,\n",
    "          80, 59, 67, 81, 69, 73, 69, 74, 70, 65]\n",
    "\n",
    "plt.hist(weight2, bins=12)\n",
    "plt.legend()\n",
    "plt.show()"
   ]
  },
  {
   "cell_type": "markdown",
   "id": "8e8a2598-0b57-4f23-b68d-2cd6a6dd45a4",
   "metadata": {},
   "source": [
    "#### Matplotlib 막대 그래프 그리기\n",
    "- plt.bar()"
   ]
  },
  {
   "cell_type": "code",
   "execution_count": null,
   "id": "cfca693b-aafd-4e13-a429-3eae357418cd",
   "metadata": {},
   "outputs": [],
   "source": [
    "import matplotlib.pyplot as plt\n",
    "import numpy as np\n",
    "\n",
    "x = np.arange(3)\n",
    "years = ['2018', '2019', '2020']\n",
    "values = [100, 400, 900]\n",
    "\n",
    "plt.bar(x, values, color=['r', 'g', 'b'])\n",
    "plt.xticks(x, years) # X축의 눈금 레이블에 ‘2018’, ‘2019’, ‘2020’이 순서대로 표시\n",
    "\n",
    "plt.show()"
   ]
  },
  {
   "cell_type": "markdown",
   "id": "17067f56-2710-4fb8-a98a-653549f71254",
   "metadata": {},
   "source": [
    "#### Matplotlib 수평 막대 그래프 그리기\n",
    "-  barh() "
   ]
  },
  {
   "cell_type": "code",
   "execution_count": null,
   "id": "1454c71c-8675-493a-baad-b29c4b920d1f",
   "metadata": {},
   "outputs": [],
   "source": [
    "import matplotlib.pyplot as plt\n",
    "import numpy as np\n",
    "\n",
    "y = np.arange(3)\n",
    "years = ['2018', '2019', '2020']\n",
    "values = [100, 400, 900]\n",
    "\n",
    "plt.barh(y, values)\n",
    "plt.yticks(y, years)\n",
    "\n",
    "plt.show()"
   ]
  },
  {
   "cell_type": "markdown",
   "id": "63791bf8-dfb3-4781-8738-b69861d2daff",
   "metadata": {},
   "source": [
    "#### Matplotlib 산점도 그리기\n",
    "- scatter() "
   ]
  },
  {
   "cell_type": "code",
   "execution_count": null,
   "id": "cfb74c9b-8a50-4327-a8ba-d6f663d03734",
   "metadata": {},
   "outputs": [],
   "source": [
    "import matplotlib.pyplot as plt\n",
    "import numpy as np\n",
    "\n",
    "np.random.seed(0)\n",
    "\n",
    "n = 50\n",
    "x = np.random.rand(n)\n",
    "y = np.random.rand(n)\n",
    "\n",
    "plt.scatter(x, y)\n",
    "plt.show()"
   ]
  },
  {
   "cell_type": "markdown",
   "id": "f4a2de0e-2831-4536-bc66-0ae603ec5d5e",
   "metadata": {},
   "source": [
    "#### Matplotlib 파이 차트 그리기\n",
    "- pie()"
   ]
  },
  {
   "cell_type": "code",
   "execution_count": null,
   "id": "aec45010-5ddb-47ef-bac1-4d653c552549",
   "metadata": {},
   "outputs": [],
   "source": [
    "import matplotlib.pyplot as plt\n",
    "\n",
    "ratio = [34, 32, 16, 18]\n",
    "labels = ['Apple', 'Banana', 'Melon', 'Grapes']\n",
    "\n",
    "plt.pie(ratio, labels=labels, autopct='%.1f%%') # autopct는 부채꼴 안에 표시될 숫자의 형식을 지정\n",
    "plt.show()"
   ]
  },
  {
   "cell_type": "code",
   "execution_count": null,
   "id": "8a69b9e9-c2c2-46ed-a084-152abeac52a5",
   "metadata": {},
   "outputs": [],
   "source": []
  },
  {
   "cell_type": "markdown",
   "id": "396d8468-1226-4c72-b2be-29cb6c91821f",
   "metadata": {},
   "source": [
    "## Matplotlib 객체 지향 인터페이스\n",
    "- Matplotlib 공식 문서에 의하면 더욱 커스터마이즈된 그래프를 위해 객체 지향 인터페이스를 사용하기를 권장"
   ]
  },
  {
   "cell_type": "markdown",
   "id": "d845c12e-0dbb-4ab3-a5f2-40a1154d2481",
   "metadata": {},
   "source": [
    "#### Subplots()\n",
    "- figure (fig)과 subplot (ax) 객체를 생성해서 튜플의 형태로 반환"
   ]
  },
  {
   "cell_type": "code",
   "execution_count": null,
   "id": "ee0867b4-6e54-4c9f-bfa9-df93b873db52",
   "metadata": {},
   "outputs": [],
   "source": [
    "import matplotlib.pyplot as plt\n",
    "\n",
    "fig, ax = plt.subplots() # plt.subplots()이 반환하는 ax는 Matplotlib의 Axes 클래스의 인스턴스\n",
    "plt.show()"
   ]
  },
  {
   "cell_type": "code",
   "execution_count": null,
   "id": "38390174-de8c-4411-ab1f-d31e356d0d49",
   "metadata": {},
   "outputs": [],
   "source": [
    "import matplotlib.pyplot as plt\n",
    "\n",
    "# fig, ax = plt.subplots()\n",
    "fig = plt.figure()                # plt.figure()는 Figure 클래스의 인스턴스를 반환\n",
    "ax = fig.add_axes([0, 0, 1, 1])   # add_axes()는 fig에 axes를 하나 추가\n",
    "                                  # add_axes([left, bottom, width, height])의 형태로 0에서 1 사이의 값을 입력\n",
    "plt.show()"
   ]
  },
  {
   "cell_type": "markdown",
   "id": "93866ba7-11e2-42a4-b208-f3d47abe476a",
   "metadata": {},
   "source": [
    "#### 행과 열 설정하기 (nrows, ncols)"
   ]
  },
  {
   "cell_type": "code",
   "execution_count": null,
   "id": "0316249b-7c0b-48f7-9f0c-7f50de52a9a1",
   "metadata": {},
   "outputs": [],
   "source": [
    "import matplotlib.pyplot as plt\n",
    "\n",
    "fig, ax = plt.subplots(2, 2) \n",
    "plt.show()"
   ]
  },
  {
   "cell_type": "markdown",
   "id": "0c5049a7-43b0-4bab-9630-a43f36f50855",
   "metadata": {},
   "source": [
    "#### X, Y축 공유하기 (sharex, sharey)"
   ]
  },
  {
   "cell_type": "code",
   "execution_count": null,
   "id": "ba5c3f28-dce1-4d34-9b75-c1ddebb4d7ac",
   "metadata": {},
   "outputs": [],
   "source": [
    "import matplotlib.pyplot as plt\n",
    "\n",
    "fig, ax = plt.subplots(2, 2, sharex=True, sharey=True) # 중복된 축을 한번만 표시\n",
    "plt.show()"
   ]
  },
  {
   "cell_type": "markdown",
   "id": "fa1146de-b8cf-4e67-a35d-8fa97317aff2",
   "metadata": {},
   "source": [
    "#### 그래프 그리기"
   ]
  },
  {
   "cell_type": "code",
   "execution_count": null,
   "id": "d353b301-186a-4372-b7e6-aea8469d8de8",
   "metadata": {},
   "outputs": [],
   "source": [
    "import matplotlib.pyplot as plt\n",
    "import numpy as np\n",
    "\n",
    "x = np.arange(1, 5)     # [1, 2, 3, 4]\n",
    "\n",
    "fig, ax = plt.subplots(2, 2, sharex=True, sharey=True, squeeze=True)\n",
    "ax[0][0].plot(x, np.sqrt(x))      # left-top\n",
    "ax[0][1].plot(x, x)               # right-top\n",
    "ax[1][0].plot(x, -x+5)            # left-bottom\n",
    "ax[1][1].plot(x, np.sqrt(-x+5))   # right-bottom\n",
    "\n",
    "plt.show()"
   ]
  },
  {
   "cell_type": "markdown",
   "id": "cb54b29f-9cce-4e2a-ab50-ab7350acf4c9",
   "metadata": {},
   "source": [
    "#### 스타일 설정"
   ]
  },
  {
   "cell_type": "code",
   "execution_count": null,
   "id": "44e47218-e3a0-4b37-8039-372daed7e442",
   "metadata": {},
   "outputs": [],
   "source": [
    "import matplotlib.pyplot as plt\n",
    "import numpy as np\n",
    "\n",
    "x = np.arange(1, 5)     # [1, 2, 3, 4]\n",
    "\n",
    "fig, ax = plt.subplots(2, 2, sharex=True, sharey=True, squeeze=True)\n",
    "ax[0][0].plot(x, np.sqrt(x), 'gray', linewidth=3)\n",
    "ax[0][1].plot(x, x, 'g^-', markersize=10)\n",
    "ax[1][0].plot(x, -x+5, 'ro--')\n",
    "ax[1][1].plot(x, np.sqrt(-x+5), 'b.-.')\n",
    "\n",
    "plt.show()"
   ]
  },
  {
   "cell_type": "markdown",
   "id": "801dd793-6617-4511-a024-6753d53362f9",
   "metadata": {},
   "source": [
    "#### 제목과 범례 표시"
   ]
  },
  {
   "cell_type": "code",
   "execution_count": null,
   "id": "2541ddf7-e83e-47be-a010-997f729c6ba7",
   "metadata": {},
   "outputs": [],
   "source": [
    "import matplotlib.pyplot as plt\n",
    "import numpy as np\n",
    "\n",
    "x = np.arange(1, 5)     # [1, 2, 3, 4]\n",
    "\n",
    "fig, ax = plt.subplots(2, 2, sharex=True, sharey=True, squeeze=True)\n",
    "ax[0][0].plot(x, np.sqrt(x), 'gray', linewidth=3, label='y=np.sqrt(x)')\n",
    "ax[0][0].set_title('Graph 1')   \n",
    "ax[0][0].legend()\n",
    "ax[0][1].plot(x, x, 'g^-', markersize=10, label='y=x')\n",
    "ax[0][1].set_title('Graph 2')\n",
    "ax[0][1].legend(loc='upper left')\n",
    "ax[1][0].plot(x, -x+5, 'ro--', label='y=-x+5')\n",
    "ax[1][0].set_title('Graph 3')\n",
    "ax[1][0].legend(loc='lower left')\n",
    "ax[1][1].plot(x, np.sqrt(-x+5), 'b.-.', label='y=np.sqrt(-x+5)')\n",
    "ax[1][1].set_title('Graph 4')\n",
    "ax[1][1].legend(loc='upper center')\n",
    "\n",
    "plt.show()"
   ]
  },
  {
   "cell_type": "markdown",
   "id": "c85157d1-ed41-4a8d-8ffb-9d3d7c7cbe4c",
   "metadata": {},
   "source": [
    "#### Matplotlib 축 위치 조절하기"
   ]
  },
  {
   "cell_type": "code",
   "execution_count": null,
   "id": "63773256-63bc-4b77-a584-c8253ad46338",
   "metadata": {},
   "outputs": [],
   "source": [
    "import matplotlib.pyplot as plt\n",
    "import numpy as np\n",
    "\n",
    "plt.style.use('default')\n",
    "plt.rcParams['figure.figsize'] = (6, 3)\n",
    "plt.rcParams['font.size'] = 12\n",
    "\n",
    "\n",
    "fig, ax = plt.subplots()\n",
    "\n",
    "ax.set_title('Mean Squared Error', pad=20)\n",
    "ax.set_xlim(-3, 3)\n",
    "ax.set_ylim(0, 3)\n",
    "ax.set_xticks([-3, -2, -1, 0, 1, 2, 3])\n",
    "ax.set_yticks([1, 2, 3])\n",
    "\n",
    "ax.spines['left'].set_position('center')        # 왼쪽 축을 가운데 위치로 이동\n",
    "ax.spines['right'].set_visible(False)          # 오른쪽 축을 보이지 않도록\n",
    "ax.spines['top'].set_visible(False)            # 위 축을 보이지 않도록\n",
    "ax.spines['bottom'].set_position(('data', 0))   # 아래 축을 데이터 0의 위치로 이동\n",
    "ax.tick_params('both', length=0)                # Tick의 눈금 길이 0\n",
    "\n",
    "x = np.linspace(-3, 3, 100)\n",
    "ax.set_xlabel('y_true - y_pred', fontdict={'fontsize': 14}, labelpad=10)\n",
    "ax.plot(x, x**2, color='#4799FF', linewidth=5)\n",
    "\n",
    "plt.show()"
   ]
  },
  {
   "cell_type": "code",
   "execution_count": null,
   "id": "082f597c-5345-4b96-8385-45776306f148",
   "metadata": {},
   "outputs": [],
   "source": []
  }
 ],
 "metadata": {
  "kernelspec": {
   "display_name": "Python 3 (ipykernel)",
   "language": "python",
   "name": "python3"
  },
  "language_info": {
   "codemirror_mode": {
    "name": "ipython",
    "version": 3
   },
   "file_extension": ".py",
   "mimetype": "text/x-python",
   "name": "python",
   "nbconvert_exporter": "python",
   "pygments_lexer": "ipython3",
   "version": "3.9.7"
  }
 },
 "nbformat": 4,
 "nbformat_minor": 5
}
