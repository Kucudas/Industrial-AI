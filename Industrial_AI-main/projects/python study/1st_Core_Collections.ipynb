{
 "cells": [
  {
   "cell_type": "markdown",
   "id": "d606c1cc-f0f8-4f85-8bb4-709a988b727e",
   "metadata": {},
   "source": [
    "# Time complexity – The big O notation"
   ]
  },
  {
   "cell_type": "code",
   "execution_count": null,
   "id": "181f212c-346a-4b85-9230-9f4a34851995",
   "metadata": {},
   "outputs": [],
   "source": [
    ">>> def o_one(items):\n",
    "...     return 1  # 1 operation so O(1)\n",
    "\n",
    ">>> def o_n(items):\n",
    "...     total = 0\n",
    "...     # Walks through all items once so O(n)\n",
    "...     for item in items:\n",
    "...         total += item\n",
    "...     return total\n",
    "\n",
    ">>> def o_n_squared(items):\n",
    "...     total = 0\n",
    "...     # Walks through all items n*n times so O(n**2)\n",
    "...     for a in items:\n",
    "...         for b in items:\n",
    "...             total += a * b\n",
    "...     return total"
   ]
  },
  {
   "cell_type": "code",
   "execution_count": null,
   "id": "7983607e-5b77-42cb-a9e2-3bb39ee9bcf6",
   "metadata": {},
   "outputs": [],
   "source": [
    ">>> n = 10\n",
    ">>> items = range(n)\n",
    ">>> o_one(items)  # 1 operation"
   ]
  },
  {
   "cell_type": "code",
   "execution_count": null,
   "id": "7d264930-d0bf-4815-93fd-2710bf64955a",
   "metadata": {},
   "outputs": [],
   "source": [
    ">>> o_n(items)  # n = 10 operations"
   ]
  },
  {
   "cell_type": "code",
   "execution_count": null,
   "id": "a6569ac4-9711-41e7-9a3a-013a6ce878c3",
   "metadata": {},
   "outputs": [],
   "source": [
    ">>> o_n_squared(items)  # n*n = 10*10 = 100 operations"
   ]
  },
  {
   "cell_type": "markdown",
   "id": "5f7a1768-8ec0-449d-8e76-919be12e742e",
   "metadata": {},
   "source": [
    "# list – A mutable list of items"
   ]
  },
  {
   "cell_type": "code",
   "execution_count": null,
   "id": "2461b0e9-15e4-4d7e-928a-df78e2d06dcc",
   "metadata": {},
   "outputs": [],
   "source": [
    ">>> def remove(items, value):\n",
    "...     new_items = []\n",
    "...     found = False\n",
    "...     for item in items:\n",
    "...         # Skip the first item which is equal to value\n",
    "...         if not found and item == value:\n",
    "...             found = True\n",
    "...             continue\n",
    "...         new_items.append(item)\n",
    "...\n",
    "...     if not found:\n",
    "...         raise ValueError('list.remove(x): x not in list')\n",
    "...\n",
    "...     return new_items\n",
    "\n",
    "\n",
    ">>> def insert(items, index, value):\n",
    "...     new_items = []\n",
    "...     for i, item in enumerate(items):\n",
    "...         if i == index:\n",
    "...             new_items.append(value)\n",
    "...         new_items.append(item)\n",
    "...     return new_items"
   ]
  },
  {
   "cell_type": "code",
   "execution_count": null,
   "id": "75098f2f-3759-45e9-81ec-a26da974be75",
   "metadata": {},
   "outputs": [],
   "source": [
    ">>> items = list(range(10))\n",
    ">>> items"
   ]
  },
  {
   "cell_type": "code",
   "execution_count": null,
   "id": "1c368cea-84ab-49e8-8167-9eabe889cc23",
   "metadata": {},
   "outputs": [],
   "source": [
    ">>> items = remove(items, 5)\n",
    ">>> items"
   ]
  },
  {
   "cell_type": "code",
   "execution_count": null,
   "id": "01ec026f-f0d5-4dc9-8662-9976f8955f9e",
   "metadata": {},
   "outputs": [],
   "source": [
    ">>> items = insert(items, 2, 5)\n",
    ">>> items"
   ]
  },
  {
   "cell_type": "code",
   "execution_count": null,
   "id": "b9f83e77-744f-45ea-a3e5-1669100d4ba2",
   "metadata": {},
   "outputs": [],
   "source": []
  },
  {
   "cell_type": "code",
   "execution_count": null,
   "id": "92966972-2f58-4518-81be-9f5af2d65210",
   "metadata": {},
   "outputs": [],
   "source": [
    ">>> primes = set((1, 2, 3, 5, 7))"
   ]
  },
  {
   "cell_type": "code",
   "execution_count": null,
   "id": "1994cfe8-de45-4819-824f-fc1565273b09",
   "metadata": {},
   "outputs": [],
   "source": [
    "# Classic solution\n",
    ">>> items = list(range(10))\n",
    ">>> for prime in primes:\n",
    "...     items.remove(prime)"
   ]
  },
  {
   "cell_type": "code",
   "execution_count": null,
   "id": "d6f4ba34-1a71-45b8-aad5-fc3abdc3f53c",
   "metadata": {},
   "outputs": [],
   "source": [
    ">>> items"
   ]
  },
  {
   "cell_type": "code",
   "execution_count": null,
   "id": "f118dbc7-6417-4661-9eda-73987d0ff181",
   "metadata": {},
   "outputs": [],
   "source": [
    "# List comprehension\n",
    ">>> items = list(range(10))\n",
    ">>> [item for item in items if item not in primes]"
   ]
  },
  {
   "cell_type": "code",
   "execution_count": null,
   "id": "65069976-2efb-4f82-bfc1-1edb0aab5b3f",
   "metadata": {},
   "outputs": [],
   "source": [
    "# Filter\n",
    ">>> items = list(range(10))\n",
    ">>> list(filter(lambda item: item not in primes, items))"
   ]
  },
  {
   "cell_type": "markdown",
   "id": "781ded17-d54e-4683-b1f6-da5f63faf9fc",
   "metadata": {
    "tags": []
   },
   "source": [
    "# dict – A map of items"
   ]
  },
  {
   "cell_type": "raw",
   "id": "926cfd6f-e016-4e00-aedd-7f23b6eca5a6",
   "metadata": {},
   "source": [
    "# 매직 메소드 (Magic method)"
   ]
  },
  {
   "cell_type": "code",
   "execution_count": null,
   "id": "06884f86-8fb8-48e4-a0e9-53cc9c2da0fa",
   "metadata": {},
   "outputs": [],
   "source": [
    "class MyFunc:\n",
    "    def __call__(self, *args, **kwargs):\n",
    "        print(\"호출됨\")"
   ]
  },
  {
   "cell_type": "code",
   "execution_count": null,
   "id": "dfd99975-5196-4b5f-882b-6db7f94c6695",
   "metadata": {},
   "outputs": [],
   "source": [
    "f = MyFunc()\n",
    "f()"
   ]
  },
  {
   "cell_type": "code",
   "execution_count": null,
   "id": "058d67c9-e2bf-4ead-a574-444a032d19c4",
   "metadata": {},
   "outputs": [],
   "source": [
    "class Stock:\n",
    "    def __getattribute__(self, item):\n",
    "        print(item, \"객체에 접근하셨습니다.\")"
   ]
  },
  {
   "cell_type": "code",
   "execution_count": null,
   "id": "5d6a5dd5-d69f-4ef1-ba09-3516c2e68bdc",
   "metadata": {},
   "outputs": [],
   "source": [
    "s = Stock()\n",
    "s.data"
   ]
  },
  {
   "cell_type": "raw",
   "id": "f732c970-f31d-42f9-bdb7-b9a8f33c6bb2",
   "metadata": {},
   "source": [
    "# the hash function: __hash__"
   ]
  },
  {
   "cell_type": "code",
   "execution_count": null,
   "id": "2612927f-5df0-4d5e-9c62-2debc2f62fb1",
   "metadata": {},
   "outputs": [],
   "source": [
    ">>> def most_significant(value):\n",
    "...     while value >= 10:\n",
    "...         value //= 10\n",
    "...     return value"
   ]
  },
  {
   "cell_type": "code",
   "execution_count": null,
   "id": "3e889f82-2332-4ec2-8ea2-4ac64f37ad75",
   "metadata": {},
   "outputs": [],
   "source": [
    ">>> most_significant(12345)"
   ]
  },
  {
   "cell_type": "code",
   "execution_count": null,
   "id": "a667027a-e186-4342-91cb-c88cb833b040",
   "metadata": {},
   "outputs": [],
   "source": [
    ">>> most_significant(99)"
   ]
  },
  {
   "cell_type": "code",
   "execution_count": null,
   "id": "904c6410-1ef3-40da-8b72-0dfa448f6114",
   "metadata": {},
   "outputs": [],
   "source": [
    ">>> most_significant(0)"
   ]
  },
  {
   "cell_type": "code",
   "execution_count": null,
   "id": "4c24d65e-7bc8-47b7-81f9-3b4c941ebce8",
   "metadata": {},
   "outputs": [],
   "source": [
    ">>> def add(collection, key, value):\n",
    "...     index = most_significant(key)\n",
    "...     collection[index].append((key, value))\n",
    "\n",
    ">>> def contains(collection, key):\n",
    "...     index = most_significant(key)\n",
    "...     for k, v in collection[index]:\n",
    "...         if k == key:\n",
    "...             return True\n",
    "...     return False"
   ]
  },
  {
   "cell_type": "code",
   "execution_count": null,
   "id": "62d914a4-6401-4bd2-a138-0c28316037f8",
   "metadata": {},
   "outputs": [],
   "source": [
    "# Create the collection of 10 lists\n",
    ">>> collection = [[], [], [], [], [], [], [], [], [], []]"
   ]
  },
  {
   "cell_type": "code",
   "execution_count": null,
   "id": "2eecd19d-c523-4929-ac4c-58ea3b1f2c3b",
   "metadata": {},
   "outputs": [],
   "source": [
    "# Add some items, using key/value pairs\n",
    ">>> add(collection, 123, 'a')\n",
    ">>> add(collection, 456, 'b')\n",
    ">>> add(collection, 789, 'c')\n",
    ">>> add(collection, 101, 'c')"
   ]
  },
  {
   "cell_type": "code",
   "execution_count": null,
   "id": "8608bbd2-1831-4592-91ae-ca7f2b61a1b9",
   "metadata": {},
   "outputs": [],
   "source": [
    "# Look at the collection\n",
    ">>> collection"
   ]
  },
  {
   "cell_type": "code",
   "execution_count": null,
   "id": "bb643be9-a278-43ce-931d-06fd4f094f91",
   "metadata": {},
   "outputs": [],
   "source": [
    "# Check if the contains works correctly\n",
    ">>> contains(collection, 123)"
   ]
  },
  {
   "cell_type": "code",
   "execution_count": null,
   "id": "f62c26e5-d725-4208-a202-d2898b4ad020",
   "metadata": {},
   "outputs": [],
   "source": [
    ">>> contains(collection, 1)"
   ]
  },
  {
   "cell_type": "markdown",
   "id": "0454d068-a771-4cb4-8dff-ec0f3ae54650",
   "metadata": {},
   "source": [
    "# set – Like a dict without values"
   ]
  },
  {
   "cell_type": "code",
   "execution_count": 2,
   "id": "ece79e65-9b98-4d20-80ed-928d7ae389ca",
   "metadata": {},
   "outputs": [],
   "source": [
    "# set은 mutable 객체\n",
    "s = {1, 2, 3, 4}"
   ]
  },
  {
   "cell_type": "code",
   "execution_count": 4,
   "id": "ae695d62-3dda-4298-a9f8-03bfd9408ea9",
   "metadata": {},
   "outputs": [
    {
     "data": {
      "text/plain": [
       "{1, 2, 3, 4, 6, 7, 8}"
      ]
     },
     "execution_count": 4,
     "metadata": {},
     "output_type": "execute_result"
    }
   ],
   "source": [
    "s.add(5)\n",
    "s.discard(5)\n",
    "s.update({6, 7, 8})\n",
    "s"
   ]
  },
  {
   "cell_type": "code",
   "execution_count": null,
   "id": "0530c3d8-aa9a-4a9e-bb55-1d5370efaa76",
   "metadata": {},
   "outputs": [],
   "source": [
    ">>> current_users = set((\n",
    "...     'a',\n",
    "...     'b',\n",
    "...     'd',\n",
    "... ))\n",
    "\n",
    ">>> new_users = set((\n",
    "...     'b',\n",
    "...     'c',\n",
    "...     'd',\n",
    "...     'e',\n",
    "... ))"
   ]
  },
  {
   "cell_type": "code",
   "execution_count": null,
   "id": "40092fc8-dbfe-4cc2-9155-09ec597cb15a",
   "metadata": {},
   "outputs": [],
   "source": [
    ">>> to_insert = new_users - current_users\n",
    ">>> sorted(to_insert)"
   ]
  },
  {
   "cell_type": "code",
   "execution_count": null,
   "id": "1a974a94-c49e-4923-b934-15342fdedd7c",
   "metadata": {},
   "outputs": [],
   "source": [
    ">>> to_delete = current_users - new_users\n",
    ">>> sorted(to_delete)"
   ]
  },
  {
   "cell_type": "code",
   "execution_count": null,
   "id": "9f9988ec-a04b-4923-b159-e6863b114ecc",
   "metadata": {},
   "outputs": [],
   "source": [
    ">>> unchanged = new_users & current_users\n",
    ">>> sorted(unchanged)"
   ]
  },
  {
   "cell_type": "markdown",
   "id": "e9958a65-f561-4bc5-b0b5-091e9ae36215",
   "metadata": {},
   "source": [
    "# frozenset"
   ]
  },
  {
   "cell_type": "code",
   "execution_count": 5,
   "id": "11ba0695-4fb9-4946-9c37-ae39018928d4",
   "metadata": {},
   "outputs": [],
   "source": [
    "# immutable 객체이다.\n",
    "fs = frozenset([1, 2, 3, 4])"
   ]
  },
  {
   "cell_type": "code",
   "execution_count": 6,
   "id": "ccd7feaf-22ea-4c27-84fa-8bc53ecf2db4",
   "metadata": {},
   "outputs": [
    {
     "ename": "AttributeError",
     "evalue": "'frozenset' object has no attribute 'add'",
     "output_type": "error",
     "traceback": [
      "\u001b[1;31m---------------------------------------------------------------------------\u001b[0m",
      "\u001b[1;31mAttributeError\u001b[0m                            Traceback (most recent call last)",
      "Input \u001b[1;32mIn [6]\u001b[0m, in \u001b[0;36m<cell line: 1>\u001b[1;34m()\u001b[0m\n\u001b[1;32m----> 1\u001b[0m \u001b[43mfs\u001b[49m\u001b[38;5;241;43m.\u001b[39;49m\u001b[43madd\u001b[49m(\u001b[38;5;241m5\u001b[39m)\n",
      "\u001b[1;31mAttributeError\u001b[0m: 'frozenset' object has no attribute 'add'"
     ]
    }
   ],
   "source": [
    "fs.add(5)"
   ]
  },
  {
   "cell_type": "code",
   "execution_count": 8,
   "id": "2052b77d-fbf9-44b2-bf13-226bfbdd72d2",
   "metadata": {},
   "outputs": [
    {
     "ename": "AttributeError",
     "evalue": "'frozenset' object has no attribute 'update'",
     "output_type": "error",
     "traceback": [
      "\u001b[1;31m---------------------------------------------------------------------------\u001b[0m",
      "\u001b[1;31mAttributeError\u001b[0m                            Traceback (most recent call last)",
      "Input \u001b[1;32mIn [8]\u001b[0m, in \u001b[0;36m<cell line: 1>\u001b[1;34m()\u001b[0m\n\u001b[1;32m----> 1\u001b[0m \u001b[43mfs\u001b[49m\u001b[38;5;241;43m.\u001b[39;49m\u001b[43mupdate\u001b[49m({\u001b[38;5;241m6\u001b[39m,\u001b[38;5;241m7\u001b[39m,\u001b[38;5;241m8\u001b[39m})\n",
      "\u001b[1;31mAttributeError\u001b[0m: 'frozenset' object has no attribute 'update'"
     ]
    }
   ],
   "source": [
    "fs.update({6,7,8})"
   ]
  },
  {
   "cell_type": "markdown",
   "id": "afc2f38b-12ca-4dc6-ae42-abf441390cf6",
   "metadata": {},
   "source": [
    "# tuple – The immutable list"
   ]
  },
  {
   "cell_type": "raw",
   "id": "1eb88fc8-bb20-4a6a-807c-4da49da8ec27",
   "metadata": {},
   "source": [
    "# tuples are hashable."
   ]
  },
  {
   "cell_type": "code",
   "execution_count": null,
   "id": "d7acea7c-bfb2-4806-868a-7087dfa5f3b4",
   "metadata": {},
   "outputs": [],
   "source": [
    ">>> spam = 1, 2, 3\n",
    ">>> eggs = 4, 5, 6"
   ]
  },
  {
   "cell_type": "code",
   "execution_count": null,
   "id": "725ee4de-1915-4414-9bfb-cd903de50df8",
   "metadata": {},
   "outputs": [],
   "source": [
    ">>> data = dict()\n",
    ">>> data[spam] = 'spam'\n",
    ">>> data[eggs] = 'eggs'"
   ]
  },
  {
   "cell_type": "code",
   "execution_count": null,
   "id": "a131d9da-bdac-456d-8b79-e6e50a4a91df",
   "metadata": {},
   "outputs": [],
   "source": [
    ">>> print(data)"
   ]
  },
  {
   "cell_type": "code",
   "execution_count": null,
   "id": "60e5891e-ecd9-4aa0-b077-243a43558e0d",
   "metadata": {},
   "outputs": [],
   "source": [
    ">>> spam = 1, 'abc', (2, 3, (4, 5)), 'def'\n",
    ">>> eggs = 4, (spam, 5), 6"
   ]
  },
  {
   "cell_type": "code",
   "execution_count": null,
   "id": "9acb71d2-301f-4c98-9aae-ff109735f4fe",
   "metadata": {},
   "outputs": [],
   "source": [
    ">>> data = dict()\n",
    ">>> data[spam] = 'spam'\n",
    ">>> data[eggs] = 'eggs'"
   ]
  },
  {
   "cell_type": "code",
   "execution_count": null,
   "id": "28228ce3-a2c6-4846-9692-e9c7cc56ed75",
   "metadata": {},
   "outputs": [],
   "source": [
    ">>> print(data)"
   ]
  },
  {
   "cell_type": "raw",
   "id": "af30a7d0-1446-4194-a87e-5616692a4d00",
   "metadata": {},
   "source": [
    "# tuple packing and unpacking"
   ]
  },
  {
   "cell_type": "code",
   "execution_count": null,
   "id": "e6b29898-8bbf-497d-838f-ab29d8e13cb0",
   "metadata": {},
   "outputs": [],
   "source": [
    "# Assign using tuples on both sides\n",
    ">>> a, b, c = 1, 2, 3\n",
    ">>> a"
   ]
  },
  {
   "cell_type": "code",
   "execution_count": null,
   "id": "d2da52e4-ce0e-4464-bbcd-e6ed74204b2d",
   "metadata": {},
   "outputs": [],
   "source": [
    "# Assign a tuple to a single variable\n",
    ">>> spam = a, (b, c)\n",
    ">>> spam"
   ]
  },
  {
   "cell_type": "code",
   "execution_count": null,
   "id": "b9b4b41c-40ec-49d6-bffe-a91d66dfc4c6",
   "metadata": {},
   "outputs": [],
   "source": [
    "# Unpack a tuple to two variables\n",
    ">>> a, b = spam\n",
    ">>> a"
   ]
  },
  {
   "cell_type": "code",
   "execution_count": null,
   "id": "40083a21-cb91-44fb-9392-e13a07b8f578",
   "metadata": {},
   "outputs": [],
   "source": [
    ">>> b"
   ]
  },
  {
   "cell_type": "code",
   "execution_count": null,
   "id": "372ee860-02ca-4e58-b2b5-7cc3d404b439",
   "metadata": {},
   "outputs": [],
   "source": [
    "# Unpack with variable length objects which assigns a list instead of a tuple\n",
    ">>> spam, *eggs = 1, 2, 3, 4\n",
    ">>> spam"
   ]
  },
  {
   "cell_type": "code",
   "execution_count": null,
   "id": "dbd80e72-fdaa-4217-9078-effc0c50349a",
   "metadata": {},
   "outputs": [],
   "source": [
    ">>> eggs"
   ]
  },
  {
   "cell_type": "code",
   "execution_count": null,
   "id": "2368f562-dbf4-48e7-a66e-d46e5960b695",
   "metadata": {},
   "outputs": [],
   "source": [
    "# Which can be unpacked as well of course\n",
    ">>> a, b, c = eggs\n",
    ">>> c"
   ]
  },
  {
   "cell_type": "code",
   "execution_count": null,
   "id": "aa618cc0-6519-49fe-92e1-fc04c61521cb",
   "metadata": {},
   "outputs": [],
   "source": [
    "# This works for ranges as well\n",
    ">>> spam, *eggs = range(10)\n",
    ">>> spam"
   ]
  },
  {
   "cell_type": "code",
   "execution_count": null,
   "id": "8ebe51dc-fad3-4014-bcbe-88424217c3c2",
   "metadata": {},
   "outputs": [],
   "source": [
    ">>> eggs"
   ]
  },
  {
   "cell_type": "code",
   "execution_count": null,
   "id": "4a48e3be-d100-4bad-ac61-8c7f973ee85f",
   "metadata": {},
   "outputs": [],
   "source": [
    "# And it works both ways\n",
    ">>> a, b, *c = a, *eggs\n",
    ">>> a, b"
   ]
  },
  {
   "cell_type": "code",
   "execution_count": null,
   "id": "350a8dd5-29fd-4fc6-a41c-efd8c1066835",
   "metadata": {},
   "outputs": [],
   "source": [
    ">>> c"
   ]
  },
  {
   "cell_type": "code",
   "execution_count": null,
   "id": "5335a10d-4120-45c7-a9fa-752f93094fd9",
   "metadata": {},
   "outputs": [],
   "source": [
    ">>> def eggs(*args):\n",
    "...     print('args:', args)\n",
    "\n",
    ">>> eggs(1, 2, 3)"
   ]
  },
  {
   "cell_type": "code",
   "execution_count": null,
   "id": "96459aa1-1c6c-4c69-9768-abc359be5bea",
   "metadata": {},
   "outputs": [],
   "source": [
    ">>> def spam_eggs():\n",
    "...     return 'spam', 'eggs'\n",
    "\n",
    ">>> spam, eggs = spam_eggs()\n",
    ">>> spam"
   ]
  },
  {
   "cell_type": "code",
   "execution_count": null,
   "id": "8ea2e34b-1afa-4f2d-bc1a-caa3cede219b",
   "metadata": {},
   "outputs": [],
   "source": [
    ">>> eggs"
   ]
  },
  {
   "cell_type": "code",
   "execution_count": null,
   "id": "0212dec3-5fc9-4c29-bb2c-20af4f6900cb",
   "metadata": {},
   "outputs": [],
   "source": []
  }
 ],
 "metadata": {
  "kernelspec": {
   "display_name": "Python 3 (ipykernel)",
   "language": "python",
   "name": "python3"
  },
  "language_info": {
   "codemirror_mode": {
    "name": "ipython",
    "version": 3
   },
   "file_extension": ".py",
   "mimetype": "text/x-python",
   "name": "python",
   "nbconvert_exporter": "python",
   "pygments_lexer": "ipython3",
   "version": "3.9.7"
  }
 },
 "nbformat": 4,
 "nbformat_minor": 5
}
