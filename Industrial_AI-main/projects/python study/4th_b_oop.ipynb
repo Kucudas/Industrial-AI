{
 "cells": [
  {
   "cell_type": "markdown",
   "id": "c0500434-4a9a-49f7-8443-2dba489eafaa",
   "metadata": {},
   "source": [
    "## Inheritance: Base Classes and Subclasses"
   ]
  },
  {
   "cell_type": "raw",
   "id": "6c564790-db5a-41aa-9d37-69e24bd1a298",
   "metadata": {},
   "source": [
    "Base class    Subclasses\n",
    "-----------   ------------------------------------------\n",
    "Student       GraduateStudent, UndergraduateStudent\n",
    "Shape         Circle, Triangle, Rectangle, Sphere, Cube\n",
    "Loan          CarLoan, HomeImprovementLoan, MortgageLoan\n",
    "Employee      Faculty, Staff\n",
    "BankAccount   CheckingAccount, SavingsAccount\n",
    "\n",
    "* base classes tend to be “more general” and subclasses “more specific”"
   ]
  },
  {
   "cell_type": "markdown",
   "id": "9ca6e37a-b770-4a83-ba0e-bd8870c29213",
   "metadata": {},
   "source": [
    "##### is-a relationship"
   ]
  },
  {
   "cell_type": "raw",
   "id": "268b7ce2-34d4-4355-949c-d65d01f9514b",
   "metadata": {},
   "source": [
    "- An Employee is a CommunityMember.\n",
    "- A Triangle is a TwoDimensionalShape and is a Shape.\n",
    "- A Sphere is a ThreeDimensionalShape and is a Shape."
   ]
  },
  {
   "cell_type": "code",
   "execution_count": null,
   "id": "e0bba657-f663-48da-9d0a-3aaed7435b26",
   "metadata": {},
   "outputs": [],
   "source": []
  },
  {
   "cell_type": "markdown",
   "id": "21b02602-2541-4c5f-916a-ad2758091493",
   "metadata": {
    "tags": []
   },
   "source": [
    "## Building an Inheritance Hierarchy; Introducing Polymorphism\n",
    "\n",
    "### Base Class `CommissionEmployee` \n",
    "```python\n",
    "# commmissionemployee.py\n",
    "\"\"\"CommissionEmployee base class.\"\"\"\n",
    "from decimal import Decimal\n",
    "\n",
    "class CommissionEmployee:\n",
    "    \"\"\"An employee who gets paid commission based on gross sales.\"\"\"\n",
    "\n",
    "    def __init__(self, first_name, last_name, ssn, \n",
    "                 gross_sales, commission_rate):\n",
    "        \"\"\"Initialize CommissionEmployee's attributes.\"\"\"\n",
    "        self._first_name = first_name\n",
    "        self._last_name = last_name\n",
    "        self._ssn = ssn\n",
    "        self.gross_sales = gross_sales  # validate via property\n",
    "        self.commission_rate = commission_rate  # validate via property\n",
    "\n",
    "    @property\n",
    "    def first_name(self):\n",
    "        return self._first_name\n",
    "\n",
    "    @property\n",
    "    def last_name(self):\n",
    "        return self._last_name\n",
    "\n",
    "    @property\n",
    "    def ssn(self):\n",
    "        return self._ssn\n",
    "\n",
    "    @property\n",
    "    def gross_sales(self):\n",
    "        return self._gross_sales\n",
    "\n",
    "    @gross_sales.setter\n",
    "    def gross_sales(self, sales):\n",
    "        \"\"\"Set gross sales or raise ValueError if invalid.\"\"\"\n",
    "        if sales < Decimal('0.00'):\n",
    "            raise ValueError('Gross sales must be >= to 0')\n",
    "        \n",
    "        self._gross_sales = sales\n",
    "        \n",
    "    @property\n",
    "    def commission_rate(self):\n",
    "        return self._commission_rate\n",
    "\n",
    "    @commission_rate.setter\n",
    "    def commission_rate(self, rate):\n",
    "        \"\"\"Set commission rate or raise ValueError if invalid.\"\"\"\n",
    "        if not (Decimal('0.0') < rate < Decimal('1.0')):\n",
    "            raise ValueError(\n",
    "               'Interest rate must be greater than 0 and less than 1')\n",
    "        \n",
    "        self._commission_rate = rate\n",
    "\n",
    "    def earnings(self):\n",
    "        \"\"\"Calculate earnings.\"\"\"   \n",
    "        return self.gross_sales * self.commission_rate\n",
    "\n",
    "    def __repr__(self):\n",
    "        \"\"\"Return string representation for repr().\"\"\"\n",
    "        return ('CommissionEmployee: ' + \n",
    "            f'{self.first_name} {self.last_name}\\n' +\n",
    "            f'social security number: {self.ssn}\\n' +\n",
    "            f'gross sales: {self.gross_sales:.2f}\\n' +\n",
    "            f'commission rate: {self.commission_rate:.2f}')\n",
    "\n",
    "```"
   ]
  },
  {
   "cell_type": "markdown",
   "id": "dade8ca4-344e-464a-832e-72a7a6a2c83b",
   "metadata": {},
   "source": [
    "##### All Classes Inherit Directly or Indirectly from Class `object`"
   ]
  },
  {
   "cell_type": "raw",
   "id": "b8b6692c-dc11-443f-aa83-a10cf367396b",
   "metadata": {},
   "source": [
    "- Class object does not have any data attributes.\n",
    "- Two of the many methods inherited from object are __repr__ and __str__."
   ]
  },
  {
   "cell_type": "markdown",
   "id": "3d7b5087-343f-41bc-b617-8c3e237f77ec",
   "metadata": {},
   "source": [
    "##### Class `CommissionEmployee`  "
   ]
  },
  {
   "cell_type": "code",
   "execution_count": 1,
   "id": "3b954b29-f9a0-47cd-88b3-c5110b23cdf4",
   "metadata": {},
   "outputs": [],
   "source": [
    "from commissionemployee import CommissionEmployee"
   ]
  },
  {
   "cell_type": "code",
   "execution_count": 2,
   "id": "187003c3-c71a-441f-ae36-b0612c003630",
   "metadata": {},
   "outputs": [],
   "source": [
    "from decimal import Decimal"
   ]
  },
  {
   "cell_type": "code",
   "execution_count": 3,
   "id": "230f8bd1-dd50-4878-bec8-602a11400c0f",
   "metadata": {},
   "outputs": [],
   "source": [
    "c = CommissionEmployee('Sue', 'Jones', '333-33-3333', \n",
    "    Decimal('10000.00'), Decimal('0.06'))"
   ]
  },
  {
   "cell_type": "code",
   "execution_count": 4,
   "id": "5a374698-6efb-4cf1-89b4-61ae48633caa",
   "metadata": {},
   "outputs": [
    {
     "data": {
      "text/plain": [
       "CommissionEmployee: Sue Jones\n",
       "social security number: 333-33-3333\n",
       "gross sales: 10000.00\n",
       "commission rate: 0.06"
      ]
     },
     "execution_count": 4,
     "metadata": {},
     "output_type": "execute_result"
    }
   ],
   "source": [
    "c"
   ]
  },
  {
   "cell_type": "code",
   "execution_count": 5,
   "id": "e102727c-2865-4077-a447-8cf1707814fb",
   "metadata": {},
   "outputs": [
    {
     "name": "stdout",
     "output_type": "stream",
     "text": [
      "600.00\n"
     ]
    }
   ],
   "source": [
    "print(f'{c.earnings():,.2f}')"
   ]
  },
  {
   "cell_type": "code",
   "execution_count": 6,
   "id": "284d8bc0-2623-49af-835b-46aa6160d1c0",
   "metadata": {},
   "outputs": [],
   "source": [
    "c.gross_sales = Decimal('20000.00')"
   ]
  },
  {
   "cell_type": "code",
   "execution_count": 7,
   "id": "ac287189-5b3e-49ac-82db-1e50aaec22d9",
   "metadata": {},
   "outputs": [],
   "source": [
    "c.commission_rate = Decimal('0.1')"
   ]
  },
  {
   "cell_type": "code",
   "execution_count": 8,
   "id": "6515d32e-fd44-4994-8b28-d28b9737adea",
   "metadata": {},
   "outputs": [
    {
     "name": "stdout",
     "output_type": "stream",
     "text": [
      "2,000.00\n"
     ]
    }
   ],
   "source": [
    "print(f'{c.earnings():,.2f}')"
   ]
  },
  {
   "cell_type": "markdown",
   "id": "2a88f94d-3414-40c1-8709-1eff631860f5",
   "metadata": {},
   "source": [
    "### Subclass `SalariedCommissionEmployee` \n",
    "##### Declaring Class `SalariedCommissionEmployee` \n",
    "```python\n",
    "# basepluscommissionemployee.py\n",
    "\"\"\"SalariedCommissionEmployee derived from CommissionEmployee.\"\"\"\n",
    "from commissionemployee import CommissionEmployee\n",
    "from decimal import Decimal\n",
    "\n",
    "class SalariedCommissionEmployee(CommissionEmployee):\n",
    "    \"\"\"An employee who gets paid a salary plus \n",
    "    commission based on gross sales.\"\"\"\n",
    "\n",
    "    def __init__(self, first_name, last_name, ssn, \n",
    "                 gross_sales, commission_rate, base_salary):\n",
    "        \"\"\"Initialize SalariedCommissionEmployee's attributes.\"\"\"\n",
    "        super().__init__(first_name, last_name, ssn, \n",
    "                         gross_sales, commission_rate)\n",
    "        self.base_salary = base_salary  # validate via property\n",
    "\n",
    "    @property\n",
    "    def base_salary(self):\n",
    "        return self._base_salary\n",
    "\n",
    "    @base_salary.setter\n",
    "    def base_salary(self, salary):\n",
    "        \"\"\"Set base salary or raise ValueError if invalid.\"\"\"\n",
    "        if salary < Decimal('0.00'):\n",
    "            raise ValueError('Base salary must be >= to 0')\n",
    "        \n",
    "        self._base_salary = salary\n",
    "\n",
    "    def earnings(self):\n",
    "        \"\"\"Calculate earnings.\"\"\"   \n",
    "        return super().earnings() + self.base_salary\n",
    "\n",
    "    def __repr__(self):\n",
    "        \"\"\"Return string representation for repr().\"\"\"\n",
    "        return ('Salaried' + super().__repr__() +      \n",
    "            f'\\nbase salary: {self.base_salary:.2f}')\n",
    "\n",
    "```"
   ]
  },
  {
   "cell_type": "markdown",
   "id": "45dda0d1-9e73-4e53-8eac-f38789c3b8f3",
   "metadata": {},
   "source": [
    "##### Inheriting from Class `CommissionEmployee`"
   ]
  },
  {
   "cell_type": "code",
   "execution_count": null,
   "id": "d05e00f8-03ed-4c09-9c80-9d0a361755e4",
   "metadata": {},
   "outputs": [],
   "source": [
    "# To inherit from a class, first import its definition is needed\n",
    "class SalariedCommissionEmployee(CommissionEmployee):"
   ]
  },
  {
   "cell_type": "markdown",
   "id": "018cbf34-b15d-46a4-828d-57ef722fdbb0",
   "metadata": {},
   "source": [
    "##### Method `__init__` and Built-In Function `super` "
   ]
  },
  {
   "cell_type": "raw",
   "id": "42a476e5-06ad-4105-baf4-45b8dffaee5d",
   "metadata": {},
   "source": [
    "- Each subclass __init__ must explicitly call its base class’s __init__ to initialize the data attributes\n",
    "  inherited from the base class.\n",
    "- The notation super().__init__ uses the built-in function super to locate and call the base class’s __init__\n",
    "   method, passing the five arguments that initialize the inherited data attributes."
   ]
  },
  {
   "cell_type": "markdown",
   "id": "2ca43348-5011-4445-b71b-befb0e34d17a",
   "metadata": {},
   "source": [
    "##### Overriding Method `earnings`"
   ]
  },
  {
   "cell_type": "raw",
   "id": "1c5a20cf-de68-484e-80e2-cad838bb6288",
   "metadata": {},
   "source": [
    "- Class SalariedCommissionEmployee’s earnings method overrides class CommissionEmployee’s earnings\n",
    "  method to calculate the earnings of a SalariedCommissionEmployee."
   ]
  },
  {
   "cell_type": "markdown",
   "id": "e74bc55d-c73d-4992-9767-dbe8c44b9ab8",
   "metadata": {},
   "source": [
    "##### Overriding Method `__repr__`"
   ]
  },
  {
   "cell_type": "raw",
   "id": "04c1e65c-23e2-4b32-83b3-784a659316d3",
   "metadata": {},
   "source": [
    "- SalariedCommissionEmployee’s __repr__ method overrides class CommissionEmployee’s __repr__ method"
   ]
  },
  {
   "cell_type": "markdown",
   "id": "78385e0f-73ba-4f37-85d3-eccc131c2a27",
   "metadata": {},
   "source": [
    "##### Testing Class `SalariedCommissionEmployee` "
   ]
  },
  {
   "cell_type": "code",
   "execution_count": 9,
   "id": "21f26306-b9e8-450a-8569-20b60703b924",
   "metadata": {},
   "outputs": [],
   "source": [
    "from salariedcommissionemployee import SalariedCommissionEmployee"
   ]
  },
  {
   "cell_type": "code",
   "execution_count": 10,
   "id": "150914b9-7625-43b1-8f4d-8703e750a798",
   "metadata": {},
   "outputs": [],
   "source": [
    "s = SalariedCommissionEmployee('Bob', 'Lewis', '444-44-4444',\n",
    "         Decimal('5000.00'), Decimal('0.04'), Decimal('300.00'))"
   ]
  },
  {
   "cell_type": "code",
   "execution_count": 11,
   "id": "d41b1555-a2af-4a9f-a64f-bd25743cafd5",
   "metadata": {},
   "outputs": [
    {
     "name": "stdout",
     "output_type": "stream",
     "text": [
      "Bob Lewis 444-44-4444 5000.00 0.04 300.00\n"
     ]
    }
   ],
   "source": [
    "print(s.first_name, s.last_name, s.ssn, s.gross_sales, \n",
    "       s.commission_rate, s.base_salary)"
   ]
  },
  {
   "cell_type": "code",
   "execution_count": 12,
   "id": "2a655998-df1d-4294-a7c0-fe4667af24af",
   "metadata": {},
   "outputs": [
    {
     "name": "stdout",
     "output_type": "stream",
     "text": [
      "500.00\n"
     ]
    }
   ],
   "source": [
    "print(f'{s.earnings():,.2f}')"
   ]
  },
  {
   "cell_type": "code",
   "execution_count": 13,
   "id": "ed3cb2b6-7855-48f7-b57e-45b9bf92737c",
   "metadata": {},
   "outputs": [],
   "source": [
    "s.gross_sales = Decimal('10000.00')"
   ]
  },
  {
   "cell_type": "code",
   "execution_count": 14,
   "id": "b949a94d-39f9-4254-9870-32684c464dd5",
   "metadata": {},
   "outputs": [],
   "source": [
    "s.commission_rate = Decimal('0.05')"
   ]
  },
  {
   "cell_type": "code",
   "execution_count": 15,
   "id": "6b454751-a825-4f66-b695-cdd7107a2d80",
   "metadata": {},
   "outputs": [],
   "source": [
    "s.base_salary = Decimal('1000.00')"
   ]
  },
  {
   "cell_type": "code",
   "execution_count": 16,
   "id": "6ef244cd-30c4-4fc0-b2e2-894e9c8f8967",
   "metadata": {},
   "outputs": [
    {
     "name": "stdout",
     "output_type": "stream",
     "text": [
      "SalariedCommissionEmployee: Bob Lewis\n",
      "social security number: 444-44-4444\n",
      "gross sales: 10000.00\n",
      "commission rate: 0.05\n",
      "base salary: 1000.00\n"
     ]
    }
   ],
   "source": [
    "print(s)"
   ]
  },
  {
   "cell_type": "code",
   "execution_count": 17,
   "id": "e5615860-9af0-4987-b76e-60b8209d5ac3",
   "metadata": {},
   "outputs": [
    {
     "name": "stdout",
     "output_type": "stream",
     "text": [
      "1,500.00\n"
     ]
    }
   ],
   "source": [
    "print(f'{s.earnings():,.2f}')"
   ]
  },
  {
   "cell_type": "markdown",
   "id": "cce9f53a-6153-46ad-a5d0-4eb433f88bd5",
   "metadata": {},
   "source": [
    "##### Testing the “is a” Relationship "
   ]
  },
  {
   "cell_type": "code",
   "execution_count": 18,
   "id": "d180a8fb-6cc5-441d-8235-41af55c79a6f",
   "metadata": {},
   "outputs": [
    {
     "data": {
      "text/plain": [
       "True"
      ]
     },
     "execution_count": 18,
     "metadata": {},
     "output_type": "execute_result"
    }
   ],
   "source": [
    "issubclass(SalariedCommissionEmployee, CommissionEmployee)"
   ]
  },
  {
   "cell_type": "code",
   "execution_count": 19,
   "id": "d64b202e-e64f-469b-b3c9-a7f2d4048f60",
   "metadata": {},
   "outputs": [
    {
     "data": {
      "text/plain": [
       "True"
      ]
     },
     "execution_count": 19,
     "metadata": {},
     "output_type": "execute_result"
    }
   ],
   "source": [
    "isinstance(s, CommissionEmployee)"
   ]
  },
  {
   "cell_type": "code",
   "execution_count": 20,
   "id": "45607561-ad9f-40fa-9e46-e55e9384d040",
   "metadata": {},
   "outputs": [
    {
     "data": {
      "text/plain": [
       "True"
      ]
     },
     "execution_count": 20,
     "metadata": {},
     "output_type": "execute_result"
    }
   ],
   "source": [
    "isinstance(s, SalariedCommissionEmployee)"
   ]
  },
  {
   "cell_type": "markdown",
   "id": "63a17cd8-d826-4156-afa9-67eff3e930b0",
   "metadata": {},
   "source": [
    "### Processing `CommissionEmployee`s and `SalariedCommissionEmployee`s Polymorphically"
   ]
  },
  {
   "cell_type": "code",
   "execution_count": 21,
   "id": "ad3ff8b3-d866-42b3-b276-b10e7a904a9d",
   "metadata": {},
   "outputs": [],
   "source": [
    "employees = [c, s]"
   ]
  },
  {
   "cell_type": "code",
   "execution_count": 22,
   "id": "6f6babe4-91e6-46e1-b79b-23f44d5abdcb",
   "metadata": {},
   "outputs": [
    {
     "name": "stdout",
     "output_type": "stream",
     "text": [
      "CommissionEmployee: Sue Jones\n",
      "social security number: 333-33-3333\n",
      "gross sales: 20000.00\n",
      "commission rate: 0.10\n",
      "2,000.00\n",
      "\n",
      "SalariedCommissionEmployee: Bob Lewis\n",
      "social security number: 444-44-4444\n",
      "gross sales: 10000.00\n",
      "commission rate: 0.05\n",
      "base salary: 1000.00\n",
      "1,500.00\n",
      "\n"
     ]
    }
   ],
   "source": [
    "for employee in employees:\n",
    "     print(employee)\n",
    "     print(f'{employee.earnings():,.2f}\\n')"
   ]
  },
  {
   "cell_type": "markdown",
   "id": "471c06d3-d395-426f-8367-9d40d302283e",
   "metadata": {},
   "source": [
    "#### Polymorphism even if the object’s class does not have an “is a” relationship with class CommissionEmployee "
   ]
  },
  {
   "cell_type": "code",
   "execution_count": 23,
   "id": "a7f8d7cc-d44f-4af8-a452-802ab6db651b",
   "metadata": {},
   "outputs": [],
   "source": [
    "class WellPaidDuck:\n",
    "    def __repr__(self):\n",
    "        return 'I am a well-paid duck'\n",
    "    def earnings(self):\n",
    "        return Decimal('1_000_000.00')"
   ]
  },
  {
   "cell_type": "code",
   "execution_count": 24,
   "id": "9bf245d4-5eee-40db-8ee2-1c51847132f2",
   "metadata": {},
   "outputs": [],
   "source": [
    "from decimal import Decimal"
   ]
  },
  {
   "cell_type": "code",
   "execution_count": 25,
   "id": "0de646e9-9d85-4e33-8077-c8061c82488f",
   "metadata": {},
   "outputs": [],
   "source": [
    "from commissionemployee import CommissionEmployee"
   ]
  },
  {
   "cell_type": "code",
   "execution_count": 26,
   "id": "c81947b5-057f-4fcd-9845-dcb221587517",
   "metadata": {},
   "outputs": [],
   "source": [
    "from salariedcommissionemployee import SalariedCommissionEmployee"
   ]
  },
  {
   "cell_type": "code",
   "execution_count": 27,
   "id": "cefaa747-645d-495e-952d-f406ece9290c",
   "metadata": {},
   "outputs": [],
   "source": [
    "c = CommissionEmployee('Sue', 'Jones', '333-33-3333',\n",
    "                       Decimal('10000.00'), Decimal('0.06'))"
   ]
  },
  {
   "cell_type": "code",
   "execution_count": 28,
   "id": "538402fe-89a7-4496-a3d1-18cb9bcfabb8",
   "metadata": {},
   "outputs": [],
   "source": [
    "s = SalariedCommissionEmployee('Bob', 'Lewis', '444-44-4444',\n",
    "    Decimal('5000.00'), Decimal('0.04'), Decimal('300.00'))"
   ]
  },
  {
   "cell_type": "code",
   "execution_count": 29,
   "id": "e0034d0e-49d9-41f3-a129-4176fae73dee",
   "metadata": {},
   "outputs": [],
   "source": [
    "d = WellPaidDuck()"
   ]
  },
  {
   "cell_type": "code",
   "execution_count": 30,
   "id": "d7966beb-29c5-4884-b140-a0da762dca6b",
   "metadata": {},
   "outputs": [],
   "source": [
    "employees = [c, s, d]"
   ]
  },
  {
   "cell_type": "code",
   "execution_count": 31,
   "id": "e96340fe-903f-474e-a2c2-e89e900ee4ae",
   "metadata": {},
   "outputs": [
    {
     "name": "stdout",
     "output_type": "stream",
     "text": [
      "CommissionEmployee: Sue Jones\n",
      "social security number: 333-33-3333\n",
      "gross sales: 10000.00\n",
      "commission rate: 0.06\n",
      "600.00\n",
      "\n",
      "SalariedCommissionEmployee: Bob Lewis\n",
      "social security number: 444-44-4444\n",
      "gross sales: 5000.00\n",
      "commission rate: 0.04\n",
      "base salary: 300.00\n",
      "500.00\n",
      "\n",
      "I am a well-paid duck\n",
      "1,000,000.00\n",
      "\n"
     ]
    }
   ],
   "source": [
    "for employee in employees:\n",
    "    print(employee)\n",
    "    print(f'{employee.earnings():,.2f}\\n')"
   ]
  },
  {
   "cell_type": "markdown",
   "id": "2ddb0b71-2b48-4e92-b189-f69fdb39cd61",
   "metadata": {},
   "source": [
    "## Operator Overloading"
   ]
  },
  {
   "cell_type": "markdown",
   "id": "3a6e238a-70c3-47e0-a89f-0288cd042b52",
   "metadata": {},
   "source": [
    "How to use operator overloading to define how Python’s operators should handle customized objects.\n",
    " - the + operator for adding numeric values, concatenating lists, concatenating strings and adding a value\n",
    "   to every element in a NumPy array.\n",
    " - the [] operator for accessing elements in lists, tuples, strings and arrays and for accessing the value\n",
    "   for a specific key in a dictionary.\n",
    " - the * operator for multiplying numeric values, repeating a sequence and multiplying every element \n",
    "   in a NumPy array by a specific value."
   ]
  },
  {
   "cell_type": "markdown",
   "id": "09997fb4-a125-4f62-9829-e4ff5c66e1fd",
   "metadata": {},
   "source": [
    "Operator Overloading Restrictions\n",
    " - The precedence of an operator cannot be changed by overloading. However,\n",
    "   parentheses can be used to force evaluation order in an expression.\n",
    " - The left-to-right or right-to-left grouping of an operator cannot be changed by overloading.\n",
    " - Whether it’s a unary or binary operator—cannot be changed.\n",
    " - Only existing operators can be overloaded.\n",
    " - The meaning of how an operator works on objects of built-in types cannot be\n",
    "changed. \n",
    " - Operator overloading works only with objects of custom classes or with a mixture\n",
    "of an object of a custom class and an object of a built-in type."
   ]
  },
  {
   "cell_type": "markdown",
   "id": "9f03f4b3-259b-4782-becc-58eb0712b126",
   "metadata": {
    "tags": []
   },
   "source": [
    "#### Class `Complex` Definition\n",
    "##### Method `__init__` \n",
    "```python\n",
    "# complexnumber.py\n",
    "\"\"\"Complex class with overloaded operators.\"\"\"\n",
    "\n",
    "class Complex:\n",
    "    \"\"\"Complex class that represents a complex number \n",
    "    with real and imaginary parts.\"\"\"\n",
    "\n",
    "    def __init__(self, real, imaginary):\n",
    "        \"\"\"Initialize Complex class's attributes.\"\"\"\n",
    "        self.real = real\n",
    "        self.imaginary = imaginary\n",
    "\n",
    "\n",
    "```\n",
    "##### Overloaded `+` Operator\n",
    "```python\n",
    "\n",
    "    def __add__(self, right):\n",
    "        \"\"\"Overrides the + operator.\"\"\"\n",
    "        return Complex(self.real + right.real, \n",
    "                       self.imaginary + right.imaginary)\n",
    "\n",
    "\n",
    "```\n",
    "##### Overloaded `+=` Augmented Assignment\n",
    "```python\n",
    "\n",
    "    def __iadd__(self, right):\n",
    "        \"\"\"Overrides the += operator.\"\"\"\n",
    "        self.real += right.real\n",
    "        self.imaginary += right.imaginary\n",
    "        return self\n",
    "\n",
    "\n",
    "```\n",
    "##### Method `__repr__`\n",
    "```python\n",
    "\n",
    "    def __repr__(self):\n",
    "       \"\"\"Return string representation for repr().\"\"\"\n",
    "        return (f'({self.real} ' + \n",
    "                ('+' if self.imaginary >= 0 else '-') +\n",
    "                f' {abs(self.imaginary)}i)')\n",
    "\n",
    "```"
   ]
  },
  {
   "cell_type": "markdown",
   "id": "1a22e147-b0b9-43ae-8831-a3f5f7c6b30a",
   "metadata": {},
   "source": [
    "#### Class Complex "
   ]
  },
  {
   "cell_type": "code",
   "execution_count": 32,
   "id": "120e503b-21ab-4bff-8b8f-3a59ea0f737c",
   "metadata": {},
   "outputs": [],
   "source": [
    "from complexnumber import Complex"
   ]
  },
  {
   "cell_type": "code",
   "execution_count": 33,
   "id": "a84b319e-2da1-450c-80af-9a33bd3712d3",
   "metadata": {},
   "outputs": [],
   "source": [
    "x = Complex(real=2, imaginary=4)"
   ]
  },
  {
   "cell_type": "code",
   "execution_count": 34,
   "id": "dfcdd56c-60c0-4661-be11-4d762a37894b",
   "metadata": {},
   "outputs": [
    {
     "data": {
      "text/plain": [
       "(2 + 4i)"
      ]
     },
     "execution_count": 34,
     "metadata": {},
     "output_type": "execute_result"
    }
   ],
   "source": [
    "x"
   ]
  },
  {
   "cell_type": "code",
   "execution_count": 35,
   "id": "d6a70c70-3308-4be3-b88d-c9c607f69246",
   "metadata": {},
   "outputs": [],
   "source": [
    "y = Complex(real=5, imaginary=-1)"
   ]
  },
  {
   "cell_type": "code",
   "execution_count": 36,
   "id": "2df8ccc1-7e47-45c5-9cf7-3d6f497475ef",
   "metadata": {},
   "outputs": [
    {
     "data": {
      "text/plain": [
       "(5 - 1i)"
      ]
     },
     "execution_count": 36,
     "metadata": {},
     "output_type": "execute_result"
    }
   ],
   "source": [
    "y"
   ]
  },
  {
   "cell_type": "code",
   "execution_count": 37,
   "id": "5e231968-a122-4a25-ab23-6bbdef754cfb",
   "metadata": {},
   "outputs": [
    {
     "data": {
      "text/plain": [
       "(7 + 3i)"
      ]
     },
     "execution_count": 37,
     "metadata": {},
     "output_type": "execute_result"
    }
   ],
   "source": [
    "x + y"
   ]
  },
  {
   "cell_type": "code",
   "execution_count": 38,
   "id": "23e99370-ea21-4303-8b27-2376e9929466",
   "metadata": {},
   "outputs": [
    {
     "data": {
      "text/plain": [
       "(2 + 4i)"
      ]
     },
     "execution_count": 38,
     "metadata": {},
     "output_type": "execute_result"
    }
   ],
   "source": [
    "x"
   ]
  },
  {
   "cell_type": "code",
   "execution_count": 39,
   "id": "8fe7ffb9-d365-482e-ad01-264dbba4675b",
   "metadata": {},
   "outputs": [
    {
     "data": {
      "text/plain": [
       "(5 - 1i)"
      ]
     },
     "execution_count": 39,
     "metadata": {},
     "output_type": "execute_result"
    }
   ],
   "source": [
    "y"
   ]
  },
  {
   "cell_type": "code",
   "execution_count": 40,
   "id": "d68fe2d0-4173-4d82-94a3-6d8ed0b48bd9",
   "metadata": {},
   "outputs": [],
   "source": [
    "x += y"
   ]
  },
  {
   "cell_type": "code",
   "execution_count": 41,
   "id": "2ac012af-f572-4660-8511-1f50c372e6dd",
   "metadata": {},
   "outputs": [
    {
     "data": {
      "text/plain": [
       "(7 + 3i)"
      ]
     },
     "execution_count": 41,
     "metadata": {},
     "output_type": "execute_result"
    }
   ],
   "source": [
    "x"
   ]
  },
  {
   "cell_type": "code",
   "execution_count": 42,
   "id": "bcc87579-6ed1-4e41-8326-f5dd59b0c5f6",
   "metadata": {},
   "outputs": [
    {
     "data": {
      "text/plain": [
       "(5 - 1i)"
      ]
     },
     "execution_count": 42,
     "metadata": {},
     "output_type": "execute_result"
    }
   ],
   "source": [
    "y"
   ]
  },
  {
   "cell_type": "markdown",
   "id": "e73382df-f74b-4af2-bcbe-3b9c6b1ca764",
   "metadata": {},
   "source": [
    "## Data Class\n",
    "dataclasses 모듈은 데이터를 저장하는 클래스를 만들때 사용"
   ]
  },
  {
   "cell_type": "markdown",
   "id": "c39d5ec8-ab00-4585-acfc-269a8d50abee",
   "metadata": {
    "tags": []
   },
   "source": [
    "#### Creating a `Card` Data Class \n",
    "##### Importing from the `dataclasses` and `typing` Modules\n",
    "```python\n",
    "# carddataclass.py\n",
    "\"\"\"Card data class with class attributes, data attributes, \n",
    "autogenerated methods and explicitly defined methods.\"\"\"\n",
    "from dataclasses import dataclass\n",
    "from typing import ClassVar, List\n",
    "```\n",
    "##### Using the `@dataclass` Decorator\n",
    "```python\n",
    "@dataclass\n",
    "class Card:\n",
    "```\n",
    "##### Variable Annotations: Class Attributes\n",
    "```python\n",
    "    FACES: ClassVar[List[str]] = ['Ace', '2', '3', '4', '5', '6', '7', \n",
    "                                  '8', '9', '10', 'Jack', 'Queen', 'King']\n",
    "    SUITS: ClassVar[List[str]] = ['Hearts', 'Diamonds', 'Clubs', 'Spades']\n",
    "```\n",
    "##### Variable Annotations: Data Attributes\n",
    "```python\n",
    "    face: str\n",
    "    suit: str\n",
    "```\n",
    "\n",
    "##### Defining a Property and Other Methods\n",
    "```python\n",
    "    @property\n",
    "    def image_name(self):\n",
    "        \"\"\"Return the Card's image file name.\"\"\"\n",
    "        return str(self).replace(' ', '_') + '.png'\n",
    "\n",
    "    def __str__(self):\n",
    "        \"\"\"Return string representation for str().\"\"\"\n",
    "        return f'{self.face} of {self.suit}'\n",
    "    \n",
    "    def __format__(self, format):\n",
    "        \"\"\"Return formatted string representation.\"\"\"\n",
    "        return f'{str(self):{format}}'\n",
    "```"
   ]
  },
  {
   "cell_type": "markdown",
   "id": "9debccd0-2f42-4131-af10-21dde5359746",
   "metadata": {},
   "source": []
  },
  {
   "cell_type": "markdown",
   "id": "6587c781-aab5-4b44-885b-0231469ae4fe",
   "metadata": {},
   "source": [
    "### Using the `Card` Data Class "
   ]
  },
  {
   "cell_type": "code",
   "execution_count": 53,
   "id": "e9904e25-65ae-4f25-8b69-e6261f3ef934",
   "metadata": {},
   "outputs": [],
   "source": [
    "from carddataclass import Card"
   ]
  },
  {
   "cell_type": "code",
   "execution_count": 54,
   "id": "230479d2-0867-439d-bb8d-25b9663dab95",
   "metadata": {},
   "outputs": [],
   "source": [
    "c1 = Card(Card.FACES[0], Card.SUITS[3])"
   ]
  },
  {
   "cell_type": "code",
   "execution_count": 55,
   "id": "3270a2e9-aa7d-4ac5-851c-927b69005607",
   "metadata": {},
   "outputs": [
    {
     "data": {
      "text/plain": [
       "Card(face='Ace', suit='Spades')"
      ]
     },
     "execution_count": 55,
     "metadata": {},
     "output_type": "execute_result"
    }
   ],
   "source": [
    "c1"
   ]
  },
  {
   "cell_type": "code",
   "execution_count": 56,
   "id": "4550691c-e4f7-411d-a698-4ec1d607361a",
   "metadata": {},
   "outputs": [
    {
     "name": "stdout",
     "output_type": "stream",
     "text": [
      "Ace of Spades\n"
     ]
    }
   ],
   "source": [
    "print(c1)"
   ]
  },
  {
   "cell_type": "code",
   "execution_count": 57,
   "id": "eaec5787-70c5-4a2a-963f-c1f354f93f62",
   "metadata": {},
   "outputs": [
    {
     "data": {
      "text/plain": [
       "'Ace'"
      ]
     },
     "execution_count": 57,
     "metadata": {},
     "output_type": "execute_result"
    }
   ],
   "source": [
    "c1.face"
   ]
  },
  {
   "cell_type": "code",
   "execution_count": 58,
   "id": "83d4e34f-8418-42ae-a757-fb3c5bd9a0cd",
   "metadata": {},
   "outputs": [
    {
     "data": {
      "text/plain": [
       "'Spades'"
      ]
     },
     "execution_count": 58,
     "metadata": {},
     "output_type": "execute_result"
    }
   ],
   "source": [
    "c1.suit"
   ]
  },
  {
   "cell_type": "code",
   "execution_count": 59,
   "id": "1b31b1bd-986f-48d1-87eb-5ad38eae078e",
   "metadata": {},
   "outputs": [
    {
     "data": {
      "text/plain": [
       "'Ace_of_Spades.png'"
      ]
     },
     "execution_count": 59,
     "metadata": {},
     "output_type": "execute_result"
    }
   ],
   "source": [
    "c1.image_name"
   ]
  },
  {
   "cell_type": "code",
   "execution_count": 60,
   "id": "15f887c2-807d-4329-84ce-15e8ab7d71a3",
   "metadata": {},
   "outputs": [],
   "source": [
    "c2 = Card(Card.FACES[0], Card.SUITS[3])"
   ]
  },
  {
   "cell_type": "code",
   "execution_count": 61,
   "id": "9f6d6e92-11ba-417c-983a-c4d0f188a991",
   "metadata": {},
   "outputs": [
    {
     "data": {
      "text/plain": [
       "Card(face='Ace', suit='Spades')"
      ]
     },
     "execution_count": 61,
     "metadata": {},
     "output_type": "execute_result"
    }
   ],
   "source": [
    "c2"
   ]
  },
  {
   "cell_type": "code",
   "execution_count": 62,
   "id": "d25320f8-aec0-4909-bdb6-fedb6f176734",
   "metadata": {},
   "outputs": [],
   "source": [
    "c3 = Card(Card.FACES[0], Card.SUITS[0])"
   ]
  },
  {
   "cell_type": "code",
   "execution_count": 63,
   "id": "8b516aca-8ef1-40d7-8e78-2c0288fe2f0c",
   "metadata": {},
   "outputs": [
    {
     "data": {
      "text/plain": [
       "Card(face='Ace', suit='Hearts')"
      ]
     },
     "execution_count": 63,
     "metadata": {},
     "output_type": "execute_result"
    }
   ],
   "source": [
    "c3"
   ]
  },
  {
   "cell_type": "code",
   "execution_count": 64,
   "id": "3ad0194b-d246-40c0-a18f-5c7dd140399b",
   "metadata": {},
   "outputs": [
    {
     "data": {
      "text/plain": [
       "True"
      ]
     },
     "execution_count": 64,
     "metadata": {},
     "output_type": "execute_result"
    }
   ],
   "source": [
    "c1 == c2"
   ]
  },
  {
   "cell_type": "code",
   "execution_count": 65,
   "id": "17bdcbe5-5d29-4351-a13d-0f0a3991e2bf",
   "metadata": {},
   "outputs": [
    {
     "data": {
      "text/plain": [
       "False"
      ]
     },
     "execution_count": 65,
     "metadata": {},
     "output_type": "execute_result"
    }
   ],
   "source": [
    "c1 == c3"
   ]
  },
  {
   "cell_type": "code",
   "execution_count": 66,
   "id": "ca689ad7-46cf-462d-bb05-814c701c2abb",
   "metadata": {},
   "outputs": [
    {
     "data": {
      "text/plain": [
       "True"
      ]
     },
     "execution_count": 66,
     "metadata": {},
     "output_type": "execute_result"
    }
   ],
   "source": [
    "c1 != c3"
   ]
  },
  {
   "cell_type": "code",
   "execution_count": 67,
   "id": "1b1197cf-5595-4785-b520-1799df37dc46",
   "metadata": {},
   "outputs": [],
   "source": [
    "from deck2 import DeckOfCards  # uses Card data class"
   ]
  },
  {
   "cell_type": "code",
   "execution_count": 68,
   "id": "98f61f20-4155-4bd3-bdab-f3b7c45848c9",
   "metadata": {},
   "outputs": [],
   "source": [
    "deck_of_cards = DeckOfCards()"
   ]
  },
  {
   "cell_type": "code",
   "execution_count": 69,
   "id": "bcac5ecd-7f3d-494d-9875-165d0be6d2b4",
   "metadata": {},
   "outputs": [
    {
     "name": "stdout",
     "output_type": "stream",
     "text": [
      "Ace of Hearts      2 of Hearts        3 of Hearts        4 of Hearts        \n",
      "5 of Hearts        6 of Hearts        7 of Hearts        8 of Hearts        \n",
      "9 of Hearts        10 of Hearts       Jack of Hearts     Queen of Hearts    \n",
      "King of Hearts     Ace of Diamonds    2 of Diamonds      3 of Diamonds      \n",
      "4 of Diamonds      5 of Diamonds      6 of Diamonds      7 of Diamonds      \n",
      "8 of Diamonds      9 of Diamonds      10 of Diamonds     Jack of Diamonds   \n",
      "Queen of Diamonds  King of Diamonds   Ace of Clubs       2 of Clubs         \n",
      "3 of Clubs         4 of Clubs         5 of Clubs         6 of Clubs         \n",
      "7 of Clubs         8 of Clubs         9 of Clubs         10 of Clubs        \n",
      "Jack of Clubs      Queen of Clubs     King of Clubs      Ace of Spades      \n",
      "2 of Spades        3 of Spades        4 of Spades        5 of Spades        \n",
      "6 of Spades        7 of Spades        8 of Spades        9 of Spades        \n",
      "10 of Spades       Jack of Spades     Queen of Spades    King of Spades     \n",
      "\n"
     ]
    }
   ],
   "source": [
    "print(deck_of_cards)"
   ]
  },
  {
   "cell_type": "code",
   "execution_count": null,
   "id": "9ccba58d-1063-4c40-a1a4-a44e85b30ebd",
   "metadata": {},
   "outputs": [],
   "source": []
  }
 ],
 "metadata": {
  "kernelspec": {
   "display_name": "Python 3 (ipykernel)",
   "language": "python",
   "name": "python3"
  },
  "language_info": {
   "codemirror_mode": {
    "name": "ipython",
    "version": 3
   },
   "file_extension": ".py",
   "mimetype": "text/x-python",
   "name": "python",
   "nbconvert_exporter": "python",
   "pygments_lexer": "ipython3",
   "version": "3.9.7"
  }
 },
 "nbformat": 4,
 "nbformat_minor": 5
}
