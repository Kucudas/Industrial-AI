{
 "cells": [
  {
   "cell_type": "markdown",
   "id": "1235f4fe-1235-4409-ae59-a6df0a1c088c",
   "metadata": {},
   "source": [
    "## Context manager\n",
    "- Managing resources is an important aspect while coding in Python. Without properly releasing the external resources such as files and connections, one might run into a memory leak issue.\n",
    "- And even there is a closing or disconnecting call at the end of the code, they may not be called when an error or an exception occurs.\n",
    "- In Python, \"with\" and \"try-finally\" statements prevent memory leaks. And with statement can provide a neat and reusable way of handling resources using context managers."
   ]
  },
  {
   "cell_type": "raw",
   "id": "79bafdef-8ec2-4d29-975c-1038f8f241bd",
   "metadata": {},
   "source": [
    "# Examples\n",
    "# with\n",
    "with open('info.txt', 'w') as file:\n",
    "    file.write('Hello')\n",
    "    \n",
    "# try-finally\n",
    "file = open('info.txt', 'w')\n",
    "try: \n",
    "    file.write('Hello')\n",
    "finally:\n",
    "    file.close()"
   ]
  },
  {
   "cell_type": "markdown",
   "id": "29950999-a844-4ce2-8793-acf541e09788",
   "metadata": {},
   "source": [
    "#### Building Context Manager\n",
    "- with statement uses context managers to perform opening and exiting actions.\n",
    "- Many libraries and built-in functions support context management, such as open(). "
   ]
  },
  {
   "cell_type": "markdown",
   "id": "4cc96aa8-5d20-47fe-91ee-0d5c9f242586",
   "metadata": {},
   "source": [
    "## File Access\n",
    "- Variables, lists, tuples, dictionaries, sets, arrays, pandas Series and pandas DataFrames offer only temporary data storage.\n",
    "- Popular file formats: Object Notation) and CSV (comma-separated values)\n",
    "- Python views a text file as a sequence of characters and a binary file (for images, videos, and more) as a sequence of bytes.\n",
    "- Python creates a file object for each file-opening\n",
    "- When a Python program begins execution, it creates three standard file objects: sys.stdin, sys.stdout, sys.stderr"
   ]
  },
  {
   "cell_type": "markdown",
   "id": "244d411f-5f9f-4e8a-ada8-8438f5c0656c",
   "metadata": {},
   "source": [
    "#### Writing to a Text File; Introducing the `with` Statement "
   ]
  },
  {
   "cell_type": "code",
   "execution_count": null,
   "id": "98cf937e-327c-49bf-ade2-f87ad4cc854c",
   "metadata": {},
   "outputs": [],
   "source": [
    "with open('accounts.txt', mode='w') as accounts:\n",
    "    accounts.write('100 Jones 24.98\\n')\n",
    "    accounts.write('200 Doe 345.67\\n')\n",
    "    accounts.write('300 White 0.00\\n')\n",
    "    accounts.write('400 Stone -42.16\\n')\n",
    "    accounts.write('500 Rich 224.62\\n')"
   ]
  },
  {
   "cell_type": "code",
   "execution_count": null,
   "id": "e59e85e0-1d3d-46bb-bab7-5a6e7cffd8ff",
   "metadata": {},
   "outputs": [],
   "source": [
    "# macOS/Linux Users: View file contents\n",
    "!cat accounts.txt"
   ]
  },
  {
   "cell_type": "code",
   "execution_count": null,
   "id": "b46fa8b3-7c21-469e-8a92-52acce8d9c82",
   "metadata": {},
   "outputs": [],
   "source": [
    "# Windows Users: View file contents\n",
    "!more accounts.txt"
   ]
  },
  {
   "cell_type": "markdown",
   "id": "c9740bea-851d-468e-864d-d9ddfdf6040b",
   "metadata": {},
   "source": [
    "#### The `with` Statement\n",
    "- Resources, such as files, network connections, database connections and more, resources should be released  as soon as they’re no longer needed.\n",
    "- Python’s with statement: \n",
    "##### acquires a resource (in this case, the file object for accounts.txt) and assigns its corresponding object to a variable (accounts in this example)\n",
    "##### allows the application to use the resource via that variable\n",
    "##### calls the resource object’s close method to release the resource when program control reaches the end of the with statement’s suite"
   ]
  },
  {
   "cell_type": "markdown",
   "id": "930dd531-d3fc-4280-8c12-f6dd92661c7e",
   "metadata": {},
   "source": [
    "#### Built-In Function `open` \n",
    "- The built-in open function opens a file and associates it with a file object.\n",
    "- The mode argument specifies the file-open mode:\n",
    "##### - 'r' 모드: 읽기\n",
    "##### - 'w' 모드: 쓰기\n",
    "##### - 'a' 모드: 뒤에 추가\n",
    "##### - 'x' 모드: Create를 의미하며 파일을 생성\n",
    "##### - 'b' 모드: 이진 파일을 읽기"
   ]
  },
  {
   "cell_type": "markdown",
   "id": "e4e10abe-79df-4837-a52e-0f434ae7d0a1",
   "metadata": {},
   "source": [
    "#### Reading Data from a Text File"
   ]
  },
  {
   "cell_type": "code",
   "execution_count": 11,
   "id": "e8ded750-1b38-46ef-b21f-479316ba373b",
   "metadata": {},
   "outputs": [
    {
     "name": "stdout",
     "output_type": "stream",
     "text": [
      "<class '_io.TextIOWrapper'>\n",
      "Account   Name         Balance\n",
      "100       Jones          24.98\n",
      "200       Doe           345.67\n",
      "300       Williams        0.00\n",
      "400       Stone         -42.16\n",
      "500       Rich          224.62\n"
     ]
    }
   ],
   "source": [
    "with open('accounts.txt', mode='r') as accounts:\n",
    "    print(type(accounts))\n",
    "    print(f'{\"Account\":<10}{\"Name\":<10}{\"Balance\":>10}')\n",
    "    for record in accounts:\n",
    "        account, name, balance = record.split()\n",
    "        print(f'{account:<10}{name:<10}{balance:>10}')        "
   ]
  },
  {
   "cell_type": "raw",
   "id": "64240909-4be5-4fa2-bedd-79697819716f",
   "metadata": {},
   "source": [
    "* Reads one line at a time from the file and returns it as a string.\n",
    "* For each record (that is, line) in the file, string method split returns tokens in the line as a list\n",
    "* Account and Name columns left aligned and the Balance column right aligned"
   ]
  },
  {
   "cell_type": "markdown",
   "id": "4e10459c-6b63-43f8-87e9-621a928a7684",
   "metadata": {},
   "source": [
    "#### File Method `readlines`\n",
    " - readlines method returns each line as a string in a list of strings\n",
    "##### - readline(): 파일의 한 줄을 가져와 문자열로 반환, 파일 포인터는 그 다음줄로 이동\n",
    "##### - readlines(): 파일 내용 전체를 가져와 리스트로 반환\n",
    "##### - read(): 파일 내용 전체를 가져와 문자열로 반환"
   ]
  },
  {
   "cell_type": "code",
   "execution_count": 3,
   "id": "3fb926f8-8f27-402e-87c0-bb1e2759fba8",
   "metadata": {},
   "outputs": [
    {
     "name": "stdout",
     "output_type": "stream",
     "text": [
      "<class 'str'>\n",
      "Account   Name         Balance\n",
      "100       Jones          24.98\n",
      "100 Jones 24.98\n",
      "\n"
     ]
    }
   ],
   "source": [
    "with open('accounts.txt', mode='r') as accounts:\n",
    "    aline = accounts.readline()\n",
    "    print(aline)\n",
    "    print(type(aline))\n",
    "    print(f'{\"Account\":<10}{\"Name\":<10}{\"Balance\":>10}')\n",
    "    account, name, balance = aline.split()\n",
    "    print(f'{account:<10}{name:<10}{balance:>10}')  \n"
   ]
  },
  {
   "cell_type": "code",
   "execution_count": 4,
   "id": "15ab619d-cf88-4fe3-9801-78392fc8c0a1",
   "metadata": {},
   "outputs": [
    {
     "name": "stdout",
     "output_type": "stream",
     "text": [
      "Account   Name         Balance\n",
      "<class 'list'>\n",
      "['100 Jones 24.98\\n', '200 Doe 345.67\\n', '300 Williams 0.00\\n', '400 Stone -42.16\\n', '500 Rich 224.62\\n']\n"
     ]
    }
   ],
   "source": [
    "with open('accounts.txt', mode='r') as accounts:\n",
    "    print(f'{\"Account\":<10}{\"Name\":<10}{\"Balance\":>10}')\n",
    "    lines = accounts.readlines()\n",
    "    print(type(lines))\n",
    "    print(lines)"
   ]
  },
  {
   "cell_type": "code",
   "execution_count": null,
   "id": "746d9583-9935-409e-9d82-3d41960e31ef",
   "metadata": {},
   "outputs": [],
   "source": [
    "with open('accounts.txt', mode='r') as accounts:\n",
    "    print(f'{\"Account\":<10}{\"Name\":<10}{\"Balance\":>10}')\n",
    "    line = accounts.read()\n",
    "    print(type(line))\n",
    "    print(line)"
   ]
  },
  {
   "cell_type": "markdown",
   "id": "db0deff0-4c1c-4d29-bcfe-363f1061c315",
   "metadata": {},
   "source": [
    "#### Seeking to a Specific File Position"
   ]
  },
  {
   "cell_type": "code",
   "execution_count": 7,
   "id": "80664243-b798-45b7-a2e2-9d2ce872ff99",
   "metadata": {},
   "outputs": [
    {
     "name": "stdout",
     "output_type": "stream",
     "text": [
      "<class 'str'>\n",
      "ones 24.98\n",
      "200 Doe 345.67\n",
      "300 Williams 0.00\n",
      "400 Stone -42.16\n",
      "500 Rich 224.62\n",
      "\n"
     ]
    }
   ],
   "source": [
    "with open('accounts.txt', mode='r') as accounts:\n",
    "    accounts.seek(5)\n",
    "    f = accounts.read()\n",
    "    print(type(f))\n",
    "    print(f)"
   ]
  },
  {
   "cell_type": "markdown",
   "id": "5b6f13f8-af05-46e2-a817-faa52b399571",
   "metadata": {},
   "source": [
    "## Updating Text Files"
   ]
  },
  {
   "cell_type": "markdown",
   "id": "a81df747-53fd-4e90-84e9-89241cfa845b",
   "metadata": {},
   "source": [
    "#### Updating `accounts.txt` "
   ]
  },
  {
   "cell_type": "code",
   "execution_count": 13,
   "id": "8e4354df-841b-47d0-8453-d70c42c86b50",
   "metadata": {},
   "outputs": [],
   "source": [
    "accounts = open('accounts.txt', 'r')"
   ]
  },
  {
   "cell_type": "code",
   "execution_count": 14,
   "id": "9f948097-e910-4265-a6dd-e349a6c3aa1c",
   "metadata": {},
   "outputs": [],
   "source": [
    "temp_file = open('temp_file.txt', 'w')"
   ]
  },
  {
   "cell_type": "code",
   "execution_count": 15,
   "id": "af19c27a-1512-45ee-87ad-0d6b09c1a80b",
   "metadata": {},
   "outputs": [],
   "source": [
    "with accounts, temp_file:\n",
    "    for record in accounts:\n",
    "        account, name, balance = record.split()\n",
    "        if account != '300':\n",
    "            temp_file.write(record)\n",
    "        else:\n",
    "            new_record = ' '.join([account, 'Williams', balance])\n",
    "            temp_file.write(new_record + '\\n')"
   ]
  },
  {
   "cell_type": "code",
   "execution_count": 16,
   "id": "1d4fd4c1-5d96-4926-813c-ffd3c0605765",
   "metadata": {},
   "outputs": [
    {
     "name": "stdout",
     "output_type": "stream",
     "text": [
      "Account   Name         Balance\n",
      "100       Jones          24.98\n",
      "200       Doe           345.67\n",
      "300       Williams        0.00\n",
      "400       Stone         -42.16\n",
      "500       Rich          224.62\n"
     ]
    }
   ],
   "source": [
    "with open('temp_file.txt', mode='r') as accounts:\n",
    "    print(f'{\"Account\":<10}{\"Name\":<10}{\"Balance\":>10}')\n",
    "    for record in accounts:\n",
    "        account, name, balance = record.split()\n",
    "        print(f'{account:<10}{name:<10}{balance:>10}')        "
   ]
  },
  {
   "cell_type": "markdown",
   "id": "e2c4ca98-ca7c-40e4-8963-6c2935c391e9",
   "metadata": {},
   "source": [
    "### `os` Module File Processing Functions"
   ]
  },
  {
   "cell_type": "code",
   "execution_count": 17,
   "id": "a7b8ec07-b17d-42bf-ae8f-291e5ff6e0e2",
   "metadata": {},
   "outputs": [],
   "source": [
    "import os"
   ]
  },
  {
   "cell_type": "code",
   "execution_count": null,
   "id": "f9f28819-d73c-4c8e-8439-fe0b42b33944",
   "metadata": {},
   "outputs": [],
   "source": [
    "os.remove('accounts.txt')"
   ]
  },
  {
   "cell_type": "code",
   "execution_count": null,
   "id": "27a9af7f-b852-4c21-a1bf-820d5f203893",
   "metadata": {},
   "outputs": [],
   "source": [
    "os.rename('temp_file.txt', 'accounts.txt')"
   ]
  },
  {
   "cell_type": "code",
   "execution_count": null,
   "id": "26203a2a-e0d2-41a6-818c-18136dc6a003",
   "metadata": {},
   "outputs": [],
   "source": [
    "# macOS/Linux Users: View file contents\n",
    "!cat accounts.txt"
   ]
  },
  {
   "cell_type": "code",
   "execution_count": null,
   "id": "fa69b116-28ec-4cd6-980d-3fe3853c6bb7",
   "metadata": {},
   "outputs": [],
   "source": [
    "# Windows Users: View file contents\n",
    "!more accounts.txt"
   ]
  },
  {
   "cell_type": "markdown",
   "id": "8120a6e6-f7f2-4a2a-80f1-7c9392de1abb",
   "metadata": {},
   "source": [
    "## Serialization with JSON \n",
    "- JSON (JavaScript Object Notation) is a text-based, human-and-computer-readable, data-interchange format used to represent objects (such as dictionaries, lists and more) as collections of name–value pairs.\n",
    "- JSON has become the preferred data format for transmitting objects across platforms."
   ]
  },
  {
   "cell_type": "markdown",
   "id": "c01b0bca-320d-4dd1-ba90-405905bab046",
   "metadata": {},
   "source": [
    "#### JSON Data Format\n",
    "- JSON object: {\"account\": 100, \"name\": \"Jones\", \"balance\": 24.98}\n",
    "- JSON also supports arrays: [100, 200, 300]"
   ]
  },
  {
   "cell_type": "markdown",
   "id": "b4564e84-c673-4be8-9d05-adeed2d427ff",
   "metadata": {},
   "source": [
    "#### Python Standard Library Module `json` \n",
    "- The json module enables you to convert objects to JSON (JavaScript Object Notation)\n",
    "text format"
   ]
  },
  {
   "cell_type": "code",
   "execution_count": 18,
   "id": "d226ae15-0007-4e8f-a70d-bb474e74f655",
   "metadata": {},
   "outputs": [],
   "source": [
    "accounts_dict = {'accounts': [\n",
    "    {'account': 100, 'name': 'Jones', 'balance': 24.98},\n",
    "    {'account': 200, 'name': 'Doe', 'balance': 345.67}]}"
   ]
  },
  {
   "cell_type": "markdown",
   "id": "b2970a62-2f56-4028-a297-41dca37fca58",
   "metadata": {},
   "source": [
    "#### Serializing an Object to JSON"
   ]
  },
  {
   "cell_type": "code",
   "execution_count": 19,
   "id": "ba067f7a-2161-44bf-ac1e-c5df662845c1",
   "metadata": {},
   "outputs": [],
   "source": [
    "import json"
   ]
  },
  {
   "cell_type": "code",
   "execution_count": 20,
   "id": "b6e133ea-d511-46b5-8748-cc8148359005",
   "metadata": {},
   "outputs": [],
   "source": [
    "with open('accounts.json', 'w') as accounts:\n",
    "    json.dump(accounts_dict, accounts)"
   ]
  },
  {
   "cell_type": "raw",
   "id": "a5dd88a9-c04c-4e4f-bee0-7284da0ac6a8",
   "metadata": {},
   "source": [
    "* the json module’s dump function serialize the dictionary accounts_dict into the file."
   ]
  },
  {
   "cell_type": "code",
   "execution_count": 21,
   "id": "c8a722b0-ddbf-4791-ae9c-b0f35cb68576",
   "metadata": {},
   "outputs": [
    {
     "name": "stdout",
     "output_type": "stream",
     "text": [
      "Account   Name         Balance\n",
      "<class 'str'>\n",
      "{\"accounts\": [{\"account\": 100, \"name\": \"Jones\", \"balance\": 24.98}, {\"account\": 200, \"name\": \"Doe\", \"balance\": 345.67}]}\n"
     ]
    }
   ],
   "source": [
    "with open('accounts.json', mode='r') as accounts:\n",
    "    print(f'{\"Account\":<10}{\"Name\":<10}{\"Balance\":>10}')\n",
    "    line = accounts.read()\n",
    "    print(type(line))\n",
    "    print(line)"
   ]
  },
  {
   "cell_type": "raw",
   "id": "3abedf76-7fcc-4b3a-aa6b-dcaafa77f1ae",
   "metadata": {},
   "source": [
    "* Note that JSON delimits strings with double-quote characters."
   ]
  },
  {
   "cell_type": "markdown",
   "id": "6d05ca5d-975e-4fde-a522-71517680e7d7",
   "metadata": {},
   "source": [
    "#### Deserializing the JSON Text\n",
    "- The json module’s load function reads the entire JSON contents of its file object argument\n",
    "and converts the JSON into a Python object."
   ]
  },
  {
   "cell_type": "code",
   "execution_count": 22,
   "id": "ad8562b3-6d86-47c1-bbb0-9c7252152642",
   "metadata": {},
   "outputs": [],
   "source": [
    "with open('accounts.json', 'r') as accounts:\n",
    "    accounts_json = json.load(accounts)"
   ]
  },
  {
   "cell_type": "code",
   "execution_count": 23,
   "id": "292145f3-7bce-4411-bd5b-6b69bb95df9c",
   "metadata": {},
   "outputs": [
    {
     "data": {
      "text/plain": [
       "dict"
      ]
     },
     "execution_count": 23,
     "metadata": {},
     "output_type": "execute_result"
    }
   ],
   "source": [
    "type(accounts_json)"
   ]
  },
  {
   "cell_type": "code",
   "execution_count": 24,
   "id": "cdb134e2-07b0-4426-a989-b702505f01d3",
   "metadata": {},
   "outputs": [
    {
     "data": {
      "text/plain": [
       "{'accounts': [{'account': 100, 'name': 'Jones', 'balance': 24.98},\n",
       "  {'account': 200, 'name': 'Doe', 'balance': 345.67}]}"
      ]
     },
     "execution_count": 24,
     "metadata": {},
     "output_type": "execute_result"
    }
   ],
   "source": [
    "accounts_json"
   ]
  },
  {
   "cell_type": "code",
   "execution_count": 25,
   "id": "06973197-41d9-4ca9-b212-1dd11694c470",
   "metadata": {},
   "outputs": [
    {
     "data": {
      "text/plain": [
       "[{'account': 100, 'name': 'Jones', 'balance': 24.98},\n",
       " {'account': 200, 'name': 'Doe', 'balance': 345.67}]"
      ]
     },
     "execution_count": 25,
     "metadata": {},
     "output_type": "execute_result"
    }
   ],
   "source": [
    "accounts_json['accounts']"
   ]
  },
  {
   "cell_type": "code",
   "execution_count": null,
   "id": "29c97b5f-1325-47ca-98c7-75d3369afd0d",
   "metadata": {},
   "outputs": [],
   "source": [
    "accounts_json['accounts'][0]"
   ]
  },
  {
   "cell_type": "code",
   "execution_count": null,
   "id": "fdc1877a-80c4-4854-8f48-a266d0ac80fb",
   "metadata": {},
   "outputs": [],
   "source": [
    "accounts_json['accounts'][1]"
   ]
  },
  {
   "cell_type": "markdown",
   "id": "ae6e1c17-8986-4c8a-bdf9-48d507d48306",
   "metadata": {},
   "source": [
    "#### Displaying the JSON Text"
   ]
  },
  {
   "cell_type": "code",
   "execution_count": 26,
   "id": "5319984e-2b4f-4261-9663-a30cefa5a764",
   "metadata": {},
   "outputs": [
    {
     "name": "stdout",
     "output_type": "stream",
     "text": [
      "{\n",
      "    \"accounts\": [\n",
      "        {\n",
      "            \"account\": 100,\n",
      "            \"name\": \"Jones\",\n",
      "            \"balance\": 24.98\n",
      "        },\n",
      "        {\n",
      "            \"account\": 200,\n",
      "            \"name\": \"Doe\",\n",
      "            \"balance\": 345.67\n",
      "        }\n",
      "    ]\n",
      "}\n"
     ]
    }
   ],
   "source": [
    "with open('accounts.json', 'r') as accounts:\n",
    "    print(json.dumps(json.load(accounts), indent=4))\n",
    "    "
   ]
  },
  {
   "cell_type": "raw",
   "id": "5139ed7b-68b3-4f7c-9149-1d8ec19b91ba",
   "metadata": {},
   "source": [
    "* The json module’s dumps function (dumps is short for “dump string”) returns a Python string\n",
    "  representation of an object in JSON format."
   ]
  }
 ],
 "metadata": {
  "kernelspec": {
   "display_name": "Python 3 (ipykernel)",
   "language": "python",
   "name": "python3"
  },
  "language_info": {
   "codemirror_mode": {
    "name": "ipython",
    "version": 3
   },
   "file_extension": ".py",
   "mimetype": "text/x-python",
   "name": "python",
   "nbconvert_exporter": "python",
   "pygments_lexer": "ipython3",
   "version": "3.9.7"
  }
 },
 "nbformat": 4,
 "nbformat_minor": 5
}
