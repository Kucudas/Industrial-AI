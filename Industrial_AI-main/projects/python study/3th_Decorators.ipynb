{
 "cells": [
  {
   "cell_type": "markdown",
   "id": "34618792-e633-4fda-86c1-aa35c03d30cf",
   "metadata": {},
   "source": [
    "## itertools"
   ]
  },
  {
   "cell_type": "markdown",
   "id": "23a570a0-2ced-4688-a691-642f4859d9ea",
   "metadata": {},
   "source": [
    "#### accumulate – reduce with intermediate results"
   ]
  },
  {
   "cell_type": "code",
   "execution_count": null,
   "id": "b53b4a57-2c07-4bc3-a8cd-be716bf1bccd",
   "metadata": {},
   "outputs": [],
   "source": [
    ">>> import operator\n",
    ">>> import itertools\n",
    "\n",
    "# Sales per month\n",
    ">>> months = [10, 8, 5, 7, 12, 10, 5, 8, 15, 3, 4, 2]"
   ]
  },
  {
   "cell_type": "code",
   "execution_count": null,
   "id": "db02807a-f323-4bc3-965c-087c8f4ec8ed",
   "metadata": {},
   "outputs": [],
   "source": [
    ">>> list(itertools.accumulate(months, operator.add))"
   ]
  },
  {
   "cell_type": "code",
   "execution_count": null,
   "id": "07155618-2293-436e-a88e-d02b9f45f91d",
   "metadata": {},
   "outputs": [],
   "source": [
    "# operator.add is default\n",
    "list(itertools.accumulate(months))"
   ]
  },
  {
   "cell_type": "raw",
   "id": "eed2d779-a6d5-4685-8c78-cfcac6510935",
   "metadata": {},
   "source": [
    "* The major difference between accumulate and reduce function is that the accumulate function returns \n",
    "  the immediate results."
   ]
  },
  {
   "cell_type": "markdown",
   "id": "1f44533f-ad94-4241-a4d5-eb80e10cbcbb",
   "metadata": {},
   "source": [
    "#### chain – Combining multiple results\n",
    "- Combines the results of multiple iterators."
   ]
  },
  {
   "cell_type": "code",
   "execution_count": null,
   "id": "ad8af116-5342-45a2-a1bc-970fbcd4d77b",
   "metadata": {},
   "outputs": [],
   "source": [
    ">>> import itertools\n",
    "\n",
    ">>> a = range(3)\n",
    ">>> b = range(5)"
   ]
  },
  {
   "cell_type": "code",
   "execution_count": null,
   "id": "ca85e860-5c6b-410f-a3ef-ab3416684eae",
   "metadata": {},
   "outputs": [],
   "source": [
    ">>> list(itertools.chain(a, b))"
   ]
  },
  {
   "cell_type": "code",
   "execution_count": null,
   "id": "0bfced44-037d-4e15-a4df-c47ff2a85cdc",
   "metadata": {},
   "outputs": [],
   "source": [
    ">>> iterables = [range(3), range(5)]"
   ]
  },
  {
   "cell_type": "markdown",
   "id": "b28b51f2-089f-4f86-aa53-111235d8bff4",
   "metadata": {},
   "source": [
    "##### * If you have an iterable containing iterables, the easiest method is to use itertools.chain.from_iterable."
   ]
  },
  {
   "cell_type": "code",
   "execution_count": null,
   "id": "9b9ebd2e-4342-41ef-bb6f-25632735a32a",
   "metadata": {},
   "outputs": [],
   "source": [
    ">>> list(itertools.chain.from_iterable(iterables))"
   ]
  },
  {
   "cell_type": "markdown",
   "id": "0c138bb8-a272-42c8-a0c0-3949ab5347be",
   "metadata": {},
   "source": [
    "#### compress – Selecting items using a list of Booleans"
   ]
  },
  {
   "cell_type": "code",
   "execution_count": null,
   "id": "5b70ce6e-3aa9-4e50-a6cc-4cd1dda739d2",
   "metadata": {},
   "outputs": [],
   "source": [
    ">>> import itertools\n",
    "\n",
    ">>> list(itertools.compress(range(10), [0, 1, 1, 1, 0, 1]))"
   ]
  },
  {
   "cell_type": "code",
   "execution_count": null,
   "id": "0c7cd263-3525-4ca0-94a1-a1ffa2015bc4",
   "metadata": {},
   "outputs": [],
   "source": [
    ">>> primes = [0, 0, 1, 1, 0, 1, 0, 1]\n",
    ">>> odd = [0, 1, 0, 1, 0, 1, 0, 1]\n",
    ">>> numbers = ['zero', 'one', 'two', 'three', 'four', 'five']"
   ]
  },
  {
   "cell_type": "code",
   "execution_count": null,
   "id": "b3f70248-17d9-4eff-957a-64aa870987c6",
   "metadata": {},
   "outputs": [],
   "source": [
    "# Primes:\n",
    ">>> list(itertools.compress(numbers, primes))"
   ]
  },
  {
   "cell_type": "code",
   "execution_count": null,
   "id": "dc49029a-2d84-4c4c-8cb4-1035d819f930",
   "metadata": {},
   "outputs": [],
   "source": [
    "# Odd numbers\n",
    ">>> list(itertools.compress(numbers, odd))"
   ]
  },
  {
   "cell_type": "code",
   "execution_count": null,
   "id": "682fd2ba-9c21-4ee7-9bb0-a782039644e2",
   "metadata": {},
   "outputs": [],
   "source": [
    "list(zip(odd, primes))"
   ]
  },
  {
   "cell_type": "code",
   "execution_count": null,
   "id": "5098107f-6160-41c4-8d28-c5e2ba6a51eb",
   "metadata": {},
   "outputs": [],
   "source": [
    "list(map(all, zip(odd, primes)))"
   ]
  },
  {
   "cell_type": "code",
   "execution_count": null,
   "id": "4e8d89ca-ecf0-4e0a-8a24-0209c99fb2a7",
   "metadata": {},
   "outputs": [],
   "source": [
    "# Odd primes\n",
    ">>> list(itertools.compress(numbers, map(all, zip(odd, primes))))"
   ]
  },
  {
   "cell_type": "markdown",
   "id": "281c2e21-03f0-45e8-add4-b4000f1c9b33",
   "metadata": {},
   "source": [
    "#### dropwhile/takewhile – Selecting items using a function\n",
    "- The dropwhile function will drop all results until a given predicate evaluates to true."
   ]
  },
  {
   "cell_type": "code",
   "execution_count": null,
   "id": "bd5261bc-21a7-4146-945f-b6029710b1be",
   "metadata": {},
   "outputs": [],
   "source": [
    ">>> import itertools\n",
    ">>> list(itertools.dropwhile(lambda x: x <= 3, [1, 3, 5, 4, 2]))"
   ]
  },
  {
   "cell_type": "code",
   "execution_count": null,
   "id": "5c26e927-5c97-4b85-a78c-9ab48fbf00a7",
   "metadata": {},
   "outputs": [],
   "source": [
    ">>> list(itertools.takewhile(lambda x: x <= 3, [1, 3, 5, 4, 2]))"
   ]
  },
  {
   "cell_type": "markdown",
   "id": "95043093-0f95-4f04-a626-fc44002f247e",
   "metadata": {},
   "source": [
    "#### count – Infinite range with decimal steps\n",
    "- The count's range is infinite, so don’t even try to do list(itertools.count())\n",
    "- Count can be used with floating-pointnumbers.\n",
    "- The count function takes two optional parameters: a start parameter, which defaults to 0, and a step\n",
    "parameter, which defaults to 1"
   ]
  },
  {
   "cell_type": "code",
   "execution_count": null,
   "id": "1f25f510-2bbe-41e1-b024-acc4967ad57c",
   "metadata": {},
   "outputs": [],
   "source": [
    ">>> import itertools\n",
    ">>> list(itertools.islice(itertools.count(), 10))"
   ]
  },
  {
   "cell_type": "code",
   "execution_count": null,
   "id": "e3300aca-6c94-444c-96a5-b4e57a1e74b6",
   "metadata": {},
   "outputs": [],
   "source": [
    ">>> list(itertools.islice(itertools.count(), 5, 10, 2))"
   ]
  },
  {
   "cell_type": "code",
   "execution_count": null,
   "id": "ee2744d4-e23a-4774-8d74-26d7bf1d8038",
   "metadata": {},
   "outputs": [],
   "source": [
    ">>> list(itertools.islice(itertools.count(10, 2.5), 5))\n",
    "[10, 12.5, 15.0, 17.5, 20.0]"
   ]
  },
  {
   "cell_type": "markdown",
   "id": "eeeafb15-cbca-408f-85be-f3ded10318b9",
   "metadata": {},
   "source": [
    "#### groupby – Grouping your sorted iterable\n",
    "- Convert a list of objects into a list of groups given a specific grouping function."
   ]
  },
  {
   "cell_type": "code",
   "execution_count": null,
   "id": "1a473e75-ea36-4b82-99c0-c100f3469052",
   "metadata": {},
   "outputs": [],
   "source": [
    ">>> import operator\n",
    ">>> import itertools\n",
    "\n",
    ">>> words = ['aa', 'ab', 'ba', 'bb', 'ca', 'cb', 'cc']\n",
    "\n",
    "# Gets the first element from the iterable\n",
    ">>> getter = operator.itemgetter(0)"
   ]
  },
  {
   "cell_type": "code",
   "execution_count": null,
   "id": "704c557f-3fd5-4d3d-a7ce-ae45dae35a43",
   "metadata": {},
   "outputs": [],
   "source": [
    ">>> for group, items in itertools.groupby(words, key=getter):\n",
    "...     print(f'group: {group}, items: {list(items)}')"
   ]
  },
  {
   "cell_type": "code",
   "execution_count": null,
   "id": "c2e9c0a2-20c5-44fd-b820-9856bfeaf46d",
   "metadata": {},
   "outputs": [],
   "source": [
    ">>> import operator\n",
    ">>> import itertools\n",
    "\n",
    ">>> words = ['aa', 'bb', 'ca', 'ab', 'ba', 'cb', 'cc']\n",
    "\n",
    "# Gets the first element from the iterable\n",
    ">>> getter = operator.itemgetter(0)\n",
    "\n",
    ">>> for group, items in itertools.groupby(words, key=getter):\n",
    "...     print(f'group: {group}, items: {list(items)}')"
   ]
  },
  {
   "cell_type": "markdown",
   "id": "2de1d431-cbdb-4d0d-b2c1-9965e751db3e",
   "metadata": {
    "tags": []
   },
   "source": [
    "# Decorators\n",
    "- Decorators are essentially\n",
    "function/class wrappers that can be used to modify the input, output, or even the function/class itself before executing it.\n",
    "- @property, @classmethod, and @staticmethod decorators are bundled in Python"
   ]
  },
  {
   "cell_type": "markdown",
   "id": "2b76d671-1684-47a9-a003-f0eaa7f3e862",
   "metadata": {},
   "source": [
    "### Decorating functions"
   ]
  },
  {
   "cell_type": "code",
   "execution_count": null,
   "id": "beb5bb83-f496-4968-94fd-2d7c62c62bdc",
   "metadata": {},
   "outputs": [],
   "source": [
    "def myfunc():\n",
    "    print(\"함수가 실행됩니다.\")"
   ]
  },
  {
   "cell_type": "code",
   "execution_count": null,
   "id": "9ac853cc-cbc8-4c8b-8730-2fcecf8f4c1c",
   "metadata": {},
   "outputs": [],
   "source": [
    "#  myfunc() 함수의 실행 시간을 측정\n",
    "import time\n",
    "\n",
    "def myfunc():\n",
    "    start = time.time()\n",
    "    print(\"함수가 실행\")\n",
    "    end = time.time()\n",
    "    print(\"실행 시간: %f 초\" % (end-start))"
   ]
  },
  {
   "cell_type": "code",
   "execution_count": null,
   "id": "f301921c-e8a8-44f1-be2c-a6560e967ef7",
   "metadata": {},
   "outputs": [],
   "source": [
    "myfunc()"
   ]
  },
  {
   "cell_type": "code",
   "execution_count": null,
   "id": "9ae0e0e3-8c2e-4303-8e3d-c9c2b87926cc",
   "metadata": {},
   "outputs": [],
   "source": [
    "# 클로저를 이용하면 좀 더 효율적인 방법\n",
    "import time\n",
    "\n",
    "# 클로저 elapsed() 함수를  생성\n",
    "def elapsed(original_func):   # 기존 함수를 인수로 받는다.\n",
    "    def wrapper():\n",
    "        start = time.time()\n",
    "        result = original_func()    # 기존 함수를 수행한다.\n",
    "        end = time.time()\n",
    "        print(\"실행 시간: %f 초\" % (end - start))  # 기존 함수의 수행시간을 출력한다.\n",
    "        return result  # 기존 함수의 수행 결과를 리턴한다.\n",
    "    return wrapper\n",
    "\n",
    "\n",
    "def myfunc():\n",
    "    print(\"함수가 실행\")"
   ]
  },
  {
   "cell_type": "code",
   "execution_count": null,
   "id": "c52aa5ab-4daa-46a7-8e02-983bf8fee41e",
   "metadata": {},
   "outputs": [],
   "source": [
    "decorated_myfunc = elapsed(myfunc)\n",
    "decorated_myfunc()"
   ]
  },
  {
   "cell_type": "markdown",
   "id": "c364b99c-e3a1-4b06-9016-ae1074c27b2b",
   "metadata": {},
   "source": [
    "* 이렇게 기존 함수를 바꾸지 않고 추가 기능을 덧붙일 수 있도록 하는 elapsed() 함수와 같은 클로저를 데코레이터(Decorator)라 한다. "
   ]
  },
  {
   "cell_type": "code",
   "execution_count": null,
   "id": "dfca598f-7c38-455f-8abc-d1da846b93a8",
   "metadata": {},
   "outputs": [],
   "source": [
    "@elapsed\n",
    "def myfunc():\n",
    "    print(\"함수가 실행\")"
   ]
  },
  {
   "cell_type": "code",
   "execution_count": null,
   "id": "f5f33a8a-6bc2-4afd-be54-b06019d8563a",
   "metadata": {},
   "outputs": [],
   "source": [
    "myfunc()"
   ]
  },
  {
   "cell_type": "markdown",
   "id": "06c8fcb8-811c-4fa4-a82d-00fc53b72afb",
   "metadata": {},
   "source": [
    "* 파이썬은 함수 위에 '@'어노테이션이 있으면 데코레이터 함수로 인식한다. 따라서 이제 myfunc() 함수는 elapsed 데코레이터를 통해 수행된다."
   ]
  },
  {
   "cell_type": "code",
   "execution_count": null,
   "id": "650aef9d-5bfb-4bba-aa7f-d9131162d60a",
   "metadata": {},
   "outputs": [],
   "source": [
    "@elapsed\n",
    "def myfunc(msg):\n",
    "    print(\"'%s'을 출력합니다.\" % msg)\n",
    "\n",
    "myfunc(\"You need python\")  # 출력할 메시지를 myfunc 파라미터로 전달한다."
   ]
  },
  {
   "cell_type": "code",
   "execution_count": null,
   "id": "ae93886b-6e06-4a7e-a3ad-cc9bba514ca1",
   "metadata": {},
   "outputs": [],
   "source": [
    "# *args, **kwargs 활용\n",
    "import time\n",
    "\n",
    "def elapsed(original_func):   # 기존 합수를 인수로 받는다.\n",
    "    def wrapper(*args, **kwargs):   # *args, **kwargs 매개변수 추가\n",
    "        start = time.time()\n",
    "        result = original_func(*args, **kwargs)  # 전달받은 *args, **kwargs를 입력파라미터로 기존함수 수행\n",
    "        end = time.time()\n",
    "        print(\"함수 실행시간: %f 초\" % (end - start))  # 수행시간을 출력한다.\n",
    "        return result  # 함수의 결과를 리턴한다.\n",
    "    return wrapper\n",
    "\n",
    "\n",
    "@elapsed\n",
    "def myfunc(msg):\n",
    "    \"\"\" 데코레이터 확인 함수 \"\"\"\n",
    "    print(\"'%s'을 출력합니다.\" % msg)"
   ]
  },
  {
   "cell_type": "code",
   "execution_count": null,
   "id": "eadced99-bc5b-4a77-9e27-9b2d5a31156a",
   "metadata": {},
   "outputs": [],
   "source": [
    "myfunc(\"You need python\")"
   ]
  },
  {
   "cell_type": "raw",
   "id": "f67e1f12-c43e-493a-9469-f68e3eefcbf2",
   "metadata": {},
   "source": [
    "Usage of Decorators\n",
    "• Registering a function/class\n",
    "• Modifying function/class input\n",
    "• Modifying function/class output\n",
    "• Logging function calls/class instantiations"
   ]
  },
  {
   "cell_type": "markdown",
   "id": "c195ffcb-1963-4572-9100-06cf5cae106c",
   "metadata": {
    "tags": []
   },
   "source": [
    "#### wraps()\n",
    "- @functools.wraps(wrapped, assigned=WRAPPER_ASSIGNMENTS, updated=WRAPPER_UPDATES) \n",
    "- 래퍼 함수를 정의할 때 함수 데코레이터로 update_wrapper()를 호출하기 위한 편의 함수\n",
    "- functools.update_wrapper() 함수에서, 데코레이팅 될 함수만 미리 wrapped 라는 keyword arguments 로 \n",
    "  binding 한 새로운 partial object 를 반환"
   ]
  },
  {
   "cell_type": "code",
   "execution_count": null,
   "id": "c215a77b-7cf8-4598-929e-816e2a6cc8c6",
   "metadata": {},
   "outputs": [],
   "source": [
    ">>> from functools import wraps\n",
    ">>> def my_decorator(f):\n",
    "...     @wraps(f)\n",
    "...     def wrapper(*args, **kwds):\n",
    "...         print('Calling decorated function')\n",
    "...         return f(*args, **kwds)\n",
    "...     return wrapper\n",
    "...\n",
    ">>> @my_decorator\n",
    "... def example():\n",
    "...     \"\"\"Docstring\"\"\"\n",
    "...     print('Called example function')"
   ]
  },
  {
   "cell_type": "code",
   "execution_count": null,
   "id": "ad3d86a2-802d-4e6e-babb-932dae11e875",
   "metadata": {},
   "outputs": [],
   "source": [
    ">>> example()"
   ]
  },
  {
   "cell_type": "code",
   "execution_count": null,
   "id": "efcfdf06-cc2e-43ec-bea4-e71c948415f8",
   "metadata": {},
   "outputs": [],
   "source": [
    ">>> example.__name__"
   ]
  },
  {
   "cell_type": "code",
   "execution_count": null,
   "id": "58586871-7249-48d2-aa64-437bd0157851",
   "metadata": {},
   "outputs": [],
   "source": [
    ">>> example.__doc__"
   ]
  },
  {
   "cell_type": "markdown",
   "id": "8dddab30-1518-40cc-826b-f1fbb9b28521",
   "metadata": {
    "tags": []
   },
   "source": [
    "##### - 함수의 입력과 출력 수정(변경)"
   ]
  },
  {
   "cell_type": "code",
   "execution_count": null,
   "id": "30dc1d24-3090-4fb0-a99f-512214243e61",
   "metadata": {},
   "outputs": [],
   "source": [
    "import functools\n",
    "\n",
    "def decorator(function):\n",
    "    # This decorator makes sure we mimic the wrapped function\n",
    "    @functools.wraps(function)\n",
    "    def _decorator(a, b):\n",
    "        # Pass the modified arguments to the function\n",
    "        result = function(a, b+5)\n",
    "        \n",
    "        # Log the function call\n",
    "        name = function.__name__\n",
    "        print(f'{name}(a={a}, b={b}): {result}')\n",
    "        \n",
    "        # Return a modified result\n",
    "        return result + 4\n",
    "    \n",
    "    return _decorator        "
   ]
  },
  {
   "cell_type": "code",
   "execution_count": null,
   "id": "814534ad-f622-4863-bd09-77c6b658ad34",
   "metadata": {},
   "outputs": [],
   "source": [
    "@decorator\n",
    "def func(a, b):\n",
    "    return a + b"
   ]
  },
  {
   "cell_type": "code",
   "execution_count": null,
   "id": "f562b59b-fab6-4e5a-83a3-cced8a20cc08",
   "metadata": {},
   "outputs": [],
   "source": [
    "func(1,2)"
   ]
  },
  {
   "cell_type": "markdown",
   "id": "7607e55e-41cb-461e-8300-13fe521ec85e",
   "metadata": {},
   "source": [
    "## Chaining or nesting decorators"
   ]
  },
  {
   "cell_type": "raw",
   "id": "a1687f6a-d8b7-4ee4-9f61-9b92eecf4a85",
   "metadata": {},
   "source": [
    "데코레이터는 내부로 부터 외부 순서로 초기화되지만, 외부로 부터 내부 순서로 호출"
   ]
  },
  {
   "cell_type": "code",
   "execution_count": null,
   "id": "655ce711-f46f-4b74-a286-03474258fcf0",
   "metadata": {},
   "outputs": [],
   "source": [
    "import functools\n",
    "\n",
    "def track(function=None, label=None):\n",
    "    # Trick to add an optional argument to our decorator\n",
    "    if label and not function:\n",
    "        return functools.partial(track, label=label)\n",
    "    \n",
    "    print(f'initializing {label}')\n",
    "    \n",
    "    @functools.wraps(function)\n",
    "    def _track(*args, **kwargs):\n",
    "        print(f'calling {label}')\n",
    "        function(*args, **kwargs)\n",
    "        print(f'called {label}')\n",
    "    \n",
    "    return _track"
   ]
  },
  {
   "cell_type": "code",
   "execution_count": null,
   "id": "dc54a4ef-e579-4b86-b861-e3c86246e533",
   "metadata": {},
   "outputs": [],
   "source": [
    "@track(label='outer')\n",
    "@track(label='inner')\n",
    "def func():\n",
    "    print('func')"
   ]
  },
  {
   "cell_type": "code",
   "execution_count": null,
   "id": "cf12010a-7dd6-4633-b52b-0981c61e0d43",
   "metadata": {},
   "outputs": [],
   "source": [
    "func()"
   ]
  },
  {
   "cell_type": "code",
   "execution_count": null,
   "id": "60b27400-c2b0-48e2-a899-c7ce7717fd10",
   "metadata": {},
   "outputs": [],
   "source": [
    "# 데코레이터는 함수를 실행하기 전에 외부에서 내부로 호출되고, 결과를 처리할 때 내부에서 외부로 실행"
   ]
  },
  {
   "cell_type": "markdown",
   "id": "13bdb89a-c2a7-4c0b-83e1-7c0574fd8582",
   "metadata": {},
   "source": [
    "# Registering function using decorators"
   ]
  },
  {
   "cell_type": "code",
   "execution_count": null,
   "id": "fb1f8284-c955-436f-9799-cd6fc663b8b0",
   "metadata": {},
   "outputs": [],
   "source": [
    ">>> import collections\n",
    ">>> class EventRegistry:\n",
    "...     def __init__(self):\n",
    "...         self.registry = collections.defaultdict(list)\n",
    "... \n",
    "...     def on(self, *events):\n",
    "...         def _on(function):\n",
    "...             for event in events:\n",
    "...                 print('1', event, function)\n",
    "...                 self.registry[event].append(function)\n",
    "...                 print('2', self.registry)\n",
    "...             return function\n",
    "... \n",
    "...         return _on\n",
    "... \n",
    "...     def fire(self, event, *args, **kwargs):\n",
    "...         for function in self.registry[event]:\n",
    "...             function(*args, **kwargs)"
   ]
  },
  {
   "cell_type": "code",
   "execution_count": null,
   "id": "6f02be8d-bdc4-492a-8364-b720dd34a59c",
   "metadata": {},
   "outputs": [],
   "source": [
    ">>> events = EventRegistry()"
   ]
  },
  {
   "cell_type": "code",
   "execution_count": null,
   "id": "7df8aace-03ce-4005-94f9-7adf823b4f9a",
   "metadata": {},
   "outputs": [],
   "source": [
    ">>> @events.on('success', 'error')\n",
    "... def teardown(value):\n",
    "...     print(f'Tearing down got: {value}')"
   ]
  },
  {
   "cell_type": "code",
   "execution_count": null,
   "id": "3d89c530-3610-4081-9fb4-194c3005f73d",
   "metadata": {},
   "outputs": [],
   "source": [
    ">>> @events.on('success')\n",
    "... def success(value):\n",
    "...     print(f'Successfully executed: {value}')"
   ]
  },
  {
   "cell_type": "code",
   "execution_count": null,
   "id": "170390db-8e59-4224-ab35-723a400c5c04",
   "metadata": {},
   "outputs": [],
   "source": [
    ">>> events.fire('non-existing', 'nothing to see here')"
   ]
  },
  {
   "cell_type": "code",
   "execution_count": null,
   "id": "7c7caae4-aaaa-48ea-ac45-ebfbd78a10a0",
   "metadata": {},
   "outputs": [],
   "source": [
    ">>> events.fire('error', 'Oops, some error here')"
   ]
  },
  {
   "cell_type": "code",
   "execution_count": null,
   "id": "dbe6f400-09d1-4579-9712-458c63b299fc",
   "metadata": {},
   "outputs": [],
   "source": [
    ">>> events.fire('success', 'Everything is fine')"
   ]
  },
  {
   "cell_type": "markdown",
   "id": "cb069af6-abf9-414a-a0a0-91c48c3a423d",
   "metadata": {},
   "source": [
    "# Memoization using decorators"
   ]
  },
  {
   "cell_type": "markdown",
   "id": "1faa5937-d99b-438e-90f6-a10073a4fea5",
   "metadata": {},
   "source": [
    "##### 피보나치 수(Fibonacci number)\n",
    "- (0), 1, 1, 2, 3, 5, 8, 13, 21, 34, 55, 89, 144, 233, 377, 610, 987\n",
    "-  F(0) = 0,   F(1) = 1, Fn = Fn-1 + Fn-2 (n ≥ 2),"
   ]
  },
  {
   "cell_type": "code",
   "execution_count": null,
   "id": "c35a9099-0258-4a10-b923-75457c2db4cb",
   "metadata": {},
   "outputs": [],
   "source": [
    "# 피보나치 재귀함수\n",
    "def fib(n):\n",
    "    if n == 0:\n",
    "        return 0\n",
    "    elif n == 1 or n == 2:\n",
    "        return 1\n",
    "    else:\n",
    "        return fib(n - 1) + fib(n - 2)"
   ]
  },
  {
   "cell_type": "code",
   "execution_count": null,
   "id": "ae21ed16-f72f-4e77-ba10-7fb785e14dfb",
   "metadata": {},
   "outputs": [],
   "source": [
    "import time\n",
    "start = time.time()\n",
    "fib(35)\n",
    "end = time.time()\n",
    "print(\"실행 시간: %f 초\" % (end-start))"
   ]
  },
  {
   "cell_type": "raw",
   "id": "3a414147-65c6-4991-963d-e837a47948a3",
   "metadata": {},
   "source": [
    "- 메모이제이션은 특정 시나리오에서 코드를 훨씬 빠르게 실행하기 위해 결과를 기억하는 간단한 트릭"
   ]
  },
  {
   "cell_type": "code",
   "execution_count": null,
   "id": "8f2727b5-9b0b-4e6f-a44c-3203fb3adc79",
   "metadata": {},
   "outputs": [],
   "source": [
    ">>> import functools\n",
    "\n",
    ">>> def memoize(function):\n",
    "...     # Store the cache as attribute of the function so we can\n",
    "...     # apply the decorator to multiple functions without\n",
    "...     # sharing the cache.\n",
    "...     function.cache = dict()\n",
    "...\n",
    "...     @functools.wraps(function)\n",
    "...     def _memoize(*args):\n",
    "...         # If the cache is not available, call the function\n",
    "...         # Note that all args need to be hashable\n",
    "...         if args not in function.cache:\n",
    "...             function.cache[args] = function(*args)\n",
    "...         return function.cache[args]\n",
    "...     return _memoize"
   ]
  },
  {
   "cell_type": "code",
   "execution_count": null,
   "id": "18966cd5-8b23-4db3-bd76-23a3bf42142c",
   "metadata": {},
   "outputs": [],
   "source": [
    "... def fibonacci(n):\n",
    "...     if n < 2:\n",
    "...         return n\n",
    "...     else:\n",
    "...         return fibonacci(n - 1) + fibonacci(n - 2)"
   ]
  },
  {
   "cell_type": "code",
   "execution_count": null,
   "id": "6f81c22a-a4e7-423a-84c5-df7552a74fbe",
   "metadata": {},
   "outputs": [],
   "source": [
    "import time\n",
    "start = time.time()\n",
    "print(fibonacci(35))\n",
    "end = time.time()\n",
    "print(\"실행 시간: %f 초\" % (end-start))"
   ]
  },
  {
   "cell_type": "code",
   "execution_count": null,
   "id": "436ab270-c9fd-43ed-829a-9332dd2057d9",
   "metadata": {},
   "outputs": [],
   "source": [
    ">>> @memoize\n",
    "... def fibonacci(n):\n",
    "...     if n < 2:\n",
    "...         return n\n",
    "...     else:\n",
    "...         return fibonacci(n - 1) + fibonacci(n - 2)"
   ]
  },
  {
   "cell_type": "code",
   "execution_count": null,
   "id": "87b0d0c8-c93d-4f1e-8eca-f007554b82ec",
   "metadata": {},
   "outputs": [],
   "source": [
    "import time\n",
    "start = time.time()\n",
    "print(fibonacci(35))\n",
    "end = time.time()\n",
    "print(\"실행 시간: %f 초\" % (end-start))"
   ]
  },
  {
   "cell_type": "code",
   "execution_count": null,
   "id": "9bc9e6af-69f5-4fac-a575-b46ce6b5d95d",
   "metadata": {},
   "outputs": [],
   "source": [
    "print(dir(fibonacci))"
   ]
  },
  {
   "cell_type": "code",
   "execution_count": null,
   "id": "be5fec3c-dbd8-45a0-8373-0dd1f924bfb5",
   "metadata": {},
   "outputs": [],
   "source": [
    "print(fibonacci.cache)"
   ]
  },
  {
   "cell_type": "code",
   "execution_count": null,
   "id": "22360ce4-3d9d-4879-8225-80260f4b5185",
   "metadata": {},
   "outputs": [],
   "source": [
    "print(fibonacci.__wrapped__)"
   ]
  },
  {
   "cell_type": "code",
   "execution_count": null,
   "id": "39198b1d-f1fb-4722-9cc6-4140c1adce71",
   "metadata": {},
   "outputs": [],
   "source": [
    "print(dir(fibonacci.__wrapped__))"
   ]
  },
  {
   "cell_type": "raw",
   "id": "25a2ec20-2e1b-4f26-bb1b-6b9b3636bedf",
   "metadata": {},
   "source": [
    "__wrapped__ 속성은 wraps 데코레이터를 사용할 때마다 원래 함수의 정보를 가져오기 위해 만들어지는 속성"
   ]
  },
  {
   "cell_type": "code",
   "execution_count": null,
   "id": "3e35955b-01f6-465e-9fea-36003c331019",
   "metadata": {},
   "outputs": [],
   "source": [
    ">>> for i in range(1, 7):\n",
    "...     print(f'fibonacci {i}: {fibonacci(i)}')"
   ]
  },
  {
   "cell_type": "code",
   "execution_count": null,
   "id": "39bbb75b-a9fc-4932-8903-781a70e8b90f",
   "metadata": {},
   "outputs": [],
   "source": [
    ">>> fibonacci.__wrapped__.cache"
   ]
  },
  {
   "cell_type": "code",
   "execution_count": null,
   "id": "f417a2db-38dc-4881-86ad-4883f1c05d09",
   "metadata": {},
   "outputs": [],
   "source": [
    ">>> fibonacci(n=2)"
   ]
  },
  {
   "cell_type": "code",
   "execution_count": null,
   "id": "44a7964f-6f32-4c24-9e61-48abd21705ed",
   "metadata": {},
   "outputs": [],
   "source": [
    ">>> fibonacci([123])"
   ]
  },
  {
   "cell_type": "markdown",
   "id": "79d93df3-22f6-4c4b-8171-bab4b1879b8a",
   "metadata": {},
   "source": [
    "#### Iru_cache"
   ]
  },
  {
   "cell_type": "code",
   "execution_count": null,
   "id": "edba6e16-9e8e-4561-9ea9-9f5685d44558",
   "metadata": {},
   "outputs": [],
   "source": [
    ">>> import functools\n",
    "\n",
    "# Create a simple call counting decorator\n",
    "\n",
    ">>> def counter(function):\n",
    "...     function.calls = 0\n",
    "...     @functools.wraps(function)\n",
    "...     def _counter(*args, **kwargs):\n",
    "...         function.calls += 1\n",
    "...         return function(*args, **kwargs)\n",
    "...     return _counter\n",
    "\n",
    "# Create a LRU cache with size 3 \n",
    "\n",
    ">>> @functools.lru_cache(maxsize=3)\n",
    "... @counter\n",
    "... def fibonacci(n):\n",
    "...     if n < 2:\n",
    "...         return n\n",
    "...     else:\n",
    "...         return fibonacci(n - 1) + fibonacci(n - 2)"
   ]
  },
  {
   "cell_type": "code",
   "execution_count": null,
   "id": "f6e9ab3a-fedb-4b8f-b4b6-658d5594bf57",
   "metadata": {},
   "outputs": [],
   "source": [
    ">>> fibonacci(100)"
   ]
  },
  {
   "cell_type": "code",
   "execution_count": null,
   "id": "90727d0a-1d38-4d41-9d3d-08714d75b9aa",
   "metadata": {},
   "outputs": [],
   "source": [
    "# The LRU cache offers some useful statistics\n",
    ">>> fibonacci.cache_info()"
   ]
  },
  {
   "cell_type": "code",
   "execution_count": null,
   "id": "7087df03-1675-459a-849d-5d504b02e9a2",
   "metadata": {},
   "outputs": [],
   "source": [
    "# The result from our counter function which is now wrapped both by our counter and the cache\n",
    ">>> fibonacci.__wrapped__.__wrapped__.calls"
   ]
  },
  {
   "cell_type": "raw",
   "id": "6eec8d3f-1ead-4f75-bdee-c3d196be6874",
   "metadata": {},
   "source": [
    "피보나치 호출 시 실행 순서\n",
    "1. functools.lru_cache\n",
    "2. 카운터\n",
    "3. 피보나치"
   ]
  }
 ],
 "metadata": {
  "kernelspec": {
   "display_name": "Python 3 (ipykernel)",
   "language": "python",
   "name": "python3"
  },
  "language_info": {
   "codemirror_mode": {
    "name": "ipython",
    "version": 3
   },
   "file_extension": ".py",
   "mimetype": "text/x-python",
   "name": "python",
   "nbconvert_exporter": "python",
   "pygments_lexer": "ipython3",
   "version": "3.9.7"
  }
 },
 "nbformat": 4,
 "nbformat_minor": 5
}
