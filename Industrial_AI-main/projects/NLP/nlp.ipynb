{
  "nbformat": 4,
  "nbformat_minor": 0,
  "metadata": {
    "colab": {
      "private_outputs": true,
      "provenance": []
    },
    "kernelspec": {
      "name": "python3",
      "display_name": "Python 3"
    },
    "language_info": {
      "name": "python"
    }
  },
  "cells": [
    {
      "cell_type": "code",
      "execution_count": null,
      "metadata": {
        "id": "CljwzhAnc8Lf"
      },
      "outputs": [],
      "source": [
        "import re\n",
        "import pandas as pd\n",
        "import bs4\n",
        "import requests\n",
        "import spacy\n",
        "from spacy import displacy\n",
        "nlp = spacy.load('en_core_web_sm')\n",
        "\n",
        "from spacy.matcher import Matcher\n",
        "from spacy.tokens import Span\n",
        "\n",
        "import networkx as nx\n",
        "\n",
        "import matplotlib.pyplot as plt\n",
        "from tqdm import tqdm\n",
        "\n",
        "pd.set_option('display.max_colwidth', 200)\n",
        "%matplotlib inline"
      ]
    },
    {
      "cell_type": "code",
      "source": [
        "candidate_sentences = pd.read_csv('wiki_sentences_v2.csv')\n",
        "candidate_sentences.shape"
      ],
      "metadata": {
        "id": "pEvIDJmI0zk8"
      },
      "execution_count": null,
      "outputs": []
    },
    {
      "cell_type": "code",
      "source": [
        "def get_entitles(sent):\n",
        "  ent1 = \"\"\n",
        "  ent2 = \"\"\n",
        "  prv_tok_dep = \"\"\n",
        "  prv_tok_text = \"\"\n",
        "  prefix = \"\"\n",
        "  modifier = \"\"\n",
        "\n",
        "  for tok in nlp(sent):\n",
        "    if tok.dep_ != \"punct\":\n",
        "      if tok.dep_ == \"compound\":\n",
        "        prefix = tok.text\n",
        "        if prv_tok_dep == \"compound\":\n",
        "          prefix = prv_tok_text + \" \" + tok.text\n",
        "      if tok.dep_.endswith(\"mod\") == True:\n",
        "        modifier = tok.text\n",
        "        if prv_tok_dep == \"compound\":\n",
        "          modifier = prv_tok_text + \" \" + tok.text\n",
        "\n",
        "      if tok.dep_.find(\"subj\") == True:\n",
        "        ent1 = modifier + \" \" + prefix + \" \" + tok.text\n",
        "        prefix = \"\"\n",
        "        modifier = \"\"\n",
        "        prv_tok_dep = \"\"\n",
        "        prv_tok_text = \"\"\n",
        "      if tok.dep_.find(\"obj\") == True:\n",
        "        ent2 = modifier + \" \" + prefix + \" \" + tok.text\n",
        "\n",
        "      prv_tok_dep = tok.dep_\n",
        "      prv_tok_text = tok.text\n",
        "  return [ent1.strip(), ent2.strip()]"
      ],
      "metadata": {
        "id": "Kjt7O5S71GJC"
      },
      "execution_count": null,
      "outputs": []
    },
    {
      "cell_type": "code",
      "source": [
        "entity_pairs = []\n",
        "\n",
        "for i in tqdm(candidate_sentences[\"sentence\"]):\n",
        "  entity_pairs.append(get_entitles(i))"
      ],
      "metadata": {
        "id": "Np97kwFL2jYW"
      },
      "execution_count": null,
      "outputs": []
    },
    {
      "cell_type": "code",
      "source": [
        "entity_pairs[10:20]"
      ],
      "metadata": {
        "id": "03UmZQUp4--e"
      },
      "execution_count": null,
      "outputs": []
    },
    {
      "cell_type": "code",
      "source": [
        "def get_relation(sent):\n",
        "  doc = nlp(sent)\n",
        "  matcher = Matcher(nlp.vocab)\n",
        "\n",
        "  pattern = [{'DEP':'ROOT'},\n",
        "             {'DEP':'prep', 'OP':\"?\"},\n",
        "             {'DEP':'agent', 'OP':\"?\"},\n",
        "             {'POS':'ADJ', 'OP':\"?\"}]\n",
        "\n",
        "  matcher.add(\"matching_1\", [pattern])\n",
        "\n",
        "  matches = matcher(doc)\n",
        "  print('matches :', matches)\n",
        "  k = len(matches) - 1\n",
        "\n",
        "  span = doc[matches[k][1]:matches[k][2]]\n",
        "\n",
        "  return(span.text)"
      ],
      "metadata": {
        "id": "feCPZcAT5J48"
      },
      "execution_count": null,
      "outputs": []
    },
    {
      "cell_type": "code",
      "source": [
        "get_relation(\"John completed the task\")"
      ],
      "metadata": {
        "id": "IzOWJjHb6H8l"
      },
      "execution_count": null,
      "outputs": []
    },
    {
      "cell_type": "code",
      "source": [
        "relations = [get_relation(i) for i in tqdm(candidate_sentences['sentence'])]"
      ],
      "metadata": {
        "id": "DXgELnwK6ynK"
      },
      "execution_count": null,
      "outputs": []
    },
    {
      "cell_type": "code",
      "source": [
        "source = [i[0] for i in entity_pairs]\n",
        "\n",
        "target = [i[1] for i in entity_pairs]\n",
        "\n",
        "kg_df = pd.DataFrame({'source':source, 'target':target, 'edge':relations})"
      ],
      "metadata": {
        "id": "7WIWS5Hu7N5e"
      },
      "execution_count": null,
      "outputs": []
    },
    {
      "cell_type": "code",
      "source": [
        "G = nx.from_pandas_edgelist(kg_df, \"source\", \"target\",\n",
        "                            edge_attr=True, create_using=nx.MultiDiGraph())"
      ],
      "metadata": {
        "id": "hsjPnfQAAcKH"
      },
      "execution_count": null,
      "outputs": []
    },
    {
      "cell_type": "code",
      "source": [
        "plt.figure(figsize=(12, 12))\n",
        "pos = nx.spring_layout(G)\n",
        "nx.draw(G, with_labels=True, node_color='skyblue', edge_cmap=plt.cm.Blues, pos=pos)\n",
        "plt.show()"
      ],
      "metadata": {
        "id": "B1LM7q-lBIBP"
      },
      "execution_count": null,
      "outputs": []
    },
    {
      "cell_type": "code",
      "source": [
        "G=nx.from_pandas_edgelist(kg_df[kg_df['edge']==\"released\"], \"source\", \"target\",\n",
        "                          edge_attr=True, create_using=nx.MultiDiGraph())\n",
        "\n",
        "plt.figure(figsize=(12,12))\n",
        "pos = nx.spring_layout(G, k=0.5)\n",
        "nx.draw(G, with_labels=True, node_color='skyblue', node_size=1500, edge_cmap=plt.cm.Blues, pos=pos)\n",
        "plt.show()"
      ],
      "metadata": {
        "id": "N7Onss22BuXx"
      },
      "execution_count": null,
      "outputs": []
    },
    {
      "cell_type": "code",
      "source": [
        "G=nx.from_pandas_edgelist(kg_df[kg_df['edge']==\"scheduled\"], \"source\", \"target\",\n",
        "                          edge_attr=True, create_using=nx.MultiDiGraph())\n",
        "\n",
        "plt.figure(figsize=(12,12))\n",
        "pos = nx.spring_layout(G, k=0.5)\n",
        "nx.draw(G, with_labels=True, node_color='skyblue', node_size=1500, edge_cmap=plt.cm.Blues, pos=pos)\n",
        "plt.show()"
      ],
      "metadata": {
        "id": "PIPX6E6QGrVU"
      },
      "execution_count": null,
      "outputs": []
    }
  ]
}